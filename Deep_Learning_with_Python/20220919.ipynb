{
 "cells": [
  {
   "cell_type": "markdown",
   "metadata": {},
   "source": [
    "## 사전 훈련된 컨브넷 사용하기\n",
    "* 작은 이미지 데이터셋에 딥러닝을 적용하는 일반적이고 매우 효과적인 방법은 사전 훈련된 네트워크를 사용하는 것이다.\n",
    "* **사전 훈련된 네트워크**(pretrained network)는 일반적으로 대규모 이미지 분류 문제를 위해 대량의 데이터셋에서 미리 훈련되어 저장된 네트워크이다.\n",
    "* 원본 데이터셋이 충분히 크고 일반적이라면 사전 훈련된 네트워크에 의해 학습된 특성의 계층 구조는 실제 세상에 대한 일반적인 모델로 효율적인 역할을 할 수 있다.\n",
    "---\n",
    "* 사전 훈련된 네트워크를 사용하는 두 가지 방법이 있다.\n",
    "* **특성 추출**(feature extraction)과 **미세 조정**(fine tuning)이다."
   ]
  },
  {
   "cell_type": "markdown",
   "metadata": {},
   "source": [
    "### 특성 추출\n",
    "* 특성 추출은 사전에 학습된 네트워크의 표현을 사용하여 새로운 샘플에서 흥미로운 특성을 뽑아내는 것이다.\n",
    "* 이련 특성을 사용하여 새로운 분류기를 처음부터 훈련한다.\n",
    "---\n",
    "* 컨브넷은 이미지 분류를 위해 두 부분으로 구성된다.\n",
    "* 면저 연속된 합성곱과 풀링 층으로 시작해서 완전 연결 분류기로 끝난다.\n",
    "* 첫 번째 부분을 모델의 **합성곱 기반 층**(convolutional base)라고 부른다.\n",
    "* 컨브넷의 경우 특성 추출은 사전에 훈련된 네트워크의 합성곱 기반 층을 선택하여 새로운 데이터를 통과시키고, 그 출력으로 새로운 분류기를 훈련한다.\n",
    "---\n",
    "* 합성곱 층에 의해 학습된 표현이 더 일반적이어서 재사용이 가능하다.\n",
    "컨브넷의 특성 맵은 사진에 대한 일반적인 콘셉트의 존재 여부를 기록한 맵이다.\n",
    "* 분류기에서 학습한 표현은 모델이 훈련된 클래스 집합에 특화되어 있다.\n",
    "* 분류기는 전췌 사진에 어떤 클래스가 존재할 확률에 관한 정보만 담고 있다.\n",
    "* 완전 연글 층에서 찾은 표현은 더 이상 입력 이미지에 있는 맥체의 위치 정보를 가지고 있지 않는다.\n",
    "---\n",
    "* 특정 합성곱 층에서 추출한 표현의 일반성(그리고 재사용성) 수준은 모델에 있는 층의 깊이에 달려 있다.\n",
    "* 모델의 하위 층은 (에지, 색깔, 질감 등) 지역적이고 매우 일반적인 특성 맵을 추출한다.\n",
    "* 반면에 상위 층은 ('강아지 눈'이나 '고용이 귀'처럼) 좀 더 추상적인 개념을 추출한다.\n",
    "* 새로운 데이터셋이 원본 모델이 훈련한 데이터셋과 많이 다르다면 전체 합성곱 기반 층을 사용하는 것보다는 모델의 하위 층 몇 개만 특성 추출에 사용하는 것이 좋다."
   ]
  },
  {
   "cell_type": "code",
   "execution_count": 1,
   "metadata": {},
   "outputs": [],
   "source": [
    "from keras.applications import VGG16\n",
    "\n",
    "conv_base = VGG16(\n",
    "    weights='imagenet',\n",
    "    include_top=False,\n",
    "    input_shape=(150, 150, 3)\n",
    ")"
   ]
  },
  {
   "cell_type": "code",
   "execution_count": 2,
   "metadata": {},
   "outputs": [
    {
     "name": "stdout",
     "output_type": "stream",
     "text": [
      "Model: \"vgg16\"\n",
      "_________________________________________________________________\n",
      " Layer (type)                Output Shape              Param #   \n",
      "=================================================================\n",
      " input_1 (InputLayer)        [(None, 150, 150, 3)]     0         \n",
      "                                                                 \n",
      " block1_conv1 (Conv2D)       (None, 150, 150, 64)      1792      \n",
      "                                                                 \n",
      " block1_conv2 (Conv2D)       (None, 150, 150, 64)      36928     \n",
      "                                                                 \n",
      " block1_pool (MaxPooling2D)  (None, 75, 75, 64)        0         \n",
      "                                                                 \n",
      " block2_conv1 (Conv2D)       (None, 75, 75, 128)       73856     \n",
      "                                                                 \n",
      " block2_conv2 (Conv2D)       (None, 75, 75, 128)       147584    \n",
      "                                                                 \n",
      " block2_pool (MaxPooling2D)  (None, 37, 37, 128)       0         \n",
      "                                                                 \n",
      " block3_conv1 (Conv2D)       (None, 37, 37, 256)       295168    \n",
      "                                                                 \n",
      " block3_conv2 (Conv2D)       (None, 37, 37, 256)       590080    \n",
      "                                                                 \n",
      " block3_conv3 (Conv2D)       (None, 37, 37, 256)       590080    \n",
      "                                                                 \n",
      " block3_pool (MaxPooling2D)  (None, 18, 18, 256)       0         \n",
      "                                                                 \n",
      " block4_conv1 (Conv2D)       (None, 18, 18, 512)       1180160   \n",
      "                                                                 \n",
      " block4_conv2 (Conv2D)       (None, 18, 18, 512)       2359808   \n",
      "                                                                 \n",
      " block4_conv3 (Conv2D)       (None, 18, 18, 512)       2359808   \n",
      "                                                                 \n",
      " block4_pool (MaxPooling2D)  (None, 9, 9, 512)         0         \n",
      "                                                                 \n",
      " block5_conv1 (Conv2D)       (None, 9, 9, 512)         2359808   \n",
      "                                                                 \n",
      " block5_conv2 (Conv2D)       (None, 9, 9, 512)         2359808   \n",
      "                                                                 \n",
      " block5_conv3 (Conv2D)       (None, 9, 9, 512)         2359808   \n",
      "                                                                 \n",
      " block5_pool (MaxPooling2D)  (None, 4, 4, 512)         0         \n",
      "                                                                 \n",
      "=================================================================\n",
      "Total params: 14,714,688\n",
      "Trainable params: 14,714,688\n",
      "Non-trainable params: 0\n",
      "_________________________________________________________________\n"
     ]
    }
   ],
   "source": [
    "conv_base.summary()"
   ]
  },
  {
   "cell_type": "markdown",
   "metadata": {},
   "source": [
    "* 최종 특성 맵의 크기는 (4, 4, 512)이다.\n",
    "* 이 특성 위에 완전 연결 층을 놓을 것이다.\n",
    "    * 새로운 데이터셋에서 합성곱 기반 층을 실행하고 출력을 넘파이 배열로 디스크에 저장한다. 그다음 이 데이터를 독립된 완전 연결 분류기에 입력으로 사용한다. 합성곱 연산은 전체 과정 중에서 가장 비싼 부분이다. 이 방식은 모든 입력 이미지에 대해 합성곱 기반 층을 한 번만 실행하면 되기 때문에 빠르고 비용이 적게 든다. 하지만 이런 이유 때문에 이 기법에는 데이터 증식을 사용할 수 없다.\n",
    "    * 준비한 모델(conv_base) 위에 Dense 층을 쌓아 확장한다. 그다음 입력 데이터에서 엔드-투-엔드로 전체 모델을 실행한다. 모델에 노출된 모든 입력 이미지가 매번 합성곱 기반 층을 통과하기 때문에 데이터 증식을 사용할 수 있다. 하지만 이런 이유로 이 방식은 첫 번춥 방식보다 훨씬 비용이 많이 든다."
   ]
  },
  {
   "cell_type": "markdown",
   "metadata": {},
   "source": [
    "#### 데이터 증식을 사용하지 않는 빠른 특성 추출"
   ]
  },
  {
   "cell_type": "code",
   "execution_count": 3,
   "metadata": {},
   "outputs": [
    {
     "name": "stdout",
     "output_type": "stream",
     "text": [
      "Found 2000 images belonging to 2 classes.\n",
      "1/1 [==============================] - 5s 5s/step\n",
      "1/1 [==============================] - 0s 12ms/step\n",
      "1/1 [==============================] - 0s 13ms/step\n",
      "1/1 [==============================] - 0s 13ms/step\n",
      "1/1 [==============================] - 0s 12ms/step\n",
      "1/1 [==============================] - 0s 12ms/step\n",
      "1/1 [==============================] - 0s 12ms/step\n",
      "1/1 [==============================] - 0s 12ms/step\n",
      "1/1 [==============================] - 0s 12ms/step\n",
      "1/1 [==============================] - 0s 13ms/step\n",
      "1/1 [==============================] - 0s 13ms/step\n",
      "1/1 [==============================] - 0s 12ms/step\n",
      "1/1 [==============================] - 0s 12ms/step\n",
      "1/1 [==============================] - 0s 12ms/step\n",
      "1/1 [==============================] - 0s 13ms/step\n",
      "1/1 [==============================] - 0s 13ms/step\n",
      "1/1 [==============================] - 0s 13ms/step\n",
      "1/1 [==============================] - 0s 13ms/step\n",
      "1/1 [==============================] - 0s 13ms/step\n",
      "1/1 [==============================] - 0s 13ms/step\n",
      "1/1 [==============================] - 0s 13ms/step\n",
      "1/1 [==============================] - 0s 12ms/step\n",
      "1/1 [==============================] - 0s 13ms/step\n",
      "1/1 [==============================] - 0s 12ms/step\n",
      "1/1 [==============================] - 0s 12ms/step\n",
      "1/1 [==============================] - 0s 13ms/step\n",
      "1/1 [==============================] - 0s 12ms/step\n",
      "1/1 [==============================] - 0s 12ms/step\n",
      "1/1 [==============================] - 0s 11ms/step\n",
      "1/1 [==============================] - 0s 12ms/step\n",
      "1/1 [==============================] - 0s 12ms/step\n",
      "1/1 [==============================] - 0s 12ms/step\n",
      "1/1 [==============================] - 0s 12ms/step\n",
      "1/1 [==============================] - 0s 12ms/step\n",
      "1/1 [==============================] - 0s 11ms/step\n",
      "1/1 [==============================] - 0s 12ms/step\n",
      "1/1 [==============================] - 0s 12ms/step\n",
      "1/1 [==============================] - 0s 12ms/step\n",
      "1/1 [==============================] - 0s 13ms/step\n",
      "1/1 [==============================] - 0s 12ms/step\n",
      "1/1 [==============================] - 0s 13ms/step\n",
      "1/1 [==============================] - 0s 12ms/step\n",
      "1/1 [==============================] - 0s 13ms/step\n",
      "1/1 [==============================] - 0s 11ms/step\n",
      "1/1 [==============================] - 0s 13ms/step\n",
      "1/1 [==============================] - 0s 11ms/step\n",
      "1/1 [==============================] - 0s 12ms/step\n",
      "1/1 [==============================] - 0s 12ms/step\n",
      "1/1 [==============================] - 0s 12ms/step\n",
      "1/1 [==============================] - 0s 12ms/step\n",
      "1/1 [==============================] - 0s 12ms/step\n",
      "1/1 [==============================] - 0s 11ms/step\n",
      "1/1 [==============================] - 0s 12ms/step\n",
      "1/1 [==============================] - 0s 12ms/step\n",
      "1/1 [==============================] - 0s 12ms/step\n",
      "1/1 [==============================] - 0s 13ms/step\n",
      "1/1 [==============================] - 0s 11ms/step\n",
      "1/1 [==============================] - 0s 11ms/step\n",
      "1/1 [==============================] - 0s 11ms/step\n",
      "1/1 [==============================] - 0s 16ms/step\n",
      "1/1 [==============================] - 0s 12ms/step\n",
      "1/1 [==============================] - 0s 14ms/step\n",
      "1/1 [==============================] - 0s 12ms/step\n",
      "1/1 [==============================] - 0s 11ms/step\n",
      "1/1 [==============================] - 0s 12ms/step\n",
      "1/1 [==============================] - 0s 12ms/step\n",
      "1/1 [==============================] - 0s 12ms/step\n",
      "1/1 [==============================] - 0s 12ms/step\n",
      "1/1 [==============================] - 0s 12ms/step\n",
      "1/1 [==============================] - 0s 12ms/step\n",
      "1/1 [==============================] - 0s 13ms/step\n",
      "1/1 [==============================] - 0s 12ms/step\n",
      "1/1 [==============================] - 0s 12ms/step\n",
      "1/1 [==============================] - 0s 13ms/step\n",
      "1/1 [==============================] - 0s 12ms/step\n",
      "1/1 [==============================] - 0s 12ms/step\n",
      "1/1 [==============================] - 0s 11ms/step\n",
      "1/1 [==============================] - 0s 12ms/step\n",
      "1/1 [==============================] - 0s 11ms/step\n",
      "1/1 [==============================] - 0s 10ms/step\n",
      "1/1 [==============================] - 0s 12ms/step\n",
      "1/1 [==============================] - 0s 11ms/step\n",
      "1/1 [==============================] - 0s 13ms/step\n",
      "1/1 [==============================] - 0s 12ms/step\n",
      "1/1 [==============================] - 0s 15ms/step\n",
      "1/1 [==============================] - 0s 14ms/step\n",
      "1/1 [==============================] - 0s 12ms/step\n",
      "1/1 [==============================] - 0s 13ms/step\n",
      "1/1 [==============================] - 0s 12ms/step\n",
      "1/1 [==============================] - 0s 11ms/step\n",
      "1/1 [==============================] - 0s 12ms/step\n",
      "1/1 [==============================] - 0s 12ms/step\n",
      "1/1 [==============================] - 0s 12ms/step\n",
      "1/1 [==============================] - 0s 12ms/step\n",
      "1/1 [==============================] - 0s 12ms/step\n",
      "1/1 [==============================] - 0s 11ms/step\n",
      "1/1 [==============================] - 0s 13ms/step\n",
      "1/1 [==============================] - 0s 12ms/step\n",
      "1/1 [==============================] - 0s 12ms/step\n",
      "1/1 [==============================] - 0s 12ms/step\n",
      "Found 1000 images belonging to 2 classes.\n",
      "1/1 [==============================] - 0s 12ms/step\n",
      "1/1 [==============================] - 0s 13ms/step\n",
      "1/1 [==============================] - 0s 14ms/step\n",
      "1/1 [==============================] - 0s 13ms/step\n",
      "1/1 [==============================] - 0s 12ms/step\n",
      "1/1 [==============================] - 0s 11ms/step\n",
      "1/1 [==============================] - 0s 11ms/step\n",
      "1/1 [==============================] - 0s 11ms/step\n",
      "1/1 [==============================] - 0s 12ms/step\n",
      "1/1 [==============================] - 0s 12ms/step\n",
      "1/1 [==============================] - 0s 13ms/step\n",
      "1/1 [==============================] - 0s 12ms/step\n",
      "1/1 [==============================] - 0s 11ms/step\n",
      "1/1 [==============================] - 0s 12ms/step\n",
      "1/1 [==============================] - 0s 12ms/step\n",
      "1/1 [==============================] - 0s 12ms/step\n",
      "1/1 [==============================] - 0s 11ms/step\n",
      "1/1 [==============================] - 0s 11ms/step\n",
      "1/1 [==============================] - 0s 12ms/step\n",
      "1/1 [==============================] - 0s 12ms/step\n",
      "1/1 [==============================] - 0s 11ms/step\n",
      "1/1 [==============================] - 0s 11ms/step\n",
      "1/1 [==============================] - 0s 12ms/step\n",
      "1/1 [==============================] - 0s 12ms/step\n",
      "1/1 [==============================] - 0s 13ms/step\n",
      "1/1 [==============================] - 0s 11ms/step\n",
      "1/1 [==============================] - 0s 12ms/step\n",
      "1/1 [==============================] - 0s 12ms/step\n",
      "1/1 [==============================] - 0s 11ms/step\n",
      "1/1 [==============================] - 0s 11ms/step\n",
      "1/1 [==============================] - 0s 12ms/step\n",
      "1/1 [==============================] - 0s 12ms/step\n",
      "1/1 [==============================] - 0s 12ms/step\n",
      "1/1 [==============================] - 0s 12ms/step\n",
      "1/1 [==============================] - 0s 12ms/step\n",
      "1/1 [==============================] - 0s 12ms/step\n",
      "1/1 [==============================] - 0s 11ms/step\n",
      "1/1 [==============================] - 0s 11ms/step\n",
      "1/1 [==============================] - 0s 12ms/step\n",
      "1/1 [==============================] - 0s 12ms/step\n",
      "1/1 [==============================] - 0s 12ms/step\n",
      "1/1 [==============================] - 0s 11ms/step\n",
      "1/1 [==============================] - 0s 11ms/step\n",
      "1/1 [==============================] - 0s 12ms/step\n",
      "1/1 [==============================] - 0s 12ms/step\n",
      "1/1 [==============================] - 0s 13ms/step\n",
      "1/1 [==============================] - 0s 12ms/step\n",
      "1/1 [==============================] - 0s 12ms/step\n",
      "1/1 [==============================] - 0s 12ms/step\n",
      "1/1 [==============================] - 0s 11ms/step\n",
      "Found 1000 images belonging to 2 classes.\n",
      "1/1 [==============================] - 0s 13ms/step\n",
      "1/1 [==============================] - 0s 13ms/step\n",
      "1/1 [==============================] - 0s 12ms/step\n",
      "1/1 [==============================] - 0s 13ms/step\n",
      "1/1 [==============================] - 0s 12ms/step\n",
      "1/1 [==============================] - 0s 12ms/step\n",
      "1/1 [==============================] - 0s 12ms/step\n",
      "1/1 [==============================] - 0s 12ms/step\n",
      "1/1 [==============================] - 0s 12ms/step\n",
      "1/1 [==============================] - 0s 11ms/step\n",
      "1/1 [==============================] - 0s 11ms/step\n",
      "1/1 [==============================] - 0s 12ms/step\n",
      "1/1 [==============================] - 0s 12ms/step\n",
      "1/1 [==============================] - 0s 12ms/step\n",
      "1/1 [==============================] - 0s 12ms/step\n",
      "1/1 [==============================] - 0s 12ms/step\n",
      "1/1 [==============================] - 0s 11ms/step\n",
      "1/1 [==============================] - 0s 12ms/step\n",
      "1/1 [==============================] - 0s 12ms/step\n",
      "1/1 [==============================] - 0s 11ms/step\n",
      "1/1 [==============================] - 0s 11ms/step\n",
      "1/1 [==============================] - 0s 11ms/step\n",
      "1/1 [==============================] - 0s 11ms/step\n",
      "1/1 [==============================] - 0s 12ms/step\n",
      "1/1 [==============================] - 0s 12ms/step\n",
      "1/1 [==============================] - 0s 11ms/step\n",
      "1/1 [==============================] - 0s 12ms/step\n",
      "1/1 [==============================] - 0s 12ms/step\n",
      "1/1 [==============================] - 0s 12ms/step\n",
      "1/1 [==============================] - 0s 12ms/step\n",
      "1/1 [==============================] - 0s 11ms/step\n",
      "1/1 [==============================] - 0s 12ms/step\n",
      "1/1 [==============================] - 0s 12ms/step\n",
      "1/1 [==============================] - 0s 12ms/step\n",
      "1/1 [==============================] - 0s 12ms/step\n",
      "1/1 [==============================] - 0s 12ms/step\n",
      "1/1 [==============================] - 0s 12ms/step\n",
      "1/1 [==============================] - 0s 12ms/step\n",
      "1/1 [==============================] - 0s 11ms/step\n",
      "1/1 [==============================] - 0s 11ms/step\n",
      "1/1 [==============================] - 0s 12ms/step\n",
      "1/1 [==============================] - 0s 11ms/step\n",
      "1/1 [==============================] - 0s 11ms/step\n",
      "1/1 [==============================] - 0s 11ms/step\n",
      "1/1 [==============================] - 0s 12ms/step\n",
      "1/1 [==============================] - 0s 11ms/step\n",
      "1/1 [==============================] - 0s 12ms/step\n",
      "1/1 [==============================] - 0s 12ms/step\n",
      "1/1 [==============================] - 0s 14ms/step\n",
      "1/1 [==============================] - 0s 12ms/step\n"
     ]
    }
   ],
   "source": [
    "import os\n",
    "import numpy as np\n",
    "from keras.preprocessing.image import ImageDataGenerator\n",
    "\n",
    "base_dir = os.path.join(os.environ['DEV_PATH'], 'datasets/cats_and_dogs_small')\n",
    "train_dir = os.path.join(base_dir, 'train')\n",
    "validation_dir = os.path.join(base_dir, 'validation')\n",
    "test_dir = os.path.join(base_dir, 'test')\n",
    "\n",
    "datagen = ImageDataGenerator(rescale=1./255)\n",
    "batch_size = 20\n",
    "\n",
    "def extract_features(directory, sample_count):\n",
    "    features = np.zeros(shape=(sample_count, 4, 4, 512))\n",
    "    labels = np.zeros(shape=(sample_count))\n",
    "    generator = datagen.flow_from_directory(\n",
    "        directory,\n",
    "        target_size=(150, 150),\n",
    "        batch_size=batch_size,\n",
    "        class_mode='binary'\n",
    "    )\n",
    "    i = 0\n",
    "    for inputs_batch, labels_batch in generator:\n",
    "        features_batch = conv_base.predict(inputs_batch)\n",
    "        features[i * batch_size : (i + 1) * batch_size] = features_batch\n",
    "        labels[i * batch_size : (i + 1) * batch_size] = labels_batch\n",
    "        i += 1\n",
    "        if i * batch_size >= sample_count:\n",
    "            break\n",
    "    return features, labels\n",
    "\n",
    "train_features, train_labels = extract_features(train_dir, 2000)\n",
    "validation_features, validation_labels = extract_features(validation_dir, 1000)\n",
    "test_features, test_labels = extract_features(test_dir, 1000)"
   ]
  },
  {
   "cell_type": "markdown",
   "metadata": {},
   "source": [
    "* 추출된 특성의 크기는 (samples, 4, 4, 512)이다.\n",
    "* 완전 연결 분류기에 주입하기 위해서 먼저 (samples, 8192) 크기로 펼친다."
   ]
  },
  {
   "cell_type": "code",
   "execution_count": 4,
   "metadata": {},
   "outputs": [],
   "source": [
    "train_features = np.reshape(train_features, (2000, 4 * 4 * 512))\n",
    "validation_features = np.reshape(validation_features, (1000, 4 * 4 * 512))\n",
    "test_features = np.reshape(test_features, (1000, 4 * 4 * 512))"
   ]
  },
  {
   "cell_type": "code",
   "execution_count": 7,
   "metadata": {},
   "outputs": [
    {
     "name": "stdout",
     "output_type": "stream",
     "text": [
      "Epoch 1/30\n"
     ]
    },
    {
     "name": "stderr",
     "output_type": "stream",
     "text": [
      "c:\\Users\\posky\\anaconda3\\envs\\tf20\\lib\\site-packages\\keras\\optimizers\\optimizer_v2\\rmsprop.py:135: UserWarning: The `lr` argument is deprecated, use `learning_rate` instead.\n",
      "  super(RMSprop, self).__init__(name, **kwargs)\n"
     ]
    },
    {
     "name": "stdout",
     "output_type": "stream",
     "text": [
      "100/100 [==============================] - 1s 5ms/step - loss: 0.5978 - acc: 0.6725 - val_loss: 0.4418 - val_acc: 0.8310\n",
      "Epoch 2/30\n",
      "100/100 [==============================] - 0s 3ms/step - loss: 0.4315 - acc: 0.8085 - val_loss: 0.3554 - val_acc: 0.8630\n",
      "Epoch 3/30\n",
      "100/100 [==============================] - 0s 3ms/step - loss: 0.3610 - acc: 0.8445 - val_loss: 0.3178 - val_acc: 0.8810\n",
      "Epoch 4/30\n",
      "100/100 [==============================] - 0s 2ms/step - loss: 0.3102 - acc: 0.8745 - val_loss: 0.2953 - val_acc: 0.8850\n",
      "Epoch 5/30\n",
      "100/100 [==============================] - 0s 2ms/step - loss: 0.2771 - acc: 0.8840 - val_loss: 0.2775 - val_acc: 0.8950\n",
      "Epoch 6/30\n",
      "100/100 [==============================] - 0s 2ms/step - loss: 0.2545 - acc: 0.9010 - val_loss: 0.2657 - val_acc: 0.8970\n",
      "Epoch 7/30\n",
      "100/100 [==============================] - 0s 2ms/step - loss: 0.2421 - acc: 0.9035 - val_loss: 0.2721 - val_acc: 0.8900\n",
      "Epoch 8/30\n",
      "100/100 [==============================] - 0s 2ms/step - loss: 0.2318 - acc: 0.9125 - val_loss: 0.2637 - val_acc: 0.8930\n",
      "Epoch 9/30\n",
      "100/100 [==============================] - 0s 2ms/step - loss: 0.2131 - acc: 0.9225 - val_loss: 0.2497 - val_acc: 0.9000\n",
      "Epoch 10/30\n",
      "100/100 [==============================] - 0s 2ms/step - loss: 0.2075 - acc: 0.9240 - val_loss: 0.2547 - val_acc: 0.8960\n",
      "Epoch 11/30\n",
      "100/100 [==============================] - 0s 2ms/step - loss: 0.1927 - acc: 0.9275 - val_loss: 0.2520 - val_acc: 0.8970\n",
      "Epoch 12/30\n",
      "100/100 [==============================] - 0s 2ms/step - loss: 0.1794 - acc: 0.9325 - val_loss: 0.2439 - val_acc: 0.9060\n",
      "Epoch 13/30\n",
      "100/100 [==============================] - 0s 2ms/step - loss: 0.1705 - acc: 0.9430 - val_loss: 0.2382 - val_acc: 0.9040\n",
      "Epoch 14/30\n",
      "100/100 [==============================] - 0s 2ms/step - loss: 0.1647 - acc: 0.9395 - val_loss: 0.2384 - val_acc: 0.9060\n",
      "Epoch 15/30\n",
      "100/100 [==============================] - 0s 2ms/step - loss: 0.1598 - acc: 0.9450 - val_loss: 0.2398 - val_acc: 0.9040\n",
      "Epoch 16/30\n",
      "100/100 [==============================] - 0s 2ms/step - loss: 0.1520 - acc: 0.9470 - val_loss: 0.2358 - val_acc: 0.9090\n",
      "Epoch 17/30\n",
      "100/100 [==============================] - 0s 2ms/step - loss: 0.1400 - acc: 0.9505 - val_loss: 0.2350 - val_acc: 0.9050\n",
      "Epoch 18/30\n",
      "100/100 [==============================] - 0s 2ms/step - loss: 0.1328 - acc: 0.9575 - val_loss: 0.2345 - val_acc: 0.9070\n",
      "Epoch 19/30\n",
      "100/100 [==============================] - 0s 2ms/step - loss: 0.1302 - acc: 0.9545 - val_loss: 0.2327 - val_acc: 0.9050\n",
      "Epoch 20/30\n",
      "100/100 [==============================] - 0s 2ms/step - loss: 0.1212 - acc: 0.9625 - val_loss: 0.2340 - val_acc: 0.9040\n",
      "Epoch 21/30\n",
      "100/100 [==============================] - 0s 2ms/step - loss: 0.1254 - acc: 0.9580 - val_loss: 0.2385 - val_acc: 0.9030\n",
      "Epoch 22/30\n",
      "100/100 [==============================] - 0s 2ms/step - loss: 0.1193 - acc: 0.9575 - val_loss: 0.2370 - val_acc: 0.9050\n",
      "Epoch 23/30\n",
      "100/100 [==============================] - 0s 2ms/step - loss: 0.1093 - acc: 0.9630 - val_loss: 0.2347 - val_acc: 0.9030\n",
      "Epoch 24/30\n",
      "100/100 [==============================] - 0s 2ms/step - loss: 0.1071 - acc: 0.9660 - val_loss: 0.2356 - val_acc: 0.9040\n",
      "Epoch 25/30\n",
      "100/100 [==============================] - 0s 2ms/step - loss: 0.1032 - acc: 0.9690 - val_loss: 0.2539 - val_acc: 0.8960\n",
      "Epoch 26/30\n",
      "100/100 [==============================] - 0s 2ms/step - loss: 0.1000 - acc: 0.9685 - val_loss: 0.2375 - val_acc: 0.9040\n",
      "Epoch 27/30\n",
      "100/100 [==============================] - 0s 2ms/step - loss: 0.0950 - acc: 0.9705 - val_loss: 0.2381 - val_acc: 0.9070\n",
      "Epoch 28/30\n",
      "100/100 [==============================] - 0s 2ms/step - loss: 0.0904 - acc: 0.9690 - val_loss: 0.2586 - val_acc: 0.8920\n",
      "Epoch 29/30\n",
      "100/100 [==============================] - 0s 2ms/step - loss: 0.0881 - acc: 0.9760 - val_loss: 0.2549 - val_acc: 0.9020\n",
      "Epoch 30/30\n",
      "100/100 [==============================] - 0s 2ms/step - loss: 0.0841 - acc: 0.9755 - val_loss: 0.2411 - val_acc: 0.9050\n"
     ]
    }
   ],
   "source": [
    "from keras import models\n",
    "from keras import layers\n",
    "from keras import optimizers\n",
    "\n",
    "model = models.Sequential()\n",
    "model.add(layers.Dense(256, activation='relu', input_dim=4 * 4 * 512))\n",
    "model.add(layers.Dropout(0.5))\n",
    "model.add(layers.Dense(1, activation='sigmoid'))\n",
    "\n",
    "model.compile(\n",
    "    optimizer=optimizers.RMSprop(lr=2e-5),\n",
    "    loss='binary_crossentropy', \n",
    "    metrics=['acc']\n",
    ")\n",
    "\n",
    "history = model.fit(\n",
    "    train_features, train_labels, \n",
    "    epochs=30,\n",
    "    batch_size=20,\n",
    "    validation_data=(validation_features, validation_labels)\n",
    ")"
   ]
  },
  {
   "cell_type": "code",
   "execution_count": 8,
   "metadata": {},
   "outputs": [
    {
     "data": {
      "image/png": "[encoded data removed]",
      "text/plain": [
       "<Figure size 432x288 with 1 Axes>"
      ]
     },
     "metadata": {
      "needs_background": "light"
     },
     "output_type": "display_data"
    },
    {
     "data": {
      "image/png": "[encoded data removed]",
      "text/plain": [
       "<Figure size 432x288 with 1 Axes>"
      ]
     },
     "metadata": {
      "needs_background": "light"
     },
     "output_type": "display_data"
    }
   ],
   "source": [
    "import matplotlib.pyplot as plt\n",
    "\n",
    "acc = history.history['acc']\n",
    "val_acc = history.history['val_acc']\n",
    "loss = history.history['loss']\n",
    "val_loss = history.history['val_loss']\n",
    "\n",
    "epochs = range(1, len(acc) + 1)\n",
    "\n",
    "plt.plot(epochs, acc, 'bo', label='Training acc')\n",
    "plt.plot(epochs, val_acc, 'b', label='Validation acc')\n",
    "plt.title('Training and validation accuracy')\n",
    "plt.legend()\n",
    "\n",
    "plt.figure()\n",
    "\n",
    "plt.plot(epochs, loss, 'bo', label='Training loss')\n",
    "plt.plot(epochs, val_loss, 'b', label='Validation loss')\n",
    "plt.title('Training and validation loss')\n",
    "plt.legend()\n",
    "\n",
    "plt.show()"
   ]
  },
  {
   "cell_type": "markdown",
   "metadata": {},
   "source": [
    "#### 데이터 증식을 사용한 특성 추출"
   ]
  },
  {
   "cell_type": "code",
   "execution_count": 10,
   "metadata": {},
   "outputs": [],
   "source": [
    "from keras import models\n",
    "from keras import layers\n",
    "\n",
    "model = models.Sequential()\n",
    "model.add(conv_base)\n",
    "model.add(layers.Flatten())\n",
    "model.add(layers.Dense(256, activation='relu'))\n",
    "model.add(layers.Dense(1, activation='sigmoid'))"
   ]
  },
  {
   "cell_type": "code",
   "execution_count": 11,
   "metadata": {},
   "outputs": [
    {
     "name": "stdout",
     "output_type": "stream",
     "text": [
      "Model: \"sequential_2\"\n",
      "_________________________________________________________________\n",
      " Layer (type)                Output Shape              Param #   \n",
      "=================================================================\n",
      " vgg16 (Functional)          (None, 4, 4, 512)         14714688  \n",
      "                                                                 \n",
      " flatten (Flatten)           (None, 8192)              0         \n",
      "                                                                 \n",
      " dense_4 (Dense)             (None, 256)               2097408   \n",
      "                                                                 \n",
      " dense_5 (Dense)             (None, 1)                 257       \n",
      "                                                                 \n",
      "=================================================================\n",
      "Total params: 16,812,353\n",
      "Trainable params: 16,812,353\n",
      "Non-trainable params: 0\n",
      "_________________________________________________________________\n"
     ]
    }
   ],
   "source": [
    "model.summary()"
   ]
  },
  {
   "cell_type": "markdown",
   "metadata": {},
   "source": [
    "* 모델을 컴파일하고 훈련하기 전에 합성곱 기반 층을 동결하는 것이 아주 중요하다. 하나 이성의 층을 **동결**(freezing)한다는 것은 훈련하는 동안 가중치가 업데이트되지 않도록 막는다는 뜻이다.\n",
    "* 맨 위의 Dense 층은 랜덤하게 초기화되었기 때문에 매우 큰 가중치 업데이트 값이 네트워크에 전파될 것이다.\n",
    "* 이는 사전에 학습된 표현을 크게 훼손하게 된다."
   ]
  },
  {
   "cell_type": "code",
   "execution_count": 12,
   "metadata": {},
   "outputs": [
    {
     "name": "stdout",
     "output_type": "stream",
     "text": [
      "number of weights before freezing conv_base: 30\n",
      "number of weights after freezing conv_base: 4\n"
     ]
    }
   ],
   "source": [
    "print('number of weights before freezing conv_base:', len(model.trainable_weights))\n",
    "conv_base.trainable = False\n",
    "print('number of weights after freezing conv_base:', len(model.trainable_weights))"
   ]
  },
  {
   "cell_type": "code",
   "execution_count": 14,
   "metadata": {},
   "outputs": [
    {
     "name": "stdout",
     "output_type": "stream",
     "text": [
      "Found 2000 images belonging to 2 classes.\n",
      "Found 1000 images belonging to 2 classes.\n",
      "Epoch 1/30\n"
     ]
    },
    {
     "name": "stderr",
     "output_type": "stream",
     "text": [
      "C:\\Users\\posky\\AppData\\Local\\Temp\\ipykernel_12668\\1257896320.py:37: UserWarning: `Model.fit_generator` is deprecated and will be removed in a future version. Please use `Model.fit`, which supports generators.\n",
      "  history = model.fit_generator(\n"
     ]
    },
    {
     "name": "stdout",
     "output_type": "stream",
     "text": [
      "100/100 - 9s - loss: 0.5614 - acc: 0.7310 - val_loss: 0.4367 - val_acc: 0.8370 - 9s/epoch - 89ms/step\n",
      "Epoch 2/30\n",
      "100/100 - 8s - loss: 0.4178 - acc: 0.8245 - val_loss: 0.3735 - val_acc: 0.8500 - 8s/epoch - 82ms/step\n",
      "Epoch 3/30\n",
      "100/100 - 8s - loss: 0.3601 - acc: 0.8505 - val_loss: 0.3162 - val_acc: 0.8630 - 8s/epoch - 82ms/step\n",
      "Epoch 4/30\n",
      "100/100 - 9s - loss: 0.3203 - acc: 0.8720 - val_loss: 0.3022 - val_acc: 0.8630 - 9s/epoch - 87ms/step\n",
      "Epoch 5/30\n",
      "100/100 - 8s - loss: 0.3060 - acc: 0.8790 - val_loss: 0.2825 - val_acc: 0.8770 - 8s/epoch - 84ms/step\n",
      "Epoch 6/30\n",
      "100/100 - 8s - loss: 0.2917 - acc: 0.8855 - val_loss: 0.2626 - val_acc: 0.8960 - 8s/epoch - 83ms/step\n",
      "Epoch 7/30\n",
      "100/100 - 8s - loss: 0.2730 - acc: 0.8925 - val_loss: 0.2605 - val_acc: 0.8960 - 8s/epoch - 84ms/step\n",
      "Epoch 8/30\n",
      "100/100 - 8s - loss: 0.2678 - acc: 0.8970 - val_loss: 0.2525 - val_acc: 0.8930 - 8s/epoch - 83ms/step\n",
      "Epoch 9/30\n",
      "100/100 - 8s - loss: 0.2625 - acc: 0.8965 - val_loss: 0.2457 - val_acc: 0.9000 - 8s/epoch - 83ms/step\n",
      "Epoch 10/30\n",
      "100/100 - 8s - loss: 0.2544 - acc: 0.8985 - val_loss: 0.2667 - val_acc: 0.8890 - 8s/epoch - 83ms/step\n",
      "Epoch 11/30\n",
      "100/100 - 8s - loss: 0.2328 - acc: 0.9080 - val_loss: 0.2400 - val_acc: 0.9040 - 8s/epoch - 83ms/step\n",
      "Epoch 12/30\n",
      "100/100 - 8s - loss: 0.2334 - acc: 0.9075 - val_loss: 0.2401 - val_acc: 0.9020 - 8s/epoch - 83ms/step\n",
      "Epoch 13/30\n",
      "100/100 - 8s - loss: 0.2324 - acc: 0.9060 - val_loss: 0.2381 - val_acc: 0.9020 - 8s/epoch - 84ms/step\n",
      "Epoch 14/30\n",
      "100/100 - 8s - loss: 0.2364 - acc: 0.9020 - val_loss: 0.2387 - val_acc: 0.9090 - 8s/epoch - 84ms/step\n",
      "Epoch 15/30\n",
      "100/100 - 8s - loss: 0.2254 - acc: 0.9085 - val_loss: 0.2382 - val_acc: 0.9090 - 8s/epoch - 83ms/step\n",
      "Epoch 16/30\n",
      "100/100 - 8s - loss: 0.2128 - acc: 0.9160 - val_loss: 0.2358 - val_acc: 0.9030 - 8s/epoch - 83ms/step\n",
      "Epoch 17/30\n",
      "100/100 - 8s - loss: 0.2171 - acc: 0.9080 - val_loss: 0.2434 - val_acc: 0.8980 - 8s/epoch - 82ms/step\n",
      "Epoch 18/30\n",
      "100/100 - 8s - loss: 0.2096 - acc: 0.9185 - val_loss: 0.2413 - val_acc: 0.9020 - 8s/epoch - 81ms/step\n",
      "Epoch 19/30\n",
      "100/100 - 8s - loss: 0.2118 - acc: 0.9140 - val_loss: 0.2350 - val_acc: 0.9060 - 8s/epoch - 81ms/step\n",
      "Epoch 20/30\n",
      "100/100 - 8s - loss: 0.2091 - acc: 0.9150 - val_loss: 0.2319 - val_acc: 0.9050 - 8s/epoch - 81ms/step\n",
      "Epoch 21/30\n",
      "100/100 - 8s - loss: 0.2092 - acc: 0.9145 - val_loss: 0.2322 - val_acc: 0.9080 - 8s/epoch - 81ms/step\n",
      "Epoch 22/30\n",
      "100/100 - 8s - loss: 0.2050 - acc: 0.9155 - val_loss: 0.2336 - val_acc: 0.9080 - 8s/epoch - 81ms/step\n",
      "Epoch 23/30\n",
      "100/100 - 8s - loss: 0.2015 - acc: 0.9245 - val_loss: 0.2376 - val_acc: 0.9080 - 8s/epoch - 81ms/step\n",
      "Epoch 24/30\n",
      "100/100 - 8s - loss: 0.1989 - acc: 0.9200 - val_loss: 0.2305 - val_acc: 0.9090 - 8s/epoch - 81ms/step\n",
      "Epoch 25/30\n",
      "100/100 - 8s - loss: 0.1999 - acc: 0.9215 - val_loss: 0.2318 - val_acc: 0.9100 - 8s/epoch - 81ms/step\n",
      "Epoch 26/30\n",
      "100/100 - 8s - loss: 0.1938 - acc: 0.9210 - val_loss: 0.2457 - val_acc: 0.8950 - 8s/epoch - 81ms/step\n",
      "Epoch 27/30\n",
      "100/100 - 8s - loss: 0.1984 - acc: 0.9165 - val_loss: 0.2353 - val_acc: 0.9080 - 8s/epoch - 81ms/step\n",
      "Epoch 28/30\n",
      "100/100 - 8s - loss: 0.1918 - acc: 0.9270 - val_loss: 0.2355 - val_acc: 0.9040 - 8s/epoch - 81ms/step\n",
      "Epoch 29/30\n",
      "100/100 - 8s - loss: 0.1826 - acc: 0.9340 - val_loss: 0.2407 - val_acc: 0.9040 - 8s/epoch - 81ms/step\n",
      "Epoch 30/30\n",
      "100/100 - 8s - loss: 0.1834 - acc: 0.9325 - val_loss: 0.2318 - val_acc: 0.9060 - 8s/epoch - 81ms/step\n"
     ]
    }
   ],
   "source": [
    "from keras.preprocessing.image import ImageDataGenerator\n",
    "from keras import optimizers\n",
    "\n",
    "train_datagen = ImageDataGenerator(\n",
    "    rescale=1./255,\n",
    "    rotation_range=20,\n",
    "    width_shift_range=0.1,\n",
    "    height_shift_range=0.1,\n",
    "    shear_range=0.1,\n",
    "    zoom_range=0.1,\n",
    "    horizontal_flip=True,\n",
    "    fill_mode='nearest'\n",
    ")\n",
    "\n",
    "test_datagen = ImageDataGenerator(rescale=1./255)\n",
    "\n",
    "train_generator = train_datagen.flow_from_directory(\n",
    "    train_dir,\n",
    "    target_size=(150, 150),\n",
    "    batch_size=20,\n",
    "    class_mode='binary'\n",
    ")\n",
    "\n",
    "validation_generator = test_datagen.flow_from_directory(\n",
    "    validation_dir,\n",
    "    target_size=(150, 150),\n",
    "    batch_size=20,\n",
    "    class_mode='binary'\n",
    ")\n",
    "\n",
    "model.compile(\n",
    "    loss='binary_crossentropy',\n",
    "    optimizer=optimizers.RMSprop(lr=2e-5),\n",
    "    metrics=['acc']\n",
    ")\n",
    "\n",
    "history = model.fit_generator(\n",
    "    train_generator,\n",
    "    steps_per_epoch=100,\n",
    "    epochs=30,\n",
    "    validation_data=validation_generator,\n",
    "    validation_steps=50,\n",
    "    verbose=2\n",
    ")"
   ]
  },
  {
   "cell_type": "code",
   "execution_count": 15,
   "metadata": {},
   "outputs": [
    {
     "data": {
      "image/png": "[encoded data removed]",
      "text/plain": [
       "<Figure size 432x288 with 1 Axes>"
      ]
     },
     "metadata": {
      "needs_background": "light"
     },
     "output_type": "display_data"
    },
    {
     "data": {
      "image/png": "[encoded data removed]",
      "text/plain": [
       "<Figure size 432x288 with 1 Axes>"
      ]
     },
     "metadata": {
      "needs_background": "light"
     },
     "output_type": "display_data"
    }
   ],
   "source": [
    "acc = history.history['acc']\n",
    "val_acc = history.history['val_acc']\n",
    "loss = history.history['loss']\n",
    "val_loss = history.history['val_loss']\n",
    "\n",
    "epochs = range(1, len(acc) + 1)\n",
    "\n",
    "plt.plot(epochs, acc, 'bo', label='Training acc')\n",
    "plt.plot(epochs, val_acc, 'b', label='Validation acc')\n",
    "plt.title('Training and validation accuracy')\n",
    "plt.legend()\n",
    "\n",
    "plt.figure()\n",
    "\n",
    "plt.plot(epochs, loss, 'bo', label='Training loss')\n",
    "plt.plot(epochs, val_loss, 'b', label='Validation loss')\n",
    "plt.title('Training and validation loss')\n",
    "plt.legend()\n",
    "\n",
    "plt.show()"
   ]
  },
  {
   "cell_type": "markdown",
   "metadata": {},
   "source": [
    "### 미세 조정\n",
    "* 모델을 재사용하는 데 널리 사용되는 또 하나의 기법은 특성 추출을 보완하는 **미세 조정**(fine-tuning)이다.\n",
    "* 미세 조정은 특성 추출에 사용했던 동결 모델의 상위 층 몇 개를 동결에서 해제하고 모델이 새로 추가흔 층(여기서는 완전 연결 분류기)과 함께 훈련하는 것이다.\n",
    "---\n",
    "* 랜덤하게 초기화된 상단 분류기를 훈련하기 위해 VGG16의 합성곱 기반 층을 동결해야 한다고 했었다.\n",
    "* 같은 이유로 맨 위에 있는 분류기가 훈련된 후에 합성곱 기반의 상위 층을 미세조정할 수 있다.\n",
    "* 분류기가 미리 훈련되지 않으면 훈련되는 동안 너무 큰 오차 신호가 네트워크에 천파된다.\n",
    "* 이는 미세 조정될 층들이 사전에 학습한 표현들을 망가뜨리게 된다.\n",
    "* 네트워크를 미세 조정하는 단계.\n",
    "    1. 사전에 훈련된 기반 네트워크 위에 새로운 네트워크를 추가한다.\n",
    "    2. 기반 네트워크를 동결한다.\n",
    "    3. 새로 추가한 네트워크를 훈련한다.\n",
    "    4. 기반 네트워크에서 일부 층의 둥결을 해제한다.\n",
    "    5. 동결을 해제한 층과 새로 추가한 층을 함께 훈련한다."
   ]
  },
  {
   "cell_type": "code",
   "execution_count": 16,
   "metadata": {},
   "outputs": [
    {
     "name": "stdout",
     "output_type": "stream",
     "text": [
      "Model: \"vgg16\"\n",
      "_________________________________________________________________\n",
      " Layer (type)                Output Shape              Param #   \n",
      "=================================================================\n",
      " input_1 (InputLayer)        [(None, 150, 150, 3)]     0         \n",
      "                                                                 \n",
      " block1_conv1 (Conv2D)       (None, 150, 150, 64)      1792      \n",
      "                                                                 \n",
      " block1_conv2 (Conv2D)       (None, 150, 150, 64)      36928     \n",
      "                                                                 \n",
      " block1_pool (MaxPooling2D)  (None, 75, 75, 64)        0         \n",
      "                                                                 \n",
      " block2_conv1 (Conv2D)       (None, 75, 75, 128)       73856     \n",
      "                                                                 \n",
      " block2_conv2 (Conv2D)       (None, 75, 75, 128)       147584    \n",
      "                                                                 \n",
      " block2_pool (MaxPooling2D)  (None, 37, 37, 128)       0         \n",
      "                                                                 \n",
      " block3_conv1 (Conv2D)       (None, 37, 37, 256)       295168    \n",
      "                                                                 \n",
      " block3_conv2 (Conv2D)       (None, 37, 37, 256)       590080    \n",
      "                                                                 \n",
      " block3_conv3 (Conv2D)       (None, 37, 37, 256)       590080    \n",
      "                                                                 \n",
      " block3_pool (MaxPooling2D)  (None, 18, 18, 256)       0         \n",
      "                                                                 \n",
      " block4_conv1 (Conv2D)       (None, 18, 18, 512)       1180160   \n",
      "                                                                 \n",
      " block4_conv2 (Conv2D)       (None, 18, 18, 512)       2359808   \n",
      "                                                                 \n",
      " block4_conv3 (Conv2D)       (None, 18, 18, 512)       2359808   \n",
      "                                                                 \n",
      " block4_pool (MaxPooling2D)  (None, 9, 9, 512)         0         \n",
      "                                                                 \n",
      " block5_conv1 (Conv2D)       (None, 9, 9, 512)         2359808   \n",
      "                                                                 \n",
      " block5_conv2 (Conv2D)       (None, 9, 9, 512)         2359808   \n",
      "                                                                 \n",
      " block5_conv3 (Conv2D)       (None, 9, 9, 512)         2359808   \n",
      "                                                                 \n",
      " block5_pool (MaxPooling2D)  (None, 4, 4, 512)         0         \n",
      "                                                                 \n",
      "=================================================================\n",
      "Total params: 14,714,688\n",
      "Trainable params: 0\n",
      "Non-trainable params: 14,714,688\n",
      "_________________________________________________________________\n"
     ]
    }
   ],
   "source": [
    "conv_base.summary()"
   ]
  },
  {
   "cell_type": "markdown",
   "metadata": {},
   "source": [
    "* 합성곱 기반 층에 있는 하위 층들은 좀 더 일반적이고 재사용 가능한 특성들을 인코딩한다. 반면에 상위 층은 좀 더 특화된 특성을 인코딩한다. 새로운 문제에 재활용하도록 수정이 필요한 것은 구체적인 특성이므로 이들을 미세 조정하는 것이 유리하다. 하위 층으로 갈수록 미세 조정에 대한 효과가 감소한다.\n",
    "* 훈련해야 할 파라미터가 많을수록 과대적합의 위험이 커진다. 합성곱 기반 층은 1,500만 개의 파라미터를 가지고 있다. 작은 데이터셋으로 전부 훈련하려고 하면 매우 위험하다."
   ]
  },
  {
   "cell_type": "code",
   "execution_count": 17,
   "metadata": {},
   "outputs": [],
   "source": [
    "conv_base.trainable = True\n",
    "\n",
    "set_trainable = False\n",
    "for layer in conv_base.layers:\n",
    "    if layer.name == 'block5_conv1':\n",
    "        set_trainable = True\n",
    "    if set_trainable:\n",
    "        layer.trainable = True\n",
    "    else:\n",
    "        layer.trainable = False"
   ]
  },
  {
   "cell_type": "markdown",
   "metadata": {},
   "source": [
    "* 학습률을 낮춘 RMSProp 옵티마이저를 사용한다.\n",
    "* 학습률을 낮추는 이유는 개세 조정하는 3개의 층에서 학습된 표현을 조금씩 수정하기 위해서.\n",
    "* 변경량이 너무 크면 학습된 표현에 나쁜 영향을 끼칠 수 있다."
   ]
  },
  {
   "cell_type": "code",
   "execution_count": 18,
   "metadata": {},
   "outputs": [
    {
     "name": "stdout",
     "output_type": "stream",
     "text": [
      "Epoch 1/100\n"
     ]
    },
    {
     "name": "stderr",
     "output_type": "stream",
     "text": [
      "c:\\Users\\posky\\anaconda3\\envs\\tf20\\lib\\site-packages\\keras\\optimizers\\optimizer_v2\\rmsprop.py:135: UserWarning: The `lr` argument is deprecated, use `learning_rate` instead.\n",
      "  super(RMSprop, self).__init__(name, **kwargs)\n",
      "C:\\Users\\posky\\AppData\\Local\\Temp\\ipykernel_12668\\1394018152.py:7: UserWarning: `Model.fit_generator` is deprecated and will be removed in a future version. Please use `Model.fit`, which supports generators.\n",
      "  history = model.fit_generator(\n"
     ]
    },
    {
     "name": "stdout",
     "output_type": "stream",
     "text": [
      "100/100 [==============================] - 10s 89ms/step - loss: 0.1970 - acc: 0.9170 - val_loss: 0.2222 - val_acc: 0.9160\n",
      "Epoch 2/100\n",
      "100/100 [==============================] - 9s 85ms/step - loss: 0.1577 - acc: 0.9360 - val_loss: 0.2494 - val_acc: 0.9080\n",
      "Epoch 3/100\n",
      "100/100 [==============================] - 9s 86ms/step - loss: 0.1346 - acc: 0.9460 - val_loss: 0.2256 - val_acc: 0.9120\n",
      "Epoch 4/100\n",
      "100/100 [==============================] - 9s 86ms/step - loss: 0.1240 - acc: 0.9520 - val_loss: 0.2331 - val_acc: 0.9180\n",
      "Epoch 5/100\n",
      "100/100 [==============================] - 9s 86ms/step - loss: 0.1125 - acc: 0.9585 - val_loss: 0.2110 - val_acc: 0.9180\n",
      "Epoch 6/100\n",
      "100/100 [==============================] - 9s 86ms/step - loss: 0.0954 - acc: 0.9655 - val_loss: 0.2315 - val_acc: 0.9190\n",
      "Epoch 7/100\n",
      "100/100 [==============================] - 9s 86ms/step - loss: 0.0890 - acc: 0.9635 - val_loss: 0.2126 - val_acc: 0.9240\n",
      "Epoch 8/100\n",
      "100/100 [==============================] - 9s 86ms/step - loss: 0.0778 - acc: 0.9720 - val_loss: 0.2190 - val_acc: 0.9260\n",
      "Epoch 9/100\n",
      "100/100 [==============================] - 9s 86ms/step - loss: 0.0572 - acc: 0.9780 - val_loss: 0.2322 - val_acc: 0.9260\n",
      "Epoch 10/100\n",
      "100/100 [==============================] - 9s 86ms/step - loss: 0.0664 - acc: 0.9735 - val_loss: 0.2282 - val_acc: 0.9230\n",
      "Epoch 11/100\n",
      "100/100 [==============================] - 9s 86ms/step - loss: 0.0418 - acc: 0.9900 - val_loss: 0.2505 - val_acc: 0.9220\n",
      "Epoch 12/100\n",
      "100/100 [==============================] - 9s 86ms/step - loss: 0.0504 - acc: 0.9825 - val_loss: 0.2317 - val_acc: 0.9210\n",
      "Epoch 13/100\n",
      "100/100 [==============================] - 9s 86ms/step - loss: 0.0489 - acc: 0.9805 - val_loss: 0.2416 - val_acc: 0.9230\n",
      "Epoch 14/100\n",
      "100/100 [==============================] - 9s 86ms/step - loss: 0.0421 - acc: 0.9870 - val_loss: 0.3044 - val_acc: 0.9030\n",
      "Epoch 15/100\n",
      "100/100 [==============================] - 9s 86ms/step - loss: 0.0289 - acc: 0.9930 - val_loss: 0.2512 - val_acc: 0.9200\n",
      "Epoch 16/100\n",
      "100/100 [==============================] - 9s 86ms/step - loss: 0.0231 - acc: 0.9925 - val_loss: 0.2491 - val_acc: 0.9270\n",
      "Epoch 17/100\n",
      "100/100 [==============================] - 9s 85ms/step - loss: 0.0254 - acc: 0.9910 - val_loss: 0.2414 - val_acc: 0.9270\n",
      "Epoch 18/100\n",
      "100/100 [==============================] - 9s 86ms/step - loss: 0.0299 - acc: 0.9905 - val_loss: 0.3399 - val_acc: 0.8980\n",
      "Epoch 19/100\n",
      "100/100 [==============================] - 8s 85ms/step - loss: 0.0271 - acc: 0.9905 - val_loss: 0.2505 - val_acc: 0.9310\n",
      "Epoch 20/100\n",
      "100/100 [==============================] - 8s 85ms/step - loss: 0.0256 - acc: 0.9905 - val_loss: 0.2545 - val_acc: 0.9310\n",
      "Epoch 21/100\n",
      "100/100 [==============================] - 8s 85ms/step - loss: 0.0178 - acc: 0.9955 - val_loss: 0.2822 - val_acc: 0.9230\n",
      "Epoch 22/100\n",
      "100/100 [==============================] - 9s 85ms/step - loss: 0.0209 - acc: 0.9930 - val_loss: 0.2617 - val_acc: 0.9230\n",
      "Epoch 23/100\n",
      "100/100 [==============================] - 9s 86ms/step - loss: 0.0159 - acc: 0.9955 - val_loss: 0.2856 - val_acc: 0.9280\n",
      "Epoch 24/100\n",
      "100/100 [==============================] - 9s 86ms/step - loss: 0.0124 - acc: 0.9965 - val_loss: 0.2925 - val_acc: 0.9250\n",
      "Epoch 25/100\n",
      "100/100 [==============================] - 9s 86ms/step - loss: 0.0179 - acc: 0.9945 - val_loss: 0.2499 - val_acc: 0.9310\n",
      "Epoch 26/100\n",
      "100/100 [==============================] - 9s 85ms/step - loss: 0.0120 - acc: 0.9960 - val_loss: 0.2843 - val_acc: 0.9300\n",
      "Epoch 27/100\n",
      "100/100 [==============================] - 9s 86ms/step - loss: 0.0139 - acc: 0.9955 - val_loss: 0.2767 - val_acc: 0.9280\n",
      "Epoch 28/100\n",
      "100/100 [==============================] - 13s 126ms/step - loss: 0.0191 - acc: 0.9945 - val_loss: 0.2722 - val_acc: 0.9320\n",
      "Epoch 29/100\n",
      "100/100 [==============================] - 15s 153ms/step - loss: 0.0103 - acc: 0.9985 - val_loss: 0.2598 - val_acc: 0.9290\n",
      "Epoch 30/100\n",
      "100/100 [==============================] - 15s 153ms/step - loss: 0.0119 - acc: 0.9965 - val_loss: 0.3063 - val_acc: 0.9290\n",
      "Epoch 31/100\n",
      "100/100 [==============================] - 15s 152ms/step - loss: 0.0156 - acc: 0.9950 - val_loss: 0.2740 - val_acc: 0.9220\n",
      "Epoch 32/100\n",
      "100/100 [==============================] - 15s 150ms/step - loss: 0.0063 - acc: 0.9985 - val_loss: 0.2947 - val_acc: 0.9270\n",
      "Epoch 33/100\n",
      "100/100 [==============================] - 15s 150ms/step - loss: 0.0094 - acc: 0.9960 - val_loss: 0.3050 - val_acc: 0.9220\n",
      "Epoch 34/100\n",
      "100/100 [==============================] - 15s 151ms/step - loss: 0.0144 - acc: 0.9945 - val_loss: 0.2787 - val_acc: 0.9270\n",
      "Epoch 35/100\n",
      "100/100 [==============================] - 15s 152ms/step - loss: 0.0117 - acc: 0.9965 - val_loss: 0.2773 - val_acc: 0.9340\n",
      "Epoch 36/100\n",
      "100/100 [==============================] - 15s 154ms/step - loss: 0.0042 - acc: 0.9985 - val_loss: 0.3279 - val_acc: 0.9270\n",
      "Epoch 37/100\n",
      "100/100 [==============================] - 15s 152ms/step - loss: 0.0069 - acc: 0.9985 - val_loss: 0.3218 - val_acc: 0.9290\n",
      "Epoch 38/100\n",
      "100/100 [==============================] - 15s 152ms/step - loss: 0.0100 - acc: 0.9955 - val_loss: 0.3008 - val_acc: 0.9280\n",
      "Epoch 39/100\n",
      "100/100 [==============================] - 16s 157ms/step - loss: 0.0045 - acc: 0.9985 - val_loss: 0.3060 - val_acc: 0.9310\n",
      "Epoch 40/100\n",
      "100/100 [==============================] - 15s 154ms/step - loss: 0.0085 - acc: 0.9980 - val_loss: 0.5203 - val_acc: 0.9070\n",
      "Epoch 41/100\n",
      "100/100 [==============================] - 15s 152ms/step - loss: 0.0073 - acc: 0.9965 - val_loss: 0.3405 - val_acc: 0.9210\n",
      "Epoch 42/100\n",
      "100/100 [==============================] - 15s 151ms/step - loss: 0.0085 - acc: 0.9975 - val_loss: 0.3016 - val_acc: 0.9330\n",
      "Epoch 43/100\n",
      "100/100 [==============================] - 15s 151ms/step - loss: 0.0067 - acc: 0.9975 - val_loss: 0.3318 - val_acc: 0.9250\n",
      "Epoch 44/100\n",
      "100/100 [==============================] - 15s 151ms/step - loss: 0.0034 - acc: 0.9990 - val_loss: 0.3688 - val_acc: 0.9240\n",
      "Epoch 45/100\n",
      "100/100 [==============================] - 15s 152ms/step - loss: 0.0094 - acc: 0.9970 - val_loss: 0.3360 - val_acc: 0.9290\n",
      "Epoch 46/100\n",
      "100/100 [==============================] - 15s 154ms/step - loss: 0.0056 - acc: 0.9965 - val_loss: 0.3492 - val_acc: 0.9270\n",
      "Epoch 47/100\n",
      "100/100 [==============================] - 16s 156ms/step - loss: 0.0084 - acc: 0.9970 - val_loss: 0.3107 - val_acc: 0.9310\n",
      "Epoch 48/100\n",
      "100/100 [==============================] - 16s 159ms/step - loss: 0.0052 - acc: 0.9975 - val_loss: 0.3509 - val_acc: 0.9270\n",
      "Epoch 49/100\n",
      "100/100 [==============================] - 15s 154ms/step - loss: 0.0086 - acc: 0.9965 - val_loss: 0.3532 - val_acc: 0.9250\n",
      "Epoch 50/100\n",
      "100/100 [==============================] - 16s 155ms/step - loss: 0.0059 - acc: 0.9980 - val_loss: 0.3595 - val_acc: 0.9280\n",
      "Epoch 51/100\n",
      "100/100 [==============================] - 15s 152ms/step - loss: 0.0059 - acc: 0.9985 - val_loss: 0.3814 - val_acc: 0.9240\n",
      "Epoch 52/100\n",
      "100/100 [==============================] - 15s 154ms/step - loss: 0.0055 - acc: 0.9980 - val_loss: 0.3443 - val_acc: 0.9300\n",
      "Epoch 53/100\n",
      "100/100 [==============================] - 15s 153ms/step - loss: 0.0052 - acc: 0.9990 - val_loss: 0.3603 - val_acc: 0.9220\n",
      "Epoch 54/100\n",
      "100/100 [==============================] - 15s 153ms/step - loss: 0.0065 - acc: 0.9985 - val_loss: 0.3239 - val_acc: 0.9270\n",
      "Epoch 55/100\n",
      "100/100 [==============================] - 15s 152ms/step - loss: 0.0043 - acc: 0.9990 - val_loss: 0.3537 - val_acc: 0.9220\n",
      "Epoch 56/100\n",
      "100/100 [==============================] - 15s 151ms/step - loss: 0.0033 - acc: 0.9995 - val_loss: 0.3448 - val_acc: 0.9290\n",
      "Epoch 57/100\n",
      "100/100 [==============================] - 15s 154ms/step - loss: 0.0061 - acc: 0.9975 - val_loss: 0.3380 - val_acc: 0.9290\n",
      "Epoch 58/100\n",
      "100/100 [==============================] - 15s 152ms/step - loss: 0.0014 - acc: 1.0000 - val_loss: 0.7968 - val_acc: 0.8910\n",
      "Epoch 59/100\n",
      "100/100 [==============================] - 16s 156ms/step - loss: 0.0022 - acc: 0.9990 - val_loss: 0.3849 - val_acc: 0.9300\n",
      "Epoch 60/100\n",
      "100/100 [==============================] - 15s 151ms/step - loss: 0.0108 - acc: 0.9970 - val_loss: 0.3663 - val_acc: 0.9290\n",
      "Epoch 61/100\n",
      "100/100 [==============================] - 15s 154ms/step - loss: 0.0022 - acc: 0.9990 - val_loss: 0.3572 - val_acc: 0.9290\n",
      "Epoch 62/100\n",
      "100/100 [==============================] - 15s 151ms/step - loss: 0.0043 - acc: 0.9990 - val_loss: 0.3233 - val_acc: 0.9290\n",
      "Epoch 63/100\n",
      "100/100 [==============================] - 15s 150ms/step - loss: 0.0050 - acc: 0.9980 - val_loss: 0.3586 - val_acc: 0.9290\n",
      "Epoch 64/100\n",
      "100/100 [==============================] - 15s 152ms/step - loss: 0.0046 - acc: 0.9985 - val_loss: 0.3303 - val_acc: 0.9350\n",
      "Epoch 65/100\n",
      "100/100 [==============================] - 16s 155ms/step - loss: 0.0032 - acc: 0.9990 - val_loss: 0.3672 - val_acc: 0.9290\n",
      "Epoch 66/100\n",
      "100/100 [==============================] - 15s 154ms/step - loss: 0.0043 - acc: 0.9985 - val_loss: 0.3543 - val_acc: 0.9290\n",
      "Epoch 67/100\n",
      "100/100 [==============================] - 16s 156ms/step - loss: 0.0010 - acc: 1.0000 - val_loss: 0.3874 - val_acc: 0.9250\n",
      "Epoch 68/100\n",
      "100/100 [==============================] - 15s 154ms/step - loss: 0.0042 - acc: 0.9990 - val_loss: 0.3447 - val_acc: 0.9300\n",
      "Epoch 69/100\n",
      "100/100 [==============================] - 16s 156ms/step - loss: 0.0053 - acc: 0.9975 - val_loss: 0.3550 - val_acc: 0.9330\n",
      "Epoch 70/100\n",
      "100/100 [==============================] - 15s 155ms/step - loss: 0.0062 - acc: 0.9985 - val_loss: 0.3505 - val_acc: 0.9330\n",
      "Epoch 71/100\n",
      "100/100 [==============================] - 15s 154ms/step - loss: 0.0022 - acc: 0.9995 - val_loss: 0.3626 - val_acc: 0.9330\n",
      "Epoch 72/100\n",
      "100/100 [==============================] - 15s 154ms/step - loss: 0.0028 - acc: 0.9990 - val_loss: 0.3490 - val_acc: 0.9330\n",
      "Epoch 73/100\n",
      "100/100 [==============================] - 15s 153ms/step - loss: 0.0023 - acc: 0.9985 - val_loss: 0.5114 - val_acc: 0.9140\n",
      "Epoch 74/100\n",
      "100/100 [==============================] - 15s 152ms/step - loss: 0.0049 - acc: 0.9980 - val_loss: 0.4797 - val_acc: 0.9220\n",
      "Epoch 75/100\n",
      "100/100 [==============================] - 15s 155ms/step - loss: 9.4099e-04 - acc: 1.0000 - val_loss: 0.3927 - val_acc: 0.9280\n",
      "Epoch 76/100\n",
      "100/100 [==============================] - 15s 154ms/step - loss: 0.0062 - acc: 0.9985 - val_loss: 0.3942 - val_acc: 0.9300\n",
      "Epoch 77/100\n",
      "100/100 [==============================] - 15s 153ms/step - loss: 0.0029 - acc: 0.9990 - val_loss: 0.4067 - val_acc: 0.9260\n",
      "Epoch 78/100\n",
      "100/100 [==============================] - 15s 153ms/step - loss: 0.0044 - acc: 0.9990 - val_loss: 0.4503 - val_acc: 0.9200\n",
      "Epoch 79/100\n",
      "100/100 [==============================] - 12s 122ms/step - loss: 0.0012 - acc: 0.9995 - val_loss: 0.3996 - val_acc: 0.9320\n",
      "Epoch 80/100\n",
      "100/100 [==============================] - 13s 127ms/step - loss: 0.0024 - acc: 0.9990 - val_loss: 0.3668 - val_acc: 0.9400\n",
      "Epoch 81/100\n",
      "100/100 [==============================] - 15s 153ms/step - loss: 0.0041 - acc: 0.9985 - val_loss: 0.3578 - val_acc: 0.9380\n",
      "Epoch 82/100\n",
      "100/100 [==============================] - 15s 154ms/step - loss: 8.9891e-04 - acc: 1.0000 - val_loss: 0.4078 - val_acc: 0.9300\n",
      "Epoch 83/100\n",
      "100/100 [==============================] - 15s 152ms/step - loss: 0.0026 - acc: 0.9995 - val_loss: 0.4023 - val_acc: 0.9370\n",
      "Epoch 84/100\n",
      "100/100 [==============================] - 15s 151ms/step - loss: 4.8750e-04 - acc: 1.0000 - val_loss: 0.4171 - val_acc: 0.9300\n",
      "Epoch 85/100\n",
      "100/100 [==============================] - 15s 153ms/step - loss: 0.0028 - acc: 0.9995 - val_loss: 0.4424 - val_acc: 0.9380\n",
      "Epoch 86/100\n",
      "100/100 [==============================] - 15s 153ms/step - loss: 5.1526e-04 - acc: 1.0000 - val_loss: 0.4208 - val_acc: 0.9300\n",
      "Epoch 87/100\n",
      "100/100 [==============================] - 15s 150ms/step - loss: 0.0050 - acc: 0.9970 - val_loss: 0.4360 - val_acc: 0.9310\n",
      "Epoch 88/100\n",
      "100/100 [==============================] - 15s 152ms/step - loss: 0.0022 - acc: 0.9990 - val_loss: 0.4129 - val_acc: 0.9360\n",
      "Epoch 89/100\n",
      "100/100 [==============================] - 15s 153ms/step - loss: 0.0054 - acc: 0.9980 - val_loss: 0.4026 - val_acc: 0.9330\n",
      "Epoch 90/100\n",
      "100/100 [==============================] - 15s 153ms/step - loss: 0.0063 - acc: 0.9980 - val_loss: 0.3763 - val_acc: 0.9300\n",
      "Epoch 91/100\n",
      "100/100 [==============================] - 15s 153ms/step - loss: 0.0017 - acc: 0.9995 - val_loss: 0.3968 - val_acc: 0.9280\n",
      "Epoch 92/100\n",
      "100/100 [==============================] - 16s 155ms/step - loss: 0.0026 - acc: 0.9990 - val_loss: 0.3764 - val_acc: 0.9320\n",
      "Epoch 93/100\n",
      "100/100 [==============================] - 15s 153ms/step - loss: 0.0031 - acc: 0.9990 - val_loss: 0.3977 - val_acc: 0.9330\n",
      "Epoch 94/100\n",
      "100/100 [==============================] - 15s 149ms/step - loss: 0.0016 - acc: 0.9990 - val_loss: 0.6786 - val_acc: 0.9080\n",
      "Epoch 95/100\n",
      "100/100 [==============================] - 15s 153ms/step - loss: 0.0016 - acc: 0.9995 - val_loss: 0.4063 - val_acc: 0.9360\n",
      "Epoch 96/100\n",
      "100/100 [==============================] - 15s 151ms/step - loss: 0.0010 - acc: 0.9995 - val_loss: 0.4447 - val_acc: 0.9290\n",
      "Epoch 97/100\n",
      "100/100 [==============================] - 15s 152ms/step - loss: 0.0014 - acc: 0.9995 - val_loss: 0.5851 - val_acc: 0.9230\n",
      "Epoch 98/100\n",
      "100/100 [==============================] - 15s 150ms/step - loss: 0.0011 - acc: 0.9995 - val_loss: 0.4184 - val_acc: 0.9310\n",
      "Epoch 99/100\n",
      "100/100 [==============================] - 15s 150ms/step - loss: 0.0011 - acc: 0.9995 - val_loss: 0.4182 - val_acc: 0.9340\n",
      "Epoch 100/100\n",
      "100/100 [==============================] - 15s 149ms/step - loss: 0.0042 - acc: 0.9995 - val_loss: 0.3934 - val_acc: 0.9390\n"
     ]
    }
   ],
   "source": [
    "model.compile(\n",
    "    loss='binary_crossentropy', \n",
    "    optimizer=optimizers.RMSprop(lr=1e-5),\n",
    "    metrics=['acc']\n",
    ")\n",
    "\n",
    "history = model.fit_generator(\n",
    "    train_generator,\n",
    "    steps_per_epoch=100,\n",
    "    epochs=100,\n",
    "    validation_data=validation_generator,\n",
    "    validation_steps=50\n",
    ")"
   ]
  },
  {
   "cell_type": "code",
   "execution_count": 19,
   "metadata": {},
   "outputs": [
    {
     "data": {
      "image/png": "[encoded data removed]",
      "text/plain": [
       "<Figure size 432x288 with 1 Axes>"
      ]
     },
     "metadata": {
      "needs_background": "light"
     },
     "output_type": "display_data"
    },
    {
     "data": {
      "image/png": "[encoded data removed]",
      "text/plain": [
       "<Figure size 432x288 with 1 Axes>"
      ]
     },
     "metadata": {
      "needs_background": "light"
     },
     "output_type": "display_data"
    }
   ],
   "source": [
    "acc = history.history['acc']\n",
    "val_acc = history.history['val_acc']\n",
    "loss = history.history['loss']\n",
    "val_loss = history.history['val_loss']\n",
    "\n",
    "epochs = range(1, len(acc) + 1)\n",
    "\n",
    "plt.plot(epochs, acc, 'bo', label='Training acc')\n",
    "plt.plot(epochs, val_acc, 'b', label='Validation acc')\n",
    "plt.title('Training and validation accuracy')\n",
    "plt.legend()\n",
    "\n",
    "plt.figure()\n",
    "\n",
    "plt.plot(epochs, loss, 'bo', label='Training loss')\n",
    "plt.plot(epochs, val_loss, 'b', label='Validation loss')\n",
    "plt.title('Training and validation loss')\n",
    "plt.legend()\n",
    "\n",
    "plt.show()"
   ]
  },
  {
   "cell_type": "markdown",
   "metadata": {},
   "source": [
    "* 그래프가 불규칙하게 보인다.\n",
    "* 그래프를 보기 쉽게 하기 위해 **지수 이동 평균**(exponential moving averages)으로 정확도와 손실 값을 부드럽게 표현할 수 있다."
   ]
  },
  {
   "cell_type": "code",
   "execution_count": 20,
   "metadata": {},
   "outputs": [
    {
     "data": {
      "image/png": "[encoded data removed]",
      "text/plain": [
       "<Figure size 432x288 with 1 Axes>"
      ]
     },
     "metadata": {
      "needs_background": "light"
     },
     "output_type": "display_data"
    },
    {
     "data": {
      "image/png": "[encoded data removed]",
      "text/plain": [
       "<Figure size 432x288 with 1 Axes>"
      ]
     },
     "metadata": {
      "needs_background": "light"
     },
     "output_type": "display_data"
    }
   ],
   "source": [
    "def smooth_curve(points, factor=0.8):\n",
    "    smoothed_points = []\n",
    "    for point in points:\n",
    "        if smoothed_points:\n",
    "            previous = smoothed_points[-1]\n",
    "            smoothed_points.append(previous * factor + point * (1 - factor))\n",
    "        else:\n",
    "            smoothed_points.append(point)\n",
    "    return smoothed_points\n",
    "\n",
    "plt.plot(epochs, smooth_curve(acc), 'bo', label='Smoothed training acc')\n",
    "plt.plot(epochs, smooth_curve(val_acc), 'b', label='Smoothed validation acc')\n",
    "plt.title('Training and validation accuracy')\n",
    "plt.legend()\n",
    "\n",
    "plt.figure()\n",
    "\n",
    "plt.plot(epochs, smooth_curve(loss), 'bo', label='Smoothed training loss')\n",
    "plt.plot(epochs, smooth_curve(val_loss), 'b', label='Smoothed validation loss')\n",
    "plt.legend()\n",
    "\n",
    "plt.show()"
   ]
  },
  {
   "cell_type": "markdown",
   "metadata": {},
   "source": [
    "* 그래프는 개별적인 손실 값의 평균을 그린 것이다.\n",
    "* 하지만 정확도에 영향을 미치는 것은 손실 값의 분포이지 평균이 아니다.\n",
    "* 정확도는 모델이 예측한 클래스 확률이 어떤 임계 값을 넘었는지에 대한 결과이기 때문이다.\n",
    "* 모델이 더 향상되더라도 평균 손실에 반영되지 않을 수 있다."
   ]
  },
  {
   "cell_type": "code",
   "execution_count": 21,
   "metadata": {},
   "outputs": [
    {
     "name": "stdout",
     "output_type": "stream",
     "text": [
      "Found 1000 images belonging to 2 classes.\n"
     ]
    },
    {
     "name": "stderr",
     "output_type": "stream",
     "text": [
      "C:\\Users\\posky\\AppData\\Local\\Temp\\ipykernel_12668\\3847350361.py:8: UserWarning: `Model.evaluate_generator` is deprecated and will be removed in a future version. Please use `Model.evaluate`, which supports generators.\n",
      "  test_loss, test_acc = model.evaluate_generator(test_generator, steps=50)\n"
     ]
    },
    {
     "name": "stdout",
     "output_type": "stream",
     "text": [
      "test acc: 0.9359999895095825\n"
     ]
    }
   ],
   "source": [
    "test_generator = test_datagen.flow_from_directory(\n",
    "    test_dir,\n",
    "    target_size=(150, 150),\n",
    "    batch_size=20,\n",
    "    class_mode='binary'\n",
    ")\n",
    "\n",
    "test_loss, test_acc = model.evaluate_generator(test_generator, steps=50)\n",
    "print('test acc:', test_acc)"
   ]
  },
  {
   "cell_type": "markdown",
   "metadata": {},
   "source": [
    "### 정리\n",
    "* 컨브넷은 컴퓨터 비전 작업에 가장 뛰어난 머신 러닝 모델이다. 아주 작은 데이터셋에서도 처음부터 훈련해서 괜찮은 성능을 낼 수 있다.\n",
    "* 적은 데이터셋에서는 과대적합이 큰 문제이다. 데이터 증식은 이미지 데이터를 다룰 때 과대적합을 막을 수 있는 강력한 방법이다.\n",
    "* 특성 추출 방식으로 새로운 데이터셋에 기존 컨브넷을 쉽게 재사용할 수 있다. 작은 이미지 데이터셋으로 작업할 때 효과적인 기법이다.\n",
    "* 특성 추출을 보완하기 위해 기세 조정을 사용할 수 있다. 미게 조정은 기존 모델에서 사전에 학습한 표현의 일부를 새로운 문제에 적응시킨다. 이 기법은 조금 더 성능을 끌어올린다."
   ]
  },
  {
   "cell_type": "markdown",
   "metadata": {},
   "source": []
  }
 ],
 "metadata": {
  "kernelspec": {
   "display_name": "Python 3.8.13 ('tf20')",
   "language": "python",
   "name": "python3"
  },
  "language_info": {
   "codemirror_mode": {
    "name": "ipython",
    "version": 3
   },
   "file_extension": ".py",
   "mimetype": "text/x-python",
   "name": "python",
   "nbconvert_exporter": "python",
   "pygments_lexer": "ipython3",
   "version": "3.8.13"
  },
  "orig_nbformat": 4,
  "vscode": {
   "interpreter": {
    "hash": "6031b87587c83867ea9d6a230f58cff6e73fb05ff5d2fb7f6404d0bbff37737a"
   }
  }
 },
 "nbformat": 4,
 "nbformat_minor": 2
}
