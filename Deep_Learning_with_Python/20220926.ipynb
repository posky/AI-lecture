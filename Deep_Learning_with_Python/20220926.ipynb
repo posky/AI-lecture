{
 "cells": [
  {
   "cell_type": "markdown",
   "metadata": {},
   "source": [
    "## 컨브넷을 사용한 시퀀스 처리\n",
    "* **1D 컨브넷(1D convnet)**은 특정 시퀀스 처리 문제에서 RNN과 견줄 만하다.\n",
    "* 일반적으로 계산 비용이 훨씬 싸다.\n",
    "* 1D 컨브넷은 전형적으로 팽창된 커널(dilatedkernel)과 함께 사용된다."
   ]
  },
  {
   "cell_type": "markdown",
   "metadata": {},
   "source": [
    "### 시퀀스 데이터를 위한 1D 합성곱 이해하기\n",
    "### 시퀀스 데이터를 위한 1D 폴링\n",
    "### 1D 컨브넷 구현"
   ]
  },
  {
   "cell_type": "code",
   "execution_count": 2,
   "metadata": {},
   "outputs": [
    {
     "name": "stdout",
     "output_type": "stream",
     "text": [
      "data load...\n",
      "25000 train sequence\n",
      "25000 test sequence\n",
      "sequence padding (samples x time)\n",
      "x_train shape: (25000, 500)\n",
      "x_test shape: (25000, 500)\n"
     ]
    }
   ],
   "source": [
    "from keras.datasets import imdb\n",
    "from tensorflow.keras.preprocessing import sequence\n",
    "\n",
    "max_features = 10000\n",
    "max_len = 500\n",
    "\n",
    "print('data load...')\n",
    "(x_train, y_train), (x_test, y_test) = imdb.load_data(num_words=max_features)\n",
    "print(len(x_train), 'train sequence')\n",
    "print(len(x_test), 'test sequence')\n",
    "\n",
    "print('sequence padding (samples x time)')\n",
    "x_train = sequence.pad_sequences(x_train, maxlen=max_len)\n",
    "x_test = sequence.pad_sequences(x_test, maxlen=max_len)\n",
    "print('x_train shape:', x_train.shape)\n",
    "print('x_test shape:', x_test.shape)"
   ]
  },
  {
   "cell_type": "code",
   "execution_count": 3,
   "metadata": {},
   "outputs": [
    {
     "name": "stdout",
     "output_type": "stream",
     "text": [
      "Model: \"sequential\"\n",
      "_________________________________________________________________\n",
      " Layer (type)                Output Shape              Param #   \n",
      "=================================================================\n",
      " embedding (Embedding)       (None, 500, 128)          1280000   \n",
      "                                                                 \n",
      " conv1d (Conv1D)             (None, 494, 32)           28704     \n",
      "                                                                 \n",
      " max_pooling1d (MaxPooling1D  (None, 98, 32)           0         \n",
      " )                                                               \n",
      "                                                                 \n",
      " conv1d_1 (Conv1D)           (None, 92, 32)            7200      \n",
      "                                                                 \n",
      " global_max_pooling1d (Globa  (None, 32)               0         \n",
      " lMaxPooling1D)                                                  \n",
      "                                                                 \n",
      " dense (Dense)               (None, 1)                 33        \n",
      "                                                                 \n",
      "=================================================================\n",
      "Total params: 1,315,937\n",
      "Trainable params: 1,315,937\n",
      "Non-trainable params: 0\n",
      "_________________________________________________________________\n",
      "Epoch 1/10\n"
     ]
    },
    {
     "name": "stderr",
     "output_type": "stream",
     "text": [
      "c:\\Users\\posky\\anaconda3\\envs\\tf20\\lib\\site-packages\\keras\\optimizers\\optimizer_v2\\rmsprop.py:135: UserWarning: The `lr` argument is deprecated, use `learning_rate` instead.\n",
      "  super(RMSprop, self).__init__(name, **kwargs)\n"
     ]
    },
    {
     "name": "stdout",
     "output_type": "stream",
     "text": [
      "157/157 [==============================] - 6s 6ms/step - loss: 0.7980 - acc: 0.5126 - val_loss: 0.6865 - val_acc: 0.5582\n",
      "Epoch 2/10\n",
      "157/157 [==============================] - 1s 5ms/step - loss: 0.6735 - acc: 0.6298 - val_loss: 0.6679 - val_acc: 0.6444\n",
      "Epoch 3/10\n",
      "157/157 [==============================] - 1s 5ms/step - loss: 0.6380 - acc: 0.7196 - val_loss: 0.6287 - val_acc: 0.7010\n",
      "Epoch 4/10\n",
      "157/157 [==============================] - 1s 5ms/step - loss: 0.5652 - acc: 0.7871 - val_loss: 0.5269 - val_acc: 0.7812\n",
      "Epoch 5/10\n",
      "157/157 [==============================] - 1s 5ms/step - loss: 0.4430 - acc: 0.8352 - val_loss: 0.4334 - val_acc: 0.8308\n",
      "Epoch 6/10\n",
      "157/157 [==============================] - 1s 5ms/step - loss: 0.3637 - acc: 0.8667 - val_loss: 0.4062 - val_acc: 0.8452\n",
      "Epoch 7/10\n",
      "157/157 [==============================] - 1s 5ms/step - loss: 0.3211 - acc: 0.8844 - val_loss: 0.3948 - val_acc: 0.8576\n",
      "Epoch 8/10\n",
      "157/157 [==============================] - 1s 5ms/step - loss: 0.2930 - acc: 0.8975 - val_loss: 0.4062 - val_acc: 0.8642\n",
      "Epoch 9/10\n",
      "157/157 [==============================] - 1s 5ms/step - loss: 0.2694 - acc: 0.9069 - val_loss: 0.4172 - val_acc: 0.8684\n",
      "Epoch 10/10\n",
      "157/157 [==============================] - 1s 5ms/step - loss: 0.2479 - acc: 0.9159 - val_loss: 0.4274 - val_acc: 0.8682\n"
     ]
    }
   ],
   "source": [
    "from keras.models import Sequential\n",
    "from keras import layers\n",
    "from keras.optimizers import RMSprop\n",
    "\n",
    "model = Sequential()\n",
    "model.add(layers.Embedding(max_features, 128, input_length=max_len))\n",
    "model.add(layers.Conv1D(32, 7, activation='relu'))\n",
    "model.add(layers.MaxPooling1D(5))\n",
    "model.add(layers.Conv1D(32, 7, activation='relu'))\n",
    "model.add(layers.GlobalMaxPooling1D())\n",
    "model.add(layers.Dense(1))\n",
    "\n",
    "model.summary()\n",
    "\n",
    "model.compile(\n",
    "    optimizer=RMSprop(lr=1e-4),\n",
    "    loss='binary_crossentropy', \n",
    "    metrics=['acc']\n",
    ")\n",
    "history = model.fit(x_train, y_train, epochs=10, batch_size=128, validation_split=0.2)"
   ]
  },
  {
   "cell_type": "code",
   "execution_count": 5,
   "metadata": {},
   "outputs": [
    {
     "data": {
      "image/png": "[encoded data removed]",
      "text/plain": [
       "<Figure size 432x288 with 1 Axes>"
      ]
     },
     "metadata": {
      "needs_background": "light"
     },
     "output_type": "display_data"
    },
    {
     "data": {
      "image/png": "[encoded data removed]",
      "text/plain": [
       "<Figure size 432x288 with 1 Axes>"
      ]
     },
     "metadata": {
      "needs_background": "light"
     },
     "output_type": "display_data"
    }
   ],
   "source": [
    "import matplotlib.pyplot as plt\n",
    "\n",
    "acc = history.history['acc']\n",
    "val_acc = history.history['val_acc']\n",
    "loss = history.history['loss']\n",
    "val_loss = history.history['val_loss']\n",
    "\n",
    "epochs = range(1, len(acc) + 1)\n",
    "\n",
    "plt.plot(epochs, acc, 'bo', label='Training acc')\n",
    "plt.plot(epochs, val_acc, 'b', label='Validation acc')\n",
    "plt.title('Training and validation accuracy')\n",
    "plt.legend()\n",
    "\n",
    "plt.figure()\n",
    "\n",
    "plt.plot(epochs, loss, 'bo', label='Training loss')\n",
    "plt.plot(epochs, val_loss, 'b', label='Validation loss')\n",
    "plt.title('Training and validation loss')\n",
    "plt.legend()\n",
    "\n",
    "plt.show()"
   ]
  },
  {
   "cell_type": "markdown",
   "metadata": {},
   "source": [
    "### CNN과 RNN을 연결하여 긴 시퀀스를 처리하기\n",
    "* 1D 컨브넷이 입력 패치를 독립적으로 처리하기 때문에 RNN과 달리 (합성곱 윈도우 크기의 범위를 넘어서는) 타임스텝의 순서에 만감하지 않는다."
   ]
  },
  {
   "cell_type": "code",
   "execution_count": 6,
   "metadata": {},
   "outputs": [],
   "source": [
    "import os\n",
    "import numpy as np\n",
    "\n",
    "DATA_PATH = os.path.join(os.environ['DEV_PATH'], 'datasets')"
   ]
  },
  {
   "cell_type": "code",
   "execution_count": 7,
   "metadata": {},
   "outputs": [
    {
     "name": "stdout",
     "output_type": "stream",
     "text": [
      "['\"Date Time\"', '\"p (mbar)\"', '\"T (degC)\"', '\"Tpot (K)\"', '\"Tdew (degC)\"', '\"rh (%)\"', '\"VPmax (mbar)\"', '\"VPact (mbar)\"', '\"VPdef (mbar)\"', '\"sh (g/kg)\"', '\"H2OC (mmol/mol)\"', '\"rho (g/m**3)\"', '\"wv (m/s)\"', '\"max. wv (m/s)\"', '\"wd (deg)\"']\n",
      "420451\n"
     ]
    }
   ],
   "source": [
    "fname = os.path.join(DATA_PATH, 'jena_climate/jena_climate_2009_2016.csv')\n",
    "\n",
    "with open(fname) as f:\n",
    "    data = f.read()\n",
    "lines = data.split('\\n')\n",
    "header = lines[0].split(',')\n",
    "lines = lines[1:]\n",
    "\n",
    "print(header)\n",
    "print(len(lines))"
   ]
  },
  {
   "cell_type": "code",
   "execution_count": 8,
   "metadata": {},
   "outputs": [],
   "source": [
    "float_data = np.zeros((len(lines), len(header) - 1))\n",
    "for i, line in enumerate(lines):\n",
    "    values = [float(x) for x in line.split(',')[1:]]\n",
    "    float_data[i, :] = values"
   ]
  },
  {
   "cell_type": "code",
   "execution_count": 16,
   "metadata": {},
   "outputs": [],
   "source": [
    "mean = float_data[:200000].mean(axis=0)\n",
    "float_data -= mean\n",
    "std = float_data[:200000].std(axis=0)\n",
    "float_data /= std"
   ]
  },
  {
   "cell_type": "code",
   "execution_count": 10,
   "metadata": {},
   "outputs": [],
   "source": [
    "def generator(data, lookback, delay, min_index, max_index, shuffle=False, batch_size=128, step=6):\n",
    "    if max_index is None:\n",
    "        max_index = len(data) - delay - 1\n",
    "    i = min_index + lookback\n",
    "    while 1:\n",
    "        if shuffle:\n",
    "            rows = np.random.randint(\n",
    "                min_index + lookback, max_index, size=batch_size\n",
    "            )\n",
    "        else:\n",
    "            if i + batch_size >= max_index:\n",
    "                i = min_index + lookback\n",
    "            rows = np.arange(i, min(i + batch_size, max_index))\n",
    "            i += len(rows)\n",
    "\n",
    "        samples = np.zeros((len(rows), lookback // step, data.shape[-1]))\n",
    "        targets = np.zeros((len(rows),))\n",
    "        for j, row in enumerate(rows):\n",
    "            indices = range(rows[j] - lookback, rows[j], step)\n",
    "            samples[j] = data[indices]\n",
    "            targets[j] = data[rows[j] + delay][1]\n",
    "        yield samples, targets"
   ]
  },
  {
   "cell_type": "code",
   "execution_count": 11,
   "metadata": {},
   "outputs": [],
   "source": [
    "lookback = 1440\n",
    "step = 6\n",
    "delay = 144\n",
    "batch_size = 128\n",
    "\n",
    "train_gen = generator(\n",
    "    float_data,\n",
    "    lookback=lookback, delay=delay,\n",
    "    min_index=0, max_index=200000,\n",
    "    shuffle=True,\n",
    "    step=step,\n",
    "    batch_size=batch_size\n",
    ")\n",
    "val_gen = generator(\n",
    "    float_data,\n",
    "    lookback=lookback,\n",
    "    delay=delay,\n",
    "    min_index=200001,\n",
    "    max_index=300000,\n",
    "    step=step,\n",
    "    batch_size=batch_size\n",
    ")\n",
    "test_gen = generator(\n",
    "    float_data,\n",
    "    lookback=lookback,\n",
    "    delay=delay,\n",
    "    min_index=300001,\n",
    "    max_index=None,\n",
    "    step=step,\n",
    "    batch_size=batch_size\n",
    ")\n",
    "\n",
    "val_steps = (300000 - 200001 - lookback) // batch_size\n",
    "\n",
    "test_steps = (len(float_data) - 300001 - lookback) // batch_size"
   ]
  },
  {
   "cell_type": "code",
   "execution_count": 13,
   "metadata": {},
   "outputs": [
    {
     "name": "stdout",
     "output_type": "stream",
     "text": [
      "Epoch 1/20\n"
     ]
    },
    {
     "name": "stderr",
     "output_type": "stream",
     "text": [
      "C:\\Users\\posky\\AppData\\Local\\Temp\\ipykernel_22564\\2217064254.py:15: UserWarning: `Model.fit_generator` is deprecated and will be removed in a future version. Please use `Model.fit`, which supports generators.\n",
      "  history = model.fit_generator(\n"
     ]
    },
    {
     "name": "stdout",
     "output_type": "stream",
     "text": [
      "500/500 [==============================] - 7s 12ms/step - loss: 0.4177 - val_loss: 0.4651\n",
      "Epoch 2/20\n",
      "500/500 [==============================] - 6s 12ms/step - loss: 0.3617 - val_loss: 0.4319\n",
      "Epoch 3/20\n",
      "500/500 [==============================] - 6s 12ms/step - loss: 0.3362 - val_loss: 0.4399\n",
      "Epoch 4/20\n",
      "500/500 [==============================] - 6s 12ms/step - loss: 0.3211 - val_loss: 0.4673\n",
      "Epoch 5/20\n",
      "500/500 [==============================] - 6s 12ms/step - loss: 0.3070 - val_loss: 0.4639\n",
      "Epoch 6/20\n",
      "500/500 [==============================] - 6s 12ms/step - loss: 0.2969 - val_loss: 0.4629\n",
      "Epoch 7/20\n",
      "500/500 [==============================] - 6s 12ms/step - loss: 0.2870 - val_loss: 0.4539\n",
      "Epoch 8/20\n",
      "500/500 [==============================] - 6s 12ms/step - loss: 0.2826 - val_loss: 0.5036\n",
      "Epoch 9/20\n",
      "500/500 [==============================] - 6s 12ms/step - loss: 0.2758 - val_loss: 0.4735\n",
      "Epoch 10/20\n",
      "500/500 [==============================] - 6s 12ms/step - loss: 0.2721 - val_loss: 0.4702\n",
      "Epoch 11/20\n",
      "500/500 [==============================] - 6s 12ms/step - loss: 0.2667 - val_loss: 0.4740\n",
      "Epoch 12/20\n",
      "500/500 [==============================] - 6s 12ms/step - loss: 0.2637 - val_loss: 0.4797\n",
      "Epoch 13/20\n",
      "500/500 [==============================] - 6s 12ms/step - loss: 0.2594 - val_loss: 0.4699\n",
      "Epoch 14/20\n",
      "500/500 [==============================] - 6s 12ms/step - loss: 0.2551 - val_loss: 0.4676\n",
      "Epoch 15/20\n",
      "500/500 [==============================] - 6s 13ms/step - loss: 0.2537 - val_loss: 0.4787\n",
      "Epoch 16/20\n",
      "500/500 [==============================] - 6s 12ms/step - loss: 0.2486 - val_loss: 0.4738\n",
      "Epoch 17/20\n",
      "500/500 [==============================] - 6s 12ms/step - loss: 0.2459 - val_loss: 0.4916\n",
      "Epoch 18/20\n",
      "500/500 [==============================] - 6s 12ms/step - loss: 0.2442 - val_loss: 0.4780\n",
      "Epoch 19/20\n",
      "500/500 [==============================] - 6s 12ms/step - loss: 0.2410 - val_loss: 0.5002\n",
      "Epoch 20/20\n",
      "500/500 [==============================] - 6s 12ms/step - loss: 0.2392 - val_loss: 0.4857\n"
     ]
    }
   ],
   "source": [
    "from keras.models import Sequential\n",
    "from keras import layers\n",
    "from keras.optimizers import RMSprop\n",
    "\n",
    "model = Sequential()\n",
    "model.add(layers.Conv1D(32, 5, activation='relu', input_shape=(None, float_data.shape[-1])))\n",
    "model.add(layers.MaxPooling1D(3))\n",
    "model.add(layers.Conv1D(32, 5, activation='relu'))\n",
    "model.add(layers.MaxPooling1D(3))\n",
    "model.add(layers.Conv1D(32, 5, activation='relu'))\n",
    "model.add(layers.GlobalMaxPooling1D())\n",
    "model.add(layers.Dense(1))\n",
    "\n",
    "model.compile(optimizer=RMSprop(), loss='mae')\n",
    "history = model.fit_generator(\n",
    "    train_gen,\n",
    "    steps_per_epoch=500,\n",
    "    epochs=20,\n",
    "    validation_data=val_gen,\n",
    "    validation_steps=val_steps\n",
    ")"
   ]
  },
  {
   "cell_type": "code",
   "execution_count": 15,
   "metadata": {},
   "outputs": [
    {
     "data": {
      "image/png": "[encoded data removed]",
      "text/plain": [
       "<Figure size 432x288 with 1 Axes>"
      ]
     },
     "metadata": {
      "needs_background": "light"
     },
     "output_type": "display_data"
    }
   ],
   "source": [
    "loss = history.history['loss']\n",
    "val_loss = history.history['val_loss']\n",
    "\n",
    "epochs = range(1, len(loss) + 1)\n",
    "\n",
    "plt.plot(epochs, loss, 'bo', label='Training loss')\n",
    "plt.plot(epochs, val_loss, 'b', label='Validation loss')\n",
    "plt.title('Training and validation loss')\n",
    "plt.legend()\n",
    "\n",
    "plt.show()"
   ]
  },
  {
   "cell_type": "markdown",
   "metadata": {},
   "source": [
    "* 컨브넷의 속도와 경량함을 RNN의 순서 감지 능력과 결합하는 한 가지 전략은 1D 컨브넷을 RNN 이전에 전처리 단계로 사용하는 것이다."
   ]
  },
  {
   "cell_type": "code",
   "execution_count": 17,
   "metadata": {},
   "outputs": [],
   "source": [
    "step = 3\n",
    "lookback = 1440\n",
    "delay = 144\n",
    "\n",
    "train_gen = generator(\n",
    "    float_data,\n",
    "    lookback=lookback,\n",
    "    delay=delay,\n",
    "    min_index=0,\n",
    "    max_index=200000,\n",
    "    shuffle=True,\n",
    "    step=step\n",
    ")\n",
    "val_gen = generator(\n",
    "    float_data,\n",
    "    lookback=lookback,\n",
    "    delay=delay,\n",
    "    min_index=200001,\n",
    "    max_index=300000,\n",
    "    step=step\n",
    ")\n",
    "test_gen = generator(\n",
    "    float_data,\n",
    "    lookback=lookback,\n",
    "    delay=delay,\n",
    "    min_index=300001,\n",
    "    max_index=None,\n",
    "    step=step\n",
    ")\n",
    "val_steps = (30000 - 200001 - lookback) // 128\n",
    "test_steps = (len(float_data) - 300001 - lookback) // 128"
   ]
  },
  {
   "cell_type": "code",
   "execution_count": 20,
   "metadata": {},
   "outputs": [
    {
     "name": "stdout",
     "output_type": "stream",
     "text": [
      "WARNING:tensorflow:Layer gru will not use cuDNN kernels since it doesn't meet the criteria. It will use a generic GPU kernel as fallback when running on GPU.\n",
      "Model: \"sequential_5\"\n",
      "_________________________________________________________________\n",
      " Layer (type)                Output Shape              Param #   \n",
      "=================================================================\n",
      " conv1d_9 (Conv1D)           (None, None, 32)          2272      \n",
      "                                                                 \n",
      " max_pooling1d_6 (MaxPooling  (None, None, 32)         0         \n",
      " 1D)                                                             \n",
      "                                                                 \n",
      " conv1d_10 (Conv1D)          (None, None, 32)          5152      \n",
      "                                                                 \n",
      " gru (GRU)                   (None, 32)                6336      \n",
      "                                                                 \n",
      " dense_3 (Dense)             (None, 1)                 33        \n",
      "                                                                 \n",
      "=================================================================\n",
      "Total params: 13,793\n",
      "Trainable params: 13,793\n",
      "Non-trainable params: 0\n",
      "_________________________________________________________________\n",
      "Epoch 1/20\n"
     ]
    },
    {
     "name": "stderr",
     "output_type": "stream",
     "text": [
      "C:\\Users\\posky\\AppData\\Local\\Temp\\ipykernel_22564\\358163740.py:15: UserWarning: `Model.fit_generator` is deprecated and will be removed in a future version. Please use `Model.fit`, which supports generators.\n",
      "  history = model.fit_generator(\n"
     ]
    },
    {
     "name": "stdout",
     "output_type": "stream",
     "text": [
      "500/500 [==============================] - 180s 357ms/step - loss: 0.3283\n",
      "Epoch 2/20\n",
      "500/500 [==============================] - 184s 367ms/step - loss: 0.2906\n",
      "Epoch 3/20\n",
      "500/500 [==============================] - 194s 388ms/step - loss: 0.2780\n",
      "Epoch 4/20\n",
      "500/500 [==============================] - 286s 572ms/step - loss: 0.2690\n",
      "Epoch 5/20\n",
      "500/500 [==============================] - 303s 605ms/step - loss: 0.2625\n",
      "Epoch 6/20\n",
      "500/500 [==============================] - 197s 394ms/step - loss: 0.2570\n",
      "Epoch 7/20\n",
      "500/500 [==============================] - 172s 345ms/step - loss: 0.2494\n",
      "Epoch 8/20\n",
      "500/500 [==============================] - 173s 345ms/step - loss: 0.2444\n",
      "Epoch 9/20\n",
      "500/500 [==============================] - 171s 342ms/step - loss: 0.2398\n",
      "Epoch 10/20\n",
      "500/500 [==============================] - 173s 346ms/step - loss: 0.2344\n",
      "Epoch 11/20\n",
      "500/500 [==============================] - 173s 345ms/step - loss: 0.2305\n",
      "Epoch 12/20\n",
      "500/500 [==============================] - 173s 346ms/step - loss: 0.2266\n",
      "Epoch 13/20\n",
      "500/500 [==============================] - 172s 344ms/step - loss: 0.2216\n",
      "Epoch 14/20\n",
      "500/500 [==============================] - 172s 344ms/step - loss: 0.2183\n",
      "Epoch 15/20\n",
      "500/500 [==============================] - 172s 344ms/step - loss: 0.2148\n",
      "Epoch 16/20\n",
      "500/500 [==============================] - 172s 343ms/step - loss: 0.2110\n",
      "Epoch 17/20\n",
      "500/500 [==============================] - 172s 343ms/step - loss: 0.2081\n",
      "Epoch 18/20\n",
      "500/500 [==============================] - 172s 344ms/step - loss: 0.2043\n",
      "Epoch 19/20\n",
      "500/500 [==============================] - 172s 345ms/step - loss: 0.2013\n",
      "Epoch 20/20\n",
      "500/500 [==============================] - 172s 343ms/step - loss: 0.1992\n"
     ]
    }
   ],
   "source": [
    "from keras.models import Sequential\n",
    "from keras import layers\n",
    "from keras.optimizers import RMSprop\n",
    "\n",
    "model = Sequential()\n",
    "model.add(layers.Conv1D(32, 5, activation='relu', input_shape=(None, float_data.shape[-1])))\n",
    "model.add(layers.MaxPooling1D(3))\n",
    "model.add(layers.Conv1D(32, 5, activation='relu'))\n",
    "model.add(layers.GRU(32, dropout=0.1, recurrent_dropout=0.5))\n",
    "model.add(layers.Dense(1))\n",
    "\n",
    "model.summary()\n",
    "\n",
    "model.compile(optimizer=RMSprop(), loss='mae')\n",
    "history = model.fit_generator(\n",
    "    train_gen,\n",
    "    steps_per_epoch=500,\n",
    "    epochs=20,\n",
    "    validation_data=val_gen,\n",
    "    validation_steps=val_steps\n",
    ")"
   ]
  },
  {
   "cell_type": "markdown",
   "metadata": {},
   "source": [
    "### 정리\n",
    "* 2D 컨브넷이 2D 공간의 시각적 패텬을 잘 처리하는 것처럼 1D 컨브넷은 시간에 따른 패턴을 잘 처리한다. 1D 컨브넷은 특성 자연어 처리 같은 일부 ㅊ몌제에 RNN을 대신할 수 있는 빠른 모델이다.\n",
    "* 전혐적으로 1D 컨브넷은 컴퓨터 비전 분야의 2D 컨브넷과 비슷하게 구성한다. Conv1D 층과 Max-Pooling1D 층을 쌓고 마지막에 전역 플링 연산이나 Flatten 층을 둔다.\n",
    "* RNN으로 아주 긴 시퀀스를 처리하려면 계산 비용이 많이 든다. 1D 컨브넷은 비용이 적게 든다. 따라서 1D 컨브넷을 RNN 이전의 전처리 단계로 사용하는 것은 좋은 생각이다. 시퀀스 길이를 줄이고 RNN이 처리할 유용한 표현을 추출해 줄 것이다."
   ]
  },
  {
   "cell_type": "markdown",
   "metadata": {},
   "source": [
    "## 요약\n",
    "* 배운 기법\n",
    "    * 텍스트를 토큰화하는 방법\n",
    "    * 단어 임베딩과 이를 사용하는 방법\n",
    "    * 순환 네트워크와 이를 사용하는 방법\n",
    "    * 더 강력한 시퀀스 처리 모델을 만들기 의해 RNN 층을 스태킹하는 방법과 양방향 RNN을 사용하는 방법\n",
    "    * 시퀀스를 처리하기 위해 1D 컨브넷을 사용하는 방법\n",
    "    * 긴 시퀀스를 처라하기 위해 1D 컨브넷과 RNN을 연결하는 방법\n",
    "* 시계열 데이터를 사용한 회귀(미래 값을 예측), 시계열 분류, 시계열에 있는 이상치 감지, 시퀀스 레이블링(문장에서 이름이나 날짜를 식별하기 등)에 RNN을 사용할 수 있다.\n",
    "* 비슷하게 기계 변역(SliceNet 같은 시퀀스-투-시퀀스 합성곱 모델), 문서 분류, 맞춤법 정정 등에 1D 컨브넷을 사용할 수 있다.\n",
    "* 시퀀스 데이터에서 전반적인 순서가 중요하다면 순환 네트워크를 사용하여 처리하는 것이 좋다. 최근의 정보가 오래된 과거보다 더 중요한 시계열 데이터가 전형적인 경우이다.\n",
    "* 전반적인 순서가 큰 의미가 없다면 1D 컨브넷이 적어도 동일한 성능을 내면서 비용도 적을 것이다. 텍스트 데이터가 종종 이에 해당한다. 문장 처음에 있는 키워드가 마지막에 있는 키워드와 같은 의미를 가진다."
   ]
  },
  {
   "cell_type": "markdown",
   "metadata": {},
   "source": []
  }
 ],
 "metadata": {
  "kernelspec": {
   "display_name": "Python 3.8.13 ('tf20')",
   "language": "python",
   "name": "python3"
  },
  "language_info": {
   "codemirror_mode": {
    "name": "ipython",
    "version": 3
   },
   "file_extension": ".py",
   "mimetype": "text/x-python",
   "name": "python",
   "nbconvert_exporter": "python",
   "pygments_lexer": "ipython3",
   "version": "3.8.13"
  },
  "orig_nbformat": 4,
  "vscode": {
   "interpreter": {
    "hash": "6031b87587c83867ea9d6a230f58cff6e73fb05ff5d2fb7f6404d0bbff37737a"
   }
  }
 },
 "nbformat": 4,
 "nbformat_minor": 2
}
