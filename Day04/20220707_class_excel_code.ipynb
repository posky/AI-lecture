{
 "cells": [
  {
   "cell_type": "code",
   "execution_count": 1,
   "metadata": {},
   "outputs": [
    {
     "name": "stdout",
     "output_type": "stream",
     "text": [
      "openpyxl Ver :  3.0.5\n"
     ]
    }
   ],
   "source": [
    "import openpyxl as oxl\n",
    "\n",
    "print('openpyxl Ver : ', oxl.__version__)"
   ]
  },
  {
   "cell_type": "code",
   "execution_count": 2,
   "metadata": {},
   "outputs": [],
   "source": [
    "from openpyxl import Workbook"
   ]
  },
  {
   "cell_type": "code",
   "execution_count": 4,
   "metadata": {},
   "outputs": [
    {
     "name": "stdout",
     "output_type": "stream",
     "text": [
      "<class 'openpyxl.workbook.workbook.Workbook'>\n"
     ]
    }
   ],
   "source": [
    "# 워크북 만들기 \n",
    "wb = Workbook()\n",
    "\n",
    "print(type(wb))"
   ]
  },
  {
   "cell_type": "code",
   "execution_count": 5,
   "metadata": {},
   "outputs": [
    {
     "name": "stdout",
     "output_type": "stream",
     "text": [
      "['Sheet']\n"
     ]
    }
   ],
   "source": [
    "print(wb.sheetnames)"
   ]
  },
  {
   "cell_type": "code",
   "execution_count": 6,
   "metadata": {},
   "outputs": [
    {
     "name": "stdout",
     "output_type": "stream",
     "text": [
      "<Worksheet \"Sheet\">\n"
     ]
    }
   ],
   "source": [
    "# 활성화된 시트 확인 \n",
    "print(wb.active)"
   ]
  },
  {
   "cell_type": "code",
   "execution_count": 7,
   "metadata": {},
   "outputs": [
    {
     "name": "stdout",
     "output_type": "stream",
     "text": [
      "['Sheet', 'Sheet1']\n",
      "<Worksheet \"Sheet\">\n"
     ]
    }
   ],
   "source": [
    "# 시트 추가 \n",
    "ws1 = wb.create_sheet('Sheet1')\n",
    "\n",
    "print(wb.sheetnames)\n",
    "print(wb.active)"
   ]
  },
  {
   "cell_type": "code",
   "execution_count": 18,
   "metadata": {},
   "outputs": [
    {
     "name": "stdout",
     "output_type": "stream",
     "text": [
      "['Sheet', 'Sheet1', 'Sheet2']\n",
      "<Worksheet \"Sheet\">\n"
     ]
    }
   ],
   "source": [
    "# 실습 - Sheet2 추가해보기 \n",
    "ws2 = wb.create_sheet('Sheet2')\n",
    "\n",
    "print(wb.sheetnames)\n",
    "print(wb.active)"
   ]
  },
  {
   "cell_type": "code",
   "execution_count": 19,
   "metadata": {},
   "outputs": [
    {
     "name": "stdout",
     "output_type": "stream",
     "text": [
      "['Sheet', 'Sheet0', 'Sheet1', 'Sheet2']\n",
      "<Worksheet \"Sheet\">\n"
     ]
    }
   ],
   "source": [
    "ws3 = wb.create_sheet('Sheet0', 1)\n",
    "\n",
    "print(wb.sheetnames)\n",
    "print(wb.active)"
   ]
  },
  {
   "cell_type": "markdown",
   "metadata": {},
   "source": [
    "###\n",
    " * 워크북 만들기\n",
    " * 시트 추가\n",
    " * 시트 이름 확인\n",
    " * 활성화된 시트 확인"
   ]
  },
  {
   "cell_type": "markdown",
   "metadata": {},
   "source": [
    "### 시트의 이름을 변경하고 싶다. "
   ]
  },
  {
   "cell_type": "code",
   "execution_count": 20,
   "metadata": {},
   "outputs": [
    {
     "name": "stdout",
     "output_type": "stream",
     "text": [
      "['Sheet', '두번째시트', 'Sheet1', 'Sheet2']\n"
     ]
    }
   ],
   "source": [
    "new_ws2 = wb['Sheet0']\n",
    "new_ws2.title = '두번째시트'\n",
    "\n",
    "print(wb.sheetnames)"
   ]
  },
  {
   "cell_type": "code",
   "execution_count": 21,
   "metadata": {},
   "outputs": [
    {
     "name": "stdout",
     "output_type": "stream",
     "text": [
      "['Sheet', '두번째시트', 'Sheet1', '네번째시트']\n"
     ]
    }
   ],
   "source": [
    "new_ws3 = wb['Sheet2']\n",
    "new_ws3.title = '네번째시트'\n",
    "\n",
    "print(wb.sheetnames)"
   ]
  },
  {
   "cell_type": "code",
   "execution_count": 22,
   "metadata": {},
   "outputs": [],
   "source": [
    "new_ws2['A1'] = '이름'\n",
    "new_ws2['B1'] = '전화번호'\n",
    "\n",
    "new_ws2['A2'] = '홍길동'\n",
    "new_ws2['B2'] = '02-302-3333'"
   ]
  },
  {
   "cell_type": "code",
   "execution_count": 23,
   "metadata": {},
   "outputs": [
    {
     "data": {
      "text/plain": [
       "<Cell '두번째시트'.B3>"
      ]
     },
     "execution_count": 23,
     "metadata": {},
     "output_type": "execute_result"
    }
   ],
   "source": [
    "new_ws2.cell(row=3, column=1, value='김길동')\n",
    "new_ws2.cell(row=3, column=2, value='010-222-3334')"
   ]
  },
  {
   "cell_type": "code",
   "execution_count": 26,
   "metadata": {},
   "outputs": [
    {
     "name": "stdout",
     "output_type": "stream",
     "text": [
      "이름\n"
     ]
    }
   ],
   "source": [
    "print(new_ws2['A1'].value)"
   ]
  },
  {
   "cell_type": "code",
   "execution_count": 27,
   "metadata": {},
   "outputs": [
    {
     "name": "stdout",
     "output_type": "stream",
     "text": [
      "김길동\n",
      "010-222-3334\n"
     ]
    }
   ],
   "source": [
    "print(new_ws2['A'][2].value)\n",
    "print(new_ws2['B'][2].value)"
   ]
  },
  {
   "cell_type": "code",
   "execution_count": 28,
   "metadata": {},
   "outputs": [
    {
     "name": "stdout",
     "output_type": "stream",
     "text": [
      "이름\n",
      "전화번호\n",
      "홍길동\n",
      "02-302-3333\n",
      "김길동\n",
      "010-222-3334\n"
     ]
    }
   ],
   "source": [
    "for i in range(0, 3, 1):\n",
    "    print(new_ws2['A'][i].value)\n",
    "    print(new_ws2['B'][i].value)"
   ]
  },
  {
   "cell_type": "code",
   "execution_count": 34,
   "metadata": {},
   "outputs": [
    {
     "name": "stdout",
     "output_type": "stream",
     "text": [
      "박길동\n",
      "010-1234-1234\n"
     ]
    }
   ],
   "source": [
    "# 실습 - 4번째 행의 값을 추가하고, 값을 확인해 보자.\n",
    "new_ws2.cell(row=4, column=1).value = '박길동'\n",
    "new_ws2.cell(row=4, column=2).value = '010-1234-1234'\n",
    "\n",
    "print(new_ws2['A'][3].value)\n",
    "print(new_ws2['B'][3].value)"
   ]
  },
  {
   "cell_type": "code",
   "execution_count": 33,
   "metadata": {},
   "outputs": [
    {
     "name": "stdout",
     "output_type": "stream",
     "text": [
      "이름\n",
      "홍길동\n",
      "김길동\n",
      "박길동\n",
      "전화번호\n",
      "02-302-3333\n",
      "010-222-3334\n",
      "010-1234-1234\n",
      "주소\n",
      "광주\n",
      "부산\n",
      "대구\n"
     ]
    }
   ],
   "source": [
    "# 추가 실습 - 주소를 추가해 보기. \n",
    "# 이름에 넣을 때, 10글자 이상 나오면 입력이 인되도록하기 \n",
    "new_ws2.cell(row=1, column=3, value='주소')\n",
    "new_ws2.cell(row=2, column=3, value='광주')\n",
    "new_ws2.cell(row=3, column=3, value='부산')\n",
    "new_ws2.cell(row=4, column=3, value='대구')\n",
    "\n",
    "for cols in new_ws2['A:C']:\n",
    "    for cell in cols:\n",
    "        print(cell.value)"
   ]
  },
  {
   "cell_type": "code",
   "execution_count": 35,
   "metadata": {},
   "outputs": [],
   "source": [
    "new_ws2['A5'] = ''\n",
    "new_ws2['B5'] = '02-302-3333'"
   ]
  },
  {
   "cell_type": "code",
   "execution_count": 36,
   "metadata": {},
   "outputs": [],
   "source": [
    "new_ws2['A6'] = '홍길동'\n",
    "new_ws2['B6'] = '7777777'"
   ]
  },
  {
   "cell_type": "code",
   "execution_count": 37,
   "metadata": {},
   "outputs": [
    {
     "name": "stdout",
     "output_type": "stream",
     "text": [
      "['Sheet', '두번째시트', 'Sheet1', '네번째시트']\n",
      "시트명 Sheet\n"
     ]
    }
   ],
   "source": [
    "print(wb.sheetnames)\n",
    "new_ws_first = wb['Sheet']\n",
    "new_ws_first['A1'] = '시트명'\n",
    "new_ws_first['B1'] = 'Sheet'\n",
    "\n",
    "print(new_ws_first['A1'].value, new_ws_first['B1'].value)"
   ]
  },
  {
   "cell_type": "code",
   "execution_count": 38,
   "metadata": {},
   "outputs": [],
   "source": [
    "wb.save('주소록.xlsx')"
   ]
  },
  {
   "cell_type": "code",
   "execution_count": null,
   "metadata": {},
   "outputs": [],
   "source": []
  }
 ],
 "metadata": {
  "kernelspec": {
   "display_name": "Python 3.8.5 ('base')",
   "language": "python",
   "name": "python3"
  },
  "language_info": {
   "codemirror_mode": {
    "name": "ipython",
    "version": 3
   },
   "file_extension": ".py",
   "mimetype": "text/x-python",
   "name": "python",
   "nbconvert_exporter": "python",
   "pygments_lexer": "ipython3",
   "version": "3.8.5"
  },
  "vscode": {
   "interpreter": {
    "hash": "bb22bed4442154fb3a19c63ce3e9993d02bf4fd0be5c23680b344f0e088c080f"
   }
  }
 },
 "nbformat": 4,
 "nbformat_minor": 4
}
