{
 "cells": [
  {
   "cell_type": "code",
   "execution_count": 1,
   "metadata": {},
   "outputs": [],
   "source": [
    "import os, shutil"
   ]
  },
  {
   "cell_type": "code",
   "execution_count": 2,
   "metadata": {},
   "outputs": [],
   "source": [
    "# drive mount on google colab\n",
    "# from google.colab import drive\n",
    "# drive.mount('content/drive')"
   ]
  },
  {
   "cell_type": "code",
   "execution_count": 3,
   "metadata": {},
   "outputs": [],
   "source": [
    "ori_dataset_dir = './data/train'\n",
    "base_dir = './data/cats_and_dogs_small'"
   ]
  },
  {
   "cell_type": "code",
   "execution_count": 4,
   "metadata": {},
   "outputs": [],
   "source": [
    "if os.path.exists(base_dir):\n",
    "    shutil.rmtree(base_dir)\n",
    "\n",
    "os.mkdir(base_dir)"
   ]
  },
  {
   "cell_type": "code",
   "execution_count": 5,
   "metadata": {},
   "outputs": [],
   "source": [
    "train_dir = os.path.join(base_dir, 'train')\n",
    "os.mkdir(train_dir)\n",
    "\n",
    "val_dir = os.path.join(base_dir, 'validation')\n",
    "os.mkdir(val_dir)\n",
    "\n",
    "test_dir = os.path.join(base_dir, 'test')\n",
    "os.mkdir(test_dir)"
   ]
  },
  {
   "cell_type": "code",
   "execution_count": 6,
   "metadata": {},
   "outputs": [],
   "source": [
    "# 훈련용 고양이 사진 디렉터리\n",
    "train_cats_dir = os.path.join(train_dir, 'cats')\n",
    "os.mkdir(train_cats_dir)\n",
    "\n",
    "# 훈련용 강아지 사진 디렉터리\n",
    "train_dogs_dir = os.path.join(train_dir, 'dogs')\n",
    "os.mkdir(train_dogs_dir)\n",
    "\n",
    "# 검증용 고양이 사진 디렉터리\n",
    "val_cats_dir = os.path.join(val_dir, 'cats')\n",
    "os.mkdir(val_cats_dir)\n",
    "\n",
    "# 검증용 강아지 사진 디렉터리\n",
    "val_dogs_dir = os.path.join(val_dir, 'dogs')\n",
    "os.mkdir(val_dogs_dir)\n",
    "\n",
    "# 테스트용 고양이 사진 디렉터리\n",
    "test_cats_dir = os.path.join(test_dir, 'cats')\n",
    "os.mkdir(test_cats_dir)\n",
    "\n",
    "# 테스트용 강아지 사진 디렉터리\n",
    "test_dogs_dir = os.path.join(test_dir, 'dogs')\n",
    "os.mkdir(test_dogs_dir)"
   ]
  },
  {
   "cell_type": "code",
   "execution_count": 7,
   "metadata": {},
   "outputs": [],
   "source": [
    "# 처음 1,000개의 고양이 이미지를 train_cats_dir에 복사합니다\n",
    "fnames = ['cat.{}.jpg'.format(i) for i in range(1000)]\n",
    "for fname in fnames:\n",
    "    src = os.path.join(ori_dataset_dir, fname)\n",
    "    dst = os.path.join(train_cats_dir, fname)\n",
    "    shutil.copyfile(src, dst)\n",
    "\n",
    "# 다음 500개 고양이 이미지를 validation_cats_dir에 복사합니다\n",
    "fnames = ['cat.{}.jpg'.format(i) for i in range(1000, 1500)]\n",
    "for fname in fnames:\n",
    "    src = os.path.join(ori_dataset_dir, fname)\n",
    "    dst = os.path.join(val_cats_dir, fname)\n",
    "    shutil.copyfile(src, dst)\n",
    "    \n",
    "# 다음 500개 고양이 이미지를 test_cats_dir에 복사합니다\n",
    "fnames = ['cat.{}.jpg'.format(i) for i in range(1500, 2000)]\n",
    "for fname in fnames:\n",
    "    src = os.path.join(ori_dataset_dir, fname)\n",
    "    dst = os.path.join(test_cats_dir, fname)\n",
    "    shutil.copyfile(src, dst)\n",
    "    \n",
    "# 처음 1,000개의 강아지 이미지를 train_dogs_dir에 복사합니다\n",
    "fnames = ['dog.{}.jpg'.format(i) for i in range(1000)]\n",
    "for fname in fnames:\n",
    "    src = os.path.join(ori_dataset_dir, fname)\n",
    "    dst = os.path.join(train_dogs_dir, fname)\n",
    "    shutil.copyfile(src, dst)\n",
    "    \n",
    "# 다음 500개 강아지 이미지를 validation_dogs_dir에 복사합니다\n",
    "fnames = ['dog.{}.jpg'.format(i) for i in range(1000, 1500)]\n",
    "for fname in fnames:\n",
    "    src = os.path.join(ori_dataset_dir, fname)\n",
    "    dst = os.path.join(val_dogs_dir, fname)\n",
    "    shutil.copyfile(src, dst)\n",
    "    \n",
    "# 다음 500개 강아지 이미지를 test_dogs_dir에 복사합니다\n",
    "fnames = ['dog.{}.jpg'.format(i) for i in range(1500, 2000)]\n",
    "for fname in fnames:\n",
    "    src = os.path.join(ori_dataset_dir, fname)\n",
    "    dst = os.path.join(test_dogs_dir, fname)\n",
    "    shutil.copyfile(src, dst)"
   ]
  },
  {
   "cell_type": "code",
   "execution_count": 8,
   "metadata": {},
   "outputs": [
    {
     "name": "stdout",
     "output_type": "stream",
     "text": [
      "훈련용 고양이 이미지 전체 개수: 1000\n",
      "훈련용 강아지 이미지 전체 개수: 1000\n",
      "검증용 고양이 이미지 전체 개수: 500\n",
      "검증용 강아지 이미지 전체 개수: 500\n",
      "테스트용 고양이 이미지 전체 개수: 500\n",
      "테스트용 강아지 이미지 전체 개수: 500\n"
     ]
    }
   ],
   "source": [
    "print('훈련용 고양이 이미지 전체 개수:', len(os.listdir(train_cats_dir)))\n",
    "print('훈련용 강아지 이미지 전체 개수:', len(os.listdir(train_dogs_dir)))\n",
    "\n",
    "print('검증용 고양이 이미지 전체 개수:', len(os.listdir(val_cats_dir)))\n",
    "print('검증용 강아지 이미지 전체 개수:', len(os.listdir(val_dogs_dir)))\n",
    "\n",
    "print('테스트용 고양이 이미지 전체 개수:', len(os.listdir(test_cats_dir)))\n",
    "print('테스트용 강아지 이미지 전체 개수:', len(os.listdir(test_dogs_dir)))"
   ]
  },
  {
   "cell_type": "code",
   "execution_count": 30,
   "metadata": {},
   "outputs": [],
   "source": [
    "WIDTH = 150\n",
    "HEIGHT = 150\n",
    "BATCH_SIZE = 20\n",
    "EPOCHS = 30"
   ]
  },
  {
   "cell_type": "code",
   "execution_count": 42,
   "metadata": {},
   "outputs": [],
   "source": [
    "from tensorflow.keras import layers\n",
    "from tensorflow.keras import models\n",
    "\n",
    "model = models.Sequential()\n",
    "model.add(layers.Conv2D(\n",
    "    32, (3, 3),\n",
    "    activation='relu',\n",
    "    input_shape=(HEIGHT, WIDTH, 3)\n",
    "))\n",
    "model.add(layers.BatchNormalization())\n",
    "model.add(layers.MaxPooling2D((2, 2)))\n",
    "\n",
    "model.add(layers.Conv2D(64, (3, 3), activation='relu'))\n",
    "model.add(layers.BatchNormalization())\n",
    "model.add(layers.MaxPooling2D((2, 2)))\n",
    "\n",
    "model.add(layers.Flatten())\n",
    "model.add(layers.Dense(512, activation='relu'))\n",
    "model.add(layers.BatchNormalization())\n",
    "model.add(layers.Dense(1, activation='sigmoid'))"
   ]
  },
  {
   "cell_type": "code",
   "execution_count": 43,
   "metadata": {},
   "outputs": [
    {
     "name": "stderr",
     "output_type": "stream",
     "text": [
      "c:\\Users\\posky\\anaconda3\\envs\\tf20\\lib\\site-packages\\keras\\optimizers\\optimizer_v2\\adam.py:110: UserWarning: The `lr` argument is deprecated, use `learning_rate` instead.\n",
      "  super(Adam, self).__init__(name, **kwargs)\n"
     ]
    }
   ],
   "source": [
    "from tensorflow.keras import optimizers\n",
    "\n",
    "model.compile(\n",
    "    loss='binary_crossentropy',\n",
    "    optimizer=optimizers.Adam(lr=1e-4),\n",
    "    metrics=['acc']\n",
    ")"
   ]
  },
  {
   "cell_type": "code",
   "execution_count": 44,
   "metadata": {},
   "outputs": [
    {
     "name": "stdout",
     "output_type": "stream",
     "text": [
      "Found 2000 images belonging to 2 classes.\n",
      "Found 1000 images belonging to 2 classes.\n"
     ]
    }
   ],
   "source": [
    "from keras.preprocessing.image import ImageDataGenerator\n",
    "\n",
    "# 모든 이미지를 1/255로 스케일을 조정합니다\n",
    "train_datagen = ImageDataGenerator(\n",
    "    rescale=1./255,\n",
    "    rotation_range=40,\n",
    "    width_shift_range=0.2,\n",
    "    height_shift_range=0.2,\n",
    "    shear_range=0.2,\n",
    "    zoom_range=0.2,\n",
    "    horizontal_flip=True\n",
    ")\n",
    "test_datagen = ImageDataGenerator(rescale=1./255)\n",
    "\n",
    "train_generator = train_datagen.flow_from_directory(\n",
    "    train_dir,  # 타깃 디렉터리\n",
    "    target_size=(HEIGHT, WIDTH),  # 모든 이미지를 150 × 150 크기로 변경\n",
    "    batch_size=BATCH_SIZE,\n",
    "    # binary_crossentropy 손실을 사용하기 때문에 이진 레이블이 필요\n",
    "    class_mode='binary'\n",
    ")\n",
    "\n",
    "val_generator = test_datagen.flow_from_directory(\n",
    "    val_dir,  \n",
    "    target_size=(HEIGHT, WIDTH),\n",
    "    batch_size=BATCH_SIZE,\n",
    "    class_mode='binary'\n",
    ")"
   ]
  },
  {
   "cell_type": "code",
   "execution_count": 45,
   "metadata": {},
   "outputs": [
    {
     "name": "stdout",
     "output_type": "stream",
     "text": [
      "배치 데이터 크기: (20, 150, 150, 3)\n",
      "배치 레이블 크기: (20,)\n"
     ]
    }
   ],
   "source": [
    "for data_batch, labels_batch in train_generator:\n",
    "    print('배치 데이터 크기:', data_batch.shape)\n",
    "    print('배치 레이블 크기:', labels_batch.shape)\n",
    "    break"
   ]
  },
  {
   "cell_type": "code",
   "execution_count": 46,
   "metadata": {},
   "outputs": [
    {
     "name": "stdout",
     "output_type": "stream",
     "text": [
      "학습용 데이터 :  2000\n",
      "검증용 데이터 :  1000\n"
     ]
    }
   ],
   "source": [
    "## 경로에 이미지 데이터의 개수 \n",
    "num_cats_tr = len(os.listdir(train_cats_dir))\n",
    "num_dogs_tr = len(os.listdir(train_dogs_dir))\n",
    "\n",
    "num_cats_val = len(os.listdir(val_cats_dir))\n",
    "num_dogs_val = len(os.listdir(val_dogs_dir))\n",
    "\n",
    "total_train = num_cats_tr + num_dogs_tr\n",
    "total_val = num_cats_val + num_dogs_val\n",
    "\n",
    "print(\"학습용 데이터 : \", total_train)\n",
    "print(\"검증용 데이터 : \", total_val)"
   ]
  },
  {
   "cell_type": "code",
   "execution_count": 47,
   "metadata": {},
   "outputs": [],
   "source": [
    "from tensorflow.keras.callbacks import EarlyStopping\n",
    "\n",
    "early_stopping = EarlyStopping(\n",
    "    patience=15,\n",
    "    monitor='val_loss'\n",
    ")"
   ]
  },
  {
   "cell_type": "code",
   "execution_count": 48,
   "metadata": {},
   "outputs": [
    {
     "name": "stdout",
     "output_type": "stream",
     "text": [
      "Epoch 1/30\n",
      "100/100 [==============================] - 9s 81ms/step - loss: 1.0706 - acc: 0.6155 - val_loss: 0.9568 - val_acc: 0.5000\n",
      "Epoch 2/30\n",
      "100/100 [==============================] - 8s 79ms/step - loss: 0.7376 - acc: 0.6375 - val_loss: 1.2820 - val_acc: 0.5000\n",
      "Epoch 3/30\n",
      "100/100 [==============================] - 8s 79ms/step - loss: 0.6942 - acc: 0.6475 - val_loss: 0.9544 - val_acc: 0.5250\n",
      "Epoch 4/30\n",
      "100/100 [==============================] - 8s 78ms/step - loss: 0.6586 - acc: 0.6645 - val_loss: 0.7550 - val_acc: 0.5920\n",
      "Epoch 5/30\n",
      "100/100 [==============================] - 8s 79ms/step - loss: 0.6433 - acc: 0.6730 - val_loss: 0.7064 - val_acc: 0.6340\n",
      "Epoch 6/30\n",
      "100/100 [==============================] - 8s 78ms/step - loss: 0.6260 - acc: 0.6735 - val_loss: 0.6266 - val_acc: 0.6700\n",
      "Epoch 7/30\n",
      "100/100 [==============================] - 8s 81ms/step - loss: 0.6190 - acc: 0.6710 - val_loss: 0.6022 - val_acc: 0.6880\n",
      "Epoch 8/30\n",
      "100/100 [==============================] - 8s 80ms/step - loss: 0.5881 - acc: 0.6960 - val_loss: 0.6378 - val_acc: 0.6770\n",
      "Epoch 9/30\n",
      "100/100 [==============================] - 8s 80ms/step - loss: 0.5929 - acc: 0.6965 - val_loss: 0.6252 - val_acc: 0.6900\n",
      "Epoch 10/30\n",
      "100/100 [==============================] - 9s 86ms/step - loss: 0.5838 - acc: 0.7060 - val_loss: 0.6348 - val_acc: 0.6710\n",
      "Epoch 11/30\n",
      "100/100 [==============================] - 10s 96ms/step - loss: 0.5689 - acc: 0.7175 - val_loss: 0.5734 - val_acc: 0.7100\n",
      "Epoch 12/30\n",
      "100/100 [==============================] - 8s 82ms/step - loss: 0.5856 - acc: 0.6910 - val_loss: 0.6600 - val_acc: 0.6880\n",
      "Epoch 13/30\n",
      "100/100 [==============================] - 8s 75ms/step - loss: 0.5582 - acc: 0.7090 - val_loss: 0.5763 - val_acc: 0.7190\n",
      "Epoch 14/30\n",
      "100/100 [==============================] - 7s 75ms/step - loss: 0.5645 - acc: 0.7110 - val_loss: 0.6451 - val_acc: 0.6780\n",
      "Epoch 15/30\n",
      "100/100 [==============================] - 8s 75ms/step - loss: 0.5398 - acc: 0.7390 - val_loss: 0.5415 - val_acc: 0.7290\n",
      "Epoch 16/30\n",
      "100/100 [==============================] - 7s 72ms/step - loss: 0.5549 - acc: 0.7215 - val_loss: 0.5874 - val_acc: 0.7150\n",
      "Epoch 17/30\n",
      "100/100 [==============================] - 7s 72ms/step - loss: 0.5249 - acc: 0.7435 - val_loss: 0.6120 - val_acc: 0.7140\n",
      "Epoch 18/30\n",
      "100/100 [==============================] - 8s 77ms/step - loss: 0.5405 - acc: 0.7400 - val_loss: 0.5720 - val_acc: 0.7220\n",
      "Epoch 19/30\n",
      "100/100 [==============================] - 8s 77ms/step - loss: 0.5376 - acc: 0.7255 - val_loss: 0.5561 - val_acc: 0.7270\n",
      "Epoch 20/30\n",
      "100/100 [==============================] - 8s 79ms/step - loss: 0.5127 - acc: 0.7550 - val_loss: 0.5612 - val_acc: 0.7260\n",
      "Epoch 21/30\n",
      "100/100 [==============================] - 8s 80ms/step - loss: 0.5166 - acc: 0.7440 - val_loss: 0.5293 - val_acc: 0.7360\n",
      "Epoch 22/30\n",
      "100/100 [==============================] - 9s 86ms/step - loss: 0.5295 - acc: 0.7325 - val_loss: 0.5509 - val_acc: 0.7290\n",
      "Epoch 23/30\n",
      "100/100 [==============================] - 8s 75ms/step - loss: 0.5273 - acc: 0.7410 - val_loss: 0.5563 - val_acc: 0.7160\n",
      "Epoch 24/30\n",
      "100/100 [==============================] - 8s 80ms/step - loss: 0.5134 - acc: 0.7485 - val_loss: 0.5174 - val_acc: 0.7260\n",
      "Epoch 25/30\n",
      "100/100 [==============================] - 8s 78ms/step - loss: 0.5089 - acc: 0.7435 - val_loss: 0.5314 - val_acc: 0.7340\n",
      "Epoch 26/30\n",
      "100/100 [==============================] - 8s 77ms/step - loss: 0.5161 - acc: 0.7405 - val_loss: 0.5166 - val_acc: 0.7380\n",
      "Epoch 27/30\n",
      "100/100 [==============================] - 8s 76ms/step - loss: 0.4875 - acc: 0.7605 - val_loss: 0.5322 - val_acc: 0.7320\n",
      "Epoch 28/30\n",
      "100/100 [==============================] - 7s 73ms/step - loss: 0.4776 - acc: 0.7670 - val_loss: 0.5089 - val_acc: 0.7410\n",
      "Epoch 29/30\n",
      "100/100 [==============================] - 7s 72ms/step - loss: 0.4973 - acc: 0.7610 - val_loss: 0.5546 - val_acc: 0.7430\n",
      "Epoch 30/30\n",
      "100/100 [==============================] - 7s 71ms/step - loss: 0.4787 - acc: 0.7630 - val_loss: 0.5744 - val_acc: 0.7250\n",
      "CPU times: total: 4min 56s\n",
      "Wall time: 3min 56s\n"
     ]
    }
   ],
   "source": [
    "%%time\n",
    "\n",
    "history = model.fit(   # model.fit_gerator -> model.fit() 으로 최근 추가됨\n",
    "    train_generator,\n",
    "    steps_per_epoch = total_train // BATCH_SIZE,\n",
    "    epochs=EPOCHS,\n",
    "    validation_data=val_generator,\n",
    "    validation_steps = total_val // BATCH_SIZE,\n",
    "    callbacks=[early_stopping]\n",
    ")"
   ]
  },
  {
   "cell_type": "code",
   "execution_count": 50,
   "metadata": {},
   "outputs": [
    {
     "data": {
      "image/png": "[encoded data removed]",
      "text/plain": [
       "<Figure size 432x288 with 2 Axes>"
      ]
     },
     "metadata": {
      "needs_background": "light"
     },
     "output_type": "display_data"
    }
   ],
   "source": [
    "%matplotlib inline\n",
    "import matplotlib.pyplot as plt\n",
    "\n",
    "fig, loss_ax = plt.subplots()\n",
    "\n",
    "acc_ax = loss_ax.twinx()\n",
    "\n",
    "loss_ax.plot(history.history['loss'], 'y', label='train loss')\n",
    "loss_ax.plot(history.history['val_loss'], 'r', label='val loss')\n",
    "\n",
    "acc_ax.plot(history.history['acc'], 'b', label='train acc')\n",
    "acc_ax.plot(history.history['val_acc'], 'g', label='val acc')\n",
    "\n",
    "loss_ax.set_xlabel('epoch')\n",
    "loss_ax.set_ylabel('loss')\n",
    "acc_ax.set_ylabel('accuracy')\n",
    "\n",
    "loss_ax.legend(loc='upper left')\n",
    "acc_ax.legend(loc='lower left')\n",
    "\n",
    "plt.show()"
   ]
  },
  {
   "cell_type": "code",
   "execution_count": 39,
   "metadata": {},
   "outputs": [],
   "source": [
    "model.save('cats_and_dogs_small_model.h5')"
   ]
  },
  {
   "cell_type": "code",
   "execution_count": 41,
   "metadata": {},
   "outputs": [
    {
     "data": {
      "text/plain": [
       "<keras.engine.sequential.Sequential at 0x15e54466b20>"
      ]
     },
     "execution_count": 41,
     "metadata": {},
     "output_type": "execute_result"
    }
   ],
   "source": [
    "import keras\n",
    "load_model = keras.models.load_model('cats_and_dogs_small_model.h5')\n",
    "load_model"
   ]
  },
  {
   "cell_type": "code",
   "execution_count": null,
   "metadata": {},
   "outputs": [],
   "source": []
  }
 ],
 "metadata": {
  "kernelspec": {
   "display_name": "Python 3.8.13 ('tf20')",
   "language": "python",
   "name": "python3"
  },
  "language_info": {
   "codemirror_mode": {
    "name": "ipython",
    "version": 3
   },
   "file_extension": ".py",
   "mimetype": "text/x-python",
   "name": "python",
   "nbconvert_exporter": "python",
   "pygments_lexer": "ipython3",
   "version": "3.8.13"
  },
  "orig_nbformat": 4,
  "vscode": {
   "interpreter": {
    "hash": "6031b87587c83867ea9d6a230f58cff6e73fb05ff5d2fb7f6404d0bbff37737a"
   }
  }
 },
 "nbformat": 4,
 "nbformat_minor": 2
}
