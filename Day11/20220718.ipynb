{
 "cells": [
  {
   "cell_type": "markdown",
   "metadata": {},
   "source": [
    "* ANN, DNN, CNN, RNN\n",
    "\n",
    "### 완전 연결층 (FCL-fully connected layer)\n",
    "* 전체 뉴런이 연결이 되어 있다.\n",
    "\n",
    "### 합성곱 신경망\n",
    "* 컨볼루션 계층\n",
    "    * 이미지가 있으면 필터가 존재하고, 필터를 스트라이드를 하면서 합성곱 연산을 통해서 값을 요약 및 압축\n",
    "    * 스트라이드의 개념: \n",
    "    * 스르라이드를 1, 2로 했을 때, 어떤 결과의 차이\n",
    "        * 4x4 필터 3x3 스트라이드 1: 2x2\n",
    "        * 4x4 필터 3x3 스트라이드 2: 1x1\n",
    "    * 필터와 이미지의 합성곱 연산을 통해서 생성되는 결과물\n",
    "    * 피쳐맵 (feature map) or activation map\n",
    "    * 3x3 필터를 16개를 씀. 특징맵의 개수: 16개\n",
    "    * 28, 28, 3 -> 3x3 필터의 개수 16\n",
    "        * 가중치 개수: 3x3x16x3 + 16*1\n",
    "    * CNN의 장점\n",
    "        * 파라미터를 줄여준다.\n",
    "        * 공간 정보 손실을 방지해 준다.\n",
    "    * 풀링 계층\n",
    "        * MaxPooling - 가장 큰 값을 가져온다.\n",
    "        * AveragePooling - 평균\n",
    "        * MinPooling - 낮은 값\n",
    "        * 가중치가 없다.\n",
    "    * 패딩\n",
    "        * zero padding이 이루어지면, 결과물은 사이즈가 그대로 유지.\n",
    "        * 특성맵 이미지가 줄어드는 것을 막기 위해 고안된 방법.\n",
    "\n",
    "* 사전 훈련된 네트워크\n",
    "    * 작은 이미지 데이터 셋에서 딥러닝을 사용하는 효과적인 방법"
   ]
  },
  {
   "cell_type": "markdown",
   "metadata": {},
   "source": [
    "### Dropout\n",
    "* 과적합의 이해 - 학습한 결과가 학습 데이터에는 미우 잘 맞지만, 학습 데이터에만 너무 꼭 맞춰져 있어, 그 외의 데이터에는 잘 맞지 않음.\n",
    "* 학습시 전체 신경망 중 일부만을 사용하도록 하는 것.\n",
    "* 즉, 학습 단계마다 일부 뉴런\n",
    "\n",
    "### 배치 정규화\n",
    "* BatchNormalization\n",
    "* 각 배치별로 평균(0)과 분산(1)을 이용하여 정규화시키는 것\n",
    "* 각 레이어마다 정규화하는 레이어를 두어, 변형된 분포가 나오지 않도록\n",
    "* 감마, 베타가 정규화에 곱해지고 어해져서 ReLU가 적용되더라도 기존의 음수부분의 모두 0으로 되지 않도록 방지"
   ]
  },
  {
   "cell_type": "code",
   "execution_count": null,
   "metadata": {},
   "outputs": [],
   "source": []
  }
 ],
 "metadata": {
  "kernelspec": {
   "display_name": "Python 3.8.13 ('tf20')",
   "language": "python",
   "name": "python3"
  },
  "language_info": {
   "codemirror_mode": {
    "name": "ipython",
    "version": 3
   },
   "file_extension": ".py",
   "mimetype": "text/x-python",
   "name": "python",
   "nbconvert_exporter": "python",
   "pygments_lexer": "ipython3",
   "version": "3.8.13"
  },
  "orig_nbformat": 4,
  "vscode": {
   "interpreter": {
    "hash": "6031b87587c83867ea9d6a230f58cff6e73fb05ff5d2fb7f6404d0bbff37737a"
   }
  }
 },
 "nbformat": 4,
 "nbformat_minor": 2
}
