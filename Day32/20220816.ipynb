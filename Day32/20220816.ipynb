{
 "cells": [
  {
   "cell_type": "code",
   "execution_count": 3,
   "metadata": {},
   "outputs": [],
   "source": [
    "from sklearn.model_selection import LeaveOneOut\n",
    "from sklearn.tree import DecisionTreeClassifier\n",
    "from sklearn.model_selection import cross_val_score\n",
    "from sklearn.datasets import load_iris"
   ]
  },
  {
   "cell_type": "code",
   "execution_count": 4,
   "metadata": {},
   "outputs": [
    {
     "name": "stdout",
     "output_type": "stream",
     "text": [
      "cross val divide: 150\n",
      "average acc: 0.947\n"
     ]
    }
   ],
   "source": [
    "loo = LeaveOneOut()\n",
    "iris = load_iris()\n",
    "tree = DecisionTreeClassifier()\n",
    "scores = cross_val_score(tree, iris.data, iris.target, cv=loo)\n",
    "\n",
    "print('cross val divide:', len(scores))\n",
    "print('average acc: {:.3f}'.format(scores.mean()))"
   ]
  },
  {
   "cell_type": "code",
   "execution_count": 5,
   "metadata": {},
   "outputs": [],
   "source": [
    "from sklearn.model_selection import ShuffleSplit"
   ]
  },
  {
   "cell_type": "code",
   "execution_count": 6,
   "metadata": {},
   "outputs": [
    {
     "name": "stdout",
     "output_type": "stream",
     "text": [
      "cross val score:\n",
      "[0.4 0.6 0.6 1.  0.8 0.4 0.8 0.8 0.4 1. ]\n",
      "avg: 0.680\n"
     ]
    }
   ],
   "source": [
    "shuffle_split = ShuffleSplit(train_size=10, test_size=5, n_splits=10)\n",
    "\n",
    "scores = cross_val_score(tree, iris.data, iris.target, cv=shuffle_split)\n",
    "\n",
    "print('cross val score:\\n{}'.format(scores))\n",
    "avg = scores.mean()\n",
    "print('avg: {:.3f}'.format(avg))"
   ]
  },
  {
   "cell_type": "markdown",
   "metadata": {},
   "source": []
  }
 ],
 "metadata": {
  "kernelspec": {
   "display_name": "Python 3.8.5 ('base')",
   "language": "python",
   "name": "python3"
  },
  "language_info": {
   "codemirror_mode": {
    "name": "ipython",
    "version": 3
   },
   "file_extension": ".py",
   "mimetype": "text/x-python",
   "name": "python",
   "nbconvert_exporter": "python",
   "pygments_lexer": "ipython3",
   "version": "3.8.5"
  },
  "orig_nbformat": 4,
  "vscode": {
   "interpreter": {
    "hash": "bb22bed4442154fb3a19c63ce3e9993d02bf4fd0be5c23680b344f0e088c080f"
   }
  }
 },
 "nbformat": 4,
 "nbformat_minor": 2
}
