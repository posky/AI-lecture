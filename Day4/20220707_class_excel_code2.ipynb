{
 "cells": [
  {
   "cell_type": "code",
   "execution_count": 1,
   "metadata": {},
   "outputs": [
    {
     "name": "stdout",
     "output_type": "stream",
     "text": [
      "openpyxl Ver :  3.0.5\n"
     ]
    }
   ],
   "source": [
    "import openpyxl as oxl\n",
    "\n",
    "print('openpyxl Ver : ', oxl.__version__)"
   ]
  },
  {
   "cell_type": "code",
   "execution_count": 2,
   "metadata": {},
   "outputs": [],
   "source": [
    "from openpyxl import Workbook, load_workbook"
   ]
  },
  {
   "cell_type": "code",
   "execution_count": 3,
   "metadata": {},
   "outputs": [
    {
     "name": "stdout",
     "output_type": "stream",
     "text": [
      "['Sheet', '두번째시트', 'Sheet1', '네번째시트']\n",
      "<class 'openpyxl.worksheet.worksheet.Worksheet'>\n"
     ]
    }
   ],
   "source": [
    "wb2 = load_workbook('주소록.xlsx')\n",
    "print(wb2.sheetnames)\n",
    "\n",
    "ws = wb2['두번째시트']\n",
    "print(type(ws))"
   ]
  },
  {
   "cell_type": "code",
   "execution_count": 5,
   "metadata": {},
   "outputs": [
    {
     "data": {
      "text/plain": [
       "[(<Cell '두번째시트'.A1>, <Cell '두번째시트'.B1>, <Cell '두번째시트'.C1>),\n",
       " (<Cell '두번째시트'.A2>, <Cell '두번째시트'.B2>, <Cell '두번째시트'.C2>),\n",
       " (<Cell '두번째시트'.A3>, <Cell '두번째시트'.B3>, <Cell '두번째시트'.C3>),\n",
       " (<Cell '두번째시트'.A4>, <Cell '두번째시트'.B4>, <Cell '두번째시트'.C4>),\n",
       " (<Cell '두번째시트'.A5>, <Cell '두번째시트'.B5>, <Cell '두번째시트'.C5>),\n",
       " (<Cell '두번째시트'.A6>, <Cell '두번째시트'.B6>, <Cell '두번째시트'.C6>)]"
      ]
     },
     "execution_count": 5,
     "metadata": {},
     "output_type": "execute_result"
    }
   ],
   "source": [
    "list(ws.iter_rows())"
   ]
  },
  {
   "cell_type": "code",
   "execution_count": 6,
   "metadata": {},
   "outputs": [
    {
     "name": "stdout",
     "output_type": "stream",
     "text": [
      "<Cell '두번째시트'.A1> 이름\n",
      "<Cell '두번째시트'.B1> 전화번호\n",
      "<Cell '두번째시트'.C1> 주소\n",
      "<Cell '두번째시트'.A2> 홍길동\n",
      "<Cell '두번째시트'.B2> 02-302-3333\n",
      "<Cell '두번째시트'.C2> 광주\n",
      "<Cell '두번째시트'.A3> 김길동\n",
      "<Cell '두번째시트'.B3> 010-222-3334\n",
      "<Cell '두번째시트'.C3> 부산\n",
      "<Cell '두번째시트'.A4> 박길동\n",
      "<Cell '두번째시트'.B4> 010-1234-1234\n",
      "<Cell '두번째시트'.C4> 대구\n",
      "<Cell '두번째시트'.A5> None\n",
      "<Cell '두번째시트'.B5> 02-302-3333\n",
      "<Cell '두번째시트'.C5> None\n",
      "<Cell '두번째시트'.A6> 홍길동\n",
      "<Cell '두번째시트'.B6> 7777777\n",
      "<Cell '두번째시트'.C6> None\n"
     ]
    }
   ],
   "source": [
    "for row in ws.iter_rows():\n",
    "    for cell in row:\n",
    "        print(cell, cell.value)"
   ]
  },
  {
   "cell_type": "code",
   "execution_count": 7,
   "metadata": {},
   "outputs": [
    {
     "name": "stdout",
     "output_type": "stream",
     "text": [
      "<Cell '두번째시트'.A1> 이름\n",
      "<Cell '두번째시트'.A2> 홍길동\n",
      "<Cell '두번째시트'.A3> 김길동\n",
      "<Cell '두번째시트'.A4> 박길동\n",
      "<Cell '두번째시트'.A5> None\n",
      "<Cell '두번째시트'.A6> 홍길동\n",
      "<Cell '두번째시트'.B1> 전화번호\n",
      "<Cell '두번째시트'.B2> 02-302-3333\n",
      "<Cell '두번째시트'.B3> 010-222-3334\n",
      "<Cell '두번째시트'.B4> 010-1234-1234\n",
      "<Cell '두번째시트'.B5> 02-302-3333\n",
      "<Cell '두번째시트'.B6> 7777777\n",
      "<Cell '두번째시트'.C1> 주소\n",
      "<Cell '두번째시트'.C2> 광주\n",
      "<Cell '두번째시트'.C3> 부산\n",
      "<Cell '두번째시트'.C4> 대구\n",
      "<Cell '두번째시트'.C5> None\n",
      "<Cell '두번째시트'.C6> None\n"
     ]
    }
   ],
   "source": [
    "for col in ws.iter_cols():\n",
    "    for cell in col:\n",
    "        print(cell, cell.value)"
   ]
  },
  {
   "cell_type": "markdown",
   "metadata": {},
   "source": [
    "# Pandas 이용한 내용 읽기"
   ]
  },
  {
   "cell_type": "code",
   "execution_count": 9,
   "metadata": {},
   "outputs": [],
   "source": [
    "import pandas as pd"
   ]
  },
  {
   "cell_type": "code",
   "execution_count": 10,
   "metadata": {},
   "outputs": [
    {
     "name": "stdout",
     "output_type": "stream",
     "text": [
      "1.1.3\n"
     ]
    }
   ],
   "source": [
    "print(pd.__version__)"
   ]
  },
  {
   "cell_type": "code",
   "execution_count": 12,
   "metadata": {},
   "outputs": [],
   "source": [
    "# numpy - C/C++로 만들어짐\n",
    "# read_csv()\n",
    "# read_excel()"
   ]
  },
  {
   "cell_type": "code",
   "execution_count": 13,
   "metadata": {},
   "outputs": [
    {
     "data": {
      "text/html": [
       "<div>\n",
       "<style scoped>\n",
       "    .dataframe tbody tr th:only-of-type {\n",
       "        vertical-align: middle;\n",
       "    }\n",
       "\n",
       "    .dataframe tbody tr th {\n",
       "        vertical-align: top;\n",
       "    }\n",
       "\n",
       "    .dataframe thead th {\n",
       "        text-align: right;\n",
       "    }\n",
       "</style>\n",
       "<table border=\"1\" class=\"dataframe\">\n",
       "  <thead>\n",
       "    <tr style=\"text-align: right;\">\n",
       "      <th></th>\n",
       "      <th>이름</th>\n",
       "      <th>전화번호</th>\n",
       "      <th>주소</th>\n",
       "    </tr>\n",
       "  </thead>\n",
       "  <tbody>\n",
       "    <tr>\n",
       "      <th>0</th>\n",
       "      <td>홍길동</td>\n",
       "      <td>02-302-3333</td>\n",
       "      <td>광주</td>\n",
       "    </tr>\n",
       "    <tr>\n",
       "      <th>1</th>\n",
       "      <td>김길동</td>\n",
       "      <td>010-222-3334</td>\n",
       "      <td>부산</td>\n",
       "    </tr>\n",
       "    <tr>\n",
       "      <th>2</th>\n",
       "      <td>박길동</td>\n",
       "      <td>010-1234-1234</td>\n",
       "      <td>대구</td>\n",
       "    </tr>\n",
       "    <tr>\n",
       "      <th>3</th>\n",
       "      <td>NaN</td>\n",
       "      <td>02-302-3333</td>\n",
       "      <td>NaN</td>\n",
       "    </tr>\n",
       "    <tr>\n",
       "      <th>4</th>\n",
       "      <td>홍길동</td>\n",
       "      <td>7777777</td>\n",
       "      <td>NaN</td>\n",
       "    </tr>\n",
       "  </tbody>\n",
       "</table>\n",
       "</div>"
      ],
      "text/plain": [
       "    이름           전화번호   주소\n",
       "0  홍길동    02-302-3333   광주\n",
       "1  김길동   010-222-3334   부산\n",
       "2  박길동  010-1234-1234   대구\n",
       "3  NaN    02-302-3333  NaN\n",
       "4  홍길동        7777777  NaN"
      ]
     },
     "execution_count": 13,
     "metadata": {},
     "output_type": "execute_result"
    }
   ],
   "source": [
    "dat = pd.read_excel('주소록.xlsx', sheet_name='두번째시트')\n",
    "dat"
   ]
  },
  {
   "cell_type": "code",
   "execution_count": 24,
   "metadata": {},
   "outputs": [
    {
     "name": "stdout",
     "output_type": "stream",
     "text": [
      "02-302-3333\n"
     ]
    }
   ],
   "source": [
    "a = list(dat.iterrows())\n",
    "# print(len(a))\n",
    "# print()\n",
    "# print(a[0])\n",
    "# print()\n",
    "# print(a[0][1])\n",
    "# print()\n",
    "\n",
    "print(a[0][1][1])"
   ]
  },
  {
   "cell_type": "code",
   "execution_count": 25,
   "metadata": {},
   "outputs": [
    {
     "name": "stdout",
     "output_type": "stream",
     "text": [
      "0 홍길동 02-302-3333\n",
      "1 김길동 010-222-3334\n",
      "2 박길동 010-1234-1234\n",
      "3 nan 02-302-3333\n",
      "4 홍길동 7777777\n"
     ]
    }
   ],
   "source": [
    "for idx, row in dat.iterrows():\n",
    "    print(idx, row[0], row[1])"
   ]
  },
  {
   "cell_type": "code",
   "execution_count": 26,
   "metadata": {},
   "outputs": [
    {
     "data": {
      "text/html": [
       "<div>\n",
       "<style scoped>\n",
       "    .dataframe tbody tr th:only-of-type {\n",
       "        vertical-align: middle;\n",
       "    }\n",
       "\n",
       "    .dataframe tbody tr th {\n",
       "        vertical-align: top;\n",
       "    }\n",
       "\n",
       "    .dataframe thead th {\n",
       "        text-align: right;\n",
       "    }\n",
       "</style>\n",
       "<table border=\"1\" class=\"dataframe\">\n",
       "  <thead>\n",
       "    <tr style=\"text-align: right;\">\n",
       "      <th></th>\n",
       "      <th>이름</th>\n",
       "      <th>전화번호</th>\n",
       "      <th>주소</th>\n",
       "    </tr>\n",
       "  </thead>\n",
       "  <tbody>\n",
       "    <tr>\n",
       "      <th>0</th>\n",
       "      <td>홍길동</td>\n",
       "      <td>02-302-3333</td>\n",
       "      <td>광주</td>\n",
       "    </tr>\n",
       "    <tr>\n",
       "      <th>1</th>\n",
       "      <td>김길동</td>\n",
       "      <td>010-222-3334</td>\n",
       "      <td>부산</td>\n",
       "    </tr>\n",
       "    <tr>\n",
       "      <th>2</th>\n",
       "      <td>박길동</td>\n",
       "      <td>010-1234-1234</td>\n",
       "      <td>대구</td>\n",
       "    </tr>\n",
       "    <tr>\n",
       "      <th>3</th>\n",
       "      <td>NaN</td>\n",
       "      <td>02-302-3333</td>\n",
       "      <td>NaN</td>\n",
       "    </tr>\n",
       "    <tr>\n",
       "      <th>4</th>\n",
       "      <td>홍길동</td>\n",
       "      <td>7777777</td>\n",
       "      <td>NaN</td>\n",
       "    </tr>\n",
       "  </tbody>\n",
       "</table>\n",
       "</div>"
      ],
      "text/plain": [
       "    이름           전화번호   주소\n",
       "0  홍길동    02-302-3333   광주\n",
       "1  김길동   010-222-3334   부산\n",
       "2  박길동  010-1234-1234   대구\n",
       "3  NaN    02-302-3333  NaN\n",
       "4  홍길동        7777777  NaN"
      ]
     },
     "execution_count": 26,
     "metadata": {},
     "output_type": "execute_result"
    }
   ],
   "source": [
    "dat"
   ]
  },
  {
   "cell_type": "code",
   "execution_count": 27,
   "metadata": {},
   "outputs": [],
   "source": [
    "dat_ori = dat.copy()"
   ]
  },
  {
   "cell_type": "code",
   "execution_count": 28,
   "metadata": {},
   "outputs": [
    {
     "data": {
      "text/plain": [
       "0    홍길동\n",
       "1    김길동\n",
       "2    박길동\n",
       "3    NaN\n",
       "4    홍길동\n",
       "Name: 이름, dtype: object"
      ]
     },
     "execution_count": 28,
     "metadata": {},
     "output_type": "execute_result"
    }
   ],
   "source": [
    "dat['이름']"
   ]
  },
  {
   "cell_type": "code",
   "execution_count": 33,
   "metadata": {},
   "outputs": [],
   "source": [
    "# dat.loc[row, col]\n",
    "dat.loc[dat['이름'].isnull(), :]\n",
    "dat.loc[dat['이름'].isnull(), '이름체크'] = 'NOK'"
   ]
  },
  {
   "cell_type": "code",
   "execution_count": 34,
   "metadata": {},
   "outputs": [],
   "source": [
    "dat.loc[dat['이름'].notnull(), :]\n",
    "dat.loc[dat['이름'].notnull(), '이름체크'] = 'OK'"
   ]
  },
  {
   "cell_type": "code",
   "execution_count": 35,
   "metadata": {},
   "outputs": [
    {
     "data": {
      "text/html": [
       "<div>\n",
       "<style scoped>\n",
       "    .dataframe tbody tr th:only-of-type {\n",
       "        vertical-align: middle;\n",
       "    }\n",
       "\n",
       "    .dataframe tbody tr th {\n",
       "        vertical-align: top;\n",
       "    }\n",
       "\n",
       "    .dataframe thead th {\n",
       "        text-align: right;\n",
       "    }\n",
       "</style>\n",
       "<table border=\"1\" class=\"dataframe\">\n",
       "  <thead>\n",
       "    <tr style=\"text-align: right;\">\n",
       "      <th></th>\n",
       "      <th>이름</th>\n",
       "      <th>전화번호</th>\n",
       "      <th>주소</th>\n",
       "      <th>이름체크</th>\n",
       "    </tr>\n",
       "  </thead>\n",
       "  <tbody>\n",
       "    <tr>\n",
       "      <th>0</th>\n",
       "      <td>홍길동</td>\n",
       "      <td>02-302-3333</td>\n",
       "      <td>광주</td>\n",
       "      <td>OK</td>\n",
       "    </tr>\n",
       "    <tr>\n",
       "      <th>1</th>\n",
       "      <td>김길동</td>\n",
       "      <td>010-222-3334</td>\n",
       "      <td>부산</td>\n",
       "      <td>OK</td>\n",
       "    </tr>\n",
       "    <tr>\n",
       "      <th>2</th>\n",
       "      <td>박길동</td>\n",
       "      <td>010-1234-1234</td>\n",
       "      <td>대구</td>\n",
       "      <td>OK</td>\n",
       "    </tr>\n",
       "    <tr>\n",
       "      <th>3</th>\n",
       "      <td>NaN</td>\n",
       "      <td>02-302-3333</td>\n",
       "      <td>NaN</td>\n",
       "      <td>NOK</td>\n",
       "    </tr>\n",
       "    <tr>\n",
       "      <th>4</th>\n",
       "      <td>홍길동</td>\n",
       "      <td>7777777</td>\n",
       "      <td>NaN</td>\n",
       "      <td>OK</td>\n",
       "    </tr>\n",
       "  </tbody>\n",
       "</table>\n",
       "</div>"
      ],
      "text/plain": [
       "    이름           전화번호   주소 이름체크\n",
       "0  홍길동    02-302-3333   광주   OK\n",
       "1  김길동   010-222-3334   부산   OK\n",
       "2  박길동  010-1234-1234   대구   OK\n",
       "3  NaN    02-302-3333  NaN  NOK\n",
       "4  홍길동        7777777  NaN   OK"
      ]
     },
     "execution_count": 35,
     "metadata": {},
     "output_type": "execute_result"
    }
   ],
   "source": [
    "dat"
   ]
  },
  {
   "cell_type": "markdown",
   "metadata": {},
   "source": [
    "# 실습\n",
    " * 전화번호가 있는지 없는지 체크해보기"
   ]
  },
  {
   "cell_type": "code",
   "execution_count": 36,
   "metadata": {},
   "outputs": [
    {
     "data": {
      "text/html": [
       "<div>\n",
       "<style scoped>\n",
       "    .dataframe tbody tr th:only-of-type {\n",
       "        vertical-align: middle;\n",
       "    }\n",
       "\n",
       "    .dataframe tbody tr th {\n",
       "        vertical-align: top;\n",
       "    }\n",
       "\n",
       "    .dataframe thead th {\n",
       "        text-align: right;\n",
       "    }\n",
       "</style>\n",
       "<table border=\"1\" class=\"dataframe\">\n",
       "  <thead>\n",
       "    <tr style=\"text-align: right;\">\n",
       "      <th></th>\n",
       "      <th>이름</th>\n",
       "      <th>전화번호</th>\n",
       "      <th>주소</th>\n",
       "      <th>이름체크</th>\n",
       "      <th>전화번호체크</th>\n",
       "    </tr>\n",
       "  </thead>\n",
       "  <tbody>\n",
       "    <tr>\n",
       "      <th>0</th>\n",
       "      <td>홍길동</td>\n",
       "      <td>02-302-3333</td>\n",
       "      <td>광주</td>\n",
       "      <td>OK</td>\n",
       "      <td>OK</td>\n",
       "    </tr>\n",
       "    <tr>\n",
       "      <th>1</th>\n",
       "      <td>김길동</td>\n",
       "      <td>010-222-3334</td>\n",
       "      <td>부산</td>\n",
       "      <td>OK</td>\n",
       "      <td>OK</td>\n",
       "    </tr>\n",
       "    <tr>\n",
       "      <th>2</th>\n",
       "      <td>박길동</td>\n",
       "      <td>010-1234-1234</td>\n",
       "      <td>대구</td>\n",
       "      <td>OK</td>\n",
       "      <td>OK</td>\n",
       "    </tr>\n",
       "    <tr>\n",
       "      <th>3</th>\n",
       "      <td>NaN</td>\n",
       "      <td>02-302-3333</td>\n",
       "      <td>NaN</td>\n",
       "      <td>NOK</td>\n",
       "      <td>OK</td>\n",
       "    </tr>\n",
       "    <tr>\n",
       "      <th>4</th>\n",
       "      <td>홍길동</td>\n",
       "      <td>7777777</td>\n",
       "      <td>NaN</td>\n",
       "      <td>OK</td>\n",
       "      <td>OK</td>\n",
       "    </tr>\n",
       "  </tbody>\n",
       "</table>\n",
       "</div>"
      ],
      "text/plain": [
       "    이름           전화번호   주소 이름체크 전화번호체크\n",
       "0  홍길동    02-302-3333   광주   OK     OK\n",
       "1  김길동   010-222-3334   부산   OK     OK\n",
       "2  박길동  010-1234-1234   대구   OK     OK\n",
       "3  NaN    02-302-3333  NaN  NOK     OK\n",
       "4  홍길동        7777777  NaN   OK     OK"
      ]
     },
     "execution_count": 36,
     "metadata": {},
     "output_type": "execute_result"
    }
   ],
   "source": [
    "dat.loc[dat['전화번호'].isnull(), '전화번호체크'] = 'NOK'\n",
    "dat.loc[dat['전화번호'].notnull(), '전화번호체크'] = 'OK'\n",
    "dat"
   ]
  },
  {
   "cell_type": "code",
   "execution_count": 41,
   "metadata": {},
   "outputs": [
    {
     "data": {
      "text/plain": [
       "0    False\n",
       "1    False\n",
       "2     True\n",
       "3    False\n",
       "4    False\n",
       "Name: 전화번호, dtype: bool"
      ]
     },
     "execution_count": 41,
     "metadata": {},
     "output_type": "execute_result"
    }
   ],
   "source": [
    "dat['전화번호'].str.len() > 12"
   ]
  },
  {
   "cell_type": "code",
   "execution_count": 42,
   "metadata": {},
   "outputs": [
    {
     "data": {
      "text/plain": [
       "0     True\n",
       "1     True\n",
       "2    False\n",
       "3     True\n",
       "4     True\n",
       "Name: 전화번호, dtype: bool"
      ]
     },
     "execution_count": 42,
     "metadata": {},
     "output_type": "execute_result"
    }
   ],
   "source": [
    "dat['전화번호'].str.len() < 13"
   ]
  },
  {
   "cell_type": "code",
   "execution_count": 44,
   "metadata": {},
   "outputs": [
    {
     "data": {
      "text/plain": [
       "0    False\n",
       "1    False\n",
       "2    False\n",
       "3    False\n",
       "4    False\n",
       "Name: 전화번호, dtype: bool"
      ]
     },
     "execution_count": 44,
     "metadata": {},
     "output_type": "execute_result"
    }
   ],
   "source": [
    "(dat['전화번호'].str.len() > 12) & (dat['전화번호'].str.len() < 13)"
   ]
  },
  {
   "cell_type": "code",
   "execution_count": 53,
   "metadata": {},
   "outputs": [],
   "source": [
    "phone_number_len_check = (dat['전화번호'].str.len() == 12) | (dat['전화번호'].str.len() == 13)"
   ]
  },
  {
   "cell_type": "code",
   "execution_count": 54,
   "metadata": {},
   "outputs": [
    {
     "data": {
      "text/html": [
       "<div>\n",
       "<style scoped>\n",
       "    .dataframe tbody tr th:only-of-type {\n",
       "        vertical-align: middle;\n",
       "    }\n",
       "\n",
       "    .dataframe tbody tr th {\n",
       "        vertical-align: top;\n",
       "    }\n",
       "\n",
       "    .dataframe thead th {\n",
       "        text-align: right;\n",
       "    }\n",
       "</style>\n",
       "<table border=\"1\" class=\"dataframe\">\n",
       "  <thead>\n",
       "    <tr style=\"text-align: right;\">\n",
       "      <th></th>\n",
       "      <th>이름</th>\n",
       "      <th>전화번호</th>\n",
       "      <th>주소</th>\n",
       "      <th>이름체크</th>\n",
       "      <th>전화번호체크</th>\n",
       "      <th>전화번호길이체크</th>\n",
       "    </tr>\n",
       "  </thead>\n",
       "  <tbody>\n",
       "    <tr>\n",
       "      <th>0</th>\n",
       "      <td>홍길동</td>\n",
       "      <td>02-302-3333</td>\n",
       "      <td>광주</td>\n",
       "      <td>OK</td>\n",
       "      <td>OK</td>\n",
       "      <td>NOK</td>\n",
       "    </tr>\n",
       "    <tr>\n",
       "      <th>1</th>\n",
       "      <td>김길동</td>\n",
       "      <td>010-222-3334</td>\n",
       "      <td>부산</td>\n",
       "      <td>OK</td>\n",
       "      <td>OK</td>\n",
       "      <td>OK</td>\n",
       "    </tr>\n",
       "    <tr>\n",
       "      <th>2</th>\n",
       "      <td>박길동</td>\n",
       "      <td>010-1234-1234</td>\n",
       "      <td>대구</td>\n",
       "      <td>OK</td>\n",
       "      <td>OK</td>\n",
       "      <td>OK</td>\n",
       "    </tr>\n",
       "    <tr>\n",
       "      <th>3</th>\n",
       "      <td>NaN</td>\n",
       "      <td>02-302-3333</td>\n",
       "      <td>NaN</td>\n",
       "      <td>NOK</td>\n",
       "      <td>OK</td>\n",
       "      <td>NOK</td>\n",
       "    </tr>\n",
       "    <tr>\n",
       "      <th>4</th>\n",
       "      <td>홍길동</td>\n",
       "      <td>7777777</td>\n",
       "      <td>NaN</td>\n",
       "      <td>OK</td>\n",
       "      <td>OK</td>\n",
       "      <td>NOK</td>\n",
       "    </tr>\n",
       "  </tbody>\n",
       "</table>\n",
       "</div>"
      ],
      "text/plain": [
       "    이름           전화번호   주소 이름체크 전화번호체크 전화번호길이체크\n",
       "0  홍길동    02-302-3333   광주   OK     OK      NOK\n",
       "1  김길동   010-222-3334   부산   OK     OK       OK\n",
       "2  박길동  010-1234-1234   대구   OK     OK       OK\n",
       "3  NaN    02-302-3333  NaN  NOK     OK      NOK\n",
       "4  홍길동        7777777  NaN   OK     OK      NOK"
      ]
     },
     "execution_count": 54,
     "metadata": {},
     "output_type": "execute_result"
    }
   ],
   "source": [
    "dat.loc[phone_number_len_check, '전화번호길이체크'] = 'OK'\n",
    "dat.loc[~phone_number_len_check, '전화번호길이체크'] = 'NOK'\n",
    "dat"
   ]
  },
  {
   "cell_type": "code",
   "execution_count": 67,
   "metadata": {},
   "outputs": [
    {
     "data": {
      "text/html": [
       "<div>\n",
       "<style scoped>\n",
       "    .dataframe tbody tr th:only-of-type {\n",
       "        vertical-align: middle;\n",
       "    }\n",
       "\n",
       "    .dataframe tbody tr th {\n",
       "        vertical-align: top;\n",
       "    }\n",
       "\n",
       "    .dataframe thead th {\n",
       "        text-align: right;\n",
       "    }\n",
       "</style>\n",
       "<table border=\"1\" class=\"dataframe\">\n",
       "  <thead>\n",
       "    <tr style=\"text-align: right;\">\n",
       "      <th></th>\n",
       "      <th>이름</th>\n",
       "      <th>전화번호</th>\n",
       "      <th>주소</th>\n",
       "      <th>이름체크</th>\n",
       "      <th>전화번호체크</th>\n",
       "      <th>전화번호길이체크</th>\n",
       "      <th>전화번호형식체크</th>\n",
       "    </tr>\n",
       "  </thead>\n",
       "  <tbody>\n",
       "    <tr>\n",
       "      <th>0</th>\n",
       "      <td>홍길동</td>\n",
       "      <td>02-302-3333</td>\n",
       "      <td>광주</td>\n",
       "      <td>OK</td>\n",
       "      <td>OK</td>\n",
       "      <td>NOK</td>\n",
       "      <td>OK</td>\n",
       "    </tr>\n",
       "    <tr>\n",
       "      <th>1</th>\n",
       "      <td>김길동</td>\n",
       "      <td>010-222-3334</td>\n",
       "      <td>부산</td>\n",
       "      <td>OK</td>\n",
       "      <td>OK</td>\n",
       "      <td>OK</td>\n",
       "      <td>OK</td>\n",
       "    </tr>\n",
       "    <tr>\n",
       "      <th>2</th>\n",
       "      <td>박길동</td>\n",
       "      <td>010-1234-1234</td>\n",
       "      <td>대구</td>\n",
       "      <td>OK</td>\n",
       "      <td>OK</td>\n",
       "      <td>OK</td>\n",
       "      <td>OK</td>\n",
       "    </tr>\n",
       "    <tr>\n",
       "      <th>3</th>\n",
       "      <td>NaN</td>\n",
       "      <td>02-302-3333</td>\n",
       "      <td>NaN</td>\n",
       "      <td>NOK</td>\n",
       "      <td>OK</td>\n",
       "      <td>NOK</td>\n",
       "      <td>OK</td>\n",
       "    </tr>\n",
       "    <tr>\n",
       "      <th>4</th>\n",
       "      <td>홍길동</td>\n",
       "      <td>7777777</td>\n",
       "      <td>NaN</td>\n",
       "      <td>OK</td>\n",
       "      <td>OK</td>\n",
       "      <td>NOK</td>\n",
       "      <td>NOK</td>\n",
       "    </tr>\n",
       "  </tbody>\n",
       "</table>\n",
       "</div>"
      ],
      "text/plain": [
       "    이름           전화번호   주소 이름체크 전화번호체크 전화번호길이체크 전화번호형식체크\n",
       "0  홍길동    02-302-3333   광주   OK     OK      NOK       OK\n",
       "1  김길동   010-222-3334   부산   OK     OK       OK       OK\n",
       "2  박길동  010-1234-1234   대구   OK     OK       OK       OK\n",
       "3  NaN    02-302-3333  NaN  NOK     OK      NOK       OK\n",
       "4  홍길동        7777777  NaN   OK     OK      NOK      NOK"
      ]
     },
     "execution_count": 67,
     "metadata": {},
     "output_type": "execute_result"
    }
   ],
   "source": [
    "phone_number_reg_check = dat['전화번호'].str.contains(r'\\d{2,3}-\\d{3,4}-\\d{4}$')\n",
    "dat.loc[phone_number_reg_check, '전화번호형식체크'] = 'OK'\n",
    "dat.loc[~phone_number_reg_check, '전화번호형식체크'] = 'NOK'\n",
    "dat"
   ]
  },
  {
   "cell_type": "code",
   "execution_count": 109,
   "metadata": {},
   "outputs": [
    {
     "data": {
      "text/html": [
       "<div>\n",
       "<style scoped>\n",
       "    .dataframe tbody tr th:only-of-type {\n",
       "        vertical-align: middle;\n",
       "    }\n",
       "\n",
       "    .dataframe tbody tr th {\n",
       "        vertical-align: top;\n",
       "    }\n",
       "\n",
       "    .dataframe thead th {\n",
       "        text-align: right;\n",
       "    }\n",
       "</style>\n",
       "<table border=\"1\" class=\"dataframe\">\n",
       "  <thead>\n",
       "    <tr style=\"text-align: right;\">\n",
       "      <th></th>\n",
       "      <th>이름</th>\n",
       "      <th>전화번호</th>\n",
       "      <th>주소</th>\n",
       "      <th>이름체크</th>\n",
       "      <th>전화번호체크</th>\n",
       "      <th>전화번호길이체크</th>\n",
       "      <th>전화번호형식체크</th>\n",
       "      <th>NOK개수</th>\n",
       "    </tr>\n",
       "  </thead>\n",
       "  <tbody>\n",
       "    <tr>\n",
       "      <th>0</th>\n",
       "      <td>홍길동</td>\n",
       "      <td>02-302-3333</td>\n",
       "      <td>광주</td>\n",
       "      <td>OK</td>\n",
       "      <td>OK</td>\n",
       "      <td>NOK</td>\n",
       "      <td>OK</td>\n",
       "      <td>1</td>\n",
       "    </tr>\n",
       "    <tr>\n",
       "      <th>1</th>\n",
       "      <td>김길동</td>\n",
       "      <td>010-222-3334</td>\n",
       "      <td>부산</td>\n",
       "      <td>OK</td>\n",
       "      <td>OK</td>\n",
       "      <td>OK</td>\n",
       "      <td>OK</td>\n",
       "      <td>0</td>\n",
       "    </tr>\n",
       "    <tr>\n",
       "      <th>2</th>\n",
       "      <td>박길동</td>\n",
       "      <td>010-1234-1234</td>\n",
       "      <td>대구</td>\n",
       "      <td>OK</td>\n",
       "      <td>OK</td>\n",
       "      <td>OK</td>\n",
       "      <td>OK</td>\n",
       "      <td>0</td>\n",
       "    </tr>\n",
       "    <tr>\n",
       "      <th>3</th>\n",
       "      <td>NaN</td>\n",
       "      <td>02-302-3333</td>\n",
       "      <td>NaN</td>\n",
       "      <td>NOK</td>\n",
       "      <td>OK</td>\n",
       "      <td>NOK</td>\n",
       "      <td>OK</td>\n",
       "      <td>2</td>\n",
       "    </tr>\n",
       "    <tr>\n",
       "      <th>4</th>\n",
       "      <td>홍길동</td>\n",
       "      <td>7777777</td>\n",
       "      <td>NaN</td>\n",
       "      <td>OK</td>\n",
       "      <td>OK</td>\n",
       "      <td>NOK</td>\n",
       "      <td>NOK</td>\n",
       "      <td>2</td>\n",
       "    </tr>\n",
       "  </tbody>\n",
       "</table>\n",
       "</div>"
      ],
      "text/plain": [
       "    이름           전화번호   주소 이름체크 전화번호체크 전화번호길이체크 전화번호형식체크  NOK개수\n",
       "0  홍길동    02-302-3333   광주   OK     OK      NOK       OK      1\n",
       "1  김길동   010-222-3334   부산   OK     OK       OK       OK      0\n",
       "2  박길동  010-1234-1234   대구   OK     OK       OK       OK      0\n",
       "3  NaN    02-302-3333  NaN  NOK     OK      NOK       OK      2\n",
       "4  홍길동        7777777  NaN   OK     OK      NOK      NOK      2"
      ]
     },
     "execution_count": 109,
     "metadata": {},
     "output_type": "execute_result"
    }
   ],
   "source": [
    "dat['NOK개수'] = (dat[['이름체크', '전화번호체크', '전화번호길이체크', '전화번호형식체크']] == 'NOK').sum(axis='columns')\n",
    "dat"
   ]
  },
  {
   "cell_type": "code",
   "execution_count": 110,
   "metadata": {},
   "outputs": [],
   "source": [
    "writer = pd.ExcelWriter('주소록_chk.xlsx', engine='openpyxl')\n",
    "dat_ori.to_excel(writer, sheet_name='sheet_ori', index=False)\n",
    "dat.to_excel(writer, sheet_name='sheet_chk', index=False)\n",
    "writer.save()"
   ]
  },
  {
   "cell_type": "code",
   "execution_count": null,
   "metadata": {},
   "outputs": [],
   "source": []
  }
 ],
 "metadata": {
  "kernelspec": {
   "display_name": "Python 3.8.5 ('base')",
   "language": "python",
   "name": "python3"
  },
  "language_info": {
   "codemirror_mode": {
    "name": "ipython",
    "version": 3
   },
   "file_extension": ".py",
   "mimetype": "text/x-python",
   "name": "python",
   "nbconvert_exporter": "python",
   "pygments_lexer": "ipython3",
   "version": "3.8.5"
  },
  "orig_nbformat": 4,
  "vscode": {
   "interpreter": {
    "hash": "bb22bed4442154fb3a19c63ce3e9993d02bf4fd0be5c23680b344f0e088c080f"
   }
  }
 },
 "nbformat": 4,
 "nbformat_minor": 2
}
