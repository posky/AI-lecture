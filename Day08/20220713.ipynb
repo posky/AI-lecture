{
 "cells": [
  {
   "cell_type": "markdown",
   "metadata": {},
   "source": [
    "### 딥러닝 라이브러리\n",
    "- tensorflow\n",
    "- keras\n",
    "- pytorch\n",
    "    - tensorflow 2.9\n",
    "    - 2.0부터 keras 문법을 사용."
   ]
  },
  {
   "cell_type": "markdown",
   "metadata": {},
   "source": [
    "### Bike Sharing Demand\n",
    "- 딥러닝 이미지, 시계열데이터터\n",
    "- 인공신경망\n",
    "    - 입력층\n",
    "    - 은닉층\n",
    "    - 출력층\n",
    "- 입력과 출력\n",
    "    * 입력 - 2개 변수\n",
    "    * 출력 - count\n",
    "- 출력이 어떤 형태가 되는가에 따라서 마지막 출력층이 달라진다.\n",
    "    * 출력 - 연속형변수\n",
    "        * 맨 마지막 층 뉴런이 하나 (활성화 함수는 없다.)\n",
    "    * 출력 - 이진 분류 (범주형 변수 2개)\n",
    "        * 맨 마지막 층 뉴런이 하나 (활성화 sigmoid)\n",
    "    * 출력 - 다항 분류 (벙주형 변수 3개 이상)\n",
    "        * 맨 마지막 층 뉴런이 분듀하고자 하는 개수만큼 (활성화 함수는 softmax) - 모든 결과값을 더해서 1이 나온다.)"
   ]
  },
  {
   "cell_type": "markdown",
   "metadata": {},
   "source": [
    "### Keras를 이용해서 딥러닝을 만들때\n",
    "* keras.models.Sequential: 딥러닝 구조를 만드는 큰 틀을 준비\n",
    "* keras.layers.Dense: 각 세부 층을 설정 또는 지정.\n",
    "* input_dim = 입력층 특징 개수\n",
    "* 이미지는 28 * 28 => 784개\n",
    "* FCL (fully connected layer) - 모든 신경망 연결"
   ]
  },
  {
   "cell_type": "markdown",
   "metadata": {},
   "source": [
    "### 딥러닝 구조 만들고 계산 또는 가중치 업데이트 알고리증 지정\n",
    "* model.compile()\n",
    "* 출력층 결과와 원래 답을 오차를 구하는 함수: loss\n",
    "    * mean_squared_error: 차의 제곱의 평균\n",
    "* 가중치를 업데이트를 시키는 알고리즘: rmsprop\n",
    "* epochs: 모든 데이터 횟수\n",
    "* batch_size: \n",
    "* model.evaluate(): 평가 수행\n",
    "* model.predict(): 예측 수행\n",
    "* 인공신경망 하기전에 데이터 정규화 필요"
   ]
  },
  {
   "cell_type": "markdown",
   "metadata": {},
   "source": [
    "* CNN (Convolutional neural netwrok) - image\n",
    "* LSMN "
   ]
  },
  {
   "cell_type": "markdown",
   "metadata": {},
   "source": [
    "### MNIST 분류 모델 만들기 - 신경망"
   ]
  },
  {
   "cell_type": "code",
   "execution_count": 1,
   "metadata": {},
   "outputs": [],
   "source": [
    "from keras.datasets import mnist\n",
    "from keras.utils import np_utils"
   ]
  },
  {
   "cell_type": "code",
   "execution_count": 2,
   "metadata": {},
   "outputs": [],
   "source": [
    "import numpy as np\n",
    "import sys\n",
    "import tensorflow as tf"
   ]
  },
  {
   "cell_type": "code",
   "execution_count": 3,
   "metadata": {},
   "outputs": [],
   "source": [
    "(X_train, y_train), (X_test, y_test) = mnist.load_data()"
   ]
  },
  {
   "cell_type": "code",
   "execution_count": 4,
   "metadata": {},
   "outputs": [],
   "source": [
    "import matplotlib.pyplot as plt"
   ]
  },
  {
   "cell_type": "code",
   "execution_count": 6,
   "metadata": {},
   "outputs": [
    {
     "name": "stdout",
     "output_type": "stream",
     "text": [
      "label=[5 0 4 1 9 2 1 3 1 4 3 5 3 6 1]\n"
     ]
    },
    {
     "data": {
      "image/png": "[encoded data removed]",
      "text/plain": [
       "<Figure size 1296x864 with 15 Axes>"
      ]
     },
     "metadata": {
      "needs_background": "light"
     },
     "output_type": "display_data"
    }
   ],
   "source": [
    "fig, axes = plt.subplots(3, 5, figsize=(18, 12))\n",
    "\n",
    "print(f'label={y_train[:15]}')\n",
    "\n",
    "for image, ax in zip(X_train, axes.ravel()):\n",
    "    ax.imshow(image)"
   ]
  },
  {
   "cell_type": "code",
   "execution_count": 7,
   "metadata": {},
   "outputs": [],
   "source": [
    "X_train = X_train.reshape(X_train.shape[0], 784)\n",
    "X_train.astype('float64')\n",
    "X_train = X_train / 255.0\n",
    "\n",
    "X_test = X_test.reshape(X_test.shape[0], 784)\n",
    "X_test.astype('float64')\n",
    "X_test = X_test / 255.0"
   ]
  },
  {
   "cell_type": "code",
   "execution_count": 9,
   "metadata": {},
   "outputs": [
    {
     "name": "stdout",
     "output_type": "stream",
     "text": [
      "(60000, 784)\n",
      "데이터의 최대, 최소:  0.0 1.0\n"
     ]
    }
   ],
   "source": [
    "print(X_train.shape)\n",
    "print('데이터의 최대, 최소: ', np.min(X_train), np.max(X_train))"
   ]
  },
  {
   "cell_type": "code",
   "execution_count": 10,
   "metadata": {},
   "outputs": [],
   "source": [
    "y_train_1D = np_utils.to_categorical(y_train, 10)\n",
    "y_test_1D = np_utils.to_categorical(y_test, 10)"
   ]
  },
  {
   "cell_type": "code",
   "execution_count": 11,
   "metadata": {},
   "outputs": [
    {
     "data": {
      "text/plain": [
       "array([5, 0, 4, 1], dtype=uint8)"
      ]
     },
     "execution_count": 11,
     "metadata": {},
     "output_type": "execute_result"
    }
   ],
   "source": [
    "y_train[:4]"
   ]
  },
  {
   "cell_type": "code",
   "execution_count": 12,
   "metadata": {},
   "outputs": [
    {
     "data": {
      "text/plain": [
       "array([[0., 0., 0., 0., 0., 1., 0., 0., 0., 0.],\n",
       "       [1., 0., 0., 0., 0., 0., 0., 0., 0., 0.],\n",
       "       [0., 0., 0., 0., 1., 0., 0., 0., 0., 0.],\n",
       "       [0., 1., 0., 0., 0., 0., 0., 0., 0., 0.]], dtype=float32)"
      ]
     },
     "execution_count": 12,
     "metadata": {},
     "output_type": "execute_result"
    }
   ],
   "source": [
    "y_train_1D[:4]"
   ]
  },
  {
   "cell_type": "code",
   "execution_count": 13,
   "metadata": {},
   "outputs": [],
   "source": [
    "from keras.models import Sequential\n",
    "from keras.layers import Dense"
   ]
  },
  {
   "cell_type": "code",
   "execution_count": 17,
   "metadata": {},
   "outputs": [],
   "source": [
    "m = Sequential()\n",
    "m.add(Dense(512, input_dim=784, activation='relu'))\n",
    "m.add(Dense(128, activation='relu'))\n",
    "m.add(Dense(10, activation='softmax'))"
   ]
  },
  {
   "cell_type": "code",
   "execution_count": 18,
   "metadata": {},
   "outputs": [],
   "source": [
    "m.compile(\n",
    "    loss='categorical_crossentropy',\n",
    "    optimizer='adam',\n",
    "    metrics=['accuracy']\n",
    ")"
   ]
  },
  {
   "cell_type": "code",
   "execution_count": 19,
   "metadata": {},
   "outputs": [
    {
     "name": "stdout",
     "output_type": "stream",
     "text": [
      "Epoch 1/30\n",
      "300/300 [==============================] - 1s 3ms/step - loss: 0.2691 - accuracy: 0.9225 - val_loss: 0.1160 - val_accuracy: 0.9651\n",
      "Epoch 2/30\n",
      "300/300 [==============================] - 1s 3ms/step - loss: 0.0976 - accuracy: 0.9710 - val_loss: 0.0840 - val_accuracy: 0.9731\n",
      "Epoch 3/30\n",
      "300/300 [==============================] - 1s 3ms/step - loss: 0.0620 - accuracy: 0.9808 - val_loss: 0.0749 - val_accuracy: 0.9769\n",
      "Epoch 4/30\n",
      "300/300 [==============================] - 1s 3ms/step - loss: 0.0420 - accuracy: 0.9870 - val_loss: 0.0687 - val_accuracy: 0.9792\n",
      "Epoch 5/30\n",
      "300/300 [==============================] - 1s 3ms/step - loss: 0.0305 - accuracy: 0.9905 - val_loss: 0.0662 - val_accuracy: 0.9800\n",
      "Epoch 6/30\n",
      "300/300 [==============================] - 1s 3ms/step - loss: 0.0218 - accuracy: 0.9936 - val_loss: 0.0648 - val_accuracy: 0.9802\n",
      "Epoch 7/30\n",
      "300/300 [==============================] - 1s 3ms/step - loss: 0.0152 - accuracy: 0.9958 - val_loss: 0.0691 - val_accuracy: 0.9799\n",
      "Epoch 8/30\n",
      "300/300 [==============================] - 1s 3ms/step - loss: 0.0127 - accuracy: 0.9961 - val_loss: 0.0802 - val_accuracy: 0.9790\n",
      "Epoch 9/30\n",
      "300/300 [==============================] - 1s 3ms/step - loss: 0.0111 - accuracy: 0.9969 - val_loss: 0.0703 - val_accuracy: 0.9822\n",
      "Epoch 10/30\n",
      "300/300 [==============================] - 1s 3ms/step - loss: 0.0101 - accuracy: 0.9969 - val_loss: 0.0933 - val_accuracy: 0.9774\n",
      "Epoch 11/30\n",
      "300/300 [==============================] - 1s 3ms/step - loss: 0.0131 - accuracy: 0.9957 - val_loss: 0.0841 - val_accuracy: 0.9801\n",
      "Epoch 12/30\n",
      "300/300 [==============================] - 1s 3ms/step - loss: 0.0092 - accuracy: 0.9969 - val_loss: 0.0761 - val_accuracy: 0.9834\n",
      "Epoch 13/30\n",
      "300/300 [==============================] - 1s 3ms/step - loss: 0.0111 - accuracy: 0.9962 - val_loss: 0.0835 - val_accuracy: 0.9812\n",
      "Epoch 14/30\n",
      "300/300 [==============================] - 1s 3ms/step - loss: 0.0076 - accuracy: 0.9976 - val_loss: 0.0909 - val_accuracy: 0.9799\n",
      "Epoch 15/30\n",
      "300/300 [==============================] - 1s 3ms/step - loss: 0.0086 - accuracy: 0.9971 - val_loss: 0.0849 - val_accuracy: 0.9808\n",
      "Epoch 16/30\n",
      "300/300 [==============================] - 1s 3ms/step - loss: 0.0046 - accuracy: 0.9984 - val_loss: 0.0896 - val_accuracy: 0.9820\n",
      "Epoch 17/30\n",
      "300/300 [==============================] - 1s 3ms/step - loss: 0.0048 - accuracy: 0.9985 - val_loss: 0.0985 - val_accuracy: 0.9803\n",
      "Epoch 18/30\n",
      "300/300 [==============================] - 1s 3ms/step - loss: 0.0078 - accuracy: 0.9974 - val_loss: 0.0979 - val_accuracy: 0.9816\n",
      "Epoch 19/30\n",
      "300/300 [==============================] - 1s 3ms/step - loss: 0.0099 - accuracy: 0.9967 - val_loss: 0.0982 - val_accuracy: 0.9805\n",
      "Epoch 20/30\n",
      "300/300 [==============================] - 1s 3ms/step - loss: 0.0044 - accuracy: 0.9987 - val_loss: 0.0967 - val_accuracy: 0.9813\n",
      "Epoch 21/30\n",
      "300/300 [==============================] - 1s 3ms/step - loss: 0.0025 - accuracy: 0.9992 - val_loss: 0.0910 - val_accuracy: 0.9825\n",
      "Epoch 22/30\n",
      "300/300 [==============================] - 1s 3ms/step - loss: 0.0037 - accuracy: 0.9987 - val_loss: 0.0953 - val_accuracy: 0.9815\n",
      "Epoch 23/30\n",
      "300/300 [==============================] - 1s 3ms/step - loss: 0.0064 - accuracy: 0.9980 - val_loss: 0.0983 - val_accuracy: 0.9811\n",
      "Epoch 24/30\n",
      "300/300 [==============================] - 1s 3ms/step - loss: 0.0100 - accuracy: 0.9966 - val_loss: 0.1009 - val_accuracy: 0.9826\n",
      "Epoch 25/30\n",
      "300/300 [==============================] - 1s 3ms/step - loss: 0.0071 - accuracy: 0.9976 - val_loss: 0.1017 - val_accuracy: 0.9832\n",
      "Epoch 26/30\n",
      "300/300 [==============================] - 1s 3ms/step - loss: 0.0021 - accuracy: 0.9993 - val_loss: 0.0961 - val_accuracy: 0.9829\n",
      "Epoch 27/30\n",
      "300/300 [==============================] - 1s 3ms/step - loss: 3.6689e-04 - accuracy: 0.9999 - val_loss: 0.0989 - val_accuracy: 0.9839\n",
      "Epoch 28/30\n",
      "300/300 [==============================] - 1s 3ms/step - loss: 4.7393e-04 - accuracy: 0.9999 - val_loss: 0.1034 - val_accuracy: 0.9834\n",
      "Epoch 29/30\n",
      "300/300 [==============================] - 1s 3ms/step - loss: 0.0022 - accuracy: 0.9994 - val_loss: 0.1091 - val_accuracy: 0.9801\n",
      "Epoch 30/30\n",
      "300/300 [==============================] - 1s 3ms/step - loss: 0.0155 - accuracy: 0.9952 - val_loss: 0.1112 - val_accuracy: 0.9797\n"
     ]
    }
   ],
   "source": [
    "history = m.fit(\n",
    "    X_train, y_train_1D,\n",
    "    validation_data=(X_test, y_test_1D),\n",
    "    epochs=30,\n",
    "    batch_size=200,\n",
    "    verbose=1\n",
    ")"
   ]
  },
  {
   "cell_type": "markdown",
   "metadata": {},
   "source": [
    "### EarlyStopping()\n",
    "* 학습의 조기 종료 함수 - EarlyStopping()\n",
    "* early_stopping = EarlyStopping()\n",
    "* model.fit(X_train, Y_train, nb_epoch=1000, callbacks=[early_stopping])\n",
    "* keras.callbakcs.EarlyStopping(monitor='val_loss', min_delta=0, patience=0, verbose=0, mode='auto')"
   ]
  },
  {
   "cell_type": "code",
   "execution_count": 21,
   "metadata": {},
   "outputs": [],
   "source": [
    "from keras.utils import np_utils\n",
    "from keras.datasets import mnist\n",
    "from keras.models import Sequential\n",
    "from keras.layers import Dense, Activation\n",
    "import numpy as np"
   ]
  },
  {
   "cell_type": "code",
   "execution_count": 22,
   "metadata": {},
   "outputs": [],
   "source": [
    "np.random.seed(3)\n",
    "\n",
    "(X_train, y_train), (X_test, y_test) = mnist.load_data()\n",
    "\n",
    "X_val = X_train[50000:]\n",
    "y_val = y_train[50000:]\n",
    "X_train = X_train[:50000]\n",
    "y_train = y_train[:50000]"
   ]
  },
  {
   "cell_type": "code",
   "execution_count": 23,
   "metadata": {},
   "outputs": [],
   "source": [
    "X_train = X_train.reshape(50000, 784).astype('float32') / 255.0\n",
    "X_val = X_val.reshape(10000, 784).astype('float32') / 255.0\n",
    "X_test = X_test.reshape(10000, 784).astype('float32') / 255.0"
   ]
  },
  {
   "cell_type": "code",
   "execution_count": 24,
   "metadata": {},
   "outputs": [],
   "source": [
    "train_rand_idxs = np.random.choice(50000, 10000)\n",
    "val_rand_idxs = np.random.choice(10000, 5000)\n",
    "\n",
    "X_train = X_train[train_rand_idxs]\n",
    "y_train = y_train[train_rand_idxs]\n",
    "X_val = X_val[val_rand_idxs]\n",
    "y_val = y_val[val_rand_idxs]"
   ]
  },
  {
   "cell_type": "code",
   "execution_count": 25,
   "metadata": {},
   "outputs": [],
   "source": [
    "y_train = np_utils.to_categorical(y_train)\n",
    "y_val = np_utils.to_categorical(y_val)\n",
    "y_test = np_utils.to_categorical(y_test)"
   ]
  },
  {
   "cell_type": "code",
   "execution_count": 26,
   "metadata": {},
   "outputs": [
    {
     "name": "stdout",
     "output_type": "stream",
     "text": [
      "(10000, 784) (10000, 10)\n",
      "(5000, 784) (5000, 10)\n",
      "(10000, 784) (10000, 10)\n"
     ]
    }
   ],
   "source": [
    "print(X_train.shape, y_train.shape)\n",
    "print(X_val.shape, y_val.shape)\n",
    "print(X_test.shape, y_test.shape)"
   ]
  },
  {
   "cell_type": "code",
   "execution_count": 27,
   "metadata": {},
   "outputs": [],
   "source": [
    "model = Sequential()\n",
    "model.add(Dense(64, input_dim=784, activation='relu'))\n",
    "model.add(Dense(32, activation='relu'))\n",
    "model.add(Dense(10, activation='softmax'))"
   ]
  },
  {
   "cell_type": "code",
   "execution_count": 29,
   "metadata": {},
   "outputs": [],
   "source": [
    "model.compile(\n",
    "    loss='categorical_crossentropy',\n",
    "    optimizer='sgd',\n",
    "    metrics=['accuracy']\n",
    ")"
   ]
  },
  {
   "cell_type": "code",
   "execution_count": 30,
   "metadata": {},
   "outputs": [
    {
     "name": "stdout",
     "output_type": "stream",
     "text": [
      "Model: \"sequential_2\"\n",
      "_________________________________________________________________\n",
      " Layer (type)                Output Shape              Param #   \n",
      "=================================================================\n",
      " dense_6 (Dense)             (None, 64)                50240     \n",
      "                                                                 \n",
      " dense_7 (Dense)             (None, 32)                2080      \n",
      "                                                                 \n",
      " dense_8 (Dense)             (None, 10)                330       \n",
      "                                                                 \n",
      "=================================================================\n",
      "Total params: 52,650\n",
      "Trainable params: 52,650\n",
      "Non-trainable params: 0\n",
      "_________________________________________________________________\n"
     ]
    }
   ],
   "source": [
    "model.summary()"
   ]
  },
  {
   "cell_type": "code",
   "execution_count": 32,
   "metadata": {},
   "outputs": [
    {
     "name": "stdout",
     "output_type": "stream",
     "text": [
      "Epoch 1/3000\n",
      "1000/1000 [==============================] - 1s 756us/step - loss: 1.0107 - accuracy: 0.7201 - val_loss: 0.4233 - val_accuracy: 0.8816\n",
      "Epoch 2/3000\n",
      "1000/1000 [==============================] - 1s 691us/step - loss: 0.4012 - accuracy: 0.8858 - val_loss: 0.3353 - val_accuracy: 0.8990\n",
      "Epoch 3/3000\n",
      "1000/1000 [==============================] - 1s 716us/step - loss: 0.3208 - accuracy: 0.9086 - val_loss: 0.2744 - val_accuracy: 0.9210\n",
      "Epoch 4/3000\n",
      "1000/1000 [==============================] - 1s 686us/step - loss: 0.2748 - accuracy: 0.9223 - val_loss: 0.2513 - val_accuracy: 0.9250\n",
      "Epoch 5/3000\n",
      "1000/1000 [==============================] - 1s 698us/step - loss: 0.2406 - accuracy: 0.9303 - val_loss: 0.2588 - val_accuracy: 0.9250\n",
      "Epoch 6/3000\n",
      "1000/1000 [==============================] - 1s 712us/step - loss: 0.2165 - accuracy: 0.9375 - val_loss: 0.2343 - val_accuracy: 0.9268\n",
      "Epoch 7/3000\n",
      "1000/1000 [==============================] - 1s 712us/step - loss: 0.1917 - accuracy: 0.9459 - val_loss: 0.2092 - val_accuracy: 0.9398\n",
      "Epoch 8/3000\n",
      "1000/1000 [==============================] - 1s 668us/step - loss: 0.1732 - accuracy: 0.9506 - val_loss: 0.1989 - val_accuracy: 0.9430\n",
      "Epoch 9/3000\n",
      "1000/1000 [==============================] - 1s 706us/step - loss: 0.1559 - accuracy: 0.9564 - val_loss: 0.1921 - val_accuracy: 0.9446\n",
      "Epoch 10/3000\n",
      "1000/1000 [==============================] - 1s 704us/step - loss: 0.1420 - accuracy: 0.9605 - val_loss: 0.1904 - val_accuracy: 0.9428\n",
      "Epoch 11/3000\n",
      "1000/1000 [==============================] - 1s 696us/step - loss: 0.1288 - accuracy: 0.9643 - val_loss: 0.1886 - val_accuracy: 0.9454\n",
      "Epoch 12/3000\n",
      "1000/1000 [==============================] - 1s 695us/step - loss: 0.1170 - accuracy: 0.9670 - val_loss: 0.1823 - val_accuracy: 0.9462\n",
      "Epoch 13/3000\n",
      "1000/1000 [==============================] - 1s 703us/step - loss: 0.1066 - accuracy: 0.9706 - val_loss: 0.1778 - val_accuracy: 0.9476\n",
      "Epoch 14/3000\n",
      "1000/1000 [==============================] - 1s 703us/step - loss: 0.0950 - accuracy: 0.9757 - val_loss: 0.1744 - val_accuracy: 0.9498\n",
      "Epoch 15/3000\n",
      "1000/1000 [==============================] - 1s 705us/step - loss: 0.0879 - accuracy: 0.9763 - val_loss: 0.1703 - val_accuracy: 0.9504\n",
      "Epoch 16/3000\n",
      "1000/1000 [==============================] - 1s 694us/step - loss: 0.0788 - accuracy: 0.9783 - val_loss: 0.1621 - val_accuracy: 0.9550\n",
      "Epoch 17/3000\n",
      "1000/1000 [==============================] - 1s 700us/step - loss: 0.0728 - accuracy: 0.9811 - val_loss: 0.1702 - val_accuracy: 0.9522\n",
      "Epoch 18/3000\n",
      "1000/1000 [==============================] - 1s 680us/step - loss: 0.0653 - accuracy: 0.9844 - val_loss: 0.1677 - val_accuracy: 0.9530\n",
      "Epoch 19/3000\n",
      "1000/1000 [==============================] - 1s 689us/step - loss: 0.0589 - accuracy: 0.9863 - val_loss: 0.1637 - val_accuracy: 0.9554\n",
      "Epoch 20/3000\n",
      "1000/1000 [==============================] - 1s 692us/step - loss: 0.0547 - accuracy: 0.9866 - val_loss: 0.1652 - val_accuracy: 0.9586\n",
      "Epoch 21/3000\n",
      "1000/1000 [==============================] - 1s 714us/step - loss: 0.0484 - accuracy: 0.9893 - val_loss: 0.1644 - val_accuracy: 0.9564\n",
      "Epoch 22/3000\n",
      "1000/1000 [==============================] - 1s 657us/step - loss: 0.0443 - accuracy: 0.9901 - val_loss: 0.1646 - val_accuracy: 0.9592\n",
      "Epoch 23/3000\n",
      "1000/1000 [==============================] - 1s 659us/step - loss: 0.0395 - accuracy: 0.9924 - val_loss: 0.1671 - val_accuracy: 0.9568\n",
      "Epoch 24/3000\n",
      "1000/1000 [==============================] - 1s 703us/step - loss: 0.0362 - accuracy: 0.9938 - val_loss: 0.1650 - val_accuracy: 0.9574\n",
      "Epoch 25/3000\n",
      "1000/1000 [==============================] - 1s 690us/step - loss: 0.0328 - accuracy: 0.9946 - val_loss: 0.1649 - val_accuracy: 0.9558\n",
      "Epoch 26/3000\n",
      "1000/1000 [==============================] - 1s 695us/step - loss: 0.0303 - accuracy: 0.9953 - val_loss: 0.1610 - val_accuracy: 0.9606\n",
      "Epoch 27/3000\n",
      "1000/1000 [==============================] - 1s 684us/step - loss: 0.0273 - accuracy: 0.9960 - val_loss: 0.1677 - val_accuracy: 0.9588\n",
      "Epoch 28/3000\n",
      "1000/1000 [==============================] - 1s 689us/step - loss: 0.0245 - accuracy: 0.9967 - val_loss: 0.1689 - val_accuracy: 0.9568\n",
      "Epoch 29/3000\n",
      "1000/1000 [==============================] - 1s 675us/step - loss: 0.0228 - accuracy: 0.9973 - val_loss: 0.1677 - val_accuracy: 0.9572\n",
      "Epoch 30/3000\n",
      "1000/1000 [==============================] - 1s 654us/step - loss: 0.0205 - accuracy: 0.9977 - val_loss: 0.1705 - val_accuracy: 0.9594\n",
      "Epoch 31/3000\n",
      "1000/1000 [==============================] - 1s 714us/step - loss: 0.0187 - accuracy: 0.9980 - val_loss: 0.1678 - val_accuracy: 0.9606\n",
      "Epoch 32/3000\n",
      "1000/1000 [==============================] - 1s 711us/step - loss: 0.0174 - accuracy: 0.9986 - val_loss: 0.1685 - val_accuracy: 0.9610\n",
      "Epoch 33/3000\n",
      "1000/1000 [==============================] - 1s 707us/step - loss: 0.0160 - accuracy: 0.9988 - val_loss: 0.1721 - val_accuracy: 0.9580\n",
      "Epoch 34/3000\n",
      "1000/1000 [==============================] - 1s 703us/step - loss: 0.0145 - accuracy: 0.9992 - val_loss: 0.1712 - val_accuracy: 0.9598\n",
      "Epoch 35/3000\n",
      "1000/1000 [==============================] - 1s 703us/step - loss: 0.0135 - accuracy: 0.9990 - val_loss: 0.1738 - val_accuracy: 0.9586\n",
      "Epoch 36/3000\n",
      "1000/1000 [==============================] - 1s 720us/step - loss: 0.0126 - accuracy: 0.9992 - val_loss: 0.1758 - val_accuracy: 0.9580\n",
      "Epoch 37/3000\n",
      "1000/1000 [==============================] - 1s 709us/step - loss: 0.0116 - accuracy: 0.9996 - val_loss: 0.1755 - val_accuracy: 0.9570\n",
      "Epoch 38/3000\n",
      "1000/1000 [==============================] - 1s 659us/step - loss: 0.0109 - accuracy: 0.9998 - val_loss: 0.1770 - val_accuracy: 0.9586\n",
      "Epoch 39/3000\n",
      "1000/1000 [==============================] - 1s 656us/step - loss: 0.0103 - accuracy: 0.9996 - val_loss: 0.1818 - val_accuracy: 0.9574\n",
      "Epoch 40/3000\n",
      "1000/1000 [==============================] - 1s 657us/step - loss: 0.0095 - accuracy: 0.9997 - val_loss: 0.1768 - val_accuracy: 0.9582\n",
      "Epoch 41/3000\n",
      "1000/1000 [==============================] - 1s 652us/step - loss: 0.0091 - accuracy: 0.9997 - val_loss: 0.1790 - val_accuracy: 0.9582\n",
      "Epoch 42/3000\n",
      "1000/1000 [==============================] - 1s 650us/step - loss: 0.0084 - accuracy: 0.9998 - val_loss: 0.1784 - val_accuracy: 0.9584\n",
      "Epoch 43/3000\n",
      "1000/1000 [==============================] - 1s 655us/step - loss: 0.0080 - accuracy: 0.9997 - val_loss: 0.1797 - val_accuracy: 0.9582\n",
      "Epoch 44/3000\n",
      "1000/1000 [==============================] - 1s 649us/step - loss: 0.0076 - accuracy: 0.9998 - val_loss: 0.1808 - val_accuracy: 0.9568\n",
      "Epoch 45/3000\n",
      "1000/1000 [==============================] - 1s 656us/step - loss: 0.0070 - accuracy: 0.9998 - val_loss: 0.1865 - val_accuracy: 0.9602\n",
      "Epoch 46/3000\n",
      "1000/1000 [==============================] - 1s 660us/step - loss: 0.0066 - accuracy: 1.0000 - val_loss: 0.1823 - val_accuracy: 0.9594\n",
      "Epoch 47/3000\n",
      "1000/1000 [==============================] - 1s 658us/step - loss: 0.0063 - accuracy: 1.0000 - val_loss: 0.1855 - val_accuracy: 0.9592\n",
      "Epoch 48/3000\n",
      "1000/1000 [==============================] - 1s 667us/step - loss: 0.0059 - accuracy: 1.0000 - val_loss: 0.1872 - val_accuracy: 0.9566\n",
      "Epoch 49/3000\n",
      "1000/1000 [==============================] - 1s 657us/step - loss: 0.0057 - accuracy: 1.0000 - val_loss: 0.1859 - val_accuracy: 0.9598\n",
      "Epoch 50/3000\n",
      "1000/1000 [==============================] - 1s 652us/step - loss: 0.0054 - accuracy: 1.0000 - val_loss: 0.1865 - val_accuracy: 0.9586\n",
      "Epoch 51/3000\n",
      "1000/1000 [==============================] - 1s 680us/step - loss: 0.0052 - accuracy: 1.0000 - val_loss: 0.1870 - val_accuracy: 0.9602\n",
      "Epoch 52/3000\n",
      "1000/1000 [==============================] - 1s 660us/step - loss: 0.0050 - accuracy: 1.0000 - val_loss: 0.1899 - val_accuracy: 0.9594\n",
      "Epoch 53/3000\n",
      "1000/1000 [==============================] - 1s 661us/step - loss: 0.0047 - accuracy: 1.0000 - val_loss: 0.1897 - val_accuracy: 0.9566\n",
      "Epoch 54/3000\n",
      "1000/1000 [==============================] - 1s 660us/step - loss: 0.0046 - accuracy: 1.0000 - val_loss: 0.1896 - val_accuracy: 0.9582\n",
      "Epoch 55/3000\n",
      "1000/1000 [==============================] - 1s 664us/step - loss: 0.0044 - accuracy: 1.0000 - val_loss: 0.1893 - val_accuracy: 0.9574\n",
      "Epoch 56/3000\n",
      "1000/1000 [==============================] - 1s 707us/step - loss: 0.0042 - accuracy: 1.0000 - val_loss: 0.1908 - val_accuracy: 0.9590\n"
     ]
    }
   ],
   "source": [
    "from keras.callbacks import EarlyStopping\n",
    "\n",
    "early_stopping = EarlyStopping(\n",
    "    patience=30,\n",
    "    monitor='val_loss'\n",
    ")\n",
    "\n",
    "hist = model.fit(\n",
    "    X_train, y_train,\n",
    "    epochs=3000,\n",
    "    batch_size=10,\n",
    "    validation_data=(X_val, y_val),\n",
    "    callbacks=[early_stopping]\n",
    ")"
   ]
  },
  {
   "cell_type": "code",
   "execution_count": 35,
   "metadata": {},
   "outputs": [
    {
     "data": {
      "image/png": "[encoded data removed]",
      "text/plain": [
       "<Figure size 432x288 with 2 Axes>"
      ]
     },
     "metadata": {
      "needs_background": "light"
     },
     "output_type": "display_data"
    }
   ],
   "source": [
    "%matplotlib inline\n",
    "import matplotlib.pyplot as plt\n",
    "\n",
    "fig, loss_ax = plt.subplots()\n",
    "\n",
    "acc_ax = loss_ax.twinx()\n",
    "\n",
    "loss_ax.plot(hist.history['loss'], 'y', label='train loss')\n",
    "loss_ax.plot(hist.history['val_loss'], 'r', label='val loss')\n",
    "\n",
    "acc_ax.plot(hist.history['accuracy'], 'b', label='train acc')\n",
    "acc_ax.plot(hist.history['val_accuracy'], 'g', label='val acc')\n",
    "\n",
    "loss_ax.set_xlabel('epoch')\n",
    "loss_ax.set_ylabel('loss')\n",
    "acc_ax.set_ylabel('accuracy')\n",
    "\n",
    "loss_ax.legend(loc='upper left')\n",
    "acc_ax.legend(loc='lower left')\n",
    "\n",
    "plt.show()"
   ]
  },
  {
   "cell_type": "code",
   "execution_count": null,
   "metadata": {},
   "outputs": [],
   "source": []
  }
 ],
 "metadata": {
  "kernelspec": {
   "display_name": "Python 3.8.13 ('tf20')",
   "language": "python",
   "name": "python3"
  },
  "language_info": {
   "codemirror_mode": {
    "name": "ipython",
    "version": 3
   },
   "file_extension": ".py",
   "mimetype": "text/x-python",
   "name": "python",
   "nbconvert_exporter": "python",
   "pygments_lexer": "ipython3",
   "version": "3.8.13"
  },
  "orig_nbformat": 4,
  "vscode": {
   "interpreter": {
    "hash": "6031b87587c83867ea9d6a230f58cff6e73fb05ff5d2fb7f6404d0bbff37737a"
   }
  }
 },
 "nbformat": 4,
 "nbformat_minor": 2
}
