{
  "cells": [
    {
      "cell_type": "code",
      "execution_count": null,
      "metadata": {
        "colab": {
          "base_uri": "https://localhost:8080/"
        },
        "id": "VCa8Du18vmNg",
        "outputId": "df181f02-6363-4c9e-ee8c-eda161f296a0"
      },
      "outputs": [
        {
          "name": "stdout",
          "output_type": "stream",
          "text": [
            "Hello\n",
            "\n"
          ]
        }
      ],
      "source": [
        "# 문자열 출력\n",
        "print(\"Hello\")\n",
        "print()"
      ]
    },
    {
      "cell_type": "code",
      "execution_count": 1,
      "metadata": {
        "colab": {
          "base_uri": "https://localhost:8080/"
        },
        "id": "lL78OLsxoPe7",
        "outputId": "a62c35e7-1017-4516-9988-654160d994d1"
      },
      "outputs": [
        {
          "name": "stdout",
          "output_type": "stream",
          "text": [
            "Hello\n",
            "HelloHello\n",
            "\n"
          ]
        }
      ],
      "source": [
        "# 'end'\n",
        "print('Hello', end='\\n')\n",
        "print('Hello', end='')\n",
        "print('Hello')\n",
        "print()"
      ]
    },
    {
      "cell_type": "code",
      "execution_count": null,
      "metadata": {
        "colab": {
          "base_uri": "https://localhost:8080/"
        },
        "id": "Tb0S8Ecuw6uW",
        "outputId": "5bbae3dd-a48d-4927-e76f-f82f10257910"
      },
      "outputs": [
        {
          "name": "stdout",
          "output_type": "stream",
          "text": [
            "4\n",
            "my name is Park Jongmin\n"
          ]
        }
      ],
      "source": [
        "animal_leg = 4\n",
        "print(animal_leg)\n",
        "\n",
        "str1 = 'my'\n",
        "str2 = 'name'\n",
        "str3 = 'is Park Jongmin'\n",
        "print(str1, str2, str3)"
      ]
    },
    {
      "cell_type": "code",
      "execution_count": null,
      "metadata": {
        "colab": {
          "base_uri": "https://localhost:8080/"
        },
        "id": "rcXD0YtVx9-G",
        "outputId": "6224b624-1500-4e7a-946e-54f9a9fa952e"
      },
      "outputs": [
        {
          "name": "stdout",
          "output_type": "stream",
          "text": [
            "\n",
            "line1\n",
            "line2\n",
            "line3\n",
            "\n"
          ]
        }
      ],
      "source": [
        "str1 = '''\n",
        "line1\n",
        "line2\n",
        "line3\n",
        "'''\n",
        "\n",
        "print(str1)"
      ]
    },
    {
      "cell_type": "code",
      "execution_count": null,
      "metadata": {
        "colab": {
          "base_uri": "https://localhost:8080/"
        },
        "id": "IFku-4beyjxi",
        "outputId": "cf76756e-f700-43e8-86b7-297faa1f622b"
      },
      "outputs": [
        {
          "name": "stdout",
          "output_type": "stream",
          "text": [
            "mynameis Jongmin\n"
          ]
        }
      ],
      "source": [
        "str12 = \"my\" + \"name\"\n",
        "str3 = 'is Jongmin'\n",
        "strall = str12 + str3\n",
        "print(strall)"
      ]
    },
    {
      "cell_type": "code",
      "execution_count": null,
      "metadata": {
        "colab": {
          "base_uri": "https://localhost:8080/"
        },
        "id": "YvXgtNyFynPZ",
        "outputId": "5661b140-840b-4922-a9c7-bd07f0302837"
      },
      "outputs": [
        {
          "name": "stdout",
          "output_type": "stream",
          "text": [
            "what is your name?Jongmin\n",
            "my name is Jongmin\n"
          ]
        }
      ],
      "source": [
        "str1 = 'my' + ' name is'\n",
        "name = input(\"what is your name?\")\n",
        "print(str1, name)"
      ]
    },
    {
      "cell_type": "code",
      "execution_count": null,
      "metadata": {
        "colab": {
          "base_uri": "https://localhost:8080/"
        },
        "id": "K-siw1SXzjTS",
        "outputId": "a9feb943-061e-4017-e937-be1c71be1fa0"
      },
      "outputs": [
        {
          "name": "stdout",
          "output_type": "stream",
          "text": [
            "나이는 ?60\n",
            "살고싶는 곳? seoul\n",
            "당신의 나이는  60 살 입니다.\n",
            "10년 후 나이:  70\n",
            "살고싶은 곳:  seoul\n"
          ]
        }
      ],
      "source": [
        "age = input(\"나이는 ?\")\n",
        "city = None\n",
        "if int(age) >= 60:\n",
        "  city = input(\"살고싶는 곳? \")\n",
        "print('당신의 나이는 ' + age + '살 입니다.')\n",
        "age10 = int(age) + 10\n",
        "print('10년 후 나이: ', age10)\n",
        "if city is not None:\n",
        "  print('살고싶은 곳: ', city)"
      ]
    },
    {
      "cell_type": "code",
      "execution_count": null,
      "metadata": {
        "colab": {
          "base_uri": "https://localhost:8080/"
        },
        "id": "g3Px49bwzz0d",
        "outputId": "2c875d0f-533f-4ae8-fa07-594925021a2d"
      },
      "outputs": [
        {
          "name": "stdout",
          "output_type": "stream",
          "text": [
            "3 digit number123\n",
            "2\n"
          ]
        }
      ],
      "source": [
        "num = input('3 digit number')\n",
        "print(num[1])"
      ]
    },
    {
      "cell_type": "code",
      "execution_count": null,
      "metadata": {
        "colab": {
          "base_uri": "https://localhost:8080/"
        },
        "id": "HBlUjiZr1CD-",
        "outputId": "ee6542ac-265d-4b26-cdbd-4a7d8d9eff0e"
      },
      "outputs": [
        {
          "name": "stdout",
          "output_type": "stream",
          "text": [
            "19\n",
            "-1\n",
            "6.0\n",
            "15\n",
            "32\n",
            "1\n",
            "4\n"
          ]
        }
      ],
      "source": [
        "print(9 + 10)\n",
        "print(9 - 10)\n",
        "print(30 / 5)\n",
        "print(5 * 3)\n",
        "print(2**5)\n",
        "print(17 % 4)\n",
        "print(17//4)"
      ]
    },
    {
      "cell_type": "code",
      "execution_count": null,
      "metadata": {
        "colab": {
          "base_uri": "https://localhost:8080/"
        },
        "id": "jBvL9m8E1QMk",
        "outputId": "50e0d6b2-db39-49f9-d6a1-cd87106d3b3c"
      },
      "outputs": [
        {
          "name": "stdout",
          "output_type": "stream",
          "text": [
            "True\n",
            "False\n",
            "True\n",
            "False\n"
          ]
        }
      ],
      "source": [
        "print(3 == 3)\n",
        "print(3 != 3)\n",
        "print(3 >= 1)\n",
        "print(3 <= 1)"
      ]
    },
    {
      "cell_type": "code",
      "execution_count": null,
      "metadata": {
        "colab": {
          "base_uri": "https://localhost:8080/"
        },
        "id": "zUAZxhVy3sMp",
        "outputId": "4769bd78-0db3-4b63-9b02-f7f1f0d7cc1f"
      },
      "outputs": [
        {
          "name": "stdout",
          "output_type": "stream",
          "text": [
            "False\n",
            "True\n",
            "False\n"
          ]
        }
      ],
      "source": [
        "print(5 != 5)\n",
        "age = 18\n",
        "print(age >= 15)\n",
        "age = 13\n",
        "print(age >= 15)"
      ]
    },
    {
      "cell_type": "code",
      "execution_count": null,
      "metadata": {
        "colab": {
          "base_uri": "https://localhost:8080/"
        },
        "id": "1si3kU3f3xQm",
        "outputId": "2528b588-a43e-43cc-c7b9-7fcd72342685"
      },
      "outputs": [
        {
          "data": {
            "text/plain": [
              "(True, False)"
            ]
          },
          "execution_count": 24,
          "metadata": {},
          "output_type": "execute_result"
        }
      ],
      "source": [
        "True, False"
      ]
    },
    {
      "cell_type": "code",
      "execution_count": null,
      "metadata": {
        "colab": {
          "base_uri": "https://localhost:8080/"
        },
        "id": "nOsjxUrI4Cgz",
        "outputId": "35432d4a-8265-409f-dbf8-2f2c4cfab2fe"
      },
      "outputs": [
        {
          "name": "stdout",
          "output_type": "stream",
          "text": [
            "True\n",
            "3\n",
            "0\n",
            "False\n",
            "True\n"
          ]
        }
      ],
      "source": [
        "print(True and True)\n",
        "print(1 and 3)\n",
        "print(1 and 0)\n",
        "print(True and False)\n",
        "print(1 in [1, 2, 3, 4])"
      ]
    },
    {
      "cell_type": "code",
      "execution_count": null,
      "metadata": {
        "colab": {
          "base_uri": "https://localhost:8080/"
        },
        "id": "j_F59K2E4Q7R",
        "outputId": "719d47f6-15d0-42d6-9255-bceff5806afb"
      },
      "outputs": [
        {
          "name": "stdout",
          "output_type": "stream",
          "text": [
            "True\n",
            "False\n"
          ]
        }
      ],
      "source": [
        "print(True and True)\n",
        "print(True and False)"
      ]
    },
    {
      "cell_type": "code",
      "execution_count": null,
      "metadata": {
        "colab": {
          "base_uri": "https://localhost:8080/"
        },
        "id": "6AqqpRcb4uIH",
        "outputId": "931c68c4-807d-42f2-b47d-d29a41316fe5"
      },
      "outputs": [
        {
          "name": "stdout",
          "output_type": "stream",
          "text": [
            "True\n",
            "False\n",
            "True\n"
          ]
        }
      ],
      "source": [
        "print(True or False)\n",
        "print(True and False)\n",
        "print(True or False)"
      ]
    },
    {
      "cell_type": "code",
      "execution_count": null,
      "metadata": {
        "colab": {
          "base_uri": "https://localhost:8080/"
        },
        "id": "V8mrxeY54yEK",
        "outputId": "7af5dba1-69d0-4bab-bf84-fb1210057123"
      },
      "outputs": [
        {
          "name": "stdout",
          "output_type": "stream",
          "text": [
            "True\n",
            "True\n"
          ]
        }
      ],
      "source": [
        "print( (1 == 1) and (10 > 3) )\n",
        "print( (1 == 1) & (10 > 3) )"
      ]
    },
    {
      "cell_type": "code",
      "execution_count": null,
      "metadata": {
        "colab": {
          "base_uri": "https://localhost:8080/"
        },
        "id": "RlUhk3H_8kKU",
        "outputId": "de5a395f-da3f-4602-a019-739a42ad833b"
      },
      "outputs": [
        {
          "name": "stdout",
          "output_type": "stream",
          "text": [
            "False\n",
            "True\n",
            "True\n",
            "False\n"
          ]
        }
      ],
      "source": [
        "print( not 1)\n",
        "print( not False)\n",
        "print( not 0)\n",
        "print( not 'A')"
      ]
    },
    {
      "cell_type": "code",
      "execution_count": null,
      "metadata": {
        "id": "P7JU4YHE8xyZ"
      },
      "outputs": [],
      "source": []
    },
    {
      "cell_type": "code",
      "execution_count": null,
      "metadata": {
        "colab": {
          "base_uri": "https://localhost:8080/"
        },
        "id": "eQRyk37B9QoL",
        "outputId": "d758c22c-3a85-4eaa-8ef9-a1cbe44c3985"
      },
      "outputs": [
        {
          "name": "stdout",
          "output_type": "stream",
          "text": [
            "합은 5 입니다.\n",
            "5 와 2의 합은 7 입니다.\n",
            "5 와 2의 합는 7입니다.\n",
            "5 와 2의 나눈 값은 2.50\n",
            "5 와 2의 합은 7\n"
          ]
        }
      ],
      "source": [
        "a = 5\n",
        "b = 2\n",
        "plus = a + b\n",
        "mul = a * b\n",
        "div = a / b\n",
        "remainder = a % b\n",
        "power = a ** b\n",
        "\n",
        "print(\"합은 %d 입니다.\" % a)\n",
        "print(\"%d 와 %d의 합은 %d 입니다.\" % (a, b, plus))\n",
        "print('{} 와 {}의 합는 {}입니다.'.format(a, b, plus))\n",
        "print(\"{} 와 {}의 나눈 값은 {:.2f}\".format(a, b, div))\n",
        "print(f\"{a} 와 {b}의 합은 {plus}\")"
      ]
    },
    {
      "cell_type": "code",
      "execution_count": null,
      "metadata": {
        "colab": {
          "base_uri": "https://localhost:8080/"
        },
        "id": "rD9ZPztj9_26",
        "outputId": "203290be-acfa-4e05-c6e2-4350799c6f35"
      },
      "outputs": [
        {
          "name": "stdout",
          "output_type": "stream",
          "text": [
            "number of people5\n",
            "하나의 방으로 숙박 가능합니다.\n"
          ]
        }
      ],
      "source": [
        "## 실습 3-2 \n",
        "'''\n",
        "숙박 인원이 \n",
        "10명 이상이면\n",
        "두개의 방으로 나누어서 예약해야 합니다.\n",
        "10명 이하이면 \n",
        "하나의 방으로 숙박 가능합니다.\n",
        "'''\n",
        "people = int(input(\"number of people\"))\n",
        "\n",
        "if people >= 10:\n",
        "    print(\"두개의 방으로 나누어서 예약해야 합니다.\")\n",
        "else:\n",
        "    print(\"하나의 방으로 숙박 가능합니다.\")"
      ]
    },
    {
      "cell_type": "code",
      "execution_count": null,
      "metadata": {
        "colab": {
          "base_uri": "https://localhost:8080/"
        },
        "id": "r6XGFzzv-pQI",
        "outputId": "1d4a3897-5312-4b50-be24-38ad9cd8138a"
      },
      "outputs": [
        {
          "name": "stdout",
          "output_type": "stream",
          "text": [
            "number5\n",
            "5\n"
          ]
        }
      ],
      "source": [
        "n = int(input(\"number\"))\n",
        "if n % 3 == 0 and n % 5 == 0:\n",
        "    print(\"3과 5의 배수입니다.\")\n",
        "else:\n",
        "    print(n)"
      ]
    },
    {
      "cell_type": "code",
      "execution_count": null,
      "metadata": {
        "colab": {
          "base_uri": "https://localhost:8080/"
        },
        "id": "fUNlDgMs-_Ag",
        "outputId": "ac98125f-e72b-4032-da0e-7d404281208d"
      },
      "outputs": [
        {
          "name": "stdout",
          "output_type": "stream",
          "text": [
            "학점 : -1\n",
            "학점 : -1\n",
            "학점 : 1.2\n",
            "F\n"
          ]
        }
      ],
      "source": [
        "score = -1\n",
        "while score < 0 or score > 4.5:\n",
        "    score = float(input(\"학점 : \"))\n",
        "\n",
        "if score == 4.5:\n",
        "    print(\"A+\")\n",
        "elif score >= 4.0:\n",
        "    print(\"A\")\n",
        "elif score >= 3.5:\n",
        "    print(\"B+\")\n",
        "elif score >= 3.0:\n",
        "    print(\"B\")\n",
        "elif score >= 2.5:\n",
        "    print(\"C+\")\n",
        "else:\n",
        "    print(\"F\")"
      ]
    },
    {
      "cell_type": "code",
      "execution_count": null,
      "metadata": {
        "colab": {
          "base_uri": "https://localhost:8080/"
        },
        "id": "RYy8SXl0AbZo",
        "outputId": "13db2869-b649-4d55-eeb2-bc5cdad1cc9c"
      },
      "outputs": [
        {
          "name": "stdout",
          "output_type": "stream",
          "text": [
            "1\n",
            "2\n",
            "3\n",
            "4\n",
            "5\n",
            "6\n",
            "7\n",
            "8\n",
            "9\n",
            "10\n"
          ]
        }
      ],
      "source": [
        "for num in range(1, 11, 1):\n",
        "    print(num)"
      ]
    },
    {
      "cell_type": "code",
      "execution_count": null,
      "metadata": {
        "colab": {
          "base_uri": "https://localhost:8080/"
        },
        "id": "E9FvzUEkBylS",
        "outputId": "81f7ebf7-ba43-41ad-a926-4ab50507adc4"
      },
      "outputs": [
        {
          "name": "stdout",
          "output_type": "stream",
          "text": [
            "2\n",
            "4\n",
            "6\n",
            "8\n",
            "10\n",
            "12\n",
            "14\n",
            "16\n",
            "18\n",
            "20\n",
            "22\n",
            "24\n",
            "26\n",
            "28\n",
            "30\n",
            "32\n",
            "34\n",
            "36\n",
            "38\n",
            "40\n",
            "42\n",
            "44\n",
            "46\n",
            "48\n",
            "50\n",
            "52\n",
            "54\n",
            "56\n",
            "58\n",
            "60\n",
            "62\n",
            "64\n",
            "66\n",
            "68\n",
            "70\n",
            "72\n",
            "74\n",
            "76\n",
            "78\n",
            "80\n",
            "82\n",
            "84\n",
            "86\n",
            "88\n",
            "90\n",
            "92\n",
            "94\n",
            "96\n",
            "98\n",
            "100\n"
          ]
        }
      ],
      "source": [
        "for num in range(2, 101, 2):\n",
        "    print(num)"
      ]
    },
    {
      "cell_type": "code",
      "execution_count": null,
      "metadata": {
        "colab": {
          "base_uri": "https://localhost:8080/"
        },
        "id": "H-SulsrtB86_",
        "outputId": "e31484ec-a678-48ab-c156-10046a9bae60"
      },
      "outputs": [
        {
          "name": "stdout",
          "output_type": "stream",
          "text": [
            "2\n",
            "4\n",
            "6\n",
            "8\n",
            "10\n",
            "12\n",
            "14\n",
            "16\n",
            "18\n",
            "20\n",
            "22\n",
            "24\n",
            "26\n",
            "28\n",
            "30\n",
            "32\n",
            "34\n",
            "36\n",
            "38\n",
            "40\n",
            "42\n",
            "44\n",
            "46\n",
            "48\n",
            "50\n",
            "52\n",
            "54\n",
            "56\n",
            "58\n",
            "60\n",
            "62\n",
            "64\n",
            "66\n",
            "68\n",
            "70\n",
            "72\n",
            "74\n",
            "76\n",
            "78\n",
            "80\n",
            "82\n",
            "84\n",
            "86\n",
            "88\n",
            "90\n",
            "92\n",
            "94\n",
            "96\n",
            "98\n",
            "100\n"
          ]
        }
      ],
      "source": [
        "for num in range(1, 101):\n",
        "    if num % 2 == 0:\n",
        "        print(num)"
      ]
    },
    {
      "cell_type": "code",
      "execution_count": null,
      "metadata": {
        "colab": {
          "base_uri": "https://localhost:8080/"
        },
        "id": "QXl--NkJCDXb",
        "outputId": "58978cb1-f808-46cc-a746-e09134d76012"
      },
      "outputs": [
        {
          "name": "stdout",
          "output_type": "stream",
          "text": [
            "2단\n",
            "2 * 1 = 2\n",
            "2 * 2 = 4\n",
            "2 * 3 = 6\n",
            "2 * 4 = 8\n",
            "2 * 5 = 10\n",
            "2 * 6 = 12\n",
            "2 * 7 = 14\n",
            "2 * 8 = 16\n",
            "2 * 9 = 18\n",
            "\n",
            "3단\n",
            "3 * 1 = 3\n",
            "3 * 2 = 6\n",
            "3 * 3 = 9\n",
            "3 * 4 = 12\n",
            "3 * 5 = 15\n",
            "3 * 6 = 18\n",
            "3 * 7 = 21\n",
            "3 * 8 = 24\n",
            "3 * 9 = 27\n",
            "\n",
            "4단\n",
            "4 * 1 = 4\n",
            "4 * 2 = 8\n",
            "4 * 3 = 12\n",
            "4 * 4 = 16\n",
            "4 * 5 = 20\n",
            "4 * 6 = 24\n",
            "4 * 7 = 28\n",
            "4 * 8 = 32\n",
            "4 * 9 = 36\n",
            "\n",
            "5단\n",
            "5 * 1 = 5\n",
            "5 * 2 = 10\n",
            "5 * 3 = 15\n",
            "5 * 4 = 20\n",
            "5 * 5 = 25\n",
            "5 * 6 = 30\n",
            "5 * 7 = 35\n",
            "5 * 8 = 40\n",
            "5 * 9 = 45\n",
            "\n",
            "6단\n",
            "6 * 1 = 6\n",
            "6 * 2 = 12\n",
            "6 * 3 = 18\n",
            "6 * 4 = 24\n",
            "6 * 5 = 30\n",
            "6 * 6 = 36\n",
            "6 * 7 = 42\n",
            "6 * 8 = 48\n",
            "6 * 9 = 54\n",
            "\n",
            "7단\n",
            "7 * 1 = 7\n",
            "7 * 2 = 14\n",
            "7 * 3 = 21\n",
            "7 * 4 = 28\n",
            "7 * 5 = 35\n",
            "7 * 6 = 42\n",
            "7 * 7 = 49\n",
            "7 * 8 = 56\n",
            "7 * 9 = 63\n",
            "\n",
            "8단\n",
            "8 * 1 = 8\n",
            "8 * 2 = 16\n",
            "8 * 3 = 24\n",
            "8 * 4 = 32\n",
            "8 * 5 = 40\n",
            "8 * 6 = 48\n",
            "8 * 7 = 56\n",
            "8 * 8 = 64\n",
            "8 * 9 = 72\n",
            "\n",
            "9단\n",
            "9 * 1 = 9\n",
            "9 * 2 = 18\n",
            "9 * 3 = 27\n",
            "9 * 4 = 36\n",
            "9 * 5 = 45\n",
            "9 * 6 = 54\n",
            "9 * 7 = 63\n",
            "9 * 8 = 72\n",
            "9 * 9 = 81\n",
            "\n"
          ]
        }
      ],
      "source": [
        "for i in range(2, 10):\n",
        "    print('{}단'.format(i))\n",
        "    for j in range(1, 10):\n",
        "        print('{0} * {1} = {2}'.format(i, j, i * j))\n",
        "    print()"
      ]
    },
    {
      "cell_type": "code",
      "execution_count": null,
      "metadata": {
        "colab": {
          "base_uri": "https://localhost:8080/"
        },
        "id": "vlb3zAc9CSAY",
        "outputId": "329ab5ef-85d1-41e4-923d-5a60fdd888e2"
      },
      "outputs": [
        {
          "name": "stdout",
          "output_type": "stream",
          "text": [
            "<class 'str'>\n",
            "<class 'list'>\n",
            "<class 'dict'>\n",
            "<class 'dict'>\n",
            "<class 'dict'>\n",
            "<class 'tuple'>\n",
            "<class 'set'>\n"
          ]
        }
      ],
      "source": [
        "str1 = \"Hello World!\"\n",
        "a = [1,2,3,4,5]\n",
        "\n",
        "dictdat1 = { 'key1':\"value1\", 'key2':\"value2\", 'key3':'value3'}\n",
        "dictdat2 = { 11:\"value1\", 22:\"value2\", 33:'value3'}\n",
        "dictdat3 = { 'key1':\"value1\", 'key2':(1,2,3,4,5), 'key3':[1,2,3,4,5] }\n",
        "\n",
        "tuple1 = (1,2,3)\n",
        "\n",
        "set1 = set([1, 2, 3, 4])\n",
        "\n",
        "print(type(str1))\n",
        "\n",
        "print(type(a))\n",
        "\n",
        "print(type(dictdat1))\n",
        "print(type(dictdat2))\n",
        "print(type(dictdat3))\n",
        "\n",
        "print(type(tuple1))\n",
        "\n",
        "print(type(set1))"
      ]
    },
    {
      "cell_type": "code",
      "execution_count": null,
      "metadata": {
        "colab": {
          "base_uri": "https://localhost:8080/"
        },
        "id": "_LQfPZQbEbL_",
        "outputId": "61f62ec6-0a25-46df-b6dd-cb4533019488"
      },
      "outputs": [
        {
          "name": "stdout",
          "output_type": "stream",
          "text": [
            "H l !\n"
          ]
        }
      ],
      "source": [
        "print(str1[0], str1[3], str1[-1])"
      ]
    },
    {
      "cell_type": "code",
      "execution_count": null,
      "metadata": {
        "colab": {
          "base_uri": "https://localhost:8080/",
          "height": 35
        },
        "id": "dhYzpC95F8OK",
        "outputId": "963fbfff-c32e-405c-cf0b-0ee54b4884dd"
      },
      "outputs": [
        {
          "data": {
            "application/vnd.google.colaboratory.intrinsic+json": {
              "type": "string"
            },
            "text/plain": [
              "'Hello'"
            ]
          },
          "execution_count": 58,
          "metadata": {},
          "output_type": "execute_result"
        }
      ],
      "source": [
        "str1[0:5]"
      ]
    },
    {
      "cell_type": "code",
      "execution_count": null,
      "metadata": {
        "colab": {
          "base_uri": "https://localhost:8080/"
        },
        "id": "_eewAyehF93k",
        "outputId": "6482b467-300d-43c6-b826-c8e99dba51b4"
      },
      "outputs": [
        {
          "name": "stdout",
          "output_type": "stream",
          "text": [
            "!dlroW\n"
          ]
        }
      ],
      "source": [
        "print(str1[-1:-7:-1])"
      ]
    },
    {
      "cell_type": "code",
      "execution_count": null,
      "metadata": {
        "colab": {
          "base_uri": "https://localhost:8080/"
        },
        "id": "l5ksFQ2YGNzx",
        "outputId": "ffe9e348-383c-421e-a2bf-7936d2a1272d"
      },
      "outputs": [
        {
          "name": "stdout",
          "output_type": "stream",
          "text": [
            "World!\n"
          ]
        }
      ],
      "source": [
        "print(str1[-6:])"
      ]
    },
    {
      "cell_type": "code",
      "execution_count": null,
      "metadata": {
        "colab": {
          "base_uri": "https://localhost:8080/"
        },
        "id": "lTW1Ky7IGQkX",
        "outputId": "38f6d96e-2d17-41be-b930-74317dcf8876"
      },
      "outputs": [
        {
          "name": "stdout",
          "output_type": "stream",
          "text": [
            "HloWrd\n"
          ]
        }
      ],
      "source": [
        "print(str1[::2])"
      ]
    },
    {
      "cell_type": "code",
      "execution_count": null,
      "metadata": {
        "colab": {
          "base_uri": "https://localhost:8080/"
        },
        "id": "Zk0oHcl0GuoL",
        "outputId": "3da1080b-35db-408b-b458-4e40b532b970"
      },
      "outputs": [
        {
          "name": "stdout",
          "output_type": "stream",
          "text": [
            "H l o W r d\n"
          ]
        }
      ],
      "source": [
        "print(' '.join(str1[::2]))"
      ]
    },
    {
      "cell_type": "code",
      "execution_count": null,
      "metadata": {
        "colab": {
          "base_uri": "https://localhost:8080/"
        },
        "id": "YbRTuzj1KGvG",
        "outputId": "62225187-35ef-4b45-e986-35769c108385"
      },
      "outputs": [
        {
          "name": "stdout",
          "output_type": "stream",
          "text": [
            "[1, 2, 3, 4, 5]\n",
            "[1, 2, 'a', 3, 'b']\n",
            "2\n",
            "['a', 3, 'b']\n",
            "b\n",
            "a\n"
          ]
        }
      ],
      "source": [
        "a = [1, 2, 3, 4, 5]\n",
        "print(a)\n",
        "\n",
        "a = [1, 2, 'a', 3, 'b']\n",
        "print(a)\n",
        "\n",
        "print(a[1])\n",
        "print(a[2:5])\n",
        "\n",
        "a = [1, 2, 'a', 3, 'b']\n",
        "print(a[-1])\n",
        "\n",
        "print(a[-3])"
      ]
    },
    {
      "cell_type": "code",
      "execution_count": null,
      "metadata": {
        "colab": {
          "base_uri": "https://localhost:8080/"
        },
        "id": "QshKb1wJKfEG",
        "outputId": "e17f8d1a-1fa6-4164-a448-b84f9393a1db"
      },
      "outputs": [
        {
          "name": "stdout",
          "output_type": "stream",
          "text": [
            "[1, 3, 2]\n"
          ]
        }
      ],
      "source": [
        "list2 = [1, 2, 3, 2]\n",
        "list2.remove(2)\n",
        "print(list2)"
      ]
    },
    {
      "cell_type": "code",
      "execution_count": null,
      "metadata": {
        "colab": {
          "base_uri": "https://localhost:8080/"
        },
        "id": "tAvajC2dK0k_",
        "outputId": "cf32378b-8209-4a93-9698-7051aa8b8b1e"
      },
      "outputs": [
        {
          "name": "stdout",
          "output_type": "stream",
          "text": [
            "[1, 2, 3, 3, 4, [3, 5]]\n"
          ]
        }
      ],
      "source": [
        "list3 = [1, 2, 3]\n",
        "list3.extend([3, 4, [3, 5]])\n",
        "print(list3)"
      ]
    },
    {
      "cell_type": "code",
      "execution_count": null,
      "metadata": {
        "colab": {
          "base_uri": "https://localhost:8080/"
        },
        "id": "GdfosM5fLKU0",
        "outputId": "4d7291e7-bc5e-4587-9239-725f4737fa98"
      },
      "outputs": [
        {
          "name": "stdout",
          "output_type": "stream",
          "text": [
            "season의 요소의 개수 :  4\n",
            "봄\n",
            "여름\n",
            "가을\n",
            "겨울\n"
          ]
        }
      ],
      "source": [
        "season = ['봄', '여름', '가을', '겨울']\n",
        "print('season의 요소의 개수 : ', len(season))\n",
        "for one in season:\n",
        "    print(one)"
      ]
    },
    {
      "cell_type": "code",
      "execution_count": null,
      "metadata": {
        "colab": {
          "base_uri": "https://localhost:8080/"
        },
        "id": "1iz82YAkLk23",
        "outputId": "2b571aeb-262c-456d-c4a9-cad5d8c1cae5"
      },
      "outputs": [
        {
          "name": "stdout",
          "output_type": "stream",
          "text": [
            "(1, 2, 3)\n",
            "2\n"
          ]
        }
      ],
      "source": [
        "tuple1 = (1, 2, 3)\n",
        "print(tuple1)\n",
        "print(tuple1[1])"
      ]
    },
    {
      "cell_type": "code",
      "execution_count": null,
      "metadata": {
        "colab": {
          "base_uri": "https://localhost:8080/",
          "height": 174
        },
        "id": "ncunIJH4Lng2",
        "outputId": "43e52213-1b3d-4291-a7c9-ea4b0ba89d24"
      },
      "outputs": [
        {
          "ename": "TypeError",
          "evalue": "ignored",
          "output_type": "error",
          "traceback": [
            "\u001b[0;31m---------------------------------------------------------------------------\u001b[0m",
            "\u001b[0;31mTypeError\u001b[0m                                 Traceback (most recent call last)",
            "\u001b[0;32m<ipython-input-77-2681e8775e04>\u001b[0m in \u001b[0;36m<module>\u001b[0;34m()\u001b[0m\n\u001b[0;32m----> 1\u001b[0;31m \u001b[0mtuple1\u001b[0m\u001b[0;34m[\u001b[0m\u001b[0;36m2\u001b[0m\u001b[0;34m]\u001b[0m \u001b[0;34m=\u001b[0m \u001b[0;36m30\u001b[0m\u001b[0;34m\u001b[0m\u001b[0;34m\u001b[0m\u001b[0m\n\u001b[0m",
            "\u001b[0;31mTypeError\u001b[0m: 'tuple' object does not support item assignment"
          ]
        }
      ],
      "source": [
        "tuple1[2] = 30"
      ]
    },
    {
      "cell_type": "code",
      "execution_count": null,
      "metadata": {
        "id": "0oryPCTXLqD1"
      },
      "outputs": [],
      "source": [
        "def num_plus(a, b):\n",
        "    print(\"두 값의 합은 : \", a + b)\n",
        "    return 1"
      ]
    },
    {
      "cell_type": "code",
      "execution_count": null,
      "metadata": {
        "colab": {
          "base_uri": "https://localhost:8080/"
        },
        "id": "Y4Lc7vx4MHFe",
        "outputId": "c8f3f04c-7996-4a7e-c4fc-5748fdb5b6de"
      },
      "outputs": [
        {
          "name": "stdout",
          "output_type": "stream",
          "text": [
            "두 값의 합은 :  8\n",
            "정상적으로 수행 종료\n"
          ]
        }
      ],
      "source": [
        "result = num_plus(3, 5)\n",
        "if result == 1:\n",
        "    print(\"정상적으로 수행 종료\")"
      ]
    },
    {
      "cell_type": "code",
      "execution_count": null,
      "metadata": {
        "id": "bIvLFbihMNM7"
      },
      "outputs": [],
      "source": [
        "def two_plus(num1, num2):\n",
        "    print(num1, num2)\n",
        "    return num1 + num2"
      ]
    },
    {
      "cell_type": "code",
      "execution_count": null,
      "metadata": {
        "colab": {
          "base_uri": "https://localhost:8080/"
        },
        "id": "YIALDLy4MSlA",
        "outputId": "93341188-a813-4818-e9c3-a8fd5c7c731d"
      },
      "outputs": [
        {
          "name": "stdout",
          "output_type": "stream",
          "text": [
            "100 500\n"
          ]
        },
        {
          "data": {
            "text/plain": [
              "600"
            ]
          },
          "execution_count": 83,
          "metadata": {},
          "output_type": "execute_result"
        }
      ],
      "source": [
        "two_plus(100, 500)"
      ]
    },
    {
      "cell_type": "code",
      "execution_count": null,
      "metadata": {
        "colab": {
          "base_uri": "https://localhost:8080/"
        },
        "id": "WfM2-TvUMXub",
        "outputId": "041ef8ef-09a7-4183-b209-248347c9948f"
      },
      "outputs": [
        {
          "name": "stdout",
          "output_type": "stream",
          "text": [
            "100 500\n",
            "600\n"
          ]
        }
      ],
      "source": [
        "a = two_plus(100, 500)\n",
        "print(a)"
      ]
    },
    {
      "cell_type": "code",
      "execution_count": null,
      "metadata": {
        "colab": {
          "base_uri": "https://localhost:8080/"
        },
        "id": "JaDVuGouMxco",
        "outputId": "f6e51664-db94-455b-f6f4-eca3b3ecaaf6"
      },
      "outputs": [
        {
          "name": "stdout",
          "output_type": "stream",
          "text": [
            "6\n"
          ]
        }
      ],
      "source": [
        "def three_plus(num1, num2, num3):\n",
        "    return num1 + num2 + num3\n",
        "\n",
        "a = three_plus(1, 2, 3)\n",
        "print(a)"
      ]
    },
    {
      "cell_type": "code",
      "execution_count": null,
      "metadata": {
        "colab": {
          "base_uri": "https://localhost:8080/"
        },
        "id": "s1iAJaAhM-W6",
        "outputId": "cc81ad61-22ea-4d9b-c5d6-befc5a81f712"
      },
      "outputs": [
        {
          "name": "stdout",
          "output_type": "stream",
          "text": [
            "3\n"
          ]
        }
      ],
      "source": [
        "def max_three(num1, num2, num3):\n",
        "    return max(num1, num2, num3)\n",
        "\n",
        "a = max_three(1, 2, 3)\n",
        "print(a)"
      ]
    },
    {
      "cell_type": "code",
      "execution_count": null,
      "metadata": {
        "id": "h1MqixW4NJn4"
      },
      "outputs": [],
      "source": [
        "def multi_plus(*arg):\n",
        "    sum = 0\n",
        "    for one in arg:\n",
        "        sum += one\n",
        "    return sum"
      ]
    },
    {
      "cell_type": "code",
      "execution_count": null,
      "metadata": {
        "colab": {
          "base_uri": "https://localhost:8080/"
        },
        "id": "kFhp5GpKOQ4_",
        "outputId": "b33b6eac-34cc-4867-a144-77242b6883e7"
      },
      "outputs": [
        {
          "name": "stdout",
          "output_type": "stream",
          "text": [
            "전체 합은 :  19\n"
          ]
        }
      ],
      "source": [
        "value = multi_plus(3, 5, 6, 2, 3)\n",
        "print(\"전체 합은 : \", value)"
      ]
    },
    {
      "cell_type": "code",
      "execution_count": null,
      "metadata": {
        "colab": {
          "base_uri": "https://localhost:8080/"
        },
        "id": "Mzh3x8hWOVHC",
        "outputId": "e1b51192-3923-4701-9df5-e6d0cc226ca9"
      },
      "outputs": [
        {
          "name": "stdout",
          "output_type": "stream",
          "text": [
            "키워드 (종료: q): dd\n",
            "키워드 (종료: q): dded\n",
            "키워드 (종료: q): 안녕\n",
            "반가워 난 에프라고해\n",
            "키워드 (종료: q): 날씨\n",
            "그래 날씨도 좋고, 너도 만나서 기쁘다 좋은 날이야\n",
            "키워드 (종료: q): 취뮤\n",
            "키워드 (종료: q): 취미\n",
            "내 취미는 게임이야\n",
            "키워드 (종료: q): q\n"
          ]
        }
      ],
      "source": [
        "robot = {\n",
        "    \"안녕\": '반가워 난 에프라고해', \n",
        "    \"날씨\": '그래 날씨도 좋고, 너도 만나서 기쁘다 좋은 날이야',\n",
        "    '취미': '내 취미는 게임이야',\n",
        "    \"이름\": \"난 에이미라고 해. 너는\"\n",
        "}\n",
        "\n",
        "answer = None\n",
        "while answer != 'q':\n",
        "    answer = input(\"키워드 (종료: q): \")\n",
        "    if answer in robot:\n",
        "        print(robot[answer])"
      ]
    },
    {
      "cell_type": "markdown",
      "metadata": {
        "id": "nK2ciW0VP8IO"
      },
      "source": [
        ":"
      ]
    },
    {
      "cell_type": "code",
      "execution_count": null,
      "metadata": {
        "colab": {
          "base_uri": "https://localhost:8080/"
        },
        "id": "5eJ4km0aPKJl",
        "outputId": "4c9477d9-ffe0-427a-904e-694cd0ff6f96"
      },
      "outputs": [
        {
          "name": "stdout",
          "output_type": "stream",
          "text": [
            "3\n",
            "10\n"
          ]
        }
      ],
      "source": [
        "result = 0\n",
        "def plus1(num):\n",
        "    global result\n",
        "    result += num\n",
        "    return result\n",
        "\n",
        "print(plus1(3))\n",
        "print(plus1(7))"
      ]
    },
    {
      "cell_type": "code",
      "execution_count": null,
      "metadata": {
        "colab": {
          "base_uri": "https://localhost:8080/"
        },
        "id": "6G3OARmsSIhR",
        "outputId": "0f746ef4-61f3-4452-fe10-7eda8d44dea8"
      },
      "outputs": [
        {
          "name": "stdout",
          "output_type": "stream",
          "text": [
            "3\n",
            "10\n",
            "2\n",
            "12\n",
            "2\n",
            "12\n"
          ]
        }
      ],
      "source": [
        "result1 = 0\n",
        "def plus1(num):\n",
        "    global result1\n",
        "    result1 += num\n",
        "    return result1 \n",
        "\n",
        "print(plus1(3))\n",
        "print(plus1(7))\n",
        "\n",
        "result2 = 0\n",
        "def plus2(num):\n",
        "    global result2 \n",
        "    result2 += num \n",
        "    return result2 \n",
        "\n",
        "print(plus2(2))\n",
        "print(plus2(10))\n",
        "\n",
        "result3 = 0\n",
        "def plus3(num):\n",
        "    global result3\n",
        "    result3 += num\n",
        "    return result3\n",
        "\n",
        "print(plus3(2))\n",
        "print(plus3(10))"
      ]
    },
    {
      "cell_type": "code",
      "execution_count": null,
      "metadata": {
        "colab": {
          "base_uri": "https://localhost:8080/"
        },
        "id": "YY7wOTOsSeI-",
        "outputId": "18ec77af-0773-4077-e8b0-1895f18eef80"
      },
      "outputs": [
        {
          "name": "stdout",
          "output_type": "stream",
          "text": [
            "5\n",
            "11\n",
            "8\n",
            "4.0\n",
            "20.0\n",
            "0\n"
          ]
        }
      ],
      "source": [
        "class Cal:\n",
        "    result = 0\n",
        "\n",
        "    def plus(self, num):\n",
        "        self.result += num\n",
        "        return self.result\n",
        "    \n",
        "    def minus(self, num):\n",
        "        self.result -= num\n",
        "        return self.result\n",
        "    \n",
        "    def divide(self, num):\n",
        "        self.result /= num\n",
        "        return self.result\n",
        "\n",
        "    def mul(self, num):\n",
        "        self.result *= num\n",
        "        return self.result\n",
        "\n",
        "    def zero(self):\n",
        "        self.result = 0\n",
        "        return self.result\n",
        "\n",
        "cal1 = Cal()\n",
        "cal2 = Cal()\n",
        "cal3 = Cal()\n",
        "cal4 = Cal()\n",
        "cal5 = Cal()\n",
        "\n",
        "print(cal1.plus(5))\n",
        "print(cal1.zero())\n",
        "print()\n",
        "\n",
        "print(cal2.plus(6))\n",
        "\n",
        "print(cal3.minus(3))\n",
        "\n",
        "print(cal4.divide(2))\n",
        "\n",
        "print(cal5.mul(5))\n",
        "\n",
        "\n",
        "        "
      ]
    },
    {
      "cell_type": "code",
      "execution_count": null,
      "metadata": {
        "id": "kuLdjOE6TV3I"
      },
      "outputs": [],
      "source": []
    }
  ],
  "metadata": {
    "colab": {
      "name": "20220704_python_programming.ipynb",
      "provenance": []
    },
    "kernelspec": {
      "display_name": "Python 3.8.5 ('base')",
      "language": "python",
      "name": "python3"
    },
    "language_info": {
      "name": "python",
      "version": "3.8.5"
    },
    "vscode": {
      "interpreter": {
        "hash": "bb22bed4442154fb3a19c63ce3e9993d02bf4fd0be5c23680b344f0e088c080f"
      }
    }
  },
  "nbformat": 4,
  "nbformat_minor": 0
}
