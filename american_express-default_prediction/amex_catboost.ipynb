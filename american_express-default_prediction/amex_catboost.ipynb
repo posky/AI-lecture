{
 "cells": [
  {
   "cell_type": "code",
   "execution_count": null,
   "metadata": {},
   "outputs": [],
   "source": [
    "import gc\n",
    "\n",
    "import pandas as pd\n",
    "import numpy as np\n",
    "\n",
    "from catboost import CatBoostClassifier\n",
    "from sklearn.model_selection import StratifiedKFold\n",
    "from sklearn.preprocessing import LabelEncoder"
   ]
  },
  {
   "cell_type": "markdown",
   "metadata": {},
   "source": [
    "* agg 데이터 만들기\n",
    "    * kaggle datasets 에서 가져와서 사용 가능."
   ]
  },
  {
   "cell_type": "code",
   "execution_count": null,
   "metadata": {},
   "outputs": [],
   "source": [
    "# train = pd.read_parquet('./data/train.parquet')\n",
    "# train_labels = pd.read_csv('./data/train_labels.csv')\n",
    "\n",
    "# train.shape, train_labels.shape"
   ]
  },
  {
   "cell_type": "code",
   "execution_count": null,
   "metadata": {},
   "outputs": [],
   "source": [
    "# train = train.merge(train_labels, how='inner', on='customer_ID')\n",
    "# print(train.shape)\n",
    "# del train_labels\n",
    "# gc.collect()"
   ]
  },
  {
   "cell_type": "code",
   "execution_count": null,
   "metadata": {},
   "outputs": [],
   "source": [
    "# features = train.drop(['customer_ID', 'S_2', 'target'], axis=1).columns.to_list()\n",
    "# categorical_features = [\n",
    "#     'B_30', 'B_38', 'D_63', 'D_64', 'D_66', 'D_68',\n",
    "#     'D_114', 'D_116', 'D_117', 'D_120', 'D_126'\n",
    "# ]\n",
    "# num_features = [col for col in features if col not in categorical_features]"
   ]
  },
  {
   "cell_type": "code",
   "execution_count": null,
   "metadata": {},
   "outputs": [],
   "source": [
    "# train_num_agg = train.groupby('customer_ID')[num_features].agg(['mean', 'std', 'min', 'max', 'last'])\n",
    "# train_num_agg.columns = ['_'.join(x) for x in train_num_agg.columns]\n",
    "# train_cat_agg = train.groupby('customer_ID')[categorical_features].agg(['count', 'last', 'nunique'])\n",
    "# train_cat_agg.columns = ['_'.join(x) for x in train_cat_agg.columns]\n",
    "# train_target = (train.groupby('customer_ID').tail(1).set_index('customer_ID', drop=True).sort_index()['target'])\n",
    "# train = pd.concat([train_num_agg, train_cat_agg, train_target], axis=1)\n",
    "\n",
    "# train.to_parquet('./data/train_agg.parquet', engine='pyarrow', compression='gzip', index=False)\n",
    "# del train_num_agg, train_cat_agg, train_target\n",
    "# gc.collect()"
   ]
  },
  {
   "cell_type": "code",
   "execution_count": null,
   "metadata": {},
   "outputs": [],
   "source": [
    "# test = pd.read_parquet('./data/test.parquet')\n",
    "# test.shape"
   ]
  },
  {
   "cell_type": "code",
   "execution_count": null,
   "metadata": {},
   "outputs": [],
   "source": [
    "# test_num_agg = test.groupby('customer_ID')[num_features].agg(['mean', 'std', 'min', 'max', 'last'])\n",
    "# test_num_agg.columns = ['_'.join(x) for x in test_num_agg.columns]\n",
    "# test_cat_agg = test.groupby('customer_ID')[categorical_features].agg(['count', 'last', 'nunique'])\n",
    "# test_cat_agg.columns = ['_'.join(x) for x in test_cat_agg.columns]\n",
    "# test = pd.concat([test_num_agg, test_cat_agg], axis=1)\n",
    "\n",
    "# test.to_parquet('./data/test_agg.parquet', engine='pyarrow', compression='gzip', index=False)\n",
    "# del test_num_agg, test_cat_agg\n",
    "# gc.collect()"
   ]
  },
  {
   "cell_type": "code",
   "execution_count": null,
   "metadata": {},
   "outputs": [],
   "source": [
    "# train.head()"
   ]
  },
  {
   "cell_type": "markdown",
   "metadata": {},
   "source": [
    "* train, test agg 데이터 불러오기"
   ]
  },
  {
   "cell_type": "code",
   "execution_count": null,
   "metadata": {},
   "outputs": [],
   "source": [
    "train = pd.read_parquet('./data/train_agg.parquet')\n",
    "test = pd.read_parquet('./data/test_agg.parquet')\n",
    "\n",
    "train.shape, test.shape"
   ]
  },
  {
   "cell_type": "markdown",
   "metadata": {},
   "source": [
    "* 평가지표\n",
    "    * https://www.kaggle.com/competitions/amex-default-prediction/overview/evaluation"
   ]
  },
  {
   "cell_type": "code",
   "execution_count": null,
   "metadata": {},
   "outputs": [],
   "source": [
    "def amex_metric(y_true: pd.DataFrame, y_pred: pd.DataFrame) -> float:\n",
    "    def top_four_percent_captured(y_true: pd.DataFrame, y_pred: pd.DataFrame) -> float:\n",
    "        df = (pd.concat([y_true, y_pred], axis='columns')\n",
    "            .sort_values('prediction', ascending=False))\n",
    "        df['weight'] = df['target'].apply(lambda x: 20 if x == 0 else 1)\n",
    "        four_pct_cutoff = int(0.04 * df['weight'].sum())\n",
    "        df['weight_cumsum'] = df['weight'].cumsum()\n",
    "        df_cutoff = df.loc[df['weight_cumsum'] <= four_pct_cutoff]\n",
    "        return (df_cutoff['target'] == 1).sum() / (df['target'] == 1).sum()\n",
    "\n",
    "    def weighted_gini(y_true: pd.DataFrame, y_pred: pd.DataFrame) -> float:\n",
    "        df = (pd.concat([y_true, y_pred], axis='columns')\n",
    "            .sort_values('prediction', ascending=False))\n",
    "        df['weight'] = df['target'].apply(lambda x: 20 if x == 0 else 1)\n",
    "        df['random'] = (df['weight'] / df['weight'].sum()).cumsum()\n",
    "        total_pos = (df['target'] * df['weight']).sum()\n",
    "        df['cum_pos_found'] = (df['target'] * df['weight']).cumsum()\n",
    "        df['lorentz'] = df['cum_pos_found'] / total_pos\n",
    "        df['gini'] = (df['lorentz'] - df['random']) * df['weight']\n",
    "        return df['gini'].sum()\n",
    "\n",
    "    def normalized_weighted_gini(y_true: pd.DataFrame, y_pred: pd.DataFrame) -> float:\n",
    "        y_true_pred = y_true.rename(columns={'target': 'prediction'})\n",
    "        return weighted_gini(y_true, y_pred) / weighted_gini(y_true, y_true_pred)\n",
    "\n",
    "    g = normalized_weighted_gini(y_true, y_pred)\n",
    "    d = top_four_percent_captured(y_true, y_pred)\n",
    "\n",
    "    return 0.5 * (g + d)"
   ]
  },
  {
   "cell_type": "markdown",
   "metadata": {},
   "source": [
    "##### 범주형 특성 LabelEncoding"
   ]
  },
  {
   "cell_type": "code",
   "execution_count": null,
   "metadata": {},
   "outputs": [],
   "source": [
    "features = test.columns.to_list()\n",
    "categorical_features = [\n",
    "    'B_30', 'B_38', 'D_63', 'D_64', 'D_66', 'D_68',\n",
    "    'D_114', 'D_116', 'D_117', 'D_120', 'D_126'\n",
    "]\n",
    "categorical_features = [f'{cf}_last' for cf in categorical_features]\n",
    "le = LabelEncoder()\n",
    "for categorical_feature in categorical_features:\n",
    "    train[categorical_feature] = le.fit_transform(train[categorical_feature])\n",
    "    test[categorical_feature] = le.transform(test[categorical_feature])"
   ]
  },
  {
   "cell_type": "code",
   "execution_count": null,
   "metadata": {},
   "outputs": [],
   "source": [
    "y_train = pd.DataFrame(train['target'])\n",
    "X_train = train.drop('target', axis=1)"
   ]
  },
  {
   "cell_type": "markdown",
   "metadata": {},
   "source": [
    "##### catboost 학습\n",
    "    * StratifiedKFold 이용해서 5개의 모델 학습\n",
    "    * CatBoostClassifier\n",
    "        * task_type='GPU' 이용해서 GPU 통해 학습 가능.\n",
    "    * deep copy\n",
    "        * 메모리 내용에 있는 값을 복사."
   ]
  },
  {
   "cell_type": "code",
   "execution_count": null,
   "metadata": {},
   "outputs": [],
   "source": [
    "N_FOLDS = 5\n",
    "skf = StratifiedKFold(n_splits=N_FOLDS, shuffle=True, random_state=22)\n",
    "y_oof = np.zeros(X_train.shape[0])\n",
    "y_test = np.zeros(test.shape[0])\n",
    "idx = 0\n",
    "\n",
    "for train_idx, val_idx in skf.split(X_train, y_train):\n",
    "    print(f'******* Fold {idx} *******')\n",
    "    X_tr, X_val = (\n",
    "        X_train.iloc[train_idx].reset_index(drop=True),\n",
    "        X_train.iloc[val_idx].reset_index(drop=True)\n",
    "    )\n",
    "    y_tr, y_val = (\n",
    "        y_train.iloc[train_idx].reset_index(drop=True),\n",
    "        y_train.iloc[val_idx].reset_index(drop=True)\n",
    "    )\n",
    "\n",
    "    clf = CatBoostClassifier(iterations=5000, random_state=22, task_type='GPU')\n",
    "    clf.fit(X_tr, y_tr, eval_set=[(X_val, y_val)], cat_features=categorical_features, verbose=100)\n",
    "    preds = clf.predict_proba(X_val)[:, 1]\n",
    "    y_oof[val_idx] = y_oof[val_idx] + preds\n",
    "\n",
    "    preds_test = clf.predict_proba(test)[:, 1]\n",
    "    y_test = y_test + preds_test / N_FOLDS\n",
    "    idx += 1\n",
    "\n",
    "y_pred = y_train.copy(deep=True)\n",
    "y_pred = y_pred.rename(columns={'target': 'prediction'})\n",
    "y_pred['prediction'] = y_oof\n",
    "val_score = amex_metric(y_train, y_pred)\n",
    "print(f'Amex metric: {val_score}')"
   ]
  },
  {
   "cell_type": "code",
   "execution_count": null,
   "metadata": {},
   "outputs": [],
   "source": [
    "y_oof_binary = (y_oof >= np.percentile(y_oof, 96)).astype(int)"
   ]
  },
  {
   "cell_type": "code",
   "execution_count": null,
   "metadata": {},
   "outputs": [],
   "source": [
    "y_oof_binary.mean()"
   ]
  },
  {
   "cell_type": "code",
   "execution_count": null,
   "metadata": {},
   "outputs": [],
   "source": [
    "import matplotlib.pyplot as plt\n",
    "import itertools\n",
    "from sklearn.metrics import confusion_matrix\n",
    "\n",
    "def plot_confusion_matrix(cm, classes, normalize=False, title='Confusion matrix', cmap=plt.cm.Blues):\n",
    "    plt.imshow(cm, interpolation='nearest', cmap=cmap)\n",
    "    plt.title(title)\n",
    "    plt.colorbar()\n",
    "    tick_marks = np.arange(len(classes))\n",
    "    plt.xticks(tick_marks, classes, rotation=0)\n",
    "    plt.yticks(tick_marks, classes)\n",
    "\n",
    "    thresh = cm.max() / 2.\n",
    "    for i, j in itertools.product(range(cm.shape[0]), range(cm.shape[1])):\n",
    "        plt.text(j, i, cm[i, j], horizontalalignment='center', color='white' if cm[i, j] > thresh else 'black')\n",
    "\n",
    "    plt.tight_layout()\n",
    "    plt.ylabel('True label')\n",
    "    plt.xlabel('Predicted label')\n",
    "\n",
    "cm = confusion_matrix(y_train, y_oof_binary)\n",
    "class_names = [0, 1]\n",
    "plt.figure()\n",
    "plot_confusion_matrix(cm, classes=class_names, title=f'Confusion matrix at 4%')\n",
    "plt.show()"
   ]
  },
  {
   "cell_type": "code",
   "execution_count": null,
   "metadata": {},
   "outputs": [],
   "source": [
    "test['prediction'] = y_test\n",
    "test['prediction'].to_csv(f'submission_cat_{val_score}.csv', index=True)"
   ]
  },
  {
   "cell_type": "code",
   "execution_count": null,
   "metadata": {},
   "outputs": [],
   "source": []
  }
 ],
 "metadata": {
  "kernelspec": {
   "display_name": "Python 3.8.5 ('base')",
   "language": "python",
   "name": "python3"
  },
  "language_info": {
   "codemirror_mode": {
    "name": "ipython",
    "version": 3
   },
   "file_extension": ".py",
   "mimetype": "text/x-python",
   "name": "python",
   "nbconvert_exporter": "python",
   "pygments_lexer": "ipython3",
   "version": "3.8.5"
  },
  "orig_nbformat": 4,
  "vscode": {
   "interpreter": {
    "hash": "bb22bed4442154fb3a19c63ce3e9993d02bf4fd0be5c23680b344f0e088c080f"
   }
  }
 },
 "nbformat": 4,
 "nbformat_minor": 2
}
