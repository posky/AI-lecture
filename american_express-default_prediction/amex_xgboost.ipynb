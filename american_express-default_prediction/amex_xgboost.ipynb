{
 "cells": [
  {
   "cell_type": "code",
   "execution_count": 1,
   "metadata": {},
   "outputs": [],
   "source": [
    "import numpy as np\n",
    "import pandas as pd\n",
    "import matplotlib.pyplot as plt\n",
    "import seaborn as sns\n",
    "\n",
    "from sklearn.preprocessing import LabelEncoder, MinMaxScaler\n",
    "from sklearn.model_selection import train_test_split\n",
    "from sklearn.metrics import classification_report, confusion_matrix\n",
    "\n",
    "import xgboost as xgb\n",
    "from xgboost import XGBClassifier\n",
    "\n",
    "import warnings, gc"
   ]
  },
  {
   "cell_type": "code",
   "execution_count": 2,
   "metadata": {},
   "outputs": [
    {
     "name": "stdout",
     "output_type": "stream",
     "text": [
      "Wall time: 53.6 s\n"
     ]
    }
   ],
   "source": [
    "%%time\n",
    "\n",
    "train = pd.read_parquet('./data/train.parquet')\n",
    "label = pd.read_csv('./data/train_labels.csv')\n",
    "train = train.merge(label, how='inner', on='customer_ID')"
   ]
  },
  {
   "cell_type": "code",
   "execution_count": 3,
   "metadata": {},
   "outputs": [
    {
     "data": {
      "text/plain": [
       "161"
      ]
     },
     "execution_count": 3,
     "metadata": {},
     "output_type": "execute_result"
    }
   ],
   "source": [
    "del label\n",
    "gc.collect()"
   ]
  },
  {
   "cell_type": "code",
   "execution_count": 4,
   "metadata": {},
   "outputs": [
    {
     "data": {
      "text/plain": [
       "0    0000099d6bd597052cdcda90ffabf56573fe9d7c79be5f...\n",
       "1    0000099d6bd597052cdcda90ffabf56573fe9d7c79be5f...\n",
       "2    0000099d6bd597052cdcda90ffabf56573fe9d7c79be5f...\n",
       "3    0000099d6bd597052cdcda90ffabf56573fe9d7c79be5f...\n",
       "4    0000099d6bd597052cdcda90ffabf56573fe9d7c79be5f...\n",
       "Name: customer_ID, dtype: object"
      ]
     },
     "execution_count": 4,
     "metadata": {},
     "output_type": "execute_result"
    }
   ],
   "source": [
    "train['customer_ID'].head()"
   ]
  },
  {
   "cell_type": "code",
   "execution_count": 5,
   "metadata": {},
   "outputs": [],
   "source": [
    "lab = LabelEncoder()\n",
    "train['customer_ID'] = lab.fit_transform(train['customer_ID'])"
   ]
  },
  {
   "cell_type": "code",
   "execution_count": 6,
   "metadata": {},
   "outputs": [
    {
     "data": {
      "text/html": [
       "<div>\n",
       "<style scoped>\n",
       "    .dataframe tbody tr th:only-of-type {\n",
       "        vertical-align: middle;\n",
       "    }\n",
       "\n",
       "    .dataframe tbody tr th {\n",
       "        vertical-align: top;\n",
       "    }\n",
       "\n",
       "    .dataframe thead th {\n",
       "        text-align: right;\n",
       "    }\n",
       "</style>\n",
       "<table border=\"1\" class=\"dataframe\">\n",
       "  <thead>\n",
       "    <tr style=\"text-align: right;\">\n",
       "      <th></th>\n",
       "      <th>customer_ID</th>\n",
       "      <th>S_2</th>\n",
       "      <th>P_2</th>\n",
       "      <th>D_39</th>\n",
       "      <th>B_1</th>\n",
       "      <th>B_2</th>\n",
       "      <th>R_1</th>\n",
       "      <th>S_3</th>\n",
       "      <th>D_41</th>\n",
       "      <th>B_3</th>\n",
       "      <th>...</th>\n",
       "      <th>D_137</th>\n",
       "      <th>D_138</th>\n",
       "      <th>D_139</th>\n",
       "      <th>D_140</th>\n",
       "      <th>D_141</th>\n",
       "      <th>D_142</th>\n",
       "      <th>D_143</th>\n",
       "      <th>D_144</th>\n",
       "      <th>D_145</th>\n",
       "      <th>target</th>\n",
       "    </tr>\n",
       "  </thead>\n",
       "  <tbody>\n",
       "    <tr>\n",
       "      <th>0</th>\n",
       "      <td>0</td>\n",
       "      <td>2017-03-09</td>\n",
       "      <td>0.938469</td>\n",
       "      <td>0</td>\n",
       "      <td>0.008724</td>\n",
       "      <td>1.006838</td>\n",
       "      <td>0.009228</td>\n",
       "      <td>0.124035</td>\n",
       "      <td>0.0</td>\n",
       "      <td>0.004709</td>\n",
       "      <td>...</td>\n",
       "      <td>-1</td>\n",
       "      <td>-1</td>\n",
       "      <td>0</td>\n",
       "      <td>0</td>\n",
       "      <td>0.0</td>\n",
       "      <td>NaN</td>\n",
       "      <td>0</td>\n",
       "      <td>0.000610</td>\n",
       "      <td>0</td>\n",
       "      <td>0</td>\n",
       "    </tr>\n",
       "    <tr>\n",
       "      <th>1</th>\n",
       "      <td>0</td>\n",
       "      <td>2017-04-07</td>\n",
       "      <td>0.936665</td>\n",
       "      <td>0</td>\n",
       "      <td>0.004923</td>\n",
       "      <td>1.000653</td>\n",
       "      <td>0.006151</td>\n",
       "      <td>0.126750</td>\n",
       "      <td>0.0</td>\n",
       "      <td>0.002714</td>\n",
       "      <td>...</td>\n",
       "      <td>-1</td>\n",
       "      <td>-1</td>\n",
       "      <td>0</td>\n",
       "      <td>0</td>\n",
       "      <td>0.0</td>\n",
       "      <td>NaN</td>\n",
       "      <td>0</td>\n",
       "      <td>0.005492</td>\n",
       "      <td>0</td>\n",
       "      <td>0</td>\n",
       "    </tr>\n",
       "    <tr>\n",
       "      <th>2</th>\n",
       "      <td>0</td>\n",
       "      <td>2017-05-28</td>\n",
       "      <td>0.954180</td>\n",
       "      <td>3</td>\n",
       "      <td>0.021655</td>\n",
       "      <td>1.009672</td>\n",
       "      <td>0.006815</td>\n",
       "      <td>0.123977</td>\n",
       "      <td>0.0</td>\n",
       "      <td>0.009423</td>\n",
       "      <td>...</td>\n",
       "      <td>-1</td>\n",
       "      <td>-1</td>\n",
       "      <td>0</td>\n",
       "      <td>0</td>\n",
       "      <td>0.0</td>\n",
       "      <td>NaN</td>\n",
       "      <td>0</td>\n",
       "      <td>0.006986</td>\n",
       "      <td>0</td>\n",
       "      <td>0</td>\n",
       "    </tr>\n",
       "    <tr>\n",
       "      <th>3</th>\n",
       "      <td>0</td>\n",
       "      <td>2017-06-13</td>\n",
       "      <td>0.960384</td>\n",
       "      <td>0</td>\n",
       "      <td>0.013683</td>\n",
       "      <td>1.002700</td>\n",
       "      <td>0.001373</td>\n",
       "      <td>0.117169</td>\n",
       "      <td>0.0</td>\n",
       "      <td>0.005531</td>\n",
       "      <td>...</td>\n",
       "      <td>-1</td>\n",
       "      <td>-1</td>\n",
       "      <td>0</td>\n",
       "      <td>0</td>\n",
       "      <td>0.0</td>\n",
       "      <td>NaN</td>\n",
       "      <td>0</td>\n",
       "      <td>0.006527</td>\n",
       "      <td>0</td>\n",
       "      <td>0</td>\n",
       "    </tr>\n",
       "    <tr>\n",
       "      <th>4</th>\n",
       "      <td>0</td>\n",
       "      <td>2017-07-16</td>\n",
       "      <td>0.947248</td>\n",
       "      <td>0</td>\n",
       "      <td>0.015193</td>\n",
       "      <td>1.000727</td>\n",
       "      <td>0.007605</td>\n",
       "      <td>0.117325</td>\n",
       "      <td>0.0</td>\n",
       "      <td>0.009312</td>\n",
       "      <td>...</td>\n",
       "      <td>-1</td>\n",
       "      <td>-1</td>\n",
       "      <td>0</td>\n",
       "      <td>0</td>\n",
       "      <td>0.0</td>\n",
       "      <td>NaN</td>\n",
       "      <td>0</td>\n",
       "      <td>0.008126</td>\n",
       "      <td>0</td>\n",
       "      <td>0</td>\n",
       "    </tr>\n",
       "    <tr>\n",
       "      <th>...</th>\n",
       "      <td>...</td>\n",
       "      <td>...</td>\n",
       "      <td>...</td>\n",
       "      <td>...</td>\n",
       "      <td>...</td>\n",
       "      <td>...</td>\n",
       "      <td>...</td>\n",
       "      <td>...</td>\n",
       "      <td>...</td>\n",
       "      <td>...</td>\n",
       "      <td>...</td>\n",
       "      <td>...</td>\n",
       "      <td>...</td>\n",
       "      <td>...</td>\n",
       "      <td>...</td>\n",
       "      <td>...</td>\n",
       "      <td>...</td>\n",
       "      <td>...</td>\n",
       "      <td>...</td>\n",
       "      <td>...</td>\n",
       "      <td>...</td>\n",
       "    </tr>\n",
       "    <tr>\n",
       "      <th>5531446</th>\n",
       "      <td>458912</td>\n",
       "      <td>2017-11-05</td>\n",
       "      <td>0.979333</td>\n",
       "      <td>14</td>\n",
       "      <td>0.020818</td>\n",
       "      <td>0.828199</td>\n",
       "      <td>0.003487</td>\n",
       "      <td>0.090743</td>\n",
       "      <td>0.0</td>\n",
       "      <td>0.025139</td>\n",
       "      <td>...</td>\n",
       "      <td>-1</td>\n",
       "      <td>-1</td>\n",
       "      <td>0</td>\n",
       "      <td>0</td>\n",
       "      <td>0.0</td>\n",
       "      <td>NaN</td>\n",
       "      <td>0</td>\n",
       "      <td>0.001498</td>\n",
       "      <td>0</td>\n",
       "      <td>0</td>\n",
       "    </tr>\n",
       "    <tr>\n",
       "      <th>5531447</th>\n",
       "      <td>458912</td>\n",
       "      <td>2017-12-23</td>\n",
       "      <td>0.984907</td>\n",
       "      <td>10</td>\n",
       "      <td>0.007209</td>\n",
       "      <td>0.812610</td>\n",
       "      <td>0.005904</td>\n",
       "      <td>0.079886</td>\n",
       "      <td>0.0</td>\n",
       "      <td>0.023691</td>\n",
       "      <td>...</td>\n",
       "      <td>-1</td>\n",
       "      <td>-1</td>\n",
       "      <td>0</td>\n",
       "      <td>0</td>\n",
       "      <td>0.0</td>\n",
       "      <td>NaN</td>\n",
       "      <td>0</td>\n",
       "      <td>0.008225</td>\n",
       "      <td>0</td>\n",
       "      <td>0</td>\n",
       "    </tr>\n",
       "    <tr>\n",
       "      <th>5531448</th>\n",
       "      <td>458912</td>\n",
       "      <td>2018-01-06</td>\n",
       "      <td>0.983019</td>\n",
       "      <td>15</td>\n",
       "      <td>0.013151</td>\n",
       "      <td>0.815422</td>\n",
       "      <td>0.003457</td>\n",
       "      <td>0.100503</td>\n",
       "      <td>0.0</td>\n",
       "      <td>0.012343</td>\n",
       "      <td>...</td>\n",
       "      <td>-1</td>\n",
       "      <td>-1</td>\n",
       "      <td>0</td>\n",
       "      <td>0</td>\n",
       "      <td>0.0</td>\n",
       "      <td>NaN</td>\n",
       "      <td>0</td>\n",
       "      <td>0.006773</td>\n",
       "      <td>0</td>\n",
       "      <td>0</td>\n",
       "    </tr>\n",
       "    <tr>\n",
       "      <th>5531449</th>\n",
       "      <td>458912</td>\n",
       "      <td>2018-02-06</td>\n",
       "      <td>0.969861</td>\n",
       "      <td>15</td>\n",
       "      <td>0.009855</td>\n",
       "      <td>1.003541</td>\n",
       "      <td>0.005117</td>\n",
       "      <td>0.101802</td>\n",
       "      <td>0.0</td>\n",
       "      <td>0.008578</td>\n",
       "      <td>...</td>\n",
       "      <td>-1</td>\n",
       "      <td>-1</td>\n",
       "      <td>0</td>\n",
       "      <td>0</td>\n",
       "      <td>0.0</td>\n",
       "      <td>NaN</td>\n",
       "      <td>0</td>\n",
       "      <td>0.001168</td>\n",
       "      <td>0</td>\n",
       "      <td>0</td>\n",
       "    </tr>\n",
       "    <tr>\n",
       "      <th>5531450</th>\n",
       "      <td>458912</td>\n",
       "      <td>2018-03-14</td>\n",
       "      <td>0.982175</td>\n",
       "      <td>0</td>\n",
       "      <td>0.000077</td>\n",
       "      <td>0.992880</td>\n",
       "      <td>0.000809</td>\n",
       "      <td>0.119165</td>\n",
       "      <td>0.0</td>\n",
       "      <td>0.014092</td>\n",
       "      <td>...</td>\n",
       "      <td>-1</td>\n",
       "      <td>-1</td>\n",
       "      <td>0</td>\n",
       "      <td>0</td>\n",
       "      <td>0.0</td>\n",
       "      <td>NaN</td>\n",
       "      <td>0</td>\n",
       "      <td>0.003184</td>\n",
       "      <td>0</td>\n",
       "      <td>0</td>\n",
       "    </tr>\n",
       "  </tbody>\n",
       "</table>\n",
       "<p>5531451 rows × 191 columns</p>\n",
       "</div>"
      ],
      "text/plain": [
       "         customer_ID         S_2       P_2  D_39       B_1       B_2  \\\n",
       "0                  0  2017-03-09  0.938469     0  0.008724  1.006838   \n",
       "1                  0  2017-04-07  0.936665     0  0.004923  1.000653   \n",
       "2                  0  2017-05-28  0.954180     3  0.021655  1.009672   \n",
       "3                  0  2017-06-13  0.960384     0  0.013683  1.002700   \n",
       "4                  0  2017-07-16  0.947248     0  0.015193  1.000727   \n",
       "...              ...         ...       ...   ...       ...       ...   \n",
       "5531446       458912  2017-11-05  0.979333    14  0.020818  0.828199   \n",
       "5531447       458912  2017-12-23  0.984907    10  0.007209  0.812610   \n",
       "5531448       458912  2018-01-06  0.983019    15  0.013151  0.815422   \n",
       "5531449       458912  2018-02-06  0.969861    15  0.009855  1.003541   \n",
       "5531450       458912  2018-03-14  0.982175     0  0.000077  0.992880   \n",
       "\n",
       "              R_1       S_3  D_41       B_3  ...  D_137  D_138  D_139  D_140  \\\n",
       "0        0.009228  0.124035   0.0  0.004709  ...     -1     -1      0      0   \n",
       "1        0.006151  0.126750   0.0  0.002714  ...     -1     -1      0      0   \n",
       "2        0.006815  0.123977   0.0  0.009423  ...     -1     -1      0      0   \n",
       "3        0.001373  0.117169   0.0  0.005531  ...     -1     -1      0      0   \n",
       "4        0.007605  0.117325   0.0  0.009312  ...     -1     -1      0      0   \n",
       "...           ...       ...   ...       ...  ...    ...    ...    ...    ...   \n",
       "5531446  0.003487  0.090743   0.0  0.025139  ...     -1     -1      0      0   \n",
       "5531447  0.005904  0.079886   0.0  0.023691  ...     -1     -1      0      0   \n",
       "5531448  0.003457  0.100503   0.0  0.012343  ...     -1     -1      0      0   \n",
       "5531449  0.005117  0.101802   0.0  0.008578  ...     -1     -1      0      0   \n",
       "5531450  0.000809  0.119165   0.0  0.014092  ...     -1     -1      0      0   \n",
       "\n",
       "         D_141  D_142  D_143     D_144  D_145  target  \n",
       "0          0.0    NaN      0  0.000610      0       0  \n",
       "1          0.0    NaN      0  0.005492      0       0  \n",
       "2          0.0    NaN      0  0.006986      0       0  \n",
       "3          0.0    NaN      0  0.006527      0       0  \n",
       "4          0.0    NaN      0  0.008126      0       0  \n",
       "...        ...    ...    ...       ...    ...     ...  \n",
       "5531446    0.0    NaN      0  0.001498      0       0  \n",
       "5531447    0.0    NaN      0  0.008225      0       0  \n",
       "5531448    0.0    NaN      0  0.006773      0       0  \n",
       "5531449    0.0    NaN      0  0.001168      0       0  \n",
       "5531450    0.0    NaN      0  0.003184      0       0  \n",
       "\n",
       "[5531451 rows x 191 columns]"
      ]
     },
     "execution_count": 6,
     "metadata": {},
     "output_type": "execute_result"
    }
   ],
   "source": [
    "train"
   ]
  },
  {
   "cell_type": "code",
   "execution_count": 7,
   "metadata": {},
   "outputs": [
    {
     "name": "stdout",
     "output_type": "stream",
     "text": [
      "Wall time: 0 ns\n"
     ]
    }
   ],
   "source": [
    "%%time\n",
    "\n",
    "# train = train.groupby(['customer_ID']).tail(1).set_index('customer_ID')"
   ]
  },
  {
   "cell_type": "code",
   "execution_count": 8,
   "metadata": {},
   "outputs": [
    {
     "data": {
      "text/plain": [
       "40"
      ]
     },
     "execution_count": 8,
     "metadata": {},
     "output_type": "execute_result"
    }
   ],
   "source": [
    "gc.collect()"
   ]
  },
  {
   "cell_type": "code",
   "execution_count": 9,
   "metadata": {},
   "outputs": [
    {
     "data": {
      "text/plain": [
       "(5531451, 191)"
      ]
     },
     "execution_count": 9,
     "metadata": {},
     "output_type": "execute_result"
    }
   ],
   "source": [
    "train.shape"
   ]
  },
  {
   "cell_type": "code",
   "execution_count": 10,
   "metadata": {},
   "outputs": [
    {
     "name": "stdout",
     "output_type": "stream",
     "text": [
      "Wall time: 2.95 s\n"
     ]
    }
   ],
   "source": [
    "%%time\n",
    "\n",
    "test = pd.read_parquet('./data/test.parquet')"
   ]
  },
  {
   "cell_type": "code",
   "execution_count": 11,
   "metadata": {},
   "outputs": [],
   "source": [
    "test['customer_ID'] = lab.fit_transform(test['customer_ID'])\n",
    "# test = test.groupby(['customer_ID']).tail(1).set_index('customer_ID')"
   ]
  },
  {
   "cell_type": "code",
   "execution_count": 12,
   "metadata": {},
   "outputs": [
    {
     "name": "stdout",
     "output_type": "stream",
     "text": [
      "(11363762, 190)\n"
     ]
    },
    {
     "data": {
      "text/plain": [
       "80"
      ]
     },
     "execution_count": 12,
     "metadata": {},
     "output_type": "execute_result"
    }
   ],
   "source": [
    "print(test.shape)\n",
    "gc.collect()"
   ]
  },
  {
   "cell_type": "code",
   "execution_count": 14,
   "metadata": {},
   "outputs": [],
   "source": [
    "y = train.groupby(['customer_ID']).tail(1)['target']\n",
    "X = train.drop(['target', 'S_2'], axis=1)\n",
    "test = test.drop(['S_2'], axis=1)\n",
    "\n",
    "X = X.fillna(-123)\n",
    "test = test.fillna(-123)"
   ]
  },
  {
   "cell_type": "code",
   "execution_count": 15,
   "metadata": {},
   "outputs": [
    {
     "data": {
      "text/plain": [
       "0    340085\n",
       "1    118828\n",
       "Name: target, dtype: int64"
      ]
     },
     "execution_count": 15,
     "metadata": {},
     "output_type": "execute_result"
    }
   ],
   "source": [
    "y.value_counts()"
   ]
  },
  {
   "cell_type": "code",
   "execution_count": 16,
   "metadata": {},
   "outputs": [
    {
     "name": "stdout",
     "output_type": "stream",
     "text": [
      "(5531451, 189) (458913,) (11363762, 189)\n"
     ]
    },
    {
     "data": {
      "text/plain": [
       "80"
      ]
     },
     "execution_count": 16,
     "metadata": {},
     "output_type": "execute_result"
    }
   ],
   "source": [
    "print(X.shape, y.shape, test.shape)\n",
    "gc.collect()"
   ]
  },
  {
   "cell_type": "code",
   "execution_count": 17,
   "metadata": {},
   "outputs": [],
   "source": [
    "cat_cols = [\n",
    "    'B_30', 'B_38', 'D_114', 'D_116', 'D_117', 'D_120', 'D_126',\n",
    "    'D_63', 'D_64','D_66', 'D_68'\n",
    "]\n",
    "num_cols = [col for col in X.columns if col not in cat_cols]\n",
    "\n",
    "all_cols = [cat_cols, num_cols]"
   ]
  },
  {
   "cell_type": "code",
   "execution_count": 18,
   "metadata": {},
   "outputs": [
    {
     "name": "stdout",
     "output_type": "stream",
     "text": [
      "[['B_30', 'B_38', 'D_114', 'D_116', 'D_117', 'D_120', 'D_126', 'D_63', 'D_64', 'D_66', 'D_68'], ['customer_ID', 'P_2', 'D_39', 'B_1', 'B_2', 'R_1', 'S_3', 'D_41', 'B_3', 'D_42', 'D_43', 'D_44', 'B_4', 'D_45', 'B_5', 'R_2', 'D_46', 'D_47', 'D_48', 'D_49', 'B_6', 'B_7', 'B_8', 'D_50', 'D_51', 'B_9', 'R_3', 'D_52', 'P_3', 'B_10', 'D_53', 'S_5', 'B_11', 'S_6', 'D_54', 'R_4', 'S_7', 'B_12', 'S_8', 'D_55', 'D_56', 'B_13', 'R_5', 'D_58', 'S_9', 'B_14', 'D_59', 'D_60', 'D_61', 'B_15', 'S_11', 'D_62', 'D_65', 'B_16', 'B_17', 'B_18', 'B_19', 'B_20', 'S_12', 'R_6', 'S_13', 'B_21', 'D_69', 'B_22', 'D_70', 'D_71', 'D_72', 'S_15', 'B_23', 'D_73', 'P_4', 'D_74', 'D_75', 'D_76', 'B_24', 'R_7', 'D_77', 'B_25', 'B_26', 'D_78', 'D_79', 'R_8', 'R_9', 'S_16', 'D_80', 'R_10', 'R_11', 'B_27', 'D_81', 'D_82', 'S_17', 'R_12', 'B_28', 'R_13', 'D_83', 'R_14', 'R_15', 'D_84', 'R_16', 'B_29', 'S_18', 'D_86', 'D_87', 'R_17', 'R_18', 'D_88', 'B_31', 'S_19', 'R_19', 'B_32', 'S_20', 'R_20', 'R_21', 'B_33', 'D_89', 'R_22', 'R_23', 'D_91', 'D_92', 'D_93', 'D_94', 'R_24', 'R_25', 'D_96', 'S_22', 'S_23', 'S_24', 'S_25', 'S_26', 'D_102', 'D_103', 'D_104', 'D_105', 'D_106', 'D_107', 'B_36', 'B_37', 'R_26', 'R_27', 'D_108', 'D_109', 'D_110', 'D_111', 'B_39', 'D_112', 'B_40', 'S_27', 'D_113', 'D_115', 'D_118', 'D_119', 'D_121', 'D_122', 'D_123', 'D_124', 'D_125', 'D_127', 'D_128', 'D_129', 'B_41', 'B_42', 'D_130', 'D_131', 'D_132', 'D_133', 'R_28', 'D_134', 'D_135', 'D_136', 'D_137', 'D_138', 'D_139', 'D_140', 'D_141', 'D_142', 'D_143', 'D_144', 'D_145']]\n"
     ]
    }
   ],
   "source": [
    "print(all_cols)"
   ]
  },
  {
   "cell_type": "code",
   "execution_count": 19,
   "metadata": {},
   "outputs": [],
   "source": [
    "D_n_cols = [col for col in num_cols if col.startswith('D')]\n",
    "S_n_cols = [col for col in num_cols if col.startswith('S')]\n",
    "P_n_cols = [col for col in num_cols if col.startswith('P')]\n",
    "B_n_cols = [col for col in num_cols if col.startswith('B')]\n",
    "R_n_cols = [col for col in num_cols if col.startswith('R')]\n",
    "D_c_cols = [col for col in cat_cols if col.startswith('D')]\n",
    "B_c_cols = [col for col in cat_cols if col.startswith('B')]"
   ]
  },
  {
   "cell_type": "code",
   "execution_count": 20,
   "metadata": {},
   "outputs": [
    {
     "name": "stdout",
     "output_type": "stream",
     "text": [
      "X shape after engineering (458913, 576)\n",
      "Wall time: 27.9 s\n"
     ]
    }
   ],
   "source": [
    "%%time\n",
    "\n",
    "X_num_agg_D = X.groupby(\"customer_ID\")[D_n_cols].agg(['mean','min', 'last'])\n",
    "X_num_agg_D.columns = ['_'.join(x) for x in X_num_agg_D.columns]\n",
    "\n",
    "X_num_agg_S = X.groupby(\"customer_ID\")[S_n_cols].agg(['mean','min', 'last'])\n",
    "X_num_agg_S.columns = ['_'.join(x) for x in X_num_agg_S.columns]\n",
    "\n",
    "X_num_agg_P = X.groupby(\"customer_ID\")[P_n_cols].agg(['mean','min','max' ,'last'])\n",
    "X_num_agg_P.columns = ['_'.join(x) for x in X_num_agg_P.columns]\n",
    "\n",
    "X_num_agg_B = X.groupby(\"customer_ID\")[B_n_cols].agg(['mean','min', 'last'])\n",
    "X_num_agg_B.columns = ['_'.join(x) for x in X_num_agg_B.columns]\n",
    "\n",
    "X_num_agg_R = X.groupby(\"customer_ID\")[R_n_cols].agg(['mean','min','last'])\n",
    "X_num_agg_R.columns = ['_'.join(x) for x in X_num_agg_R.columns]\n",
    "\n",
    "X_cat_agg_D = X.groupby(\"customer_ID\")[D_c_cols].agg(['count','last','first','nunique'])\n",
    "X_cat_agg_D.columns = ['_'.join(x) for x in X_cat_agg_D.columns]\n",
    "\n",
    "X_cat_agg_B = X.groupby(\"customer_ID\")[B_c_cols].agg(['count','last','nunique'])\n",
    "X_cat_agg_B.columns = ['_'.join(x) for x in X_cat_agg_B.columns]\n",
    "\n",
    "X = pd.concat([X_num_agg_D, X_num_agg_S,X_num_agg_P,X_num_agg_B,X_num_agg_R,X_cat_agg_D,X_cat_agg_B], axis=1)\n",
    "del X_num_agg_D, X_num_agg_S,X_num_agg_P,X_num_agg_B,X_num_agg_R,X_cat_agg_D,X_cat_agg_B\n",
    "gc.collect()\n",
    "\n",
    "print('X shape after engineering', X.shape)"
   ]
  },
  {
   "cell_type": "code",
   "execution_count": 21,
   "metadata": {},
   "outputs": [
    {
     "name": "stdout",
     "output_type": "stream",
     "text": [
      "Test shape after engineering (924621, 576)\n",
      "Wall time: 1min 1s\n"
     ]
    }
   ],
   "source": [
    "%%time \n",
    "\n",
    "test_num_agg_D = test.groupby(\"customer_ID\")[D_n_cols].agg(['mean','min', 'last'])\n",
    "test_num_agg_D.columns = ['_'.join(x) for x in test_num_agg_D.columns]\n",
    "\n",
    "test_num_agg_S = test.groupby(\"customer_ID\")[S_n_cols].agg(['mean','min', 'last'])\n",
    "test_num_agg_S.columns = ['_'.join(x) for x in test_num_agg_S.columns]\n",
    "\n",
    "test_num_agg_P = test.groupby(\"customer_ID\")[P_n_cols].agg(['mean','min','max', 'last'])\n",
    "test_num_agg_P.columns = ['_'.join(x) for x in test_num_agg_P.columns]\n",
    "\n",
    "test_num_agg_B = test.groupby(\"customer_ID\")[B_n_cols].agg(['mean','min', 'last'])\n",
    "test_num_agg_B.columns = ['_'.join(x) for x in test_num_agg_B.columns]\n",
    "\n",
    "test_num_agg_R = test.groupby(\"customer_ID\")[R_n_cols].agg(['mean','min', 'last'])\n",
    "test_num_agg_R.columns = ['_'.join(x) for x in test_num_agg_R.columns]\n",
    "\n",
    "test_cat_agg_D = test.groupby(\"customer_ID\")[D_c_cols].agg(['count','first', 'last','nunique'])\n",
    "test_cat_agg_D.columns = ['_'.join(x) for x in test_cat_agg_D.columns]\n",
    "\n",
    "test_cat_agg_B = test.groupby(\"customer_ID\")[B_c_cols].agg(['count','last','nunique'])\n",
    "test_cat_agg_B.columns = ['_'.join(x) for x in test_cat_agg_B.columns]\n",
    "\n",
    "test = pd.concat([test_num_agg_D, test_num_agg_S,test_num_agg_P,test_num_agg_B,test_num_agg_R,test_cat_agg_D,test_cat_agg_B], axis=1)\n",
    "del test_num_agg_D, test_num_agg_S,test_num_agg_P,test_num_agg_B,test_num_agg_R,test_cat_agg_D,test_cat_agg_B\n",
    "gc.collect()\n",
    "\n",
    "print('Test shape after engineering', test.shape)"
   ]
  },
  {
   "cell_type": "code",
   "execution_count": 22,
   "metadata": {},
   "outputs": [],
   "source": [
    "xgb_parms ={\n",
    "    'booster': 'dart',\n",
    "    'n_jobs': -1,\n",
    "    'n_estimators': 1000,\n",
    "    'lambda': 4.091409953463271e-08,\n",
    "    'alpha': 3.6353429991712695e-08,\n",
    "    'subsample': 0.6423675532438815,\n",
    "    'colsample_bytree': 0.7830450413657872,\n",
    "    'max_depth': 9,\n",
    "    'min_child_weight': 5,\n",
    "    'eta': 0.3749337530972536,\n",
    "    'gamma': 0.0745370910451703,\n",
    "    'grow_policy': 'depthwise',\n",
    "    'sample_type': 'uniform',\n",
    "    'normalize_type': 'tree',\n",
    "    'rate_drop': 0.0723975209176045,\n",
    "    'skip_drop': 0.9026367296518939\n",
    "}"
   ]
  },
  {
   "cell_type": "code",
   "execution_count": 23,
   "metadata": {},
   "outputs": [],
   "source": [
    "X_train, X_valid, y_train, y_valid = train_test_split(\n",
    "    X, y, test_size=0.25, stratify=y, random_state=0\n",
    ")"
   ]
  },
  {
   "cell_type": "code",
   "execution_count": 24,
   "metadata": {},
   "outputs": [
    {
     "name": "stderr",
     "output_type": "stream",
     "text": [
      "c:\\Users\\posky\\anaconda3\\lib\\site-packages\\xgboost\\sklearn.py:1224: UserWarning: The use of label encoder in XGBClassifier is deprecated and will be removed in a future release. To remove this warning, do the following: 1) Pass option use_label_encoder=False when constructing XGBClassifier object; and 2) Encode your labels (y) as integers starting with 0, i.e. 0, 1, 2, ..., [num_class - 1].\n",
      "  warnings.warn(label_encoder_deprecation_msg, UserWarning)\n"
     ]
    },
    {
     "name": "stdout",
     "output_type": "stream",
     "text": [
      "[14:14:57] WARNING: C:\\Windows\\Temp\\abs_557yfx631l\\croots\\recipe\\xgboost-split_1659548953302\\work\\src\\learner.cc:1115: Starting in XGBoost 1.3.0, the default evaluation metric used with the objective 'binary:logistic' was changed from 'error' to 'logloss'. Explicitly set eval_metric if you'd like to restore the old behavior.\n",
      "[0]\tvalidation_0-logloss:0.48751\n",
      "[1]\tvalidation_0-logloss:0.38812\n",
      "[2]\tvalidation_0-logloss:0.33193\n",
      "[3]\tvalidation_0-logloss:0.29741\n",
      "[4]\tvalidation_0-logloss:0.27512\n",
      "[5]\tvalidation_0-logloss:0.26167\n",
      "[6]\tvalidation_0-logloss:0.25265\n",
      "[7]\tvalidation_0-logloss:0.24674\n",
      "[8]\tvalidation_0-logloss:0.24286\n",
      "[9]\tvalidation_0-logloss:0.24010\n",
      "[10]\tvalidation_0-logloss:0.23820\n",
      "[11]\tvalidation_0-logloss:0.23717\n",
      "[12]\tvalidation_0-logloss:0.23640\n",
      "[13]\tvalidation_0-logloss:0.23594\n",
      "[14]\tvalidation_0-logloss:0.23535\n",
      "[15]\tvalidation_0-logloss:0.23518\n",
      "[16]\tvalidation_0-logloss:0.23492\n",
      "[17]\tvalidation_0-logloss:0.23519\n",
      "[18]\tvalidation_0-logloss:0.23544\n",
      "[19]\tvalidation_0-logloss:0.23579\n",
      "[20]\tvalidation_0-logloss:0.23588\n",
      "[21]\tvalidation_0-logloss:0.23635\n",
      "[22]\tvalidation_0-logloss:0.23640\n",
      "[23]\tvalidation_0-logloss:0.23645\n",
      "[24]\tvalidation_0-logloss:0.23680\n",
      "[25]\tvalidation_0-logloss:0.23715\n",
      "[26]\tvalidation_0-logloss:0.23725\n"
     ]
    },
    {
     "data": {
      "text/plain": [
       "XGBClassifier(alpha=3.6353429991712695e-08, base_score=0.5, booster='dart',\n",
       "              colsample_bylevel=1, colsample_bynode=1,\n",
       "              colsample_bytree=0.7830450413657872, enable_categorical=False,\n",
       "              eta=0.3749337530972536, gamma=0.0745370910451703, gpu_id=-1,\n",
       "              grow_policy='depthwise', importance_type=None,\n",
       "              interaction_constraints='', lambda=4.091409953463271e-08,\n",
       "              learning_rate=0.374933749, max_delta_step=0, max_depth=9,\n",
       "              min_child_weight=5, missing=nan, monotone_constraints='()',\n",
       "              n_estimators=1000, n_jobs=-1, normalize_type='tree',\n",
       "              num_parallel_tree=1, predictor='auto', random_state=0,\n",
       "              rate_drop=0.0723975209176045, reg_alpha=3.63534305e-08,\n",
       "              reg_lambda=4.09141023e-08, sample_type='uniform', ...)"
      ]
     },
     "execution_count": 24,
     "metadata": {},
     "output_type": "execute_result"
    }
   ],
   "source": [
    "my_model = XGBClassifier(**xgb_parms)\n",
    "my_model.fit(\n",
    "    X_train, y_train,\n",
    "    early_stopping_rounds=10,\n",
    "    eval_set=[(X_valid, y_valid)],\n",
    "    verbose=1\n",
    ")"
   ]
  },
  {
   "cell_type": "code",
   "execution_count": 25,
   "metadata": {},
   "outputs": [
    {
     "data": {
      "text/plain": [
       "array([0.04921388, 0.00154002, 0.00983813, ..., 0.80610716, 0.6682537 ,\n",
       "       0.05054793], dtype=float32)"
      ]
     },
     "execution_count": 25,
     "metadata": {},
     "output_type": "execute_result"
    }
   ],
   "source": [
    "pred_test = my_model.predict_proba(test)\n",
    "preds = pd.DataFrame(pred_test)\n",
    "pred_final = np.array(preds[1])\n",
    "pred_final"
   ]
  },
  {
   "cell_type": "code",
   "execution_count": 26,
   "metadata": {},
   "outputs": [
    {
     "data": {
      "text/html": [
       "<div>\n",
       "<style scoped>\n",
       "    .dataframe tbody tr th:only-of-type {\n",
       "        vertical-align: middle;\n",
       "    }\n",
       "\n",
       "    .dataframe tbody tr th {\n",
       "        vertical-align: top;\n",
       "    }\n",
       "\n",
       "    .dataframe thead th {\n",
       "        text-align: right;\n",
       "    }\n",
       "</style>\n",
       "<table border=\"1\" class=\"dataframe\">\n",
       "  <thead>\n",
       "    <tr style=\"text-align: right;\">\n",
       "      <th></th>\n",
       "      <th>customer_ID</th>\n",
       "      <th>prediction</th>\n",
       "    </tr>\n",
       "  </thead>\n",
       "  <tbody>\n",
       "    <tr>\n",
       "      <th>0</th>\n",
       "      <td>00000469ba478561f23a92a868bd366de6f6527a684c9a...</td>\n",
       "      <td>0.049214</td>\n",
       "    </tr>\n",
       "    <tr>\n",
       "      <th>1</th>\n",
       "      <td>00001bf2e77ff879fab36aa4fac689b9ba411dae63ae39...</td>\n",
       "      <td>0.001540</td>\n",
       "    </tr>\n",
       "    <tr>\n",
       "      <th>2</th>\n",
       "      <td>0000210045da4f81e5f122c6bde5c2a617d03eef67f82c...</td>\n",
       "      <td>0.009838</td>\n",
       "    </tr>\n",
       "    <tr>\n",
       "      <th>3</th>\n",
       "      <td>00003b41e58ede33b8daf61ab56d9952f17c9ad1c3976c...</td>\n",
       "      <td>0.175485</td>\n",
       "    </tr>\n",
       "    <tr>\n",
       "      <th>4</th>\n",
       "      <td>00004b22eaeeeb0ec976890c1d9bfc14fd9427e98c4ee9...</td>\n",
       "      <td>0.889892</td>\n",
       "    </tr>\n",
       "    <tr>\n",
       "      <th>...</th>\n",
       "      <td>...</td>\n",
       "      <td>...</td>\n",
       "    </tr>\n",
       "    <tr>\n",
       "      <th>924616</th>\n",
       "      <td>ffff952c631f2c911b8a2a8ca56ea6e656309a83d2f64c...</td>\n",
       "      <td>0.037112</td>\n",
       "    </tr>\n",
       "    <tr>\n",
       "      <th>924617</th>\n",
       "      <td>ffffcf5df59e5e0bba2a5ac4578a34e2b5aa64a1546cd3...</td>\n",
       "      <td>0.829154</td>\n",
       "    </tr>\n",
       "    <tr>\n",
       "      <th>924618</th>\n",
       "      <td>ffffd61f098cc056dbd7d2a21380c4804bbfe60856f475...</td>\n",
       "      <td>0.806107</td>\n",
       "    </tr>\n",
       "    <tr>\n",
       "      <th>924619</th>\n",
       "      <td>ffffddef1fc3643ea179c93245b68dca0f36941cd83977...</td>\n",
       "      <td>0.668254</td>\n",
       "    </tr>\n",
       "    <tr>\n",
       "      <th>924620</th>\n",
       "      <td>fffffa7cf7e453e1acc6a1426475d5cb9400859f82ff61...</td>\n",
       "      <td>0.050548</td>\n",
       "    </tr>\n",
       "  </tbody>\n",
       "</table>\n",
       "<p>924621 rows × 2 columns</p>\n",
       "</div>"
      ],
      "text/plain": [
       "                                              customer_ID  prediction\n",
       "0       00000469ba478561f23a92a868bd366de6f6527a684c9a...    0.049214\n",
       "1       00001bf2e77ff879fab36aa4fac689b9ba411dae63ae39...    0.001540\n",
       "2       0000210045da4f81e5f122c6bde5c2a617d03eef67f82c...    0.009838\n",
       "3       00003b41e58ede33b8daf61ab56d9952f17c9ad1c3976c...    0.175485\n",
       "4       00004b22eaeeeb0ec976890c1d9bfc14fd9427e98c4ee9...    0.889892\n",
       "...                                                   ...         ...\n",
       "924616  ffff952c631f2c911b8a2a8ca56ea6e656309a83d2f64c...    0.037112\n",
       "924617  ffffcf5df59e5e0bba2a5ac4578a34e2b5aa64a1546cd3...    0.829154\n",
       "924618  ffffd61f098cc056dbd7d2a21380c4804bbfe60856f475...    0.806107\n",
       "924619  ffffddef1fc3643ea179c93245b68dca0f36941cd83977...    0.668254\n",
       "924620  fffffa7cf7e453e1acc6a1426475d5cb9400859f82ff61...    0.050548\n",
       "\n",
       "[924621 rows x 2 columns]"
      ]
     },
     "execution_count": 26,
     "metadata": {},
     "output_type": "execute_result"
    }
   ],
   "source": [
    "submission = pd.read_csv('./data/sample_submission.csv')\n",
    "submission['prediction'] = pred_final\n",
    "submission"
   ]
  },
  {
   "cell_type": "code",
   "execution_count": 27,
   "metadata": {},
   "outputs": [],
   "source": [
    "submission.to_csv('submission.csv', index=False)"
   ]
  },
  {
   "cell_type": "code",
   "execution_count": null,
   "metadata": {},
   "outputs": [],
   "source": []
  }
 ],
 "metadata": {
  "kernelspec": {
   "display_name": "Python 3.8.5 ('base')",
   "language": "python",
   "name": "python3"
  },
  "language_info": {
   "codemirror_mode": {
    "name": "ipython",
    "version": 3
   },
   "file_extension": ".py",
   "mimetype": "text/x-python",
   "name": "python",
   "nbconvert_exporter": "python",
   "pygments_lexer": "ipython3",
   "version": "3.8.5"
  },
  "orig_nbformat": 4,
  "vscode": {
   "interpreter": {
    "hash": "bb22bed4442154fb3a19c63ce3e9993d02bf4fd0be5c23680b344f0e088c080f"
   }
  }
 },
 "nbformat": 4,
 "nbformat_minor": 2
}
