{
 "cells": [
  {
   "cell_type": "code",
   "execution_count": 1,
   "metadata": {},
   "outputs": [],
   "source": [
    "import os\n",
    "import gc\n",
    "\n",
    "import pandas as pd\n",
    "import numpy as np\n",
    "import matplotlib.pyplot as plt\n",
    "\n",
    "from sklearn.model_selection import KFold\n",
    "import xgboost as xgb"
   ]
  },
  {
   "cell_type": "code",
   "execution_count": 2,
   "metadata": {},
   "outputs": [],
   "source": [
    "SEED = 42\n",
    "NAN_VALUE = -127    # will fit in int8\n",
    "FOLDS = 5\n",
    "\n",
    "TRAIN_PATH = './data/train.parquet'\n",
    "TEST_PATH = './data/test.parquet'"
   ]
  },
  {
   "cell_type": "markdown",
   "metadata": {},
   "source": [
    "##### Process and Feature Engineer Train Data"
   ]
  },
  {
   "cell_type": "code",
   "execution_count": 3,
   "metadata": {},
   "outputs": [
    {
     "name": "stdout",
     "output_type": "stream",
     "text": [
      "Reading train data...\n",
      "shape of data: (5531451, 190)\n"
     ]
    }
   ],
   "source": [
    "def read_file(path='', usecols=None):\n",
    "    if usecols is not None:\n",
    "        df = pd.read_parquet(path, columns=usecols)\n",
    "    else:\n",
    "        df = pd.read_parquet(path)\n",
    "\n",
    "    # df['customer_ID'] = df['customer_ID'].str[-16:].str.hex_to_int().astype('int64')\n",
    "    # df['customer_ID'] = df['customer_ID'].str[-16:].apply(int, base=16).astype('int64')\n",
    "    df['customer_ID'] = df['customer_ID'].apply(lambda x: int(x[-16:], base=16)).astype('int64')\n",
    "    df['S_2'] = pd.to_datetime(df['S_2'])\n",
    "    df = df.fillna(NAN_VALUE)\n",
    "    print('shape of data:', df.shape)\n",
    "\n",
    "    return df\n",
    "\n",
    "print('Reading train data...')\n",
    "train = read_file(path=TRAIN_PATH)"
   ]
  },
  {
   "cell_type": "code",
   "execution_count": 4,
   "metadata": {},
   "outputs": [
    {
     "data": {
      "text/html": [
       "<div>\n",
       "<style scoped>\n",
       "    .dataframe tbody tr th:only-of-type {\n",
       "        vertical-align: middle;\n",
       "    }\n",
       "\n",
       "    .dataframe tbody tr th {\n",
       "        vertical-align: top;\n",
       "    }\n",
       "\n",
       "    .dataframe thead th {\n",
       "        text-align: right;\n",
       "    }\n",
       "</style>\n",
       "<table border=\"1\" class=\"dataframe\">\n",
       "  <thead>\n",
       "    <tr style=\"text-align: right;\">\n",
       "      <th></th>\n",
       "      <th>customer_ID</th>\n",
       "      <th>S_2</th>\n",
       "      <th>P_2</th>\n",
       "      <th>D_39</th>\n",
       "      <th>B_1</th>\n",
       "      <th>B_2</th>\n",
       "      <th>R_1</th>\n",
       "      <th>S_3</th>\n",
       "      <th>D_41</th>\n",
       "      <th>B_3</th>\n",
       "      <th>...</th>\n",
       "      <th>D_136</th>\n",
       "      <th>D_137</th>\n",
       "      <th>D_138</th>\n",
       "      <th>D_139</th>\n",
       "      <th>D_140</th>\n",
       "      <th>D_141</th>\n",
       "      <th>D_142</th>\n",
       "      <th>D_143</th>\n",
       "      <th>D_144</th>\n",
       "      <th>D_145</th>\n",
       "    </tr>\n",
       "  </thead>\n",
       "  <tbody>\n",
       "    <tr>\n",
       "      <th>0</th>\n",
       "      <td>-4532153018459703766</td>\n",
       "      <td>2017-03-09</td>\n",
       "      <td>0.938469</td>\n",
       "      <td>0</td>\n",
       "      <td>0.008724</td>\n",
       "      <td>1.006838</td>\n",
       "      <td>0.009228</td>\n",
       "      <td>0.124035</td>\n",
       "      <td>0.0</td>\n",
       "      <td>0.004709</td>\n",
       "      <td>...</td>\n",
       "      <td>-1</td>\n",
       "      <td>-1</td>\n",
       "      <td>-1</td>\n",
       "      <td>0</td>\n",
       "      <td>0</td>\n",
       "      <td>0.0</td>\n",
       "      <td>-127.0</td>\n",
       "      <td>0</td>\n",
       "      <td>0.000610</td>\n",
       "      <td>0</td>\n",
       "    </tr>\n",
       "    <tr>\n",
       "      <th>1</th>\n",
       "      <td>-4532153018459703766</td>\n",
       "      <td>2017-04-07</td>\n",
       "      <td>0.936665</td>\n",
       "      <td>0</td>\n",
       "      <td>0.004923</td>\n",
       "      <td>1.000653</td>\n",
       "      <td>0.006151</td>\n",
       "      <td>0.126750</td>\n",
       "      <td>0.0</td>\n",
       "      <td>0.002714</td>\n",
       "      <td>...</td>\n",
       "      <td>-1</td>\n",
       "      <td>-1</td>\n",
       "      <td>-1</td>\n",
       "      <td>0</td>\n",
       "      <td>0</td>\n",
       "      <td>0.0</td>\n",
       "      <td>-127.0</td>\n",
       "      <td>0</td>\n",
       "      <td>0.005492</td>\n",
       "      <td>0</td>\n",
       "    </tr>\n",
       "    <tr>\n",
       "      <th>2</th>\n",
       "      <td>-4532153018459703766</td>\n",
       "      <td>2017-05-28</td>\n",
       "      <td>0.954180</td>\n",
       "      <td>3</td>\n",
       "      <td>0.021655</td>\n",
       "      <td>1.009672</td>\n",
       "      <td>0.006815</td>\n",
       "      <td>0.123977</td>\n",
       "      <td>0.0</td>\n",
       "      <td>0.009423</td>\n",
       "      <td>...</td>\n",
       "      <td>-1</td>\n",
       "      <td>-1</td>\n",
       "      <td>-1</td>\n",
       "      <td>0</td>\n",
       "      <td>0</td>\n",
       "      <td>0.0</td>\n",
       "      <td>-127.0</td>\n",
       "      <td>0</td>\n",
       "      <td>0.006986</td>\n",
       "      <td>0</td>\n",
       "    </tr>\n",
       "    <tr>\n",
       "      <th>3</th>\n",
       "      <td>-4532153018459703766</td>\n",
       "      <td>2017-06-13</td>\n",
       "      <td>0.960384</td>\n",
       "      <td>0</td>\n",
       "      <td>0.013683</td>\n",
       "      <td>1.002700</td>\n",
       "      <td>0.001373</td>\n",
       "      <td>0.117169</td>\n",
       "      <td>0.0</td>\n",
       "      <td>0.005531</td>\n",
       "      <td>...</td>\n",
       "      <td>-1</td>\n",
       "      <td>-1</td>\n",
       "      <td>-1</td>\n",
       "      <td>0</td>\n",
       "      <td>0</td>\n",
       "      <td>0.0</td>\n",
       "      <td>-127.0</td>\n",
       "      <td>0</td>\n",
       "      <td>0.006527</td>\n",
       "      <td>0</td>\n",
       "    </tr>\n",
       "    <tr>\n",
       "      <th>4</th>\n",
       "      <td>-4532153018459703766</td>\n",
       "      <td>2017-07-16</td>\n",
       "      <td>0.947248</td>\n",
       "      <td>0</td>\n",
       "      <td>0.015193</td>\n",
       "      <td>1.000727</td>\n",
       "      <td>0.007605</td>\n",
       "      <td>0.117325</td>\n",
       "      <td>0.0</td>\n",
       "      <td>0.009312</td>\n",
       "      <td>...</td>\n",
       "      <td>-1</td>\n",
       "      <td>-1</td>\n",
       "      <td>-1</td>\n",
       "      <td>0</td>\n",
       "      <td>0</td>\n",
       "      <td>0.0</td>\n",
       "      <td>-127.0</td>\n",
       "      <td>0</td>\n",
       "      <td>0.008126</td>\n",
       "      <td>0</td>\n",
       "    </tr>\n",
       "  </tbody>\n",
       "</table>\n",
       "<p>5 rows × 190 columns</p>\n",
       "</div>"
      ],
      "text/plain": [
       "           customer_ID        S_2       P_2  D_39       B_1       B_2  \\\n",
       "0 -4532153018459703766 2017-03-09  0.938469     0  0.008724  1.006838   \n",
       "1 -4532153018459703766 2017-04-07  0.936665     0  0.004923  1.000653   \n",
       "2 -4532153018459703766 2017-05-28  0.954180     3  0.021655  1.009672   \n",
       "3 -4532153018459703766 2017-06-13  0.960384     0  0.013683  1.002700   \n",
       "4 -4532153018459703766 2017-07-16  0.947248     0  0.015193  1.000727   \n",
       "\n",
       "        R_1       S_3  D_41       B_3  ...  D_136  D_137  D_138  D_139  D_140  \\\n",
       "0  0.009228  0.124035   0.0  0.004709  ...     -1     -1     -1      0      0   \n",
       "1  0.006151  0.126750   0.0  0.002714  ...     -1     -1     -1      0      0   \n",
       "2  0.006815  0.123977   0.0  0.009423  ...     -1     -1     -1      0      0   \n",
       "3  0.001373  0.117169   0.0  0.005531  ...     -1     -1     -1      0      0   \n",
       "4  0.007605  0.117325   0.0  0.009312  ...     -1     -1     -1      0      0   \n",
       "\n",
       "   D_141  D_142  D_143     D_144  D_145  \n",
       "0    0.0 -127.0      0  0.000610      0  \n",
       "1    0.0 -127.0      0  0.005492      0  \n",
       "2    0.0 -127.0      0  0.006986      0  \n",
       "3    0.0 -127.0      0  0.006527      0  \n",
       "4    0.0 -127.0      0  0.008126      0  \n",
       "\n",
       "[5 rows x 190 columns]"
      ]
     },
     "execution_count": 4,
     "metadata": {},
     "output_type": "execute_result"
    }
   ],
   "source": [
    "train.head()"
   ]
  },
  {
   "cell_type": "code",
   "execution_count": 5,
   "metadata": {},
   "outputs": [
    {
     "name": "stdout",
     "output_type": "stream",
     "text": [
      "shape after engineering (458913, 918)\n"
     ]
    }
   ],
   "source": [
    "def process_and_feature_engineer(df):\n",
    "    all_cols = [c for c in list(df.columns) if c not in ['customer_ID', 'S_2']]\n",
    "    cat_features = [\n",
    "        \"B_30\", \"B_38\", \"D_114\", \"D_116\", \"D_117\", \"D_120\", \"D_126\", \"D_63\",\n",
    "        \"D_64\",\"D_66\", \"D_68\"\n",
    "    ]\n",
    "    num_features = [col for col in all_cols if col not in cat_features]\n",
    "\n",
    "    df_num_agg = df.groupby('customer_ID')[num_features].agg(['mean', 'std', 'min', 'max', 'last'])\n",
    "    df_num_agg.columns = ['_'.join(x) for x in df_num_agg.columns]\n",
    "\n",
    "    df_cat_agg = df.groupby('customer_ID')[cat_features].agg(['count', 'last', 'nunique'])\n",
    "    df_cat_agg.columns = ['_'.join(x) for x in df_cat_agg.columns]\n",
    "\n",
    "    df = pd.concat([df_num_agg, df_cat_agg], axis=1)\n",
    "    del df_num_agg, df_cat_agg\n",
    "    gc.collect()\n",
    "    print('shape after engineering', df.shape)\n",
    "\n",
    "    return df\n",
    "\n",
    "train = process_and_feature_engineer(train)"
   ]
  },
  {
   "cell_type": "code",
   "execution_count": 6,
   "metadata": {},
   "outputs": [
    {
     "name": "stdout",
     "output_type": "stream",
     "text": [
      "There are 918 features!\n"
     ]
    }
   ],
   "source": [
    "targets = pd.read_csv('./data/train_labels.csv')\n",
    "targets['customer_ID'] = targets['customer_ID'].str[-16:].apply(int, base=16).astype('int64')\n",
    "targets = targets.set_index('customer_ID')\n",
    "train = train.merge(targets, left_index=True, right_index=True, how='left')\n",
    "train['target'] = train['target'].astype('int8')\n",
    "del targets\n",
    "gc.collect()\n",
    "\n",
    "train = train.sort_index().reset_index()\n",
    "FEATURES = train.columns[1:-1]\n",
    "print(f'There are {len(FEATURES)} features!')"
   ]
  },
  {
   "cell_type": "markdown",
   "metadata": {},
   "source": [
    "##### Train XGB"
   ]
  },
  {
   "cell_type": "code",
   "execution_count": 7,
   "metadata": {},
   "outputs": [],
   "source": [
    "xgb_parms = { \n",
    "    'max_depth': 4, \n",
    "    'learning_rate': 0.05, \n",
    "    'subsample': 0.8,\n",
    "    'colsample_bytree': 0.6, \n",
    "    'eval_metric': 'logloss',\n",
    "    'objective': 'binary:logistic',\n",
    "    'tree_method': 'gpu_hist',\n",
    "    'predictor': 'gpu_predictor',\n",
    "    'random_state': SEED\n",
    "}"
   ]
  },
  {
   "cell_type": "code",
   "execution_count": 8,
   "metadata": {},
   "outputs": [],
   "source": [
    "class IterLoadForDMatrix(xgb.core.DataIter):\n",
    "    def __init__(self, df=None, features=None, target=None, batch_size=256 * 1024):\n",
    "        self.features = features\n",
    "        self.target = target\n",
    "        self.df = df\n",
    "        self.i = 0\n",
    "        self.batch_size = batch_size\n",
    "        self.batches = int(np.ceil(len(df) / self.batch_size))\n",
    "        super().__init__()\n",
    "\n",
    "    def reset(self):\n",
    "        self.it = 0\n",
    "\n",
    "    def next(self, input_data):\n",
    "        if self.it == self.batches:\n",
    "            return 0\n",
    "\n",
    "        a = self.it * self.batch_size\n",
    "        b = min((self.it + 1) * self.batch_size, len(self.df))\n",
    "        dt = pd.DataFrame(self.df.iloc[a:b])\n",
    "        input_data(data=dt[self.features], label=dt[self.target])\n",
    "        self.it += 1\n",
    "        return 1"
   ]
  },
  {
   "cell_type": "code",
   "execution_count": 9,
   "metadata": {},
   "outputs": [],
   "source": [
    "def amex_metric_mod(y_true, y_pred):\n",
    "    labels = np.transpose(np.array([y_true, y_pred]))\n",
    "    labels = labels[labels[:, 1].argsort()[::-1]]\n",
    "    weights = np.where(labels[:, 0] == 0, 20, 1)\n",
    "    cut_vals = labels[np.cumsum(weights) <= int(0.04 * np.sum(weights))]\n",
    "    top_four = np.sum(cut_vals[:, 0]) / np.sum(labels[:, 0])\n",
    "\n",
    "    gini = [0, 0]\n",
    "    for i in [1, 0]:\n",
    "        labels = np.transpose(np.array([y_true, y_pred]))\n",
    "        labels = labels[labels[:, i].argsort()[::-1]]\n",
    "        weight = np.where(labels[:, 0] == 0, 20, 1)\n",
    "        weight_random = np.cumsum(weight / np.sum(weight))\n",
    "        total_pos = np.sum(labels[:, 0] *  weight)\n",
    "        cum_pos_found = np.cumsum(labels[:, 0] * weight)\n",
    "        lorentz = cum_pos_found / total_pos\n",
    "        gini[i] = np.sum((lorentz - weight_random) * weight)\n",
    "\n",
    "    return 0.5 * (gini[1] / gini[0] + top_four)"
   ]
  },
  {
   "cell_type": "code",
   "execution_count": 10,
   "metadata": {},
   "outputs": [
    {
     "name": "stdout",
     "output_type": "stream",
     "text": [
      "#########################\n",
      "### Fold 1\n",
      "### Train size 367130 Valid size 91783\n",
      "### Training with 100 % fold data...\n",
      "#########################\n",
      "[0]\ttrain-logloss:0.66203\tvalid-logloss:0.66207\n",
      "[100]\ttrain-logloss:0.23667\tvalid-logloss:0.23947\n",
      "[200]\ttrain-logloss:0.22241\tvalid-logloss:0.22761\n",
      "[300]\ttrain-logloss:0.21639\tvalid-logloss:0.22360\n",
      "[400]\ttrain-logloss:0.21240\tvalid-logloss:0.22157\n",
      "[500]\ttrain-logloss:0.20917\tvalid-logloss:0.22034\n",
      "[600]\ttrain-logloss:0.20641\tvalid-logloss:0.21948\n",
      "[700]\ttrain-logloss:0.20395\tvalid-logloss:0.21886\n",
      "[800]\ttrain-logloss:0.20173\tvalid-logloss:0.21843\n",
      "[900]\ttrain-logloss:0.19954\tvalid-logloss:0.21813\n",
      "[1000]\ttrain-logloss:0.19750\tvalid-logloss:0.21793\n",
      "[1100]\ttrain-logloss:0.19543\tvalid-logloss:0.21770\n",
      "[1200]\ttrain-logloss:0.19352\tvalid-logloss:0.21759\n",
      "[1300]\ttrain-logloss:0.19164\tvalid-logloss:0.21742\n",
      "[1400]\ttrain-logloss:0.18986\tvalid-logloss:0.21731\n",
      "[1500]\ttrain-logloss:0.18811\tvalid-logloss:0.21725\n",
      "[1600]\ttrain-logloss:0.18631\tvalid-logloss:0.21721\n",
      "[1700]\ttrain-logloss:0.18456\tvalid-logloss:0.21712\n",
      "[1800]\ttrain-logloss:0.18287\tvalid-logloss:0.21711\n",
      "[1900]\ttrain-logloss:0.18124\tvalid-logloss:0.21705\n",
      "[2000]\ttrain-logloss:0.17961\tvalid-logloss:0.21701\n",
      "[2100]\ttrain-logloss:0.17803\tvalid-logloss:0.21697\n",
      "[2141]\ttrain-logloss:0.17738\tvalid-logloss:0.21698\n",
      "Kaggle Metric =  0.7928883064604257 \n",
      "\n",
      "#########################\n",
      "### Fold 2\n",
      "### Train size 367130 Valid size 91783\n",
      "### Training with 100 % fold data...\n",
      "#########################\n",
      "[0]\ttrain-logloss:0.66204\tvalid-logloss:0.66199\n",
      "[100]\ttrain-logloss:0.23713\tvalid-logloss:0.23767\n",
      "[200]\ttrain-logloss:0.22275\tvalid-logloss:0.22539\n",
      "[300]\ttrain-logloss:0.21667\tvalid-logloss:0.22141\n",
      "[400]\ttrain-logloss:0.21269\tvalid-logloss:0.21951\n",
      "[500]\ttrain-logloss:0.20951\tvalid-logloss:0.21837\n",
      "[600]\ttrain-logloss:0.20678\tvalid-logloss:0.21767\n",
      "[700]\ttrain-logloss:0.20433\tvalid-logloss:0.21718\n",
      "[800]\ttrain-logloss:0.20199\tvalid-logloss:0.21686\n",
      "[900]\ttrain-logloss:0.19981\tvalid-logloss:0.21663\n",
      "[1000]\ttrain-logloss:0.19769\tvalid-logloss:0.21644\n",
      "[1100]\ttrain-logloss:0.19571\tvalid-logloss:0.21629\n",
      "[1200]\ttrain-logloss:0.19376\tvalid-logloss:0.21613\n",
      "[1300]\ttrain-logloss:0.19189\tvalid-logloss:0.21601\n",
      "[1400]\ttrain-logloss:0.19003\tvalid-logloss:0.21594\n",
      "[1500]\ttrain-logloss:0.18817\tvalid-logloss:0.21587\n",
      "[1600]\ttrain-logloss:0.18638\tvalid-logloss:0.21582\n",
      "[1700]\ttrain-logloss:0.18468\tvalid-logloss:0.21577\n",
      "[1800]\ttrain-logloss:0.18297\tvalid-logloss:0.21570\n",
      "[1898]\ttrain-logloss:0.18139\tvalid-logloss:0.21573\n",
      "Kaggle Metric =  0.7928118626246325 \n",
      "\n",
      "#########################\n",
      "### Fold 3\n",
      "### Train size 367130 Valid size 91783\n",
      "### Training with 100 % fold data...\n",
      "#########################\n",
      "[0]\ttrain-logloss:0.66204\tvalid-logloss:0.66214\n",
      "[100]\ttrain-logloss:0.23640\tvalid-logloss:0.24053\n",
      "[200]\ttrain-logloss:0.22193\tvalid-logloss:0.22854\n",
      "[300]\ttrain-logloss:0.21594\tvalid-logloss:0.22468\n",
      "[400]\ttrain-logloss:0.21194\tvalid-logloss:0.22266\n",
      "[500]\ttrain-logloss:0.20872\tvalid-logloss:0.22156\n",
      "[600]\ttrain-logloss:0.20597\tvalid-logloss:0.22088\n",
      "[700]\ttrain-logloss:0.20345\tvalid-logloss:0.22040\n",
      "[800]\ttrain-logloss:0.20116\tvalid-logloss:0.22003\n",
      "[900]\ttrain-logloss:0.19893\tvalid-logloss:0.21975\n",
      "[1000]\ttrain-logloss:0.19688\tvalid-logloss:0.21955\n",
      "[1100]\ttrain-logloss:0.19488\tvalid-logloss:0.21929\n",
      "[1200]\ttrain-logloss:0.19291\tvalid-logloss:0.21912\n",
      "[1300]\ttrain-logloss:0.19104\tvalid-logloss:0.21911\n",
      "[1400]\ttrain-logloss:0.18926\tvalid-logloss:0.21900\n",
      "[1500]\ttrain-logloss:0.18753\tvalid-logloss:0.21896\n",
      "[1600]\ttrain-logloss:0.18576\tvalid-logloss:0.21894\n",
      "[1679]\ttrain-logloss:0.18440\tvalid-logloss:0.21895\n",
      "Kaggle Metric =  0.7897506314852754 \n",
      "\n",
      "#########################\n",
      "### Fold 4\n",
      "### Train size 367131 Valid size 91782\n",
      "### Training with 100 % fold data...\n",
      "#########################\n",
      "[0]\ttrain-logloss:0.66200\tvalid-logloss:0.66212\n",
      "[100]\ttrain-logloss:0.23622\tvalid-logloss:0.24068\n",
      "[200]\ttrain-logloss:0.22196\tvalid-logloss:0.22872\n",
      "[300]\ttrain-logloss:0.21586\tvalid-logloss:0.22496\n",
      "[400]\ttrain-logloss:0.21177\tvalid-logloss:0.22304\n",
      "[500]\ttrain-logloss:0.20862\tvalid-logloss:0.22189\n",
      "[600]\ttrain-logloss:0.20584\tvalid-logloss:0.22120\n",
      "[700]\ttrain-logloss:0.20338\tvalid-logloss:0.22072\n",
      "[800]\ttrain-logloss:0.20111\tvalid-logloss:0.22042\n",
      "[900]\ttrain-logloss:0.19899\tvalid-logloss:0.22015\n",
      "[1000]\ttrain-logloss:0.19688\tvalid-logloss:0.21993\n",
      "[1100]\ttrain-logloss:0.19488\tvalid-logloss:0.21971\n",
      "[1200]\ttrain-logloss:0.19286\tvalid-logloss:0.21956\n",
      "[1300]\ttrain-logloss:0.19101\tvalid-logloss:0.21943\n",
      "[1400]\ttrain-logloss:0.18914\tvalid-logloss:0.21938\n",
      "[1500]\ttrain-logloss:0.18728\tvalid-logloss:0.21933\n",
      "[1600]\ttrain-logloss:0.18557\tvalid-logloss:0.21933\n",
      "[1700]\ttrain-logloss:0.18384\tvalid-logloss:0.21930\n",
      "[1800]\ttrain-logloss:0.18216\tvalid-logloss:0.21927\n",
      "[1900]\ttrain-logloss:0.18053\tvalid-logloss:0.21924\n",
      "[2000]\ttrain-logloss:0.17886\tvalid-logloss:0.21922\n",
      "[2072]\ttrain-logloss:0.17771\tvalid-logloss:0.21926\n",
      "Kaggle Metric =  0.7868997083761164 \n",
      "\n",
      "#########################\n",
      "### Fold 5\n",
      "### Train size 367131 Valid size 91782\n",
      "### Training with 100 % fold data...\n",
      "#########################\n",
      "[0]\ttrain-logloss:0.66202\tvalid-logloss:0.66194\n",
      "[100]\ttrain-logloss:0.23723\tvalid-logloss:0.23763\n",
      "[200]\ttrain-logloss:0.22296\tvalid-logloss:0.22542\n",
      "[300]\ttrain-logloss:0.21688\tvalid-logloss:0.22150\n",
      "[400]\ttrain-logloss:0.21280\tvalid-logloss:0.21946\n",
      "[500]\ttrain-logloss:0.20963\tvalid-logloss:0.21833\n",
      "[600]\ttrain-logloss:0.20691\tvalid-logloss:0.21757\n",
      "[700]\ttrain-logloss:0.20445\tvalid-logloss:0.21709\n",
      "[800]\ttrain-logloss:0.20211\tvalid-logloss:0.21665\n",
      "[900]\ttrain-logloss:0.19989\tvalid-logloss:0.21637\n",
      "[1000]\ttrain-logloss:0.19773\tvalid-logloss:0.21613\n",
      "[1100]\ttrain-logloss:0.19576\tvalid-logloss:0.21598\n",
      "[1200]\ttrain-logloss:0.19383\tvalid-logloss:0.21584\n",
      "[1300]\ttrain-logloss:0.19191\tvalid-logloss:0.21572\n",
      "[1400]\ttrain-logloss:0.19003\tvalid-logloss:0.21562\n",
      "[1500]\ttrain-logloss:0.18825\tvalid-logloss:0.21555\n",
      "[1600]\ttrain-logloss:0.18642\tvalid-logloss:0.21550\n",
      "[1700]\ttrain-logloss:0.18469\tvalid-logloss:0.21546\n",
      "[1800]\ttrain-logloss:0.18300\tvalid-logloss:0.21542\n",
      "[1900]\ttrain-logloss:0.18138\tvalid-logloss:0.21543\n",
      "[2000]\ttrain-logloss:0.17968\tvalid-logloss:0.21536\n",
      "[2053]\ttrain-logloss:0.17880\tvalid-logloss:0.21538\n",
      "Kaggle Metric =  0.7949674056643292 \n",
      "\n",
      "#########################\n",
      "OVERALL CV Kaggle Metric =  0.7916594139397315\n"
     ]
    }
   ],
   "source": [
    "importances = []\n",
    "oof = []\n",
    "TRAIN_SUBSAMPLE = 1.0\n",
    "gc.collect()\n",
    "\n",
    "skf = KFold(n_splits=FOLDS, shuffle=True, random_state=SEED)\n",
    "for fold, (train_idx, valid_idx) in enumerate(skf.split(train, train.target)):\n",
    "    # Train with subsample of train fold data\n",
    "    if TRAIN_SUBSAMPLE < 1.0:\n",
    "        np.random.seed(SEED)\n",
    "        train_idx = np.random.choice(train_idx, int(len(train_idx) * TRAIN_SUBSAMPLE), replace=False)\n",
    "        np.random.seed(None)\n",
    "\n",
    "    print('#' * 25)\n",
    "    print('### Fold', fold + 1)\n",
    "    print('### Train size', len(train_idx), 'Valid size', len(valid_idx))\n",
    "    print(f'### Training with {int(TRAIN_SUBSAMPLE * 100)} % fold data...')\n",
    "    print('#' * 25)\n",
    "\n",
    "    # train, valid, test for fold k\n",
    "    # Xy_train = IterLoadForDMatrix(train.loc[train_idx], FEATURES, 'target')\n",
    "    X_train = train.loc[train_idx, FEATURES]\n",
    "    y_train = train.loc[train_idx, 'target']\n",
    "    X_valid = train.loc[valid_idx, FEATURES]\n",
    "    y_valid = train.loc[valid_idx, 'target']\n",
    "\n",
    "    # dtrain = xgb.DeviceQuantileDMatrix(Xy_train, max_bin=256)\n",
    "    dtrain = xgb.DMatrix(data=X_train, label=y_train)\n",
    "    dvalid = xgb.DMatrix(data=X_valid, label=y_valid)\n",
    "\n",
    "    # train model fold k\n",
    "    model = xgb.train(\n",
    "        xgb_parms,\n",
    "        dtrain=dtrain,\n",
    "        evals=[(dtrain, 'train'), (dvalid, 'valid')],\n",
    "        num_boost_round=9999,\n",
    "        early_stopping_rounds=100,\n",
    "        verbose_eval=100\n",
    "    )\n",
    "    model.save_model(f'XGB_fold{fold}.xgb')\n",
    "\n",
    "    # get feature importance for fold k\n",
    "    dd = model.get_score(importance_type='weight')\n",
    "    df = pd.DataFrame({'feature': dd.keys(), f'importance_{fold}': dd.values()})\n",
    "    importances.append(df)\n",
    "\n",
    "    # infer oof fold k\n",
    "    oof_preds = model.predict(dvalid)\n",
    "    acc = amex_metric_mod(y_valid.values, oof_preds)\n",
    "    print('Kaggle Metric = ', acc, '\\n')\n",
    "\n",
    "    # save oof\n",
    "    df = train.loc[valid_idx, ['customer_ID', 'target']].copy()\n",
    "    df['oof_pred'] = oof_preds\n",
    "    oof.append(df)\n",
    "\n",
    "    del dtrain, dd, df\n",
    "    del X_train, y_train, X_valid, y_valid, dvalid, model\n",
    "    gc.collect()\n",
    "\n",
    "print('#' * 25)\n",
    "oof = pd.concat(oof, axis=0, ignore_index=True).set_index('customer_ID')\n",
    "acc = amex_metric_mod(oof.target.values, oof.oof_pred.values)\n",
    "print('OVERALL CV Kaggle Metric = ', acc)\n",
    "\n",
    "with open('score_xgboost.txt', 'w') as f:\n",
    "    f.write(str(acc))"
   ]
  },
  {
   "cell_type": "code",
   "execution_count": 11,
   "metadata": {},
   "outputs": [
    {
     "data": {
      "text/plain": [
       "20"
      ]
     },
     "execution_count": 11,
     "metadata": {},
     "output_type": "execute_result"
    }
   ],
   "source": [
    "del train\n",
    "gc.collect()"
   ]
  },
  {
   "cell_type": "markdown",
   "metadata": {},
   "source": [
    "##### Save OOF Preds"
   ]
  },
  {
   "cell_type": "code",
   "execution_count": 12,
   "metadata": {},
   "outputs": [
    {
     "data": {
      "text/html": [
       "<div>\n",
       "<style scoped>\n",
       "    .dataframe tbody tr th:only-of-type {\n",
       "        vertical-align: middle;\n",
       "    }\n",
       "\n",
       "    .dataframe tbody tr th {\n",
       "        vertical-align: top;\n",
       "    }\n",
       "\n",
       "    .dataframe thead th {\n",
       "        text-align: right;\n",
       "    }\n",
       "</style>\n",
       "<table border=\"1\" class=\"dataframe\">\n",
       "  <thead>\n",
       "    <tr style=\"text-align: right;\">\n",
       "      <th></th>\n",
       "      <th>customer_ID</th>\n",
       "      <th>target</th>\n",
       "      <th>oof_pred</th>\n",
       "    </tr>\n",
       "  </thead>\n",
       "  <tbody>\n",
       "    <tr>\n",
       "      <th>0</th>\n",
       "      <td>20eac26171c3d251c55fc78204e59fab1c15fc2bc96d0c...</td>\n",
       "      <td>1</td>\n",
       "      <td>0.728655</td>\n",
       "    </tr>\n",
       "    <tr>\n",
       "      <th>1</th>\n",
       "      <td>aea50fdf9b974ccec95fa177c3225a0f913483b457de6e...</td>\n",
       "      <td>0</td>\n",
       "      <td>0.000318</td>\n",
       "    </tr>\n",
       "    <tr>\n",
       "      <th>2</th>\n",
       "      <td>32cd2d41aef737b69089882754395925c96eaee1f4a859...</td>\n",
       "      <td>0</td>\n",
       "      <td>0.002138</td>\n",
       "    </tr>\n",
       "    <tr>\n",
       "      <th>3</th>\n",
       "      <td>8daa6d5dc2655a8a437531e6b8b96829113cdfe9bf6cae...</td>\n",
       "      <td>0</td>\n",
       "      <td>0.014430</td>\n",
       "    </tr>\n",
       "    <tr>\n",
       "      <th>4</th>\n",
       "      <td>0ceba351a3851202542feb49d7385bcef32f6037fc57c7...</td>\n",
       "      <td>1</td>\n",
       "      <td>0.834159</td>\n",
       "    </tr>\n",
       "  </tbody>\n",
       "</table>\n",
       "</div>"
      ],
      "text/plain": [
       "                                         customer_ID  target  oof_pred\n",
       "0  20eac26171c3d251c55fc78204e59fab1c15fc2bc96d0c...       1  0.728655\n",
       "1  aea50fdf9b974ccec95fa177c3225a0f913483b457de6e...       0  0.000318\n",
       "2  32cd2d41aef737b69089882754395925c96eaee1f4a859...       0  0.002138\n",
       "3  8daa6d5dc2655a8a437531e6b8b96829113cdfe9bf6cae...       0  0.014430\n",
       "4  0ceba351a3851202542feb49d7385bcef32f6037fc57c7...       1  0.834159"
      ]
     },
     "execution_count": 12,
     "metadata": {},
     "output_type": "execute_result"
    }
   ],
   "source": [
    "oof_xgb = pd.read_parquet(TRAIN_PATH, columns=['customer_ID']).drop_duplicates()\n",
    "oof_xgb['customer_ID_hash'] = oof_xgb['customer_ID'].apply(lambda x: int(x[-16:], 16)).astype('int64')\n",
    "oof_xgb = oof_xgb.set_index('customer_ID_hash')\n",
    "oof_xgb = oof_xgb.merge(oof, left_index=True, right_index=True)\n",
    "oof_xgb = oof_xgb.sort_index().reset_index(drop=True)\n",
    "oof_xgb.to_csv(f'oof_xgb.csv', index=False)\n",
    "oof_xgb.head()"
   ]
  },
  {
   "cell_type": "code",
   "execution_count": 13,
   "metadata": {},
   "outputs": [
    {
     "data": {
      "image/png": "[encoded data removed]",
      "text/plain": [
       "<Figure size 432x288 with 1 Axes>"
      ]
     },
     "metadata": {
      "needs_background": "light"
     },
     "output_type": "display_data"
    }
   ],
   "source": [
    "plt.hist(oof_xgb.oof_pred.values, bins=100)\n",
    "plt.title('OOF Predictions')\n",
    "plt.show()"
   ]
  },
  {
   "cell_type": "code",
   "execution_count": 14,
   "metadata": {},
   "outputs": [
    {
     "data": {
      "text/plain": [
       "10483"
      ]
     },
     "execution_count": 14,
     "metadata": {},
     "output_type": "execute_result"
    }
   ],
   "source": [
    "del oof_xgb, oof\n",
    "gc.collect()"
   ]
  },
  {
   "cell_type": "markdown",
   "metadata": {},
   "source": [
    "##### Feature Importance"
   ]
  },
  {
   "cell_type": "code",
   "execution_count": 15,
   "metadata": {},
   "outputs": [],
   "source": [
    "df = importances[0].copy()\n",
    "for k in range(1, FOLDS):\n",
    "    df = df.merge(importances[k], on='feature', how='left')\n",
    "    df['importance'] = df.iloc[:, 1:].mean(axis=1)\n",
    "    df = df.sort_values('importance', ascending=False)\n",
    "    df.to_csv(f'xgb_feature_importance.csv', index=False)"
   ]
  },
  {
   "cell_type": "code",
   "execution_count": 16,
   "metadata": {},
   "outputs": [
    {
     "data": {
      "image/png": "[encoded data removed]",
      "text/plain": [
       "<Figure size 720x720 with 1 Axes>"
      ]
     },
     "metadata": {
      "needs_background": "light"
     },
     "output_type": "display_data"
    }
   ],
   "source": [
    "NUM_FEATURES = 20\n",
    "plt.figure(figsize=(10, 5 * NUM_FEATURES // 10))\n",
    "plt.barh(np.arange(NUM_FEATURES, 0, -1), df.importance.values[:NUM_FEATURES])\n",
    "plt.yticks(np.arange(NUM_FEATURES, 0, -1), df.feature.values[:NUM_FEATURES])\n",
    "plt.title(f'XGB Feature Importance - Top {NUM_FEATURES}')\n",
    "plt.show()"
   ]
  },
  {
   "cell_type": "markdown",
   "metadata": {},
   "source": [
    "##### Process and Feature Engineer Test data"
   ]
  },
  {
   "cell_type": "code",
   "execution_count": 17,
   "metadata": {},
   "outputs": [
    {
     "name": "stdout",
     "output_type": "stream",
     "text": [
      "Reading test data...\n",
      "shape of data: (11363762, 2)\n",
      "We will process test data as 4 separate parts.\n",
      "There will be 231155 customers in each part (except the last part).\n",
      "Below are number of rows in each part:\n",
      "[2841209, 2839857, 2842105, 2840591]\n"
     ]
    }
   ],
   "source": [
    "def get_rows(customers, test, NUM_PARTS=4, verbose=''):\n",
    "    chunk = len(customers) // NUM_PARTS\n",
    "    if verbose != '':\n",
    "        print(f'We will process {verbose} data as {NUM_PARTS} separate parts.')\n",
    "        print(f'There will be {chunk} customers in each part (except the last part).')\n",
    "        print('Below are number of rows in each part:')\n",
    "    rows = []\n",
    "\n",
    "    for k in range(NUM_PARTS):\n",
    "        if k == NUM_PARTS - 1:\n",
    "            cc = customers[k * chunk:]\n",
    "        else:\n",
    "            cc = customers[k * chunk:(k + 1) * chunk]\n",
    "        s = test.loc[test.customer_ID.isin(cc)].shape[0]\n",
    "        rows.append(s)\n",
    "    if verbose != '':\n",
    "        print(rows)\n",
    "    return rows, chunk\n",
    "\n",
    "NUM_PARTS = 4\n",
    "\n",
    "print(f'Reading test data...')\n",
    "test = read_file(path=TEST_PATH, usecols=['customer_ID', 'S_2'])\n",
    "customers = test[['customer_ID']].drop_duplicates().sort_index().values.flatten()\n",
    "rows, num_cust = get_rows(customers, test[['customer_ID']], NUM_PARTS=NUM_PARTS, verbose='test')"
   ]
  },
  {
   "cell_type": "markdown",
   "metadata": {},
   "source": [
    "##### Infer Test"
   ]
  },
  {
   "cell_type": "code",
   "execution_count": 18,
   "metadata": {},
   "outputs": [
    {
     "name": "stdout",
     "output_type": "stream",
     "text": [
      "\n",
      "Reading test data...\n",
      "shape of data: (11363762, 190)\n",
      "=> Test part 1 has shape (2841209, 190)\n",
      "shape after engineering (231155, 918)\n",
      "\n",
      "Reading test data...\n",
      "shape of data: (11363762, 190)\n",
      "=> Test part 2 has shape (2839857, 190)\n",
      "shape after engineering (231155, 918)\n",
      "\n",
      "Reading test data...\n",
      "shape of data: (11363762, 190)\n",
      "=> Test part 3 has shape (2842105, 190)\n",
      "shape after engineering (231155, 918)\n",
      "\n",
      "Reading test data...\n",
      "shape of data: (11363762, 190)\n",
      "=> Test part 4 has shape (2840591, 190)\n",
      "shape after engineering (231156, 918)\n"
     ]
    }
   ],
   "source": [
    "skip_rows = 0\n",
    "skip_cust = 0\n",
    "test_preds = []\n",
    "\n",
    "for k in range(NUM_PARTS):\n",
    "    # read part of test data\n",
    "    print(f'\\nReading test data...')\n",
    "    test = read_file(path=TEST_PATH)\n",
    "    test = test.iloc[skip_rows:skip_rows + rows[k]]\n",
    "    skip_rows += rows[k]\n",
    "    print(f'=> Test part {k + 1} has shape', test.shape)\n",
    "    \n",
    "    # process and feature engineer part of test data\n",
    "    test = process_and_feature_engineer(test)\n",
    "    if k == NUM_PARTS - 1:\n",
    "        test = test.loc[customers[skip_cust:]]\n",
    "    else:\n",
    "        test = test.loc[customers[skip_cust:skip_cust + num_cust]]\n",
    "    skip_cust += num_cust\n",
    "\n",
    "    # test data for xgb\n",
    "    X_test = test[FEATURES]\n",
    "    dtest = xgb.DMatrix(data=X_test)\n",
    "    test = test[['P_2_mean']]\n",
    "    del X_test\n",
    "    gc.collect()\n",
    "\n",
    "    # infer xgb models on test data\n",
    "    model = xgb.Booster()\n",
    "    model.load_model(f'XGB_fold0.xgb')\n",
    "    preds = model.predict(dtest)\n",
    "    for f in range(1, FOLDS):\n",
    "        model.load_model(f'XGB_fold{f}.xgb')\n",
    "        preds += model.predict(dtest)\n",
    "    preds /= FOLDS\n",
    "    test_preds.append(preds)\n",
    "\n",
    "    del dtest, model\n",
    "    gc.collect()"
   ]
  },
  {
   "cell_type": "markdown",
   "metadata": {},
   "source": [
    "##### Create Submission CSV"
   ]
  },
  {
   "cell_type": "code",
   "execution_count": 19,
   "metadata": {},
   "outputs": [
    {
     "name": "stdout",
     "output_type": "stream",
     "text": [
      "Submission file shape is (924621, 2)\n"
     ]
    },
    {
     "data": {
      "text/html": [
       "<div>\n",
       "<style scoped>\n",
       "    .dataframe tbody tr th:only-of-type {\n",
       "        vertical-align: middle;\n",
       "    }\n",
       "\n",
       "    .dataframe tbody tr th {\n",
       "        vertical-align: top;\n",
       "    }\n",
       "\n",
       "    .dataframe thead th {\n",
       "        text-align: right;\n",
       "    }\n",
       "</style>\n",
       "<table border=\"1\" class=\"dataframe\">\n",
       "  <thead>\n",
       "    <tr style=\"text-align: right;\">\n",
       "      <th></th>\n",
       "      <th>customer_ID</th>\n",
       "      <th>prediction</th>\n",
       "    </tr>\n",
       "  </thead>\n",
       "  <tbody>\n",
       "    <tr>\n",
       "      <th>0</th>\n",
       "      <td>00000469ba478561f23a92a868bd366de6f6527a684c9a...</td>\n",
       "      <td>0.035222</td>\n",
       "    </tr>\n",
       "    <tr>\n",
       "      <th>1</th>\n",
       "      <td>00001bf2e77ff879fab36aa4fac689b9ba411dae63ae39...</td>\n",
       "      <td>0.001085</td>\n",
       "    </tr>\n",
       "    <tr>\n",
       "      <th>2</th>\n",
       "      <td>0000210045da4f81e5f122c6bde5c2a617d03eef67f82c...</td>\n",
       "      <td>0.088275</td>\n",
       "    </tr>\n",
       "    <tr>\n",
       "      <th>3</th>\n",
       "      <td>00003b41e58ede33b8daf61ab56d9952f17c9ad1c3976c...</td>\n",
       "      <td>0.248362</td>\n",
       "    </tr>\n",
       "    <tr>\n",
       "      <th>4</th>\n",
       "      <td>00004b22eaeeeb0ec976890c1d9bfc14fd9427e98c4ee9...</td>\n",
       "      <td>0.841283</td>\n",
       "    </tr>\n",
       "  </tbody>\n",
       "</table>\n",
       "</div>"
      ],
      "text/plain": [
       "                                         customer_ID  prediction\n",
       "0  00000469ba478561f23a92a868bd366de6f6527a684c9a...    0.035222\n",
       "1  00001bf2e77ff879fab36aa4fac689b9ba411dae63ae39...    0.001085\n",
       "2  0000210045da4f81e5f122c6bde5c2a617d03eef67f82c...    0.088275\n",
       "3  00003b41e58ede33b8daf61ab56d9952f17c9ad1c3976c...    0.248362\n",
       "4  00004b22eaeeeb0ec976890c1d9bfc14fd9427e98c4ee9...    0.841283"
      ]
     },
     "execution_count": 19,
     "metadata": {},
     "output_type": "execute_result"
    }
   ],
   "source": [
    "test_preds = np.concatenate(test_preds)\n",
    "test = pd.DataFrame(index=customers, data={'prediction': test_preds})\n",
    "sub = pd.read_csv('./data/sample_submission.csv')[['customer_ID']]\n",
    "sub['customer_ID_hash'] = sub['customer_ID'].apply(lambda x: int(x[-16:], base=16)).astype('int64')\n",
    "sub = sub.set_index('customer_ID_hash')\n",
    "sub = sub.merge(test[['prediction']], left_index=True, right_index=True, how='left')\n",
    "sub = sub.reset_index(drop=True)\n",
    "\n",
    "# display predictions\n",
    "sub.to_csv(f'submission_xgboost.csv', index=False)\n",
    "print('Submission file shape is', sub.shape)\n",
    "sub.head()"
   ]
  },
  {
   "cell_type": "code",
   "execution_count": null,
   "metadata": {},
   "outputs": [],
   "source": []
  }
 ],
 "metadata": {
  "kernelspec": {
   "display_name": "Python 3.8.5 ('base')",
   "language": "python",
   "name": "python3"
  },
  "language_info": {
   "codemirror_mode": {
    "name": "ipython",
    "version": 3
   },
   "file_extension": ".py",
   "mimetype": "text/x-python",
   "name": "python",
   "nbconvert_exporter": "python",
   "pygments_lexer": "ipython3",
   "version": "3.8.5"
  },
  "orig_nbformat": 4,
  "vscode": {
   "interpreter": {
    "hash": "bb22bed4442154fb3a19c63ce3e9993d02bf4fd0be5c23680b344f0e088c080f"
   }
  }
 },
 "nbformat": 4,
 "nbformat_minor": 2
}
