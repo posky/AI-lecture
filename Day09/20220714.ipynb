{
 "cells": [
  {
   "cell_type": "markdown",
   "metadata": {},
   "source": [
    "---\n",
    "* 인공지능 > 머신러닝 > 딥러닝\n",
    "* 2012년 딥러닝 알고리즘이 대회에서 1등\n",
    "* 2016년 알파고\n",
    "\n",
    "---\n",
    "* 구글번역, 파파고\n",
    "* 음성인식\n",
    "* 추천시스템\n",
    "* 얼굴인식\n",
    "* 구글 추천\n",
    "* 자동 개발 코드 만들어주기\n",
    "* 교육\n",
    "\n",
    "---\n",
    "* 머신러닝\n",
    "* 입력, 출력\n",
    "* 출력을 예측한다.\n",
    "\n",
    "##### 딥러닝\n",
    "* 입력데이터: 이미지, 자연어처리, 시계열데이터\n",
    "\n",
    "##### 퍼셉트론, 활성화 함수, 다층 신경망\n",
    "* 활성화 함수\n",
    "* stemp function\n",
    "* sigmoid\n",
    "* tanh\n",
    "* relu\n",
    "* elu\n",
    "* leakyrelu\n",
    "\n",
    "### 출력층에 사용되는 활성화수함사\n",
    "* sigmoid: 0~1사이로 표현된다.\n",
    "* softmax: 결과를 더하면 1이 된다.\n",
    "\n",
    "##### 다층퍼셉트\n",
    "* 입력층 - 은닉층 - 출력층\n",
    "\n",
    "* 입력층의 뉴런수의 결정 - 특징의 개수\n",
    "* 출력층의 뉴런수의 결정 - 연속형 (1개)\n",
    "* 출력층의 뉴런수의 결정 - 범주형 (n (n > 2) => n (softmax))\n",
    "* 출력층의 뉴런수의 결정 - 범주형 (n (n <= 2 => 1 (sigmoid))"
   ]
  },
  {
   "cell_type": "markdown",
   "metadata": {},
   "source": [
    "### CNN (Convolutional Neural Network)"
   ]
  }
 ],
 "metadata": {
  "kernelspec": {
   "display_name": "Python 3.8.5 ('base')",
   "language": "python",
   "name": "python3"
  },
  "language_info": {
   "codemirror_mode": {
    "name": "ipython",
    "version": 3
   },
   "file_extension": ".py",
   "mimetype": "text/x-python",
   "name": "python",
   "nbconvert_exporter": "python",
   "pygments_lexer": "ipython3",
   "version": "3.8.5"
  },
  "orig_nbformat": 4,
  "vscode": {
   "interpreter": {
    "hash": "bb22bed4442154fb3a19c63ce3e9993d02bf4fd0be5c23680b344f0e088c080f"
   }
  }
 },
 "nbformat": 4,
 "nbformat_minor": 2
}
