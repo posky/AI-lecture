{
 "cells": [
  {
   "cell_type": "markdown",
   "metadata": {},
   "source": [
    "## 구급 토큰화, 어간 추출, 표제어 추출\n",
    "* 각 단어를 그 단어의 어간(stem)으로 표현해서 같은 어간을 가진 모든 단어를 구분해야 한다.\n",
    "* 어간 추출(stemming): 일일이 어미를 찾아 제외하는 규칙 기반 방식\n",
    "* 표제어 추출(lemmatization): 알려진 단어의 형태 사전(명시적이고 사람이 구축한 시스템)을 사용하고 문장에서 단어의 역할을 고려하는 처리 방식.\n",
    "    * 표제어: 단어의 표준 형태\n",
    "* 표제어 추출과 어간 추출은 단어의 단어의 일반 형태를 추출하는 정규화(normalization)의 한 형태로 볼 수 있다."
   ]
  },
  {
   "cell_type": "code",
   "execution_count": 3,
   "metadata": {},
   "outputs": [],
   "source": [
    "import spacy\n",
    "import nltk\n",
    "\n",
    "en_nlp = spacy.load('en_core_web_sm')\n",
    "stemmer = nltk.stem.PorterStemmer()\n",
    "\n",
    "def compare_normalization(doc):\n",
    "    doc_spacy = en_nlp(doc)\n",
    "    print('lemmatization:')\n",
    "    print([token.lemma_ for token in doc_spacy])\n",
    "    print('stem:')\n",
    "    print([stemmer.stem(token.norm_.lower()) for token in doc_spacy])"
   ]
  },
  {
   "cell_type": "code",
   "execution_count": 4,
   "metadata": {},
   "outputs": [
    {
     "name": "stdout",
     "output_type": "stream",
     "text": [
      "lemmatization:\n",
      "['our', 'meeting', 'today', 'be', 'bad', 'than', 'yesterday', ',', 'I', 'be', 'scared', 'of', 'meet', 'the', 'client', 'tomorrow', '.']\n",
      "stem:\n",
      "['our', 'meet', 'today', 'wa', 'wors', 'than', 'yesterday', ',', 'i', 'am', 'scare', 'of', 'meet', 'the', 'client', 'tomorrow', '.']\n"
     ]
    }
   ],
   "source": [
    "compare_normalization(u\"Our meeting today was worse than yesterday, I'm scared of meeting the clients tomorrow.\")"
   ]
  },
  {
   "cell_type": "markdown",
   "metadata": {},
   "source": [
    "* 일반적으로 표제어 추출은 어간 추출보다 훨씬 복잡한 처리를 거친다.\n",
    "* 머신러닝을 위해 토큰 정규화를 할 때는 어간 추출보다 좋은 결과를 낸다."
   ]
  },
  {
   "cell_type": "code",
   "execution_count": 5,
   "metadata": {},
   "outputs": [],
   "source": [
    "from sklearn.feature_extraction.text import CountVectorizer\n",
    "\n",
    "en_nlp = spacy.load('en_core_web_sm', disable=['parser', 'ner'])\n",
    "\n",
    "def custom_tokenizer(document):\n",
    "    doc_spacy = en_nlp(document)\n",
    "    return [token.lemma_ for token in doc_spacy]\n",
    "\n",
    "lemma_vect = CountVectorizer(tokenizer=custom_tokenizer, min_df=5)"
   ]
  },
  {
   "cell_type": "code",
   "execution_count": 6,
   "metadata": {},
   "outputs": [
    {
     "name": "stdout",
     "output_type": "stream",
     "text": [
      "X_train_lemma.shape: (25000, 23874)\n",
      "X_train.shape: (25000, 27272)\n"
     ]
    }
   ],
   "source": [
    "from sklearn.datasets import load_files\n",
    "\n",
    "reviews_train = load_files('data/aclImdb/train/')\n",
    "text_train, y_train = reviews_train.data, reviews_train.target\n",
    "\n",
    "X_train_lemma = lemma_vect.fit_transform(text_train)\n",
    "print(f'X_train_lemma.shape:', X_train_lemma.shape)\n",
    "\n",
    "vect = CountVectorizer(min_df=5).fit(text_train)\n",
    "X_train = vect.transform(text_train)\n",
    "print('X_train.shape:', X_train.shape)"
   ]
  },
  {
   "cell_type": "code",
   "execution_count": 10,
   "metadata": {},
   "outputs": [
    {
     "name": "stdout",
     "output_type": "stream",
     "text": [
      "best score (CountVectorizer): 0.717\n",
      "best score (lemma): {grid.best_score_:.3f}\n"
     ]
    }
   ],
   "source": [
    "from sklearn.model_selection import StratifiedShuffleSplit\n",
    "from sklearn.model_selection import GridSearchCV\n",
    "from sklearn.linear_model import LogisticRegression\n",
    "\n",
    "param_grid = {'C': [0.001, 0.01, 0.1, 1, 10]}\n",
    "cv = StratifiedShuffleSplit(n_splits=5, test_size=0.99, train_size=0.01, random_state=0)\n",
    "grid = GridSearchCV(LogisticRegression(max_iter=5000), param_grid, cv=cv, n_jobs=-1)\n",
    "\n",
    "grid.fit(X_train, y_train)\n",
    "print(f'best score (CountVectorizer): {grid.best_score_:.3f}')\n",
    "\n",
    "grid.fit(X_train_lemma, y_train)\n",
    "print('best score (lemma): {grid.best_score_:.3f}')"
   ]
  }
 ],
 "metadata": {
  "kernelspec": {
   "display_name": "Python 3.8.5 ('base')",
   "language": "python",
   "name": "python3"
  },
  "language_info": {
   "codemirror_mode": {
    "name": "ipython",
    "version": 3
   },
   "file_extension": ".py",
   "mimetype": "text/x-python",
   "name": "python",
   "nbconvert_exporter": "python",
   "pygments_lexer": "ipython3",
   "version": "3.8.5"
  },
  "orig_nbformat": 4,
  "vscode": {
   "interpreter": {
    "hash": "bb22bed4442154fb3a19c63ce3e9993d02bf4fd0be5c23680b344f0e088c080f"
   }
  }
 },
 "nbformat": 4,
 "nbformat_minor": 2
}
