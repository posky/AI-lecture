{
 "cells": [
  {
   "cell_type": "markdown",
   "metadata": {},
   "source": [
    "### 다중 분류의 평가 지표"
   ]
  },
  {
   "cell_type": "code",
   "execution_count": 2,
   "metadata": {},
   "outputs": [
    {
     "name": "stdout",
     "output_type": "stream",
     "text": [
      "acc: 0.953\n",
      "confusion matrix:\n",
      "[[37  0  0  0  0  0  0  0  0  0]\n",
      " [ 0 40  0  0  0  0  0  0  2  1]\n",
      " [ 0  0 41  3  0  0  0  0  0  0]\n",
      " [ 0  0  0 44  0  0  0  0  1  0]\n",
      " [ 0  0  0  0 37  0  0  1  0  0]\n",
      " [ 0  0  0  0  0 46  0  0  0  2]\n",
      " [ 0  1  0  0  0  0 51  0  0  0]\n",
      " [ 0  0  0  1  1  0  0 46  0  0]\n",
      " [ 0  3  1  0  0  0  1  0 43  0]\n",
      " [ 0  0  0  0  0  1  0  0  2 44]]\n"
     ]
    }
   ],
   "source": [
    "from sklearn.datasets import load_digits\n",
    "from sklearn.model_selection import train_test_split\n",
    "from sklearn.linear_model import LogisticRegression\n",
    "from sklearn.metrics import accuracy_score\n",
    "from sklearn.metrics import confusion_matrix\n",
    "\n",
    "digits = load_digits()\n",
    "\n",
    "X_train, X_test, y_train, y_test = train_test_split(\n",
    "    digits.data, digits.target, random_state=0\n",
    ")\n",
    "lr = LogisticRegression(max_iter=5000).fit(X_train, y_train)\n",
    "pred = lr.predict(X_test)\n",
    "print(f'acc: {accuracy_score(y_test, pred):.3f}')\n",
    "print(f'confusion matrix:\\n{confusion_matrix(y_test, pred)}')"
   ]
  },
  {
   "cell_type": "code",
   "execution_count": 4,
   "metadata": {},
   "outputs": [
    {
     "data": {
      "image/png": "[encoded data removed]",
      "text/plain": [
       "<Figure size 432x288 with 1 Axes>"
      ]
     },
     "metadata": {
      "needs_background": "light"
     },
     "output_type": "display_data"
    }
   ],
   "source": [
    "import mglearn\n",
    "import matplotlib.pyplot as plt\n",
    "\n",
    "scores_image = mglearn.tools.heatmap(\n",
    "    confusion_matrix(y_test, pred),\n",
    "    xlabel='pred label',\n",
    "    ylabel='real label',\n",
    "    xticklabels=digits.target_names,\n",
    "    yticklabels=digits.target_names,\n",
    "    cmap=plt.cm.gray_r,\n",
    "    fmt='%d'\n",
    ")\n",
    "plt.title('confusion matrix')\n",
    "plt.gca().invert_yaxis()"
   ]
  },
  {
   "cell_type": "code",
   "execution_count": 5,
   "metadata": {},
   "outputs": [
    {
     "name": "stdout",
     "output_type": "stream",
     "text": [
      "              precision    recall  f1-score   support\n",
      "\n",
      "           0       1.00      1.00      1.00        37\n",
      "           1       0.91      0.93      0.92        43\n",
      "           2       0.98      0.93      0.95        44\n",
      "           3       0.92      0.98      0.95        45\n",
      "           4       0.97      0.97      0.97        38\n",
      "           5       0.98      0.96      0.97        48\n",
      "           6       0.98      0.98      0.98        52\n",
      "           7       0.98      0.96      0.97        48\n",
      "           8       0.90      0.90      0.90        48\n",
      "           9       0.94      0.94      0.94        47\n",
      "\n",
      "    accuracy                           0.95       450\n",
      "   macro avg       0.95      0.95      0.95       450\n",
      "weighted avg       0.95      0.95      0.95       450\n",
      "\n"
     ]
    }
   ],
   "source": [
    "from sklearn.metrics import classification_report\n",
    "\n",
    "print(classification_report(y_test, pred))"
   ]
  },
  {
   "cell_type": "markdown",
   "metadata": {},
   "source": [
    "* 다중 클래스용 f1 score는 한 클래스를 양성 클래스로 두고 나며지 클래스들을 음성 클래스로 간주하여 클래스마다 f1 score를 계산.\n",
    "* 클래스별 f1 score를 다음 전략 중 하나를 사용하여 평균을 낸다.\n",
    "    * macro: 클래스별 f1 score에 가중치를 주지 않는다. 클래스 크기에 상관없이 모든 클래스를 같은 비중으로 다룬다.\n",
    "    * weighted: 클래스별 샘플 수로 가중치를 두어 f1 score의 평균을 계산.\n",
    "    * micro: 모든 클래스의 거짓 양성(FP), 거짓 음성(FN), 진짜 양성(TP)의 총 수를 헤아린 다음 정밀도, 재현율, f1 score를 이 수치로 계산.\n",
    "* 각 샘플을 땆같이 간주한다면 \"micro\" 평균 f1 점수\n",
    "* 각 클래스를 동일한 비중으로 고러한다면 \"macro\" 평균 f1 점수 추천."
   ]
  },
  {
   "cell_type": "code",
   "execution_count": 8,
   "metadata": {},
   "outputs": [
    {
     "name": "stdout",
     "output_type": "stream",
     "text": [
      "micro avg f1 score: 0.9533333333333334\n",
      "macro avg f1 score: 0.9542564253775861\n"
     ]
    }
   ],
   "source": [
    "from sklearn.metrics import f1_score\n",
    "\n",
    "print(f'micro avg f1 score: {f1_score(y_test, pred, average=\"micro\")}')\n",
    "print(f'macro avg f1 score: {f1_score(y_test, pred, average=\"macro\")}')"
   ]
  },
  {
   "cell_type": "markdown",
   "metadata": {},
   "source": [
    "### 회귀의 평가 지표\n",
    "* 대부분의 애플리케이션에서는 회귀 추정기의 score 메서드에서 이용하는 $R^2$만으로 충분하다."
   ]
  },
  {
   "cell_type": "markdown",
   "metadata": {},
   "source": [
    "### 모델 선택에서 평가 지표 사용하기"
   ]
  },
  {
   "cell_type": "code",
   "execution_count": 11,
   "metadata": {},
   "outputs": [
    {
     "name": "stdout",
     "output_type": "stream",
     "text": [
      "default metric: [0.975      0.99166667 1.         0.99442897 0.98050139]\n",
      "acc: [0.975      0.99166667 1.         0.99442897 0.98050139]\n",
      "avg precision: [0.99717078 0.99854252 1.         0.999828   0.98400413]\n"
     ]
    }
   ],
   "source": [
    "from sklearn.model_selection import cross_val_score\n",
    "from sklearn.svm import SVC\n",
    "\n",
    "print('default metric:', cross_val_score(SVC(), digits.data, digits.target == 9, cv=5))\n",
    "explicit_accuracy = cross_val_score(SVC(), digits.data, digits.target == 9, scoring='accuracy', cv=5)\n",
    "print('acc:', explicit_accuracy)\n",
    "roc_auc = cross_val_score(SVC(), digits.data, digits.target == 9, scoring='roc_auc', cv=5)\n",
    "print('avg precision:', roc_auc)"
   ]
  },
  {
   "cell_type": "code",
   "execution_count": 14,
   "metadata": {},
   "outputs": [
    {
     "data": {
      "text/html": [
       "<div>\n",
       "<style scoped>\n",
       "    .dataframe tbody tr th:only-of-type {\n",
       "        vertical-align: middle;\n",
       "    }\n",
       "\n",
       "    .dataframe tbody tr th {\n",
       "        vertical-align: top;\n",
       "    }\n",
       "\n",
       "    .dataframe thead th {\n",
       "        text-align: right;\n",
       "    }\n",
       "</style>\n",
       "<table border=\"1\" class=\"dataframe\">\n",
       "  <thead>\n",
       "    <tr style=\"text-align: right;\">\n",
       "      <th></th>\n",
       "      <th>fit_time</th>\n",
       "      <th>score_time</th>\n",
       "      <th>test_accuracy</th>\n",
       "      <th>train_accuracy</th>\n",
       "      <th>test_roc_auc</th>\n",
       "      <th>train_roc_auc</th>\n",
       "      <th>test_recall_macro</th>\n",
       "      <th>train_recall_macro</th>\n",
       "    </tr>\n",
       "  </thead>\n",
       "  <tbody>\n",
       "    <tr>\n",
       "      <th>0</th>\n",
       "      <td>0.009510</td>\n",
       "      <td>0.005358</td>\n",
       "      <td>0.975000</td>\n",
       "      <td>0.994433</td>\n",
       "      <td>0.997171</td>\n",
       "      <td>0.998679</td>\n",
       "      <td>0.887346</td>\n",
       "      <td>0.972222</td>\n",
       "    </tr>\n",
       "    <tr>\n",
       "      <th>1</th>\n",
       "      <td>0.009336</td>\n",
       "      <td>0.003512</td>\n",
       "      <td>0.991667</td>\n",
       "      <td>0.995825</td>\n",
       "      <td>0.998543</td>\n",
       "      <td>0.999141</td>\n",
       "      <td>0.958333</td>\n",
       "      <td>0.982252</td>\n",
       "    </tr>\n",
       "    <tr>\n",
       "      <th>2</th>\n",
       "      <td>0.013189</td>\n",
       "      <td>0.004507</td>\n",
       "      <td>1.000000</td>\n",
       "      <td>0.995132</td>\n",
       "      <td>1.000000</td>\n",
       "      <td>0.998975</td>\n",
       "      <td>1.000000</td>\n",
       "      <td>0.978780</td>\n",
       "    </tr>\n",
       "    <tr>\n",
       "      <th>3</th>\n",
       "      <td>0.008566</td>\n",
       "      <td>0.004518</td>\n",
       "      <td>0.994429</td>\n",
       "      <td>0.995828</td>\n",
       "      <td>0.999828</td>\n",
       "      <td>0.998825</td>\n",
       "      <td>0.972222</td>\n",
       "      <td>0.982252</td>\n",
       "    </tr>\n",
       "    <tr>\n",
       "      <th>4</th>\n",
       "      <td>0.008017</td>\n",
       "      <td>0.005524</td>\n",
       "      <td>0.980501</td>\n",
       "      <td>0.996523</td>\n",
       "      <td>0.984004</td>\n",
       "      <td>0.999914</td>\n",
       "      <td>0.902778</td>\n",
       "      <td>0.985725</td>\n",
       "    </tr>\n",
       "  </tbody>\n",
       "</table>\n",
       "</div>"
      ],
      "text/plain": [
       "   fit_time  score_time  test_accuracy  train_accuracy  test_roc_auc  \\\n",
       "0  0.009510    0.005358       0.975000        0.994433      0.997171   \n",
       "1  0.009336    0.003512       0.991667        0.995825      0.998543   \n",
       "2  0.013189    0.004507       1.000000        0.995132      1.000000   \n",
       "3  0.008566    0.004518       0.994429        0.995828      0.999828   \n",
       "4  0.008017    0.005524       0.980501        0.996523      0.984004   \n",
       "\n",
       "   train_roc_auc  test_recall_macro  train_recall_macro  \n",
       "0       0.998679           0.887346            0.972222  \n",
       "1       0.999141           0.958333            0.982252  \n",
       "2       0.998975           1.000000            0.978780  \n",
       "3       0.998825           0.972222            0.982252  \n",
       "4       0.999914           0.902778            0.985725  "
      ]
     },
     "execution_count": 14,
     "metadata": {},
     "output_type": "execute_result"
    }
   ],
   "source": [
    "import pandas as pd\n",
    "from sklearn.model_selection import cross_validate\n",
    "\n",
    "res = cross_validate(SVC(), digits.data, digits.target == 9, scoring=['accuracy', 'roc_auc', 'recall_macro'], return_train_score=True, cv=5)\n",
    "pd.DataFrame(res)"
   ]
  },
  {
   "cell_type": "code",
   "execution_count": 15,
   "metadata": {},
   "outputs": [
    {
     "name": "stdout",
     "output_type": "stream",
     "text": [
      "acc\n",
      "best parameters: {'gamma': 0.0001}\n",
      "best cross validation score: 0.971789161098738\n",
      "test set avg precision: 0.9656749529729884\n",
      "test set acc: 0.9733333333333334\n"
     ]
    }
   ],
   "source": [
    "from sklearn.model_selection import GridSearchCV\n",
    "from sklearn.metrics import average_precision_score\n",
    "\n",
    "X_train, X_test, y_train, y_test = train_test_split(digits.data, digits.target == 9, random_state=0)\n",
    "\n",
    "# 일부러 적절하지 않은 그리드를 만든다.\n",
    "param_grid = {'gamma': [0.0001, 0.01, 0.1, 1, 10]}\n",
    "grid = GridSearchCV(SVC(), param_grid=param_grid, cv=3)\n",
    "grid.fit(X_train, y_train)\n",
    "print('acc')\n",
    "print('best parameters:', grid.best_params_)\n",
    "print('best cross validation score:', grid.best_score_)\n",
    "print('test set avg precision:', average_precision_score(y_test, grid.decision_function(X_test)))\n",
    "print('test set acc:', grid.score(X_test, y_test))"
   ]
  },
  {
   "cell_type": "code",
   "execution_count": 16,
   "metadata": {},
   "outputs": [
    {
     "name": "stdout",
     "output_type": "stream",
     "text": [
      "avg precision\n",
      "best parameters: {'gamma': 0.01}\n",
      "best cross validation score(avg precision): 0.9848054272142445\n",
      "test set avg precision: 0.9958247456096899\n",
      "test set acc: 0.9958247456096899\n"
     ]
    }
   ],
   "source": [
    "grid = GridSearchCV(SVC(), param_grid=param_grid, scoring='average_precision', cv=3)\n",
    "grid.fit(X_train, y_train)\n",
    "print('avg precision')\n",
    "print('best parameters:', grid.best_params_)\n",
    "print('best cross validation score(avg precision):', grid.best_score_)\n",
    "print('test set avg precision:', average_precision_score(y_test, grid.decision_function(X_test)))\n",
    "print('test set acc:', grid.score(X_test, y_test))"
   ]
  },
  {
   "cell_type": "markdown",
   "metadata": {},
   "source": [
    "## 요약 및 정리\n",
    "* 교차 검증을 해야 한다.\n",
    "    * 모델 학습에는 훈련 데이터로\n",
    "    * 모델과 매개변수 선택에는 검증 데이터로\n",
    "    * 모델 평가에는 테스트 데이터로 분리해서 서용해야 한다.\n",
    "    * 가장 널리 사용하는 구성은 훈련 세트와 테스트 세트로 분할하고 모델과 모델 개매변수 선택을 위해 훈련 세트에 교차 검증을 적용하는 방식\n",
    "* 모델 선택과 평가에 사용하는 평가 지표와 방법이 중요하다."
   ]
  },
  {
   "cell_type": "markdown",
   "metadata": {},
   "source": []
  }
 ],
 "metadata": {
  "kernelspec": {
   "display_name": "Python 3.8.5 ('base')",
   "language": "python",
   "name": "python3"
  },
  "language_info": {
   "codemirror_mode": {
    "name": "ipython",
    "version": 3
   },
   "file_extension": ".py",
   "mimetype": "text/x-python",
   "name": "python",
   "nbconvert_exporter": "python",
   "pygments_lexer": "ipython3",
   "version": "3.8.5"
  },
  "orig_nbformat": 4,
  "vscode": {
   "interpreter": {
    "hash": "bb22bed4442154fb3a19c63ce3e9993d02bf4fd0be5c23680b344f0e088c080f"
   }
  }
 },
 "nbformat": 4,
 "nbformat_minor": 2
}
