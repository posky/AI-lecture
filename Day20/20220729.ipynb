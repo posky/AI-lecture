{
 "cells": [
  {
   "cell_type": "markdown",
   "metadata": {},
   "source": [
    "### 범주\n",
    "* 인공지능 -> 머신러닝 -> 딥러닝\n",
    "\n",
    "### 머신러닝 구분\n",
    "* 지도학습\n",
    "* 비지도학습\n",
    "\n",
    "### 지도학습과 비지도학습의 차이\n",
    "* 지도학습은 target 값이 있고,\n",
    "* 비지도학습은 target 값이 없다.\n",
    "\n",
    "### 필수 라이브러리\n",
    "* numpy\n",
    "* pandas\n",
    "* matplotlib, seaborn, folium\n",
    "* scikit-learn\n",
    "* tensorflow, keras, pytorch\n",
    "\n",
    "### 데이터(학습) 나누는데,\n",
    "* data\n",
    "    * train\n",
    "    * test\n",
    "* 왜 데이터를 나누는가? 자체 평가를 위한 데이터 셋\n",
    "\n",
    "* 캐글의 경우\n",
    "    * train\n",
    "        * 학습용: 학습\n",
    "        * 테스트용: 자체 평가\n",
    "    * test (답이 없다. - 평가는 제출해야 가능)\n",
    "\n",
    "### 이런 경우도 있다.\n",
    "* train\n",
    "    * 학습용: 학습\n",
    "        * 학습용\n",
    "        * 하이퍼 파라미터 튜닝\n",
    "    * 테스트용: 자체 평가\n",
    "\n",
    "### 지도학습\n",
    "* 회귀 (Regression)\n",
    "    * 예측하고자 하는 target값이 연속형\n",
    "* 분류 (Classification)\n",
    "    * 예측하고자 하는 target값이 범주형\n",
    "\n",
    "### 지도학습 - 분류의 종류\n",
    "* 이진분류 - 범주형의 범주의 개수가 2개\n",
    "* 다중분류 - 범주형의 범주의 개수가 3개상이상\n",
    "\n",
    "### 과적합/과대적합 (overfitting)\n",
    "* 학습한 것에만 딱 맞게 학습한 것.\n",
    "* 학습 데이터에만 성능이 최적화되어서, 일반적인 다른 데이터는 잘 최적화되어 있지 않다.\n",
    "\n",
    "### 과소적합 (underfitting)\n",
    "\n",
    "### knn 모델\n",
    "* [분류] 새도운 데이터와 기존 데이터 거리 가까운 것.\n",
    "* [회귀] 새로운 데이터와의 거리에 따라서 k개의 값의 target의 값의 평균으로 예측하는 모델\n",
    "\n",
    "### 선형 회귀 (Linear Regression)\n",
    "* 선형 함수로 표현이 된다.\n",
    "* 특징 하나 - 직선, 특징 두개 - 평면, 특징 세개 - 초평면\n",
    "* 선형모델에서 MSE가 최소가 되는 w, b가 정해진다.\n",
    "    * w: 회귀계수, b: 편향"
   ]
  },
  {
   "cell_type": "markdown",
   "metadata": {},
   "source": [
    "### 결정트리 (decision tree)\n",
    "* 사전 가지치기\n",
    "* 사후 가지치기\n",
    "    * gini 0이 될때까지 다 분기\n",
    "    * 그 이후에 에너지를 계산해서 자름"
   ]
  },
  {
   "cell_type": "markdown",
   "metadata": {},
   "source": []
  }
 ],
 "metadata": {
  "kernelspec": {
   "display_name": "Python 3.8.5 ('base')",
   "language": "python",
   "name": "python3"
  },
  "language_info": {
   "name": "python",
   "version": "3.8.5"
  },
  "orig_nbformat": 4,
  "vscode": {
   "interpreter": {
    "hash": "bb22bed4442154fb3a19c63ce3e9993d02bf4fd0be5c23680b344f0e088c080f"
   }
  }
 },
 "nbformat": 4,
 "nbformat_minor": 2
}
