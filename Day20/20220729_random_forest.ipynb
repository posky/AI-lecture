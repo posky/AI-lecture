{
 "cells": [
  {
   "cell_type": "code",
   "execution_count": 5,
   "metadata": {},
   "outputs": [],
   "source": [
    "from sklearn.model_selection import train_test_split\n",
    "import matplotlib.pyplot as plt\n",
    "import numpy as np\n",
    "import pandas as pd"
   ]
  },
  {
   "cell_type": "markdown",
   "metadata": {},
   "source": [
    "### 랜덤 포레스트\n",
    "* 여러개의 모델 이용\n",
    "    * 데이터를 약간씩 다르게, 사용 변수도 약간 랜덤하게 사용"
   ]
  },
  {
   "cell_type": "code",
   "execution_count": 6,
   "metadata": {},
   "outputs": [],
   "source": [
    "from sklearn.datasets import load_breast_cancer\n",
    "import mglearn\n",
    "\n",
    "cancer = load_breast_cancer()\n",
    "\n",
    "X = cancer.data\n",
    "y = cancer.target\n",
    "\n",
    "X_train, X_test, y_train, y_test = train_test_split(\n",
    "    X, y,\n",
    "    stratify=cancer.target,\n",
    "    random_state=0\n",
    ")"
   ]
  },
  {
   "cell_type": "code",
   "execution_count": 14,
   "metadata": {},
   "outputs": [],
   "source": [
    "from sklearn.neighbors import KNeighborsClassifier\n",
    "from sklearn.ensemble import RandomForestClassifier\n",
    "from sklearn.tree import DecisionTreeClassifier"
   ]
  },
  {
   "cell_type": "code",
   "execution_count": 15,
   "metadata": {},
   "outputs": [
    {
     "name": "stdout",
     "output_type": "stream",
     "text": [
      "train acc: 0.946\n",
      "test acc: 0.916\n"
     ]
    }
   ],
   "source": [
    "model = KNeighborsClassifier()\n",
    "model.fit(X_train, y_train)\n",
    "\n",
    "print('train acc: {:.3f}'.format(model.score(X_train, y_train)))\n",
    "print('test acc: {:.3f}'.format(model.score(X_test, y_test)))"
   ]
  },
  {
   "cell_type": "code",
   "execution_count": 16,
   "metadata": {},
   "outputs": [
    {
     "name": "stdout",
     "output_type": "stream",
     "text": [
      "train acc: 1.000\n",
      "test acc: 0.902\n"
     ]
    }
   ],
   "source": [
    "model = DecisionTreeClassifier(random_state=2)\n",
    "model.fit(X_train, y_train)\n",
    "\n",
    "print('train acc: {:.3f}'.format(model.score(X_train, y_train)))\n",
    "print('test acc: {:.3f}'.format(model.score(X_test, y_test)))"
   ]
  },
  {
   "cell_type": "code",
   "execution_count": 17,
   "metadata": {},
   "outputs": [
    {
     "name": "stdout",
     "output_type": "stream",
     "text": [
      "train acc: 1.000\n",
      "test acc: 0.951\n"
     ]
    }
   ],
   "source": [
    "model = RandomForestClassifier(random_state=2)\n",
    "model.fit(X_train, y_train)\n",
    "\n",
    "print('train acc: {:.3f}'.format(model.score(X_train, y_train)))\n",
    "print('test acc: {:.3f}'.format(model.score(X_test, y_test)))"
   ]
  },
  {
   "cell_type": "code",
   "execution_count": 18,
   "metadata": {},
   "outputs": [
    {
     "name": "stdout",
     "output_type": "stream",
     "text": [
      "train acc: 0.986\n",
      "test acc: 0.937\n",
      "train acc: 0.986\n",
      "test acc: 0.930\n",
      "train acc: 0.974\n",
      "test acc: 0.888\n",
      "train acc: 0.972\n",
      "test acc: 0.930\n",
      "train acc: 0.962\n",
      "test acc: 0.923\n",
      "train acc: 0.967\n",
      "test acc: 0.951\n",
      "train acc: 0.979\n",
      "test acc: 0.923\n",
      "train acc: 0.972\n",
      "test acc: 0.916\n",
      "train acc: 0.991\n",
      "test acc: 0.923\n",
      "train acc: 0.969\n",
      "test acc: 0.909\n",
      "train acc: 0.977\n",
      "test acc: 0.916\n",
      "train acc: 0.974\n",
      "test acc: 0.888\n",
      "train acc: 0.979\n",
      "test acc: 0.937\n",
      "train acc: 0.986\n",
      "test acc: 0.937\n",
      "train acc: 0.977\n",
      "test acc: 0.909\n",
      "train acc: 0.979\n",
      "test acc: 0.909\n",
      "train acc: 0.974\n",
      "test acc: 0.930\n",
      "train acc: 0.969\n",
      "test acc: 0.916\n",
      "train acc: 0.979\n",
      "test acc: 0.930\n",
      "train acc: 0.977\n",
      "test acc: 0.930\n",
      "train acc: 0.977\n",
      "test acc: 0.923\n",
      "train acc: 0.974\n",
      "test acc: 0.895\n",
      "train acc: 0.972\n",
      "test acc: 0.944\n",
      "train acc: 0.962\n",
      "test acc: 0.888\n",
      "train acc: 0.984\n",
      "test acc: 0.944\n",
      "train acc: 0.967\n",
      "test acc: 0.895\n",
      "train acc: 0.972\n",
      "test acc: 0.909\n",
      "train acc: 0.979\n",
      "test acc: 0.923\n",
      "train acc: 0.969\n",
      "test acc: 0.923\n",
      "train acc: 0.979\n",
      "test acc: 0.916\n",
      "train acc: 0.967\n",
      "test acc: 0.874\n",
      "train acc: 0.974\n",
      "test acc: 0.881\n",
      "train acc: 0.981\n",
      "test acc: 0.916\n",
      "train acc: 0.986\n",
      "test acc: 0.895\n",
      "train acc: 0.974\n",
      "test acc: 0.902\n",
      "train acc: 0.977\n",
      "test acc: 0.923\n",
      "train acc: 0.974\n",
      "test acc: 0.909\n",
      "train acc: 0.962\n",
      "test acc: 0.867\n",
      "train acc: 0.955\n",
      "test acc: 0.909\n",
      "train acc: 0.972\n",
      "test acc: 0.895\n",
      "train acc: 0.972\n",
      "test acc: 0.902\n",
      "train acc: 0.984\n",
      "test acc: 0.902\n",
      "train acc: 0.969\n",
      "test acc: 0.916\n",
      "train acc: 0.972\n",
      "test acc: 0.916\n",
      "train acc: 0.967\n",
      "test acc: 0.916\n",
      "train acc: 0.979\n",
      "test acc: 0.923\n",
      "train acc: 0.984\n",
      "test acc: 0.916\n",
      "train acc: 0.974\n",
      "test acc: 0.937\n",
      "train acc: 0.979\n",
      "test acc: 0.930\n",
      "train acc: 0.988\n",
      "test acc: 0.951\n",
      "train acc: 0.977\n",
      "test acc: 0.902\n",
      "train acc: 0.977\n",
      "test acc: 0.902\n",
      "train acc: 0.972\n",
      "test acc: 0.874\n",
      "train acc: 0.965\n",
      "test acc: 0.902\n",
      "train acc: 0.967\n",
      "test acc: 0.881\n",
      "train acc: 0.979\n",
      "test acc: 0.895\n",
      "train acc: 0.988\n",
      "test acc: 0.909\n",
      "train acc: 0.984\n",
      "test acc: 0.895\n",
      "train acc: 0.977\n",
      "test acc: 0.888\n",
      "train acc: 0.962\n",
      "test acc: 0.895\n",
      "train acc: 0.977\n",
      "test acc: 0.895\n",
      "train acc: 0.974\n",
      "test acc: 0.888\n",
      "train acc: 0.988\n",
      "test acc: 0.944\n",
      "train acc: 0.974\n",
      "test acc: 0.902\n",
      "train acc: 0.977\n",
      "test acc: 0.923\n",
      "train acc: 0.969\n",
      "test acc: 0.916\n",
      "train acc: 0.972\n",
      "test acc: 0.923\n",
      "train acc: 0.974\n",
      "test acc: 0.902\n",
      "train acc: 0.977\n",
      "test acc: 0.923\n",
      "train acc: 0.979\n",
      "test acc: 0.909\n",
      "train acc: 0.972\n",
      "test acc: 0.902\n",
      "train acc: 0.981\n",
      "test acc: 0.909\n",
      "train acc: 0.986\n",
      "test acc: 0.930\n",
      "train acc: 0.991\n",
      "test acc: 0.930\n",
      "train acc: 0.974\n",
      "test acc: 0.895\n",
      "train acc: 0.981\n",
      "test acc: 0.930\n",
      "train acc: 0.972\n",
      "test acc: 0.916\n",
      "train acc: 0.967\n",
      "test acc: 0.944\n",
      "train acc: 0.974\n",
      "test acc: 0.923\n",
      "train acc: 0.984\n",
      "test acc: 0.923\n",
      "train acc: 0.981\n",
      "test acc: 0.923\n",
      "train acc: 0.972\n",
      "test acc: 0.930\n",
      "train acc: 0.969\n",
      "test acc: 0.916\n",
      "train acc: 0.972\n",
      "test acc: 0.874\n",
      "train acc: 0.972\n",
      "test acc: 0.909\n",
      "train acc: 0.981\n",
      "test acc: 0.944\n",
      "train acc: 0.962\n",
      "test acc: 0.902\n",
      "train acc: 0.955\n",
      "test acc: 0.909\n",
      "train acc: 0.969\n",
      "test acc: 0.874\n",
      "train acc: 0.974\n",
      "test acc: 0.909\n",
      "train acc: 0.974\n",
      "test acc: 0.902\n",
      "train acc: 0.967\n",
      "test acc: 0.937\n",
      "train acc: 0.965\n",
      "test acc: 0.930\n",
      "train acc: 0.969\n",
      "test acc: 0.923\n",
      "train acc: 0.969\n",
      "test acc: 0.923\n",
      "train acc: 0.981\n",
      "test acc: 0.895\n",
      "train acc: 0.979\n",
      "test acc: 0.916\n",
      "train acc: 0.969\n",
      "test acc: 0.895\n",
      "train acc: 0.984\n",
      "test acc: 0.937\n",
      "train acc: 0.962\n",
      "test acc: 0.909\n"
     ]
    }
   ],
   "source": [
    "for one_model in model.estimators_:\n",
    "    print('train acc: {:.3f}'.format(one_model.score(X_train, y_train)))\n",
    "    print('test acc: {:.3f}'.format(one_model.score(X_test, y_test)))"
   ]
  },
  {
   "cell_type": "code",
   "execution_count": null,
   "metadata": {},
   "outputs": [],
   "source": []
  }
 ],
 "metadata": {
  "kernelspec": {
   "display_name": "Python 3.8.5 ('base')",
   "language": "python",
   "name": "python3"
  },
  "language_info": {
   "codemirror_mode": {
    "name": "ipython",
    "version": 3
   },
   "file_extension": ".py",
   "mimetype": "text/x-python",
   "name": "python",
   "nbconvert_exporter": "python",
   "pygments_lexer": "ipython3",
   "version": "3.8.5"
  },
  "orig_nbformat": 4,
  "vscode": {
   "interpreter": {
    "hash": "bb22bed4442154fb3a19c63ce3e9993d02bf4fd0be5c23680b344f0e088c080f"
   }
  }
 },
 "nbformat": 4,
 "nbformat_minor": 2
}
