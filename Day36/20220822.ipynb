{
 "cells": [
  {
   "cell_type": "code",
   "execution_count": 15,
   "metadata": {},
   "outputs": [],
   "source": [
    "a = [5, 5, 3, 2, 5, 0, 0]\n",
    "b = [4, 5, 4, 2, 0, 5, 0]\n",
    "c = [2, 2, 3, 2, 0, 0, 5]\n",
    "d = [3, 5, 4, 3, 0, 0, 0]"
   ]
  },
  {
   "cell_type": "code",
   "execution_count": 20,
   "metadata": {},
   "outputs": [],
   "source": [
    "import numpy as np\n",
    "\n",
    "def similarity(user1, user2):\n",
    "    score1 = []\n",
    "    score2 = []\n",
    "    for u1, u2 in zip(user1, user2):\n",
    "        if u1 != 0 and u2 != 0:\n",
    "            score1.append(u1)\n",
    "            score2.append(u2)\n",
    "    \n",
    "    score1 = np.array(score1)\n",
    "    score2 = np.array(score2)\n",
    "\n",
    "    n = np.sum(score1 * score2)\n",
    "    r1 = np.sqrt(np.sum(score1 ** 2))\n",
    "    r2 = np.sqrt(np.sum(score2 ** 2))\n",
    "    print(f'{n} / ({r1} * {r2})')\n",
    "\n",
    "    return n / (r1 * r2)\n",
    "    "
   ]
  },
  {
   "cell_type": "code",
   "execution_count": 21,
   "metadata": {},
   "outputs": [
    {
     "name": "stdout",
     "output_type": "stream",
     "text": [
      "58 / (7.937253933193772 * 7.681145747868608)\n"
     ]
    },
    {
     "data": {
      "text/plain": [
       "0.9513311405232375"
      ]
     },
     "execution_count": 21,
     "metadata": {},
     "output_type": "execute_result"
    }
   ],
   "source": [
    "similarity(a, d)"
   ]
  },
  {
   "cell_type": "code",
   "execution_count": 22,
   "metadata": {},
   "outputs": [
    {
     "name": "stdout",
     "output_type": "stream",
     "text": [
      "59 / (7.810249675906654 * 7.681145747868608)\n"
     ]
    },
    {
     "data": {
      "text/plain": [
       "0.9834699358669274"
      ]
     },
     "execution_count": 22,
     "metadata": {},
     "output_type": "execute_result"
    }
   ],
   "source": [
    "similarity(b, d)"
   ]
  },
  {
   "cell_type": "code",
   "execution_count": 23,
   "metadata": {},
   "outputs": [
    {
     "name": "stdout",
     "output_type": "stream",
     "text": [
      "34 / (4.58257569495584 * 7.681145747868608)\n"
     ]
    },
    {
     "data": {
      "text/plain": [
       "0.9659246825361315"
      ]
     },
     "execution_count": 23,
     "metadata": {},
     "output_type": "execute_result"
    }
   ],
   "source": [
    "similarity(c, d)"
   ]
  },
  {
   "cell_type": "code",
   "execution_count": null,
   "metadata": {},
   "outputs": [],
   "source": []
  }
 ],
 "metadata": {
  "kernelspec": {
   "display_name": "Python 3.8.5 ('base')",
   "language": "python",
   "name": "python3"
  },
  "language_info": {
   "codemirror_mode": {
    "name": "ipython",
    "version": 3
   },
   "file_extension": ".py",
   "mimetype": "text/x-python",
   "name": "python",
   "nbconvert_exporter": "python",
   "pygments_lexer": "ipython3",
   "version": "3.8.5"
  },
  "orig_nbformat": 4,
  "vscode": {
   "interpreter": {
    "hash": "bb22bed4442154fb3a19c63ce3e9993d02bf4fd0be5c23680b344f0e088c080f"
   }
  }
 },
 "nbformat": 4,
 "nbformat_minor": 2
}
