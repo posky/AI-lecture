{
 "cells": [
  {
   "cell_type": "markdown",
   "metadata": {},
   "source": [
    "# OPTIMIZING MODEL PARAMETERS\n",
    "## Prerequisite Code"
   ]
  },
  {
   "cell_type": "code",
   "execution_count": 1,
   "metadata": {},
   "outputs": [],
   "source": [
    "import torch\n",
    "from torch import nn\n",
    "from torch.utils.data import DataLoader\n",
    "from torchvision import datasets\n",
    "from torchvision.transforms import ToTensor"
   ]
  },
  {
   "cell_type": "code",
   "execution_count": 2,
   "metadata": {},
   "outputs": [],
   "source": [
    "training_data = datasets.FashionMNIST(\n",
    "    root='data',\n",
    "    train=True,\n",
    "    download=True,\n",
    "    transform=ToTensor()\n",
    ")\n",
    "\n",
    "test_data = datasets.FashionMNIST(\n",
    "    root='data',\n",
    "    train=False,\n",
    "    download=True,\n",
    "    transform=ToTensor()\n",
    ")\n",
    "\n",
    "train_dataloader = DataLoader(training_data, batch_size=64)\n",
    "test_dataloader = DataLoader(test_data, batch_size=64)"
   ]
  },
  {
   "cell_type": "code",
   "execution_count": 3,
   "metadata": {},
   "outputs": [],
   "source": [
    "class NeuralNetwork(nn.Module):\n",
    "    def __init__(self):\n",
    "        super(NeuralNetwork, self).__init__()\n",
    "        self.flatten = nn.Flatten()\n",
    "        self.linear_relu_stack = nn.Sequential(\n",
    "            nn.Linear(28 * 28, 512),\n",
    "            nn.ReLU(),\n",
    "            nn.Linear(512, 512),\n",
    "            nn.ReLU(),\n",
    "            nn.Linear(512, 10),\n",
    "        )\n",
    "\n",
    "    def forward(self, x):\n",
    "        x = self.flatten(x)\n",
    "        logits = self.linear_relu_stack(x)\n",
    "        return logits\n",
    "\n",
    "model = NeuralNetwork()"
   ]
  },
  {
   "cell_type": "markdown",
   "metadata": {},
   "source": [
    "## Hyperparameters\n",
    "* **Number of Epochs** - the number times to iterate over the dataset\n",
    "* **Batch Size** - the number of data samples propagated through the network before the parameters are updated\n",
    "* **Learning Rate** - how much to update models parameters at each batch/epoch. Smaller values yield slow learning speed, while large values may result in unpredictable behavior during training."
   ]
  },
  {
   "cell_type": "code",
   "execution_count": 4,
   "metadata": {},
   "outputs": [],
   "source": [
    "learning_rate = 1e-3\n",
    "batch_size = 64\n",
    "epochs = 5"
   ]
  },
  {
   "cell_type": "markdown",
   "metadata": {},
   "source": [
    "## Optimization Loop\n",
    "### Each epoch consists of two main parts:\n",
    "* **The Train Loop** - iterate over the training dataset and try to converge to optimal parameters.\n",
    "* **The Validation/Test Loop** - iterate over the test dataset to check if model performance is improving."
   ]
  },
  {
   "cell_type": "markdown",
   "metadata": {},
   "source": [
    "## Loss Function"
   ]
  },
  {
   "cell_type": "code",
   "execution_count": 5,
   "metadata": {},
   "outputs": [],
   "source": [
    "# Initialize the loss function\n",
    "loss_fn = nn.CrossEntropyLoss()"
   ]
  },
  {
   "cell_type": "markdown",
   "metadata": {},
   "source": [
    "## Optimizer"
   ]
  },
  {
   "cell_type": "code",
   "execution_count": 6,
   "metadata": {},
   "outputs": [],
   "source": [
    "optimizer = torch.optim.SGD(model.parameters(), lr=learning_rate)"
   ]
  },
  {
   "cell_type": "markdown",
   "metadata": {},
   "source": [
    "### Inside the training loop, optimization happens in three steps:\n",
    "* Call ```optimizer.zero-grad()``` to reset the gradients of model parameters. Gradients by default add up, to prevent double-counting, we explicitly zero them at each iteration.\n",
    "* Backpropagate the prediction loss with a call to ```loss.backward().``` PyTorch deposits the gradients of the loss w.r.t. each parameter.\n",
    "* Once we have our gradients, we call ```optimizer.step()``` to adjust the parameters by the gradients collected in the backward pass."
   ]
  },
  {
   "cell_type": "markdown",
   "metadata": {},
   "source": [
    "## Full Implementation"
   ]
  },
  {
   "cell_type": "code",
   "execution_count": 7,
   "metadata": {},
   "outputs": [],
   "source": [
    "def train_loop(dataloader, model, loss_fn, optimizer):\n",
    "    size = len(dataloader.dataset)\n",
    "    for batch, (X, y) in enumerate(dataloader):\n",
    "        # Compute prediction and loss\n",
    "        pred = model(X)\n",
    "        loss = loss_fn(pred, y)\n",
    "\n",
    "        # Backpropagation\n",
    "        optimizer.zero_grad()\n",
    "        loss.backward()\n",
    "        optimizer.step()\n",
    "\n",
    "        if batch % 100 == 0:\n",
    "            loss, current = loss.item(), batch * len(X)\n",
    "            print(f'loss: {loss:>7f}   [{current:>5d}/{size:>5d}]')\n",
    "\n",
    "\n",
    "def test_loop(dataloader, model, loss_fn):\n",
    "    size = len(dataloader.dataset)\n",
    "    num_batches = len(dataloader)\n",
    "    test_loss, correct = 0, 0\n",
    "\n",
    "    with torch.no_grad():\n",
    "        for X, y in dataloader:\n",
    "            pred = model(X)\n",
    "            test_loss += loss_fn(pred, y).item()\n",
    "            correct += (pred.argmax(1) == y).type(torch.float).sum().item()\n",
    "\n",
    "    test_loss /= num_batches\n",
    "    correct /= size\n",
    "    print(f'Test Error: \\n Accuracy:  {(100 * correct):>0.1f}%, Avg loss: {test_loss:>8f} \\n')"
   ]
  },
  {
   "cell_type": "code",
   "execution_count": 8,
   "metadata": {},
   "outputs": [
    {
     "name": "stdout",
     "output_type": "stream",
     "text": [
      "Epoch 1\n",
      "------------------------\n",
      "loss: 2.312783   [    0/60000]\n",
      "loss: 2.296212   [ 6400/60000]\n",
      "loss: 2.276044   [12800/60000]\n",
      "loss: 2.268178   [19200/60000]\n",
      "loss: 2.255830   [25600/60000]\n",
      "loss: 2.228435   [32000/60000]\n",
      "loss: 2.241695   [38400/60000]\n",
      "loss: 2.211011   [44800/60000]\n",
      "loss: 2.219706   [51200/60000]\n",
      "loss: 2.181313   [57600/60000]\n",
      "Test Error: \n",
      " Accuracy:  46.7%, Avg loss: 2.174539 \n",
      "\n",
      "Epoch 2\n",
      "------------------------\n",
      "loss: 2.186075   [    0/60000]\n",
      "loss: 2.176430   [ 6400/60000]\n",
      "loss: 2.121386   [12800/60000]\n",
      "loss: 2.140170   [19200/60000]\n",
      "loss: 2.097557   [25600/60000]\n",
      "loss: 2.030914   [32000/60000]\n",
      "loss: 2.073171   [38400/60000]\n",
      "loss: 1.994948   [44800/60000]\n",
      "loss: 2.014253   [51200/60000]\n",
      "loss: 1.941958   [57600/60000]\n",
      "Test Error: \n",
      " Accuracy:  56.5%, Avg loss: 1.933756 \n",
      "\n",
      "Epoch 3\n",
      "------------------------\n",
      "loss: 1.960412   [    0/60000]\n",
      "loss: 1.935279   [ 6400/60000]\n",
      "loss: 1.820058   [12800/60000]\n",
      "loss: 1.870477   [19200/60000]\n",
      "loss: 1.764893   [25600/60000]\n",
      "loss: 1.695623   [32000/60000]\n",
      "loss: 1.738152   [38400/60000]\n",
      "loss: 1.628881   [44800/60000]\n",
      "loss: 1.663362   [51200/60000]\n",
      "loss: 1.557619   [57600/60000]\n",
      "Test Error: \n",
      " Accuracy:  62.5%, Avg loss: 1.563840 \n",
      "\n",
      "Epoch 4\n",
      "------------------------\n",
      "loss: 1.622628   [    0/60000]\n",
      "loss: 1.590562   [ 6400/60000]\n",
      "loss: 1.435894   [12800/60000]\n",
      "loss: 1.516640   [19200/60000]\n",
      "loss: 1.391268   [25600/60000]\n",
      "loss: 1.370904   [32000/60000]\n",
      "loss: 1.397915   [38400/60000]\n",
      "loss: 1.316951   [44800/60000]\n",
      "loss: 1.357872   [51200/60000]\n",
      "loss: 1.252475   [57600/60000]\n",
      "Test Error: \n",
      " Accuracy:  63.6%, Avg loss: 1.272539 \n",
      "\n",
      "Epoch 5\n",
      "------------------------\n",
      "loss: 1.346757   [    0/60000]\n",
      "loss: 1.333506   [ 6400/60000]\n",
      "loss: 1.161255   [12800/60000]\n",
      "loss: 1.272258   [19200/60000]\n",
      "loss: 1.140684   [25600/60000]\n",
      "loss: 1.157025   [32000/60000]\n",
      "loss: 1.185679   [38400/60000]\n",
      "loss: 1.125285   [44800/60000]\n",
      "loss: 1.168377   [51200/60000]\n",
      "loss: 1.076989   [57600/60000]\n",
      "Test Error: \n",
      " Accuracy:  64.8%, Avg loss: 1.094126 \n",
      "\n",
      "Epoch 6\n",
      "------------------------\n",
      "loss: 1.163578   [    0/60000]\n",
      "loss: 1.172070   [ 6400/60000]\n",
      "loss: 0.982450   [12800/60000]\n",
      "loss: 1.124176   [19200/60000]\n",
      "loss: 0.987798   [25600/60000]\n",
      "loss: 1.017085   [32000/60000]\n",
      "loss: 1.058829   [38400/60000]\n",
      "loss: 1.006825   [44800/60000]\n",
      "loss: 1.049592   [51200/60000]\n",
      "loss: 0.970630   [57600/60000]\n",
      "Test Error: \n",
      " Accuracy:  66.1%, Avg loss: 0.982498 \n",
      "\n",
      "Epoch 7\n",
      "------------------------\n",
      "loss: 1.039796   [    0/60000]\n",
      "loss: 1.069575   [ 6400/60000]\n",
      "loss: 0.862634   [12800/60000]\n",
      "loss: 1.028676   [19200/60000]\n",
      "loss: 0.892949   [25600/60000]\n",
      "loss: 0.921770   [32000/60000]\n",
      "loss: 0.978329   [38400/60000]\n",
      "loss: 0.931527   [44800/60000]\n",
      "loss: 0.969527   [51200/60000]\n",
      "loss: 0.901141   [57600/60000]\n",
      "Test Error: \n",
      " Accuracy:  67.2%, Avg loss: 0.908137 \n",
      "\n",
      "Epoch 8\n",
      "------------------------\n",
      "loss: 0.951073   [    0/60000]\n",
      "loss: 0.999823   [ 6400/60000]\n",
      "loss: 0.778063   [12800/60000]\n",
      "loss: 0.962224   [19200/60000]\n",
      "loss: 0.830898   [25600/60000]\n",
      "loss: 0.853367   [32000/60000]\n",
      "loss: 0.923114   [38400/60000]\n",
      "loss: 0.881447   [44800/60000]\n",
      "loss: 0.912257   [51200/60000]\n",
      "loss: 0.852127   [57600/60000]\n",
      "Test Error: \n",
      " Accuracy:  68.6%, Avg loss: 0.855366 \n",
      "\n",
      "Epoch 9\n",
      "------------------------\n",
      "loss: 0.883934   [    0/60000]\n",
      "loss: 0.948319   [ 6400/60000]\n",
      "loss: 0.715590   [12800/60000]\n",
      "loss: 0.913426   [19200/60000]\n",
      "loss: 0.787784   [25600/60000]\n",
      "loss: 0.802531   [32000/60000]\n",
      "loss: 0.881838   [38400/60000]\n",
      "loss: 0.846610   [44800/60000]\n",
      "loss: 0.869906   [51200/60000]\n",
      "loss: 0.815082   [57600/60000]\n",
      "Test Error: \n",
      " Accuracy:  70.0%, Avg loss: 0.815680 \n",
      "\n",
      "Epoch 10\n",
      "------------------------\n",
      "loss: 0.830789   [    0/60000]\n",
      "loss: 0.907055   [ 6400/60000]\n",
      "loss: 0.667448   [12800/60000]\n",
      "loss: 0.875830   [19200/60000]\n",
      "loss: 0.755644   [25600/60000]\n",
      "loss: 0.763669   [32000/60000]\n",
      "loss: 0.848539   [38400/60000]\n",
      "loss: 0.820796   [44800/60000]\n",
      "loss: 0.837053   [51200/60000]\n",
      "loss: 0.785089   [57600/60000]\n",
      "Test Error: \n",
      " Accuracy:  71.1%, Avg loss: 0.784181 \n",
      "\n",
      "Done!\n"
     ]
    }
   ],
   "source": [
    "loss_fn = nn.CrossEntropyLoss()\n",
    "optimizer = torch.optim.SGD(model.parameters(), lr=learning_rate)\n",
    "\n",
    "epochs = 10\n",
    "for t in range(epochs):\n",
    "    print(f'Epoch {t + 1}\\n------------------------')\n",
    "    train_loop(train_dataloader, model, loss_fn, optimizer)\n",
    "    test_loop(test_dataloader, model, loss_fn)\n",
    "print('Done!')"
   ]
  },
  {
   "cell_type": "code",
   "execution_count": null,
   "metadata": {},
   "outputs": [],
   "source": []
  }
 ],
 "metadata": {
  "kernelspec": {
   "display_name": "Python 3.8.13 ('torch1x')",
   "language": "python",
   "name": "python3"
  },
  "language_info": {
   "codemirror_mode": {
    "name": "ipython",
    "version": 3
   },
   "file_extension": ".py",
   "mimetype": "text/x-python",
   "name": "python",
   "nbconvert_exporter": "python",
   "pygments_lexer": "ipython3",
   "version": "3.8.13"
  },
  "orig_nbformat": 4,
  "vscode": {
   "interpreter": {
    "hash": "752ad7ecd74dbcb3671f660f85319bbb1f3f71e8f99cf9b0500cd8cefeaacd5d"
   }
  }
 },
 "nbformat": 4,
 "nbformat_minor": 2
}
